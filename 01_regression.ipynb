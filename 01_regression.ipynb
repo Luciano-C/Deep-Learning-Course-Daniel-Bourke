{
 "cells": [
  {
   "cell_type": "code",
   "execution_count": 95,
   "id": "b471ce37",
   "metadata": {},
   "outputs": [],
   "source": [
    "import tensorflow as tf\n",
    "import numpy as np\n",
    "import matplotlib.pyplot as plt\n",
    "import seaborn as sns\n",
    "import pandas as pd\n",
    "\n",
    "from tensorflow.keras.utils import plot_model\n",
    "\n",
    "from sklearn.model_selection import train_test_split\n",
    "\n",
    "from sklearn.preprocessing import MinMaxScaler"
   ]
  },
  {
   "cell_type": "code",
   "execution_count": 2,
   "id": "76c3aa96",
   "metadata": {},
   "outputs": [],
   "source": [
    "import logging\n",
    "logging.getLogger('tensorflow').setLevel(logging.ERROR)"
   ]
  },
  {
   "cell_type": "markdown",
   "id": "02974052",
   "metadata": {},
   "source": [
    "## Creating data to view and fit"
   ]
  },
  {
   "cell_type": "code",
   "execution_count": 3,
   "id": "a2ccaffd",
   "metadata": {},
   "outputs": [],
   "source": [
    "# Create features\n",
    "X = np.array([-7.0, -4.0, -1.0, 2.0, 5.0, 8.0, 11.0, 14.0])\n",
    "# Create labels\n",
    "Y = np.array([3.0, 6.0, 9.0, 12.0, 15.0, 18.0, 21.0, 24.0])"
   ]
  },
  {
   "cell_type": "code",
   "execution_count": 4,
   "id": "8fc123db",
   "metadata": {},
   "outputs": [
    {
     "data": {
      "text/plain": [
       "<matplotlib.collections.PathCollection at 0x96c35fc1c0>"
      ]
     },
     "execution_count": 4,
     "metadata": {},
     "output_type": "execute_result"
    },
    {
     "data": {
      "image/png": "[encoded data removed]",
      "text/plain": [
       "<Figure size 640x480 with 1 Axes>"
      ]
     },
     "metadata": {},
     "output_type": "display_data"
    }
   ],
   "source": [
    "# Visualize\n",
    "plt.scatter(X, Y)"
   ]
  },
  {
   "cell_type": "code",
   "execution_count": 5,
   "id": "b9bba341",
   "metadata": {},
   "outputs": [
    {
     "data": {
      "text/plain": [
       "((8,), (8,))"
      ]
     },
     "execution_count": 5,
     "metadata": {},
     "output_type": "execute_result"
    }
   ],
   "source": [
    "input_shape = X.shape\n",
    "output_shape = Y.shape\n",
    "input_shape, output_shape"
   ]
  },
  {
   "cell_type": "code",
   "execution_count": 6,
   "id": "7782a61a",
   "metadata": {},
   "outputs": [
    {
     "data": {
      "text/plain": [
       "(<tf.Tensor: shape=(8,), dtype=float64, numpy=array([-7., -4., -1.,  2.,  5.,  8., 11., 14.])>,\n",
       " <tf.Tensor: shape=(8,), dtype=float64, numpy=array([ 3.,  6.,  9., 12., 15., 18., 21., 24.])>)"
      ]
     },
     "execution_count": 6,
     "metadata": {},
     "output_type": "execute_result"
    }
   ],
   "source": [
    "# Turn numpy arrays into tensors\n",
    "X = tf.constant(X)\n",
    "Y = tf.constant(Y)\n",
    "X, Y"
   ]
  },
  {
   "cell_type": "markdown",
   "id": "a478e51e",
   "metadata": {},
   "source": [
    "## Steps in modeling with tensorflow"
   ]
  },
  {
   "cell_type": "markdown",
   "id": "f005e028",
   "metadata": {},
   "source": [
    "1. Creating a model: Define input and output laters as well as the hidden layers\n",
    "2. Compiling a model: Define loss function,  optimizer (how to improve the learning) and evaluation metrics.\n",
    "3. Fitting a model: Find the patterns."
   ]
  },
  {
   "cell_type": "code",
   "execution_count": 7,
   "id": "247cbdfc",
   "metadata": {},
   "outputs": [],
   "source": [
    "# Set random seed\n",
    "tf.random.set_seed(42)"
   ]
  },
  {
   "cell_type": "code",
   "execution_count": 8,
   "id": "29fcc9cb",
   "metadata": {},
   "outputs": [
    {
     "name": "stdout",
     "output_type": "stream",
     "text": [
      "Epoch 1/5\n",
      "1/1 [==============================] - 3s 3s/step - loss: 21.6075 - mae: 21.6075\n",
      "Epoch 2/5\n",
      "1/1 [==============================] - 0s 56ms/step - loss: 21.2144 - mae: 21.2144\n",
      "Epoch 3/5\n",
      "1/1 [==============================] - 0s 16ms/step - loss: 20.8213 - mae: 20.8213\n",
      "Epoch 4/5\n",
      "1/1 [==============================] - 0s 16ms/step - loss: 20.4547 - mae: 20.4547\n",
      "Epoch 5/5\n",
      "1/1 [==============================] - 0s 16ms/step - loss: 20.1734 - mae: 20.1734\n"
     ]
    },
    {
     "data": {
      "text/plain": [
       "<keras.callbacks.History at 0x96ab42df10>"
      ]
     },
     "execution_count": 8,
     "metadata": {},
     "output_type": "execute_result"
    }
   ],
   "source": [
    "# Create a model\n",
    "model = tf.keras.Sequential([\n",
    "    tf.keras.layers.Dense(1),\n",
    "])\n",
    "# Compile the model\n",
    "model.compile(loss=tf.keras.losses.mae,      # MAE: Mean absolote error\n",
    "             optimizer=tf.keras.optimizers.SGD(), # SGD: Stochastic gradient descent\n",
    "             metrics=['mae'])  \n",
    "# Fit the model\n",
    "model.fit(tf.expand_dims(X, axis=-1), Y, epochs=5)"
   ]
  },
  {
   "cell_type": "code",
   "execution_count": 9,
   "id": "eff1cfc9",
   "metadata": {},
   "outputs": [
    {
     "name": "stdout",
     "output_type": "stream",
     "text": [
      "1/1 [==============================] - 0s 398ms/step\n"
     ]
    },
    {
     "data": {
      "text/plain": [
       "array([[-23.169958]], dtype=float32)"
      ]
     },
     "execution_count": 9,
     "metadata": {},
     "output_type": "execute_result"
    }
   ],
   "source": [
    "# Check prediction\n",
    "model.predict([17.0])"
   ]
  },
  {
   "cell_type": "markdown",
   "id": "1fea9aa4",
   "metadata": {},
   "source": [
    "## Improve the model\n",
    "\n",
    "1. Create a model: Add more layers, increase the number of hidden units (neurons) within layers, change activation function of each layer.\n",
    "2. Compile the model: Change optimization, change the learning rate of optimization function.\n",
    "3. Fit the model: Change epochs (look at the data more times). Feed more data to train."
   ]
  },
  {
   "cell_type": "code",
   "execution_count": 10,
   "id": "99ae6f78",
   "metadata": {},
   "outputs": [
    {
     "name": "stdout",
     "output_type": "stream",
     "text": [
      "Epoch 1/100\n",
      "1/1 [==============================] - 1s 1s/step - loss: 18.1082 - mae: 18.1082\n",
      "Epoch 2/100\n",
      "1/1 [==============================] - 0s 16ms/step - loss: 17.8270 - mae: 17.8270\n",
      "Epoch 3/100\n",
      "1/1 [==============================] - 0s 24ms/step - loss: 17.5457 - mae: 17.5457\n",
      "Epoch 4/100\n",
      "1/1 [==============================] - 0s 20ms/step - loss: 17.2645 - mae: 17.2645\n",
      "Epoch 5/100\n",
      "1/1 [==============================] - 0s 24ms/step - loss: 16.9832 - mae: 16.9832\n",
      "Epoch 6/100\n",
      "1/1 [==============================] - 0s 20ms/step - loss: 16.7020 - mae: 16.7020\n",
      "Epoch 7/100\n",
      "1/1 [==============================] - 0s 20ms/step - loss: 16.4207 - mae: 16.4207\n",
      "Epoch 8/100\n",
      "1/1 [==============================] - 0s 24ms/step - loss: 16.1395 - mae: 16.1395\n",
      "Epoch 9/100\n",
      "1/1 [==============================] - 0s 20ms/step - loss: 15.8582 - mae: 15.8582\n",
      "Epoch 10/100\n",
      "1/1 [==============================] - 0s 16ms/step - loss: 15.5770 - mae: 15.5770\n",
      "Epoch 11/100\n",
      "1/1 [==============================] - 0s 16ms/step - loss: 15.2957 - mae: 15.2957\n",
      "Epoch 12/100\n",
      "1/1 [==============================] - 0s 16ms/step - loss: 15.0145 - mae: 15.0145\n",
      "Epoch 13/100\n",
      "1/1 [==============================] - 0s 16ms/step - loss: 14.7771 - mae: 14.7771\n",
      "Epoch 14/100\n",
      "1/1 [==============================] - 0s 16ms/step - loss: 14.6446 - mae: 14.6446\n",
      "Epoch 15/100\n",
      "1/1 [==============================] - 0s 20ms/step - loss: 14.5121 - mae: 14.5121\n",
      "Epoch 16/100\n",
      "1/1 [==============================] - 0s 16ms/step - loss: 14.3796 - mae: 14.3796\n",
      "Epoch 17/100\n",
      "1/1 [==============================] - 0s 16ms/step - loss: 14.2471 - mae: 14.2471\n",
      "Epoch 18/100\n",
      "1/1 [==============================] - 0s 16ms/step - loss: 14.1146 - mae: 14.1146\n",
      "Epoch 19/100\n",
      "1/1 [==============================] - 0s 20ms/step - loss: 13.9821 - mae: 13.9821\n",
      "Epoch 20/100\n",
      "1/1 [==============================] - 0s 20ms/step - loss: 13.8496 - mae: 13.8496\n",
      "Epoch 21/100\n",
      "1/1 [==============================] - 0s 20ms/step - loss: 13.7171 - mae: 13.7171\n",
      "Epoch 22/100\n",
      "1/1 [==============================] - 0s 20ms/step - loss: 13.5846 - mae: 13.5846\n",
      "Epoch 23/100\n",
      "1/1 [==============================] - 0s 16ms/step - loss: 13.4521 - mae: 13.4521\n",
      "Epoch 24/100\n",
      "1/1 [==============================] - 0s 16ms/step - loss: 13.3196 - mae: 13.3196\n",
      "Epoch 25/100\n",
      "1/1 [==============================] - 0s 16ms/step - loss: 13.1871 - mae: 13.1871\n",
      "Epoch 26/100\n",
      "1/1 [==============================] - 0s 16ms/step - loss: 13.0546 - mae: 13.0546\n",
      "Epoch 27/100\n",
      "1/1 [==============================] - 0s 20ms/step - loss: 12.9221 - mae: 12.9221\n",
      "Epoch 28/100\n",
      "1/1 [==============================] - 0s 16ms/step - loss: 12.7896 - mae: 12.7896\n",
      "Epoch 29/100\n",
      "1/1 [==============================] - 0s 16ms/step - loss: 12.6571 - mae: 12.6571\n",
      "Epoch 30/100\n",
      "1/1 [==============================] - 0s 16ms/step - loss: 12.5246 - mae: 12.5246\n",
      "Epoch 31/100\n",
      "1/1 [==============================] - 0s 16ms/step - loss: 12.3921 - mae: 12.3921\n",
      "Epoch 32/100\n",
      "1/1 [==============================] - 0s 16ms/step - loss: 12.2596 - mae: 12.2596\n",
      "Epoch 33/100\n",
      "1/1 [==============================] - 0s 16ms/step - loss: 12.1271 - mae: 12.1271\n",
      "Epoch 34/100\n",
      "1/1 [==============================] - 0s 20ms/step - loss: 11.9946 - mae: 11.9946\n",
      "Epoch 35/100\n",
      "1/1 [==============================] - 0s 16ms/step - loss: 11.8621 - mae: 11.8621\n",
      "Epoch 36/100\n",
      "1/1 [==============================] - 0s 16ms/step - loss: 11.7296 - mae: 11.7296\n",
      "Epoch 37/100\n",
      "1/1 [==============================] - 0s 20ms/step - loss: 11.5971 - mae: 11.5971\n",
      "Epoch 38/100\n",
      "1/1 [==============================] - 0s 20ms/step - loss: 11.4646 - mae: 11.4646\n",
      "Epoch 39/100\n",
      "1/1 [==============================] - 0s 16ms/step - loss: 11.3321 - mae: 11.3321\n",
      "Epoch 40/100\n",
      "1/1 [==============================] - 0s 16ms/step - loss: 11.1996 - mae: 11.1996\n",
      "Epoch 41/100\n",
      "1/1 [==============================] - 0s 16ms/step - loss: 11.0671 - mae: 11.0671\n",
      "Epoch 42/100\n",
      "1/1 [==============================] - 0s 16ms/step - loss: 10.9346 - mae: 10.9346\n",
      "Epoch 43/100\n",
      "1/1 [==============================] - 0s 16ms/step - loss: 10.8021 - mae: 10.8021\n",
      "Epoch 44/100\n",
      "1/1 [==============================] - 0s 16ms/step - loss: 10.6696 - mae: 10.6696\n",
      "Epoch 45/100\n",
      "1/1 [==============================] - 0s 16ms/step - loss: 10.5371 - mae: 10.5371\n",
      "Epoch 46/100\n",
      "1/1 [==============================] - 0s 16ms/step - loss: 10.4046 - mae: 10.4046\n",
      "Epoch 47/100\n",
      "1/1 [==============================] - 0s 16ms/step - loss: 10.2721 - mae: 10.2721\n",
      "Epoch 48/100\n",
      "1/1 [==============================] - 0s 16ms/step - loss: 10.1396 - mae: 10.1396\n",
      "Epoch 49/100\n",
      "1/1 [==============================] - 0s 20ms/step - loss: 10.0071 - mae: 10.0071\n",
      "Epoch 50/100\n",
      "1/1 [==============================] - 0s 16ms/step - loss: 9.8746 - mae: 9.8746\n",
      "Epoch 51/100\n",
      "1/1 [==============================] - 0s 16ms/step - loss: 9.7421 - mae: 9.7421\n",
      "Epoch 52/100\n",
      "1/1 [==============================] - 0s 20ms/step - loss: 9.6096 - mae: 9.6096\n",
      "Epoch 53/100\n",
      "1/1 [==============================] - 0s 20ms/step - loss: 9.4771 - mae: 9.4771\n",
      "Epoch 54/100\n",
      "1/1 [==============================] - 0s 16ms/step - loss: 9.3446 - mae: 9.3446\n",
      "Epoch 55/100\n",
      "1/1 [==============================] - 0s 16ms/step - loss: 9.2121 - mae: 9.2121\n",
      "Epoch 56/100\n",
      "1/1 [==============================] - 0s 16ms/step - loss: 9.0796 - mae: 9.0796\n",
      "Epoch 57/100\n",
      "1/1 [==============================] - 0s 16ms/step - loss: 8.9471 - mae: 8.9471\n",
      "Epoch 58/100\n",
      "1/1 [==============================] - 0s 16ms/step - loss: 8.8146 - mae: 8.8146\n",
      "Epoch 59/100\n",
      "1/1 [==============================] - 0s 16ms/step - loss: 8.6821 - mae: 8.6821\n",
      "Epoch 60/100\n",
      "1/1 [==============================] - 0s 20ms/step - loss: 8.5496 - mae: 8.5496\n",
      "Epoch 61/100\n",
      "1/1 [==============================] - 0s 16ms/step - loss: 8.4171 - mae: 8.4171\n",
      "Epoch 62/100\n",
      "1/1 [==============================] - 0s 16ms/step - loss: 8.2846 - mae: 8.2846\n",
      "Epoch 63/100\n",
      "1/1 [==============================] - 0s 16ms/step - loss: 8.1521 - mae: 8.1521\n",
      "Epoch 64/100\n",
      "1/1 [==============================] - 0s 16ms/step - loss: 8.0196 - mae: 8.0196\n",
      "Epoch 65/100\n",
      "1/1 [==============================] - 0s 16ms/step - loss: 7.8871 - mae: 7.8871\n",
      "Epoch 66/100\n",
      "1/1 [==============================] - 0s 16ms/step - loss: 7.7546 - mae: 7.7546\n",
      "Epoch 67/100\n",
      "1/1 [==============================] - 0s 16ms/step - loss: 7.6221 - mae: 7.6221\n",
      "Epoch 68/100\n",
      "1/1 [==============================] - 0s 12ms/step - loss: 7.4896 - mae: 7.4896\n",
      "Epoch 69/100\n",
      "1/1 [==============================] - 0s 12ms/step - loss: 7.3571 - mae: 7.3571\n",
      "Epoch 70/100\n",
      "1/1 [==============================] - 0s 16ms/step - loss: 7.2246 - mae: 7.2246\n",
      "Epoch 71/100\n",
      "1/1 [==============================] - 0s 16ms/step - loss: 7.0921 - mae: 7.0921\n",
      "Epoch 72/100\n",
      "1/1 [==============================] - 0s 16ms/step - loss: 6.9900 - mae: 6.9900\n",
      "Epoch 73/100\n",
      "1/1 [==============================] - 0s 16ms/step - loss: 6.9844 - mae: 6.9844\n",
      "Epoch 74/100\n",
      "1/1 [==============================] - 0s 16ms/step - loss: 6.9788 - mae: 6.9788\n",
      "Epoch 75/100\n",
      "1/1 [==============================] - 0s 12ms/step - loss: 6.9731 - mae: 6.9731\n",
      "Epoch 76/100\n",
      "1/1 [==============================] - 0s 16ms/step - loss: 6.9675 - mae: 6.9675\n",
      "Epoch 77/100\n",
      "1/1 [==============================] - 0s 16ms/step - loss: 6.9619 - mae: 6.9619\n",
      "Epoch 78/100\n",
      "1/1 [==============================] - 0s 16ms/step - loss: 6.9563 - mae: 6.9563\n",
      "Epoch 79/100\n",
      "1/1 [==============================] - 0s 16ms/step - loss: 6.9506 - mae: 6.9506\n",
      "Epoch 80/100\n",
      "1/1 [==============================] - 0s 16ms/step - loss: 6.9450 - mae: 6.9450\n",
      "Epoch 81/100\n",
      "1/1 [==============================] - 0s 16ms/step - loss: 6.9394 - mae: 6.9394\n",
      "Epoch 82/100\n",
      "1/1 [==============================] - 0s 16ms/step - loss: 6.9338 - mae: 6.9338\n",
      "Epoch 83/100\n",
      "1/1 [==============================] - 0s 16ms/step - loss: 6.9281 - mae: 6.9281\n",
      "Epoch 84/100\n",
      "1/1 [==============================] - 0s 20ms/step - loss: 6.9225 - mae: 6.9225\n",
      "Epoch 85/100\n",
      "1/1 [==============================] - 0s 20ms/step - loss: 6.9169 - mae: 6.9169\n",
      "Epoch 86/100\n",
      "1/1 [==============================] - 0s 16ms/step - loss: 6.9113 - mae: 6.9113\n",
      "Epoch 87/100\n"
     ]
    },
    {
     "name": "stdout",
     "output_type": "stream",
     "text": [
      "1/1 [==============================] - 0s 16ms/step - loss: 6.9056 - mae: 6.9056\n",
      "Epoch 88/100\n",
      "1/1 [==============================] - 0s 24ms/step - loss: 6.9000 - mae: 6.9000\n",
      "Epoch 89/100\n",
      "1/1 [==============================] - 0s 24ms/step - loss: 6.8944 - mae: 6.8944\n",
      "Epoch 90/100\n",
      "1/1 [==============================] - 0s 16ms/step - loss: 6.8888 - mae: 6.8888\n",
      "Epoch 91/100\n",
      "1/1 [==============================] - 0s 16ms/step - loss: 6.8831 - mae: 6.8831\n",
      "Epoch 92/100\n",
      "1/1 [==============================] - 0s 16ms/step - loss: 6.8775 - mae: 6.8775\n",
      "Epoch 93/100\n",
      "1/1 [==============================] - 0s 12ms/step - loss: 6.8719 - mae: 6.8719\n",
      "Epoch 94/100\n",
      "1/1 [==============================] - 0s 16ms/step - loss: 6.8663 - mae: 6.8663\n",
      "Epoch 95/100\n",
      "1/1 [==============================] - 0s 20ms/step - loss: 6.8606 - mae: 6.8606\n",
      "Epoch 96/100\n",
      "1/1 [==============================] - 0s 20ms/step - loss: 6.8550 - mae: 6.8550\n",
      "Epoch 97/100\n",
      "1/1 [==============================] - 0s 16ms/step - loss: 6.8494 - mae: 6.8494\n",
      "Epoch 98/100\n",
      "1/1 [==============================] - 0s 16ms/step - loss: 6.8438 - mae: 6.8438\n",
      "Epoch 99/100\n",
      "1/1 [==============================] - 0s 16ms/step - loss: 6.8381 - mae: 6.8381\n",
      "Epoch 100/100\n",
      "1/1 [==============================] - 0s 16ms/step - loss: 6.8325 - mae: 6.8325\n"
     ]
    },
    {
     "data": {
      "text/plain": [
       "<keras.callbacks.History at 0x96c89b8250>"
      ]
     },
     "execution_count": 10,
     "metadata": {},
     "output_type": "execute_result"
    }
   ],
   "source": [
    "# Rebuild the model\n",
    "model = tf.keras.Sequential([\n",
    "    tf.keras.layers.Dense(1),\n",
    "])\n",
    "# Compile the model\n",
    "model.compile(loss=tf.keras.losses.mae,\n",
    "             optimizer=tf.keras.optimizers.SGD(),\n",
    "             metrics=['mae'])  \n",
    "# Fit the model\n",
    "model.fit(tf.expand_dims(X, axis=-1), Y, epochs=100)"
   ]
  },
  {
   "cell_type": "code",
   "execution_count": 11,
   "id": "2d4daf3a",
   "metadata": {},
   "outputs": [
    {
     "name": "stdout",
     "output_type": "stream",
     "text": [
      "1/1 [==============================] - 0s 200ms/step\n"
     ]
    },
    {
     "data": {
      "text/plain": [
       "array([[29.362116]], dtype=float32)"
      ]
     },
     "execution_count": 11,
     "metadata": {},
     "output_type": "execute_result"
    }
   ],
   "source": [
    "model.predict([17.0])"
   ]
  },
  {
   "cell_type": "code",
   "execution_count": 12,
   "id": "2deab331",
   "metadata": {
    "scrolled": false
   },
   "outputs": [
    {
     "name": "stdout",
     "output_type": "stream",
     "text": [
      "Epoch 1/100\n",
      "1/1 [==============================] - 2s 2s/step - loss: 12.2056 - mae: 12.2056\n",
      "Epoch 2/100\n",
      "1/1 [==============================] - 0s 16ms/step - loss: 11.4161 - mae: 11.4161\n",
      "Epoch 3/100\n",
      "1/1 [==============================] - 0s 16ms/step - loss: 10.6208 - mae: 10.6208\n",
      "Epoch 4/100\n",
      "1/1 [==============================] - 0s 20ms/step - loss: 9.8185 - mae: 9.8185\n",
      "Epoch 5/100\n",
      "1/1 [==============================] - 0s 20ms/step - loss: 9.0078 - mae: 9.0078\n",
      "Epoch 6/100\n",
      "1/1 [==============================] - 0s 12ms/step - loss: 8.1872 - mae: 8.1872\n",
      "Epoch 7/100\n",
      "1/1 [==============================] - 0s 16ms/step - loss: 7.3549 - mae: 7.3549\n",
      "Epoch 8/100\n",
      "1/1 [==============================] - 0s 16ms/step - loss: 6.9040 - mae: 6.9040\n",
      "Epoch 9/100\n",
      "1/1 [==============================] - 0s 16ms/step - loss: 7.1697 - mae: 7.1697\n",
      "Epoch 10/100\n",
      "1/1 [==============================] - 0s 20ms/step - loss: 7.4573 - mae: 7.4573\n",
      "Epoch 11/100\n",
      "1/1 [==============================] - 0s 20ms/step - loss: 7.7153 - mae: 7.7153\n",
      "Epoch 12/100\n",
      "1/1 [==============================] - 0s 16ms/step - loss: 7.7542 - mae: 7.7542\n",
      "Epoch 13/100\n",
      "1/1 [==============================] - 0s 20ms/step - loss: 7.5836 - mae: 7.5836\n",
      "Epoch 14/100\n",
      "1/1 [==============================] - 0s 16ms/step - loss: 7.2607 - mae: 7.2607\n",
      "Epoch 15/100\n",
      "1/1 [==============================] - 0s 16ms/step - loss: 6.9745 - mae: 6.9745\n",
      "Epoch 16/100\n",
      "1/1 [==============================] - 0s 20ms/step - loss: 6.6759 - mae: 6.6759\n",
      "Epoch 17/100\n",
      "1/1 [==============================] - 0s 16ms/step - loss: 6.3610 - mae: 6.3610\n",
      "Epoch 18/100\n",
      "1/1 [==============================] - 0s 16ms/step - loss: 6.2235 - mae: 6.2235\n",
      "Epoch 19/100\n",
      "1/1 [==============================] - 0s 16ms/step - loss: 6.1681 - mae: 6.1681\n",
      "Epoch 20/100\n",
      "1/1 [==============================] - 0s 16ms/step - loss: 6.3704 - mae: 6.3704\n",
      "Epoch 21/100\n",
      "1/1 [==============================] - 0s 20ms/step - loss: 6.4589 - mae: 6.4589\n",
      "Epoch 22/100\n",
      "1/1 [==============================] - 0s 16ms/step - loss: 6.4398 - mae: 6.4398\n",
      "Epoch 23/100\n",
      "1/1 [==============================] - 0s 16ms/step - loss: 6.3269 - mae: 6.3269\n",
      "Epoch 24/100\n",
      "1/1 [==============================] - 0s 16ms/step - loss: 6.1306 - mae: 6.1306\n",
      "Epoch 25/100\n",
      "1/1 [==============================] - 0s 16ms/step - loss: 5.8589 - mae: 5.8589\n",
      "Epoch 26/100\n",
      "1/1 [==============================] - 0s 16ms/step - loss: 5.5883 - mae: 5.5883\n",
      "Epoch 27/100\n",
      "1/1 [==============================] - 0s 16ms/step - loss: 5.4803 - mae: 5.4803\n",
      "Epoch 28/100\n",
      "1/1 [==============================] - 0s 20ms/step - loss: 5.3841 - mae: 5.3841\n",
      "Epoch 29/100\n",
      "1/1 [==============================] - 0s 20ms/step - loss: 5.3936 - mae: 5.3936\n",
      "Epoch 30/100\n",
      "1/1 [==============================] - 0s 16ms/step - loss: 5.3525 - mae: 5.3525\n",
      "Epoch 31/100\n",
      "1/1 [==============================] - 0s 20ms/step - loss: 5.2650 - mae: 5.2650\n",
      "Epoch 32/100\n",
      "1/1 [==============================] - 0s 16ms/step - loss: 5.1351 - mae: 5.1351\n",
      "Epoch 33/100\n",
      "1/1 [==============================] - 0s 16ms/step - loss: 4.9663 - mae: 4.9663\n",
      "Epoch 34/100\n",
      "1/1 [==============================] - 0s 16ms/step - loss: 4.7672 - mae: 4.7672\n",
      "Epoch 35/100\n",
      "1/1 [==============================] - 0s 16ms/step - loss: 4.6665 - mae: 4.6665\n",
      "Epoch 36/100\n",
      "1/1 [==============================] - 0s 16ms/step - loss: 4.5595 - mae: 4.5595\n",
      "Epoch 37/100\n",
      "1/1 [==============================] - 0s 16ms/step - loss: 4.4460 - mae: 4.4460\n",
      "Epoch 38/100\n",
      "1/1 [==============================] - 0s 16ms/step - loss: 4.3258 - mae: 4.3258\n",
      "Epoch 39/100\n",
      "1/1 [==============================] - 0s 16ms/step - loss: 4.2342 - mae: 4.2342\n",
      "Epoch 40/100\n",
      "1/1 [==============================] - 0s 20ms/step - loss: 4.0570 - mae: 4.0570\n",
      "Epoch 41/100\n",
      "1/1 [==============================] - 0s 12ms/step - loss: 3.9085 - mae: 3.9085\n",
      "Epoch 42/100\n",
      "1/1 [==============================] - 0s 16ms/step - loss: 3.7534 - mae: 3.7534\n",
      "Epoch 43/100\n",
      "1/1 [==============================] - 0s 16ms/step - loss: 3.5913 - mae: 3.5913\n",
      "Epoch 44/100\n",
      "1/1 [==============================] - 0s 16ms/step - loss: 3.4220 - mae: 3.4220\n",
      "Epoch 45/100\n",
      "1/1 [==============================] - 0s 16ms/step - loss: 3.2748 - mae: 3.2748\n",
      "Epoch 46/100\n",
      "1/1 [==============================] - 0s 16ms/step - loss: 3.1067 - mae: 3.1067\n",
      "Epoch 47/100\n",
      "1/1 [==============================] - 0s 16ms/step - loss: 2.8984 - mae: 2.8984\n",
      "Epoch 48/100\n",
      "1/1 [==============================] - 0s 16ms/step - loss: 2.7164 - mae: 2.7164\n",
      "Epoch 49/100\n",
      "1/1 [==============================] - 0s 12ms/step - loss: 2.5245 - mae: 2.5245\n",
      "Epoch 50/100\n",
      "1/1 [==============================] - 0s 16ms/step - loss: 2.3227 - mae: 2.3227\n",
      "Epoch 51/100\n",
      "1/1 [==============================] - 0s 16ms/step - loss: 2.1108 - mae: 2.1108\n",
      "Epoch 52/100\n",
      "1/1 [==============================] - 0s 16ms/step - loss: 1.8886 - mae: 1.8886\n",
      "Epoch 53/100\n",
      "1/1 [==============================] - 0s 16ms/step - loss: 1.6559 - mae: 1.6559\n",
      "Epoch 54/100\n",
      "1/1 [==============================] - 0s 16ms/step - loss: 1.4123 - mae: 1.4123\n",
      "Epoch 55/100\n",
      "1/1 [==============================] - 0s 16ms/step - loss: 1.1578 - mae: 1.1578\n",
      "Epoch 56/100\n",
      "1/1 [==============================] - 0s 16ms/step - loss: 0.9084 - mae: 0.9084\n",
      "Epoch 57/100\n",
      "1/1 [==============================] - 0s 12ms/step - loss: 0.6275 - mae: 0.6275\n",
      "Epoch 58/100\n",
      "1/1 [==============================] - 0s 16ms/step - loss: 0.4038 - mae: 0.4038\n",
      "Epoch 59/100\n",
      "1/1 [==============================] - 0s 16ms/step - loss: 0.1488 - mae: 0.1488\n",
      "Epoch 60/100\n",
      "1/1 [==============================] - 0s 20ms/step - loss: 0.2827 - mae: 0.2827\n",
      "Epoch 61/100\n",
      "1/1 [==============================] - 0s 16ms/step - loss: 0.4607 - mae: 0.4607\n",
      "Epoch 62/100\n",
      "1/1 [==============================] - 0s 20ms/step - loss: 0.6741 - mae: 0.6741\n",
      "Epoch 63/100\n",
      "1/1 [==============================] - 0s 16ms/step - loss: 0.7522 - mae: 0.7522\n",
      "Epoch 64/100\n",
      "1/1 [==============================] - 0s 16ms/step - loss: 0.8162 - mae: 0.8162\n",
      "Epoch 65/100\n",
      "1/1 [==============================] - 0s 16ms/step - loss: 0.8301 - mae: 0.8301\n",
      "Epoch 66/100\n",
      "1/1 [==============================] - 0s 12ms/step - loss: 0.7991 - mae: 0.7991\n",
      "Epoch 67/100\n",
      "1/1 [==============================] - 0s 12ms/step - loss: 0.7466 - mae: 0.7466\n",
      "Epoch 68/100\n",
      "1/1 [==============================] - 0s 16ms/step - loss: 0.6618 - mae: 0.6618\n",
      "Epoch 69/100\n",
      "1/1 [==============================] - 0s 16ms/step - loss: 0.5479 - mae: 0.5479\n",
      "Epoch 70/100\n",
      "1/1 [==============================] - 0s 16ms/step - loss: 0.4112 - mae: 0.4112\n",
      "Epoch 71/100\n",
      "1/1 [==============================] - 0s 16ms/step - loss: 0.3081 - mae: 0.3081\n",
      "Epoch 72/100\n",
      "1/1 [==============================] - 0s 16ms/step - loss: 0.1144 - mae: 0.1144\n",
      "Epoch 73/100\n",
      "1/1 [==============================] - 0s 12ms/step - loss: 0.1538 - mae: 0.1538\n",
      "Epoch 74/100\n",
      "1/1 [==============================] - 0s 16ms/step - loss: 0.3009 - mae: 0.3009\n",
      "Epoch 75/100\n",
      "1/1 [==============================] - 0s 12ms/step - loss: 0.3649 - mae: 0.3649\n",
      "Epoch 76/100\n",
      "1/1 [==============================] - 0s 16ms/step - loss: 0.4351 - mae: 0.4351\n",
      "Epoch 77/100\n",
      "1/1 [==============================] - 0s 20ms/step - loss: 0.4353 - mae: 0.4353\n",
      "Epoch 78/100\n",
      "1/1 [==============================] - 0s 16ms/step - loss: 0.4501 - mae: 0.4501\n",
      "Epoch 79/100\n",
      "1/1 [==============================] - 0s 12ms/step - loss: 0.4309 - mae: 0.4309\n",
      "Epoch 80/100\n",
      "1/1 [==============================] - 0s 16ms/step - loss: 0.3019 - mae: 0.3019\n",
      "Epoch 81/100\n",
      "1/1 [==============================] - 0s 16ms/step - loss: 0.2560 - mae: 0.2560\n",
      "Epoch 82/100\n",
      "1/1 [==============================] - 0s 16ms/step - loss: 0.1652 - mae: 0.1652\n",
      "Epoch 83/100\n",
      "1/1 [==============================] - 0s 16ms/step - loss: 0.0580 - mae: 0.0580\n",
      "Epoch 84/100\n",
      "1/1 [==============================] - 0s 16ms/step - loss: 0.3584 - mae: 0.3584\n",
      "Epoch 85/100\n",
      "1/1 [==============================] - 0s 16ms/step - loss: 0.4330 - mae: 0.4330\n",
      "Epoch 86/100\n",
      "1/1 [==============================] - 0s 16ms/step - loss: 0.3060 - mae: 0.3060\n",
      "Epoch 87/100\n",
      "1/1 [==============================] - 0s 12ms/step - loss: 0.4615 - mae: 0.4615\n",
      "Epoch 88/100\n"
     ]
    },
    {
     "name": "stdout",
     "output_type": "stream",
     "text": [
      "1/1 [==============================] - 0s 16ms/step - loss: 0.5421 - mae: 0.5421\n",
      "Epoch 89/100\n",
      "1/1 [==============================] - 0s 16ms/step - loss: 0.3156 - mae: 0.3156\n",
      "Epoch 90/100\n",
      "1/1 [==============================] - 0s 12ms/step - loss: 0.3113 - mae: 0.3113\n",
      "Epoch 91/100\n",
      "1/1 [==============================] - 0s 16ms/step - loss: 0.4244 - mae: 0.4244\n",
      "Epoch 92/100\n",
      "1/1 [==============================] - 0s 16ms/step - loss: 0.2526 - mae: 0.2526\n",
      "Epoch 93/100\n",
      "1/1 [==============================] - 0s 16ms/step - loss: 0.2183 - mae: 0.2183\n",
      "Epoch 94/100\n",
      "1/1 [==============================] - 0s 16ms/step - loss: 0.3225 - mae: 0.3225\n",
      "Epoch 95/100\n",
      "1/1 [==============================] - 0s 16ms/step - loss: 0.2173 - mae: 0.2173\n",
      "Epoch 96/100\n",
      "1/1 [==============================] - 0s 12ms/step - loss: 0.2740 - mae: 0.2740\n",
      "Epoch 97/100\n",
      "1/1 [==============================] - 0s 16ms/step - loss: 0.2993 - mae: 0.2993\n",
      "Epoch 98/100\n",
      "1/1 [==============================] - 0s 12ms/step - loss: 0.0893 - mae: 0.0893\n",
      "Epoch 99/100\n",
      "1/1 [==============================] - 0s 16ms/step - loss: 0.1864 - mae: 0.1864\n",
      "Epoch 100/100\n",
      "1/1 [==============================] - 0s 16ms/step - loss: 0.0665 - mae: 0.0665\n"
     ]
    },
    {
     "data": {
      "text/plain": [
       "<keras.callbacks.History at 0x96c8c0d4c0>"
      ]
     },
     "execution_count": 12,
     "metadata": {},
     "output_type": "execute_result"
    }
   ],
   "source": [
    "# Trying another change: Extra layer with 100 hidden units\n",
    "model = tf.keras.Sequential([\n",
    "    tf.keras.layers.Dense(50, activation=None),\n",
    "    tf.keras.layers.Dense(1)\n",
    "])\n",
    "# Compile the model\n",
    "model.compile(loss=tf.keras.losses.mae,\n",
    "             optimizer=tf.keras.optimizers.Adam(learning_rate=0.01),\n",
    "             metrics=['mae'])  \n",
    "# Fit the model\n",
    "model.fit(tf.expand_dims(X, axis=-1), Y, epochs=100)"
   ]
  },
  {
   "cell_type": "code",
   "execution_count": 13,
   "id": "36eda545",
   "metadata": {},
   "outputs": [
    {
     "name": "stdout",
     "output_type": "stream",
     "text": [
      "1/1 [==============================] - 0s 260ms/step\n"
     ]
    },
    {
     "data": {
      "text/plain": [
       "array([[27.924963]], dtype=float32)"
      ]
     },
     "execution_count": 13,
     "metadata": {},
     "output_type": "execute_result"
    }
   ],
   "source": [
    "# Might be overfitting, since the metrics is better, but the predicion deviates more than the previous test \n",
    "model.predict([17.0])"
   ]
  },
  {
   "cell_type": "markdown",
   "id": "2c61b481",
   "metadata": {},
   "source": [
    "## Evaluating a model"
   ]
  },
  {
   "cell_type": "markdown",
   "id": "9428591c",
   "metadata": {},
   "source": [
    "\"Visualize, visualize, visualize\""
   ]
  },
  {
   "cell_type": "code",
   "execution_count": 14,
   "id": "b2983a34",
   "metadata": {},
   "outputs": [
    {
     "data": {
      "text/plain": [
       "<tf.Tensor: shape=(50,), dtype=int32, numpy=\n",
       "array([-100,  -96,  -92,  -88,  -84,  -80,  -76,  -72,  -68,  -64,  -60,\n",
       "        -56,  -52,  -48,  -44,  -40,  -36,  -32,  -28,  -24,  -20,  -16,\n",
       "        -12,   -8,   -4,    0,    4,    8,   12,   16,   20,   24,   28,\n",
       "         32,   36,   40,   44,   48,   52,   56,   60,   64,   68,   72,\n",
       "         76,   80,   84,   88,   92,   96])>"
      ]
     },
     "execution_count": 14,
     "metadata": {},
     "output_type": "execute_result"
    }
   ],
   "source": [
    "# Make a bigger dataset\n",
    "X = tf.range(-100, 100, 4)\n",
    "X"
   ]
  },
  {
   "cell_type": "code",
   "execution_count": 15,
   "id": "f6c0b454",
   "metadata": {},
   "outputs": [
    {
     "data": {
      "text/plain": [
       "<tf.Tensor: shape=(50,), dtype=int32, numpy=\n",
       "array([-90, -86, -82, -78, -74, -70, -66, -62, -58, -54, -50, -46, -42,\n",
       "       -38, -34, -30, -26, -22, -18, -14, -10,  -6,  -2,   2,   6,  10,\n",
       "        14,  18,  22,  26,  30,  34,  38,  42,  46,  50,  54,  58,  62,\n",
       "        66,  70,  74,  78,  82,  86,  90,  94,  98, 102, 106])>"
      ]
     },
     "execution_count": 15,
     "metadata": {},
     "output_type": "execute_result"
    }
   ],
   "source": [
    "# Make labels\n",
    "Y = X + 10\n",
    "Y"
   ]
  },
  {
   "cell_type": "code",
   "execution_count": 16,
   "id": "2b724208",
   "metadata": {},
   "outputs": [
    {
     "data": {
      "text/plain": [
       "<matplotlib.collections.PathCollection at 0x96c96a8f10>"
      ]
     },
     "execution_count": 16,
     "metadata": {},
     "output_type": "execute_result"
    },
    {
     "data": {
      "image/png": "[encoded data removed]",
      "text/plain": [
       "<Figure size 640x480 with 1 Axes>"
      ]
     },
     "metadata": {},
     "output_type": "display_data"
    }
   ],
   "source": [
    "# Visualize the data\n",
    "plt.scatter(X, Y)"
   ]
  },
  {
   "cell_type": "code",
   "execution_count": 17,
   "id": "43721d9e",
   "metadata": {},
   "outputs": [
    {
     "data": {
      "text/plain": [
       "(40, 10, 40, 10)"
      ]
     },
     "execution_count": 17,
     "metadata": {},
     "output_type": "execute_result"
    }
   ],
   "source": [
    "# Split the data in train/test\n",
    "X_train = X[:40]\n",
    "Y_train = Y[:40]\n",
    "X_test = X[40:]\n",
    "Y_test = Y[40:]\n",
    "\n",
    "len(X_train), len(X_test), len(Y_train), len(Y_test)"
   ]
  },
  {
   "cell_type": "markdown",
   "id": "82395579",
   "metadata": {},
   "source": [
    "## Visualizing the data"
   ]
  },
  {
   "cell_type": "code",
   "execution_count": 18,
   "id": "2a8785c8",
   "metadata": {},
   "outputs": [
    {
     "data": {
      "image/png": "[encoded data removed]",
      "text/plain": [
       "<Figure size 1000x700 with 1 Axes>"
      ]
     },
     "metadata": {},
     "output_type": "display_data"
    }
   ],
   "source": [
    "plt.figure(figsize=(10, 7))\n",
    "plt.scatter(X_train, Y_train, c='b', label='Training Data')\n",
    "plt.scatter(X_test, Y_test, c='g', label='Test Data')\n",
    "plt.legend()\n",
    "plt.show()"
   ]
  },
  {
   "cell_type": "code",
   "execution_count": 19,
   "id": "019741e9",
   "metadata": {},
   "outputs": [
    {
     "name": "stdout",
     "output_type": "stream",
     "text": [
      "Epoch 1/100\n",
      "2/2 [==============================] - 2s 16ms/step - loss: 31.8001 - mae: 31.8001\n",
      "Epoch 2/100\n",
      "2/2 [==============================] - 0s 12ms/step - loss: 25.5592 - mae: 25.5592\n",
      "Epoch 3/100\n",
      "2/2 [==============================] - 0s 12ms/step - loss: 19.7263 - mae: 19.7263\n",
      "Epoch 4/100\n",
      "2/2 [==============================] - 0s 12ms/step - loss: 14.1095 - mae: 14.1095\n",
      "Epoch 5/100\n",
      "2/2 [==============================] - 0s 12ms/step - loss: 9.3986 - mae: 9.3986\n",
      "Epoch 6/100\n",
      "2/2 [==============================] - 0s 12ms/step - loss: 8.3605 - mae: 8.3605\n",
      "Epoch 7/100\n",
      "2/2 [==============================] - 0s 12ms/step - loss: 10.0508 - mae: 10.0508\n",
      "Epoch 8/100\n",
      "2/2 [==============================] - 0s 9ms/step - loss: 10.8672 - mae: 10.8672\n",
      "Epoch 9/100\n",
      "2/2 [==============================] - 0s 0s/step - loss: 10.7918 - mae: 10.7918\n",
      "Epoch 10/100\n",
      "2/2 [==============================] - 0s 16ms/step - loss: 10.2375 - mae: 10.2375\n",
      "Epoch 11/100\n",
      "2/2 [==============================] - 0s 0s/step - loss: 9.2874 - mae: 9.2874\n",
      "Epoch 12/100\n",
      "2/2 [==============================] - 0s 16ms/step - loss: 8.2741 - mae: 8.2741\n",
      "Epoch 13/100\n",
      "2/2 [==============================] - 0s 0s/step - loss: 7.4525 - mae: 7.4525\n",
      "Epoch 14/100\n",
      "2/2 [==============================] - 0s 16ms/step - loss: 7.8128 - mae: 7.8128\n",
      "Epoch 15/100\n",
      "2/2 [==============================] - 0s 16ms/step - loss: 7.8754 - mae: 7.8754\n",
      "Epoch 16/100\n",
      "2/2 [==============================] - 0s 16ms/step - loss: 7.5432 - mae: 7.5432\n",
      "Epoch 17/100\n",
      "2/2 [==============================] - 0s 16ms/step - loss: 7.0621 - mae: 7.0621\n",
      "Epoch 18/100\n",
      "2/2 [==============================] - 0s 0s/step - loss: 7.1496 - mae: 7.1496\n",
      "Epoch 19/100\n",
      "2/2 [==============================] - 0s 16ms/step - loss: 7.2007 - mae: 7.2007\n",
      "Epoch 20/100\n",
      "2/2 [==============================] - 0s 0s/step - loss: 6.9049 - mae: 6.9049\n",
      "Epoch 21/100\n",
      "2/2 [==============================] - 0s 16ms/step - loss: 6.9664 - mae: 6.9664\n",
      "Epoch 22/100\n",
      "2/2 [==============================] - 0s 0s/step - loss: 7.0654 - mae: 7.0654\n",
      "Epoch 23/100\n",
      "2/2 [==============================] - 0s 16ms/step - loss: 6.9359 - mae: 6.9359\n",
      "Epoch 24/100\n",
      "2/2 [==============================] - 0s 16ms/step - loss: 6.6419 - mae: 6.6419\n",
      "Epoch 25/100\n",
      "2/2 [==============================] - 0s 16ms/step - loss: 6.7037 - mae: 6.7037\n",
      "Epoch 26/100\n",
      "2/2 [==============================] - 0s 16ms/step - loss: 6.6496 - mae: 6.6496\n",
      "Epoch 27/100\n",
      "2/2 [==============================] - 0s 16ms/step - loss: 6.4851 - mae: 6.4851\n",
      "Epoch 28/100\n",
      "2/2 [==============================] - 0s 16ms/step - loss: 6.5376 - mae: 6.5376\n",
      "Epoch 29/100\n",
      "2/2 [==============================] - 0s 16ms/step - loss: 6.5807 - mae: 6.5807\n",
      "Epoch 30/100\n",
      "2/2 [==============================] - 0s 16ms/step - loss: 6.4221 - mae: 6.4221\n",
      "Epoch 31/100\n",
      "2/2 [==============================] - 0s 16ms/step - loss: 6.2933 - mae: 6.2933\n",
      "Epoch 32/100\n",
      "2/2 [==============================] - 0s 16ms/step - loss: 6.3299 - mae: 6.3299\n",
      "Epoch 33/100\n",
      "2/2 [==============================] - 0s 0s/step - loss: 6.1574 - mae: 6.1574\n",
      "Epoch 34/100\n",
      "2/2 [==============================] - 0s 16ms/step - loss: 6.0543 - mae: 6.0543\n",
      "Epoch 35/100\n",
      "2/2 [==============================] - 0s 0s/step - loss: 6.1744 - mae: 6.1744\n",
      "Epoch 36/100\n",
      "2/2 [==============================] - 0s 16ms/step - loss: 6.2128 - mae: 6.2128\n",
      "Epoch 37/100\n",
      "2/2 [==============================] - 0s 16ms/step - loss: 6.0337 - mae: 6.0337\n",
      "Epoch 38/100\n",
      "2/2 [==============================] - 0s 0s/step - loss: 5.7918 - mae: 5.7918\n",
      "Epoch 39/100\n",
      "2/2 [==============================] - 0s 16ms/step - loss: 5.8593 - mae: 5.8593\n",
      "Epoch 40/100\n",
      "2/2 [==============================] - 0s 0s/step - loss: 5.7723 - mae: 5.7723\n",
      "Epoch 41/100\n",
      "2/2 [==============================] - 0s 16ms/step - loss: 5.6246 - mae: 5.6246\n",
      "Epoch 42/100\n",
      "2/2 [==============================] - 0s 0s/step - loss: 5.5966 - mae: 5.5966\n",
      "Epoch 43/100\n",
      "2/2 [==============================] - 0s 16ms/step - loss: 5.4636 - mae: 5.4636\n",
      "Epoch 44/100\n",
      "2/2 [==============================] - 0s 0s/step - loss: 5.4110 - mae: 5.4110\n",
      "Epoch 45/100\n",
      "2/2 [==============================] - 0s 16ms/step - loss: 5.2911 - mae: 5.2911\n",
      "Epoch 46/100\n",
      "2/2 [==============================] - 0s 0s/step - loss: 5.2602 - mae: 5.2602\n",
      "Epoch 47/100\n",
      "2/2 [==============================] - 0s 16ms/step - loss: 5.3753 - mae: 5.3753\n",
      "Epoch 48/100\n",
      "2/2 [==============================] - 0s 0s/step - loss: 5.2448 - mae: 5.2448\n",
      "Epoch 49/100\n",
      "2/2 [==============================] - 0s 16ms/step - loss: 5.0411 - mae: 5.0411\n",
      "Epoch 50/100\n",
      "2/2 [==============================] - 0s 16ms/step - loss: 4.9028 - mae: 4.9028\n",
      "Epoch 51/100\n",
      "2/2 [==============================] - 0s 16ms/step - loss: 4.8399 - mae: 4.8399\n",
      "Epoch 52/100\n",
      "2/2 [==============================] - 0s 16ms/step - loss: 4.7890 - mae: 4.7890\n",
      "Epoch 53/100\n",
      "2/2 [==============================] - 0s 16ms/step - loss: 4.6155 - mae: 4.6155\n",
      "Epoch 54/100\n",
      "2/2 [==============================] - 0s 16ms/step - loss: 4.7712 - mae: 4.7712\n",
      "Epoch 55/100\n",
      "2/2 [==============================] - 0s 0s/step - loss: 4.7262 - mae: 4.7262\n",
      "Epoch 56/100\n",
      "2/2 [==============================] - 0s 16ms/step - loss: 4.3232 - mae: 4.3232\n",
      "Epoch 57/100\n",
      "2/2 [==============================] - 0s 16ms/step - loss: 4.4754 - mae: 4.4754\n",
      "Epoch 58/100\n",
      "2/2 [==============================] - 0s 16ms/step - loss: 4.2341 - mae: 4.2341\n",
      "Epoch 59/100\n",
      "2/2 [==============================] - 0s 16ms/step - loss: 4.1351 - mae: 4.1351\n",
      "Epoch 60/100\n",
      "2/2 [==============================] - 0s 16ms/step - loss: 4.1934 - mae: 4.1934\n",
      "Epoch 61/100\n",
      "2/2 [==============================] - 0s 16ms/step - loss: 3.9895 - mae: 3.9895\n",
      "Epoch 62/100\n",
      "2/2 [==============================] - 0s 16ms/step - loss: 3.7780 - mae: 3.7780\n",
      "Epoch 63/100\n",
      "2/2 [==============================] - 0s 16ms/step - loss: 3.6583 - mae: 3.6583\n",
      "Epoch 64/100\n",
      "2/2 [==============================] - 0s 16ms/step - loss: 3.6758 - mae: 3.6758\n",
      "Epoch 65/100\n",
      "2/2 [==============================] - 0s 16ms/step - loss: 3.4836 - mae: 3.4836\n",
      "Epoch 66/100\n",
      "2/2 [==============================] - 0s 0s/step - loss: 3.5125 - mae: 3.5125\n",
      "Epoch 67/100\n",
      "2/2 [==============================] - 0s 16ms/step - loss: 3.2941 - mae: 3.2941\n",
      "Epoch 68/100\n",
      "2/2 [==============================] - 0s 16ms/step - loss: 3.1068 - mae: 3.1068\n",
      "Epoch 69/100\n",
      "2/2 [==============================] - 0s 16ms/step - loss: 2.9530 - mae: 2.9530\n",
      "Epoch 70/100\n",
      "2/2 [==============================] - 0s 16ms/step - loss: 2.9066 - mae: 2.9066\n",
      "Epoch 71/100\n",
      "2/2 [==============================] - 0s 16ms/step - loss: 2.6698 - mae: 2.6698\n",
      "Epoch 72/100\n",
      "2/2 [==============================] - 0s 16ms/step - loss: 2.5902 - mae: 2.5902\n",
      "Epoch 73/100\n",
      "2/2 [==============================] - 0s 16ms/step - loss: 2.3937 - mae: 2.3937\n",
      "Epoch 74/100\n",
      "2/2 [==============================] - 0s 0s/step - loss: 2.2293 - mae: 2.2293\n",
      "Epoch 75/100\n",
      "2/2 [==============================] - 0s 16ms/step - loss: 2.0870 - mae: 2.0870\n",
      "Epoch 76/100\n",
      "2/2 [==============================] - 0s 0s/step - loss: 2.0850 - mae: 2.0850\n",
      "Epoch 77/100\n",
      "2/2 [==============================] - 0s 16ms/step - loss: 1.8553 - mae: 1.8553\n",
      "Epoch 78/100\n",
      "2/2 [==============================] - 0s 0s/step - loss: 1.7447 - mae: 1.7447\n",
      "Epoch 79/100\n",
      "2/2 [==============================] - 0s 16ms/step - loss: 2.1327 - mae: 2.1327\n",
      "Epoch 80/100\n",
      "2/2 [==============================] - 0s 0s/step - loss: 1.7511 - mae: 1.7511\n",
      "Epoch 81/100\n",
      "2/2 [==============================] - 0s 16ms/step - loss: 1.4482 - mae: 1.4482\n",
      "Epoch 82/100\n",
      "2/2 [==============================] - 0s 0s/step - loss: 1.4722 - mae: 1.4722\n",
      "Epoch 83/100\n",
      "2/2 [==============================] - 0s 16ms/step - loss: 0.8536 - mae: 0.8536\n",
      "Epoch 84/100\n",
      "2/2 [==============================] - 0s 0s/step - loss: 1.3257 - mae: 1.3257\n",
      "Epoch 85/100\n",
      "2/2 [==============================] - 0s 16ms/step - loss: 0.6330 - mae: 0.6330\n",
      "Epoch 86/100\n",
      "2/2 [==============================] - 0s 0s/step - loss: 0.6373 - mae: 0.6373\n",
      "Epoch 87/100\n",
      "2/2 [==============================] - 0s 16ms/step - loss: 0.3947 - mae: 0.3947\n",
      "Epoch 88/100\n"
     ]
    },
    {
     "name": "stdout",
     "output_type": "stream",
     "text": [
      "2/2 [==============================] - 0s 0s/step - loss: 0.1978 - mae: 0.1978\n",
      "Epoch 89/100\n",
      "2/2 [==============================] - 0s 16ms/step - loss: 0.1635 - mae: 0.1635\n",
      "Epoch 90/100\n",
      "2/2 [==============================] - 0s 16ms/step - loss: 0.2827 - mae: 0.2827\n",
      "Epoch 91/100\n",
      "2/2 [==============================] - 0s 16ms/step - loss: 0.2778 - mae: 0.2778\n",
      "Epoch 92/100\n",
      "2/2 [==============================] - 0s 16ms/step - loss: 0.1376 - mae: 0.1376\n",
      "Epoch 93/100\n",
      "2/2 [==============================] - 0s 16ms/step - loss: 0.3182 - mae: 0.3182\n",
      "Epoch 94/100\n",
      "2/2 [==============================] - 0s 16ms/step - loss: 0.8122 - mae: 0.8122\n",
      "Epoch 95/100\n",
      "2/2 [==============================] - 0s 16ms/step - loss: 1.0336 - mae: 1.0336\n",
      "Epoch 96/100\n",
      "2/2 [==============================] - 0s 16ms/step - loss: 0.9384 - mae: 0.9384\n",
      "Epoch 97/100\n",
      "2/2 [==============================] - 0s 16ms/step - loss: 1.4913 - mae: 1.4913\n",
      "Epoch 98/100\n",
      "2/2 [==============================] - 0s 16ms/step - loss: 1.9972 - mae: 1.9972\n",
      "Epoch 99/100\n",
      "2/2 [==============================] - 0s 16ms/step - loss: 0.5613 - mae: 0.5613\n",
      "Epoch 100/100\n",
      "2/2 [==============================] - 0s 16ms/step - loss: 1.9314 - mae: 1.9314\n"
     ]
    },
    {
     "data": {
      "text/plain": [
       "<keras.callbacks.History at 0x96c912dfa0>"
      ]
     },
     "execution_count": 19,
     "metadata": {},
     "output_type": "execute_result"
    }
   ],
   "source": [
    "# Neural network for our data\n",
    "# Create a model\n",
    "model = tf.keras.Sequential([\n",
    "    tf.keras.layers.Dense(10, input_shape=[1], name='Input_Layer'),\n",
    "    tf.keras.layers.Dense(1, name='Output_Layer'),\n",
    "], name='model_1')\n",
    "# Compile the model\n",
    "model.compile(loss=tf.keras.losses.mae,\n",
    "             optimizer=tf.keras.optimizers.Adam(learning_rate=0.01), \n",
    "             metrics=['mae'])  \n",
    "# Fit the model\n",
    "model.fit(tf.expand_dims(X_train, axis=-1), Y_train, epochs=100)"
   ]
  },
  {
   "cell_type": "code",
   "execution_count": 20,
   "id": "9c6c1f45",
   "metadata": {},
   "outputs": [
    {
     "name": "stdout",
     "output_type": "stream",
     "text": [
      "Model: \"model_1\"\n",
      "_________________________________________________________________\n",
      " Layer (type)                Output Shape              Param #   \n",
      "=================================================================\n",
      " Input_Layer (Dense)         (None, 10)                20        \n",
      "                                                                 \n",
      " Output_Layer (Dense)        (None, 1)                 11        \n",
      "                                                                 \n",
      "=================================================================\n",
      "Total params: 31\n",
      "Trainable params: 31\n",
      "Non-trainable params: 0\n",
      "_________________________________________________________________\n"
     ]
    }
   ],
   "source": [
    "model.summary()"
   ]
  },
  {
   "cell_type": "markdown",
   "id": "ae7cf950",
   "metadata": {},
   "source": [
    "**- Dense layer: Fully connected layers, ie all neurons from each layer connect to all neurons on the next.**  \n",
    "**- Non-trainable params: When getting a pre-trained model sometimes we may want to \"freeze\" some parameters.**"
   ]
  },
  {
   "cell_type": "code",
   "execution_count": 21,
   "id": "83b8037f",
   "metadata": {},
   "outputs": [
    {
     "data": {
      "image/png": "[encoded data removed]",
      "text/plain": [
       "<IPython.core.display.Image object>"
      ]
     },
     "execution_count": 21,
     "metadata": {},
     "output_type": "execute_result"
    }
   ],
   "source": [
    "plot_model(model, show_shapes=True, show_layer_names=True)"
   ]
  },
  {
   "cell_type": "markdown",
   "id": "92fe5ee5",
   "metadata": {},
   "source": [
    "## Visualizing predictions"
   ]
  },
  {
   "cell_type": "code",
   "execution_count": 22,
   "id": "3321b2f4",
   "metadata": {},
   "outputs": [
    {
     "name": "stdout",
     "output_type": "stream",
     "text": [
      "1/1 [==============================] - 0s 192ms/step\n"
     ]
    },
    {
     "data": {
      "text/plain": [
       "array([[ 68.368355],\n",
       "       [ 72.269196],\n",
       "       [ 76.17004 ],\n",
       "       [ 80.070885],\n",
       "       [ 83.971725],\n",
       "       [ 87.87258 ],\n",
       "       [ 91.77342 ],\n",
       "       [ 95.67426 ],\n",
       "       [ 99.57511 ],\n",
       "       [103.47596 ]], dtype=float32)"
      ]
     },
     "execution_count": 22,
     "metadata": {},
     "output_type": "execute_result"
    }
   ],
   "source": [
    "# Make some predictions\n",
    "Y_pred = model.predict(X_test)\n",
    "Y_pred"
   ]
  },
  {
   "cell_type": "code",
   "execution_count": 23,
   "id": "9cffee63",
   "metadata": {},
   "outputs": [
    {
     "data": {
      "text/plain": [
       "<tf.Tensor: shape=(10,), dtype=int32, numpy=array([ 70,  74,  78,  82,  86,  90,  94,  98, 102, 106])>"
      ]
     },
     "execution_count": 23,
     "metadata": {},
     "output_type": "execute_result"
    }
   ],
   "source": [
    "Y_test"
   ]
  },
  {
   "cell_type": "code",
   "execution_count": 24,
   "id": "14d98338",
   "metadata": {},
   "outputs": [],
   "source": [
    "# Plotting function\n",
    "def plot_predictions(train_data=X_train, train_labels=Y_train, test_data=X_test, test_labels=Y_test, predictions=Y_pred):\n",
    "    \"\"\"\n",
    "    Plots training data, test data and compare predictions to ground truth labels\n",
    "    \"\"\"\n",
    "    plt.figure(figsize=(10, 7))\n",
    "    plt.scatter(train_data, train_labels, c='b', label='Training Data')\n",
    "    plt.scatter(test_data, test_labels, c='g', label='Test Data')\n",
    "    \n",
    "    # Plot model's predictions\n",
    "    plt.scatter(test_data, predictions, c='r', label='Prediction')\n",
    "    # Show legend\n",
    "    plt.legend()\n",
    "    plt.show()"
   ]
  },
  {
   "cell_type": "code",
   "execution_count": 25,
   "id": "b8443f87",
   "metadata": {},
   "outputs": [
    {
     "data": {
      "image/png": "[encoded data removed]",
      "text/plain": [
       "<Figure size 1000x700 with 1 Axes>"
      ]
     },
     "metadata": {},
     "output_type": "display_data"
    }
   ],
   "source": [
    "plot_predictions()"
   ]
  },
  {
   "cell_type": "markdown",
   "id": "352e65c0",
   "metadata": {},
   "source": [
    "## Evaluating the model"
   ]
  },
  {
   "cell_type": "code",
   "execution_count": 26,
   "id": "23350431",
   "metadata": {},
   "outputs": [
    {
     "name": "stdout",
     "output_type": "stream",
     "text": [
      "1/1 [==============================] - 0s 448ms/step - loss: 2.0778 - mae: 2.0778\n"
     ]
    },
    {
     "data": {
      "text/plain": [
       "[2.0778441429138184, 2.0778441429138184]"
      ]
     },
     "execution_count": 26,
     "metadata": {},
     "output_type": "execute_result"
    }
   ],
   "source": [
    "# Evaluate the model on the test\n",
    "model.evaluate(X_test, Y_test)"
   ]
  },
  {
   "cell_type": "code",
   "execution_count": 27,
   "id": "3edda75c",
   "metadata": {},
   "outputs": [
    {
     "data": {
      "text/plain": [
       "<tf.Tensor: shape=(), dtype=float32, numpy=2.0778465>"
      ]
     },
     "execution_count": 27,
     "metadata": {},
     "output_type": "execute_result"
    }
   ],
   "source": [
    "# Calculate the mean absolute error\n",
    "mae = tf.metrics.mean_absolute_error(Y_test, tf.squeeze(Y_pred))\n",
    "mae"
   ]
  },
  {
   "cell_type": "code",
   "execution_count": 28,
   "id": "9dbdd58a",
   "metadata": {},
   "outputs": [
    {
     "data": {
      "text/plain": [
       "<tf.Tensor: shape=(), dtype=float32, numpy=4.398557>"
      ]
     },
     "execution_count": 28,
     "metadata": {},
     "output_type": "execute_result"
    }
   ],
   "source": [
    "# Calculate the mean square error\n",
    "mse = tf.metrics.mean_squared_error(Y_test, tf.squeeze(Y_pred))\n",
    "mse"
   ]
  },
  {
   "cell_type": "code",
   "execution_count": 29,
   "id": "fd47b526",
   "metadata": {},
   "outputs": [],
   "source": [
    "# Make some functions for mse and mae\n",
    "def mae(Y_true, Y_pred):\n",
    "    return tf.metrics.mean_absolute_error(y_true=Y_true, y_pred=tf.squeeze(Y_pred))\n",
    "\n",
    "def mse(Y_true, Y_pred):\n",
    "    return tf.metrics.mean_squared_error(y_true=Y_true, y_pred=tf.squeeze(Y_pred))"
   ]
  },
  {
   "cell_type": "markdown",
   "id": "5ede5e51",
   "metadata": {},
   "source": [
    "## Experiments to improve the model"
   ]
  },
  {
   "cell_type": "code",
   "execution_count": 30,
   "id": "04af4f79",
   "metadata": {},
   "outputs": [
    {
     "data": {
      "text/plain": [
       "(<tf.Tensor: shape=(40,), dtype=int32, numpy=\n",
       " array([-100,  -96,  -92,  -88,  -84,  -80,  -76,  -72,  -68,  -64,  -60,\n",
       "         -56,  -52,  -48,  -44,  -40,  -36,  -32,  -28,  -24,  -20,  -16,\n",
       "         -12,   -8,   -4,    0,    4,    8,   12,   16,   20,   24,   28,\n",
       "          32,   36,   40,   44,   48,   52,   56])>,\n",
       " <tf.Tensor: shape=(40,), dtype=int32, numpy=\n",
       " array([-90, -86, -82, -78, -74, -70, -66, -62, -58, -54, -50, -46, -42,\n",
       "        -38, -34, -30, -26, -22, -18, -14, -10,  -6,  -2,   2,   6,  10,\n",
       "         14,  18,  22,  26,  30,  34,  38,  42,  46,  50,  54,  58,  62,\n",
       "         66])>)"
      ]
     },
     "execution_count": 30,
     "metadata": {},
     "output_type": "execute_result"
    }
   ],
   "source": [
    "X_train, Y_train"
   ]
  },
  {
   "cell_type": "markdown",
   "id": "1e31d4c7",
   "metadata": {},
   "source": [
    "**Modeling experiments:**\n",
    "- Same original model, 1 layer, 100 epochs\n",
    "- 2 layers, 100 epochs\n",
    "- 2 layers, 500 epochs"
   ]
  },
  {
   "cell_type": "code",
   "execution_count": 31,
   "id": "87bb56f9",
   "metadata": {},
   "outputs": [],
   "source": [
    "# Setting the seed\n",
    "tf.random.set_seed(42)"
   ]
  },
  {
   "cell_type": "code",
   "execution_count": 32,
   "id": "3bb9783e",
   "metadata": {},
   "outputs": [
    {
     "name": "stdout",
     "output_type": "stream",
     "text": [
      "Epoch 1/100\n",
      "2/2 [==============================] - 1s 20ms/step - loss: 46.4037 - mae: 46.4037\n",
      "Epoch 2/100\n",
      "2/2 [==============================] - 0s 12ms/step - loss: 15.3319 - mae: 15.3319\n",
      "Epoch 3/100\n",
      "2/2 [==============================] - 0s 12ms/step - loss: 14.5923 - mae: 14.5923\n",
      "Epoch 4/100\n",
      "2/2 [==============================] - 0s 12ms/step - loss: 7.8820 - mae: 7.8820\n",
      "Epoch 5/100\n",
      "2/2 [==============================] - 0s 12ms/step - loss: 10.3269 - mae: 10.3269\n",
      "Epoch 6/100\n",
      "2/2 [==============================] - 0s 8ms/step - loss: 9.5720 - mae: 9.5720\n",
      "Epoch 7/100\n",
      "2/2 [==============================] - 0s 12ms/step - loss: 8.6902 - mae: 8.6902\n",
      "Epoch 8/100\n",
      "2/2 [==============================] - 0s 12ms/step - loss: 9.0642 - mae: 9.0642\n",
      "Epoch 9/100\n",
      "2/2 [==============================] - 0s 8ms/step - loss: 19.0324 - mae: 19.0324\n",
      "Epoch 10/100\n",
      "2/2 [==============================] - 0s 12ms/step - loss: 10.2777 - mae: 10.2777\n",
      "Epoch 11/100\n",
      "2/2 [==============================] - 0s 12ms/step - loss: 8.4680 - mae: 8.4680\n",
      "Epoch 12/100\n",
      "2/2 [==============================] - 0s 12ms/step - loss: 10.7968 - mae: 10.7968\n",
      "Epoch 13/100\n",
      "2/2 [==============================] - 0s 12ms/step - loss: 9.8637 - mae: 9.8637\n",
      "Epoch 14/100\n",
      "2/2 [==============================] - 0s 12ms/step - loss: 12.0226 - mae: 12.0226\n",
      "Epoch 15/100\n",
      "2/2 [==============================] - 0s 12ms/step - loss: 12.4937 - mae: 12.4937\n",
      "Epoch 16/100\n",
      "2/2 [==============================] - 0s 8ms/step - loss: 7.9173 - mae: 7.9173\n",
      "Epoch 17/100\n",
      "2/2 [==============================] - 0s 8ms/step - loss: 12.8290 - mae: 12.8290\n",
      "Epoch 18/100\n",
      "2/2 [==============================] - 0s 8ms/step - loss: 10.4542 - mae: 10.4542\n",
      "Epoch 19/100\n",
      "2/2 [==============================] - 0s 12ms/step - loss: 19.2776 - mae: 19.2776\n",
      "Epoch 20/100\n",
      "2/2 [==============================] - 0s 12ms/step - loss: 15.9414 - mae: 15.9414\n",
      "Epoch 21/100\n",
      "2/2 [==============================] - 0s 12ms/step - loss: 11.8651 - mae: 11.8651\n",
      "Epoch 22/100\n",
      "2/2 [==============================] - 0s 12ms/step - loss: 8.4741 - mae: 8.4741\n",
      "Epoch 23/100\n",
      "2/2 [==============================] - 0s 8ms/step - loss: 9.8194 - mae: 9.8194\n",
      "Epoch 24/100\n",
      "2/2 [==============================] - 0s 12ms/step - loss: 10.8328 - mae: 10.8328\n",
      "Epoch 25/100\n",
      "2/2 [==============================] - 0s 8ms/step - loss: 9.1138 - mae: 9.1138\n",
      "Epoch 26/100\n",
      "2/2 [==============================] - 0s 8ms/step - loss: 13.0605 - mae: 13.0605\n",
      "Epoch 27/100\n",
      "2/2 [==============================] - 0s 12ms/step - loss: 10.4005 - mae: 10.4005\n",
      "Epoch 28/100\n",
      "2/2 [==============================] - 0s 12ms/step - loss: 13.3997 - mae: 13.3997\n",
      "Epoch 29/100\n",
      "2/2 [==============================] - 0s 12ms/step - loss: 9.6161 - mae: 9.6161\n",
      "Epoch 30/100\n",
      "2/2 [==============================] - 0s 8ms/step - loss: 17.2108 - mae: 17.2108\n",
      "Epoch 31/100\n",
      "2/2 [==============================] - 0s 12ms/step - loss: 22.8576 - mae: 22.8576\n",
      "Epoch 32/100\n",
      "2/2 [==============================] - 0s 12ms/step - loss: 7.9215 - mae: 7.9215\n",
      "Epoch 33/100\n",
      "2/2 [==============================] - 0s 12ms/step - loss: 14.1503 - mae: 14.1503\n",
      "Epoch 34/100\n",
      "2/2 [==============================] - 0s 8ms/step - loss: 12.3986 - mae: 12.3986\n",
      "Epoch 35/100\n",
      "2/2 [==============================] - 0s 8ms/step - loss: 8.2620 - mae: 8.2620\n",
      "Epoch 36/100\n",
      "2/2 [==============================] - 0s 12ms/step - loss: 10.4789 - mae: 10.4789\n",
      "Epoch 37/100\n",
      "2/2 [==============================] - 0s 12ms/step - loss: 10.1259 - mae: 10.1259\n",
      "Epoch 38/100\n",
      "2/2 [==============================] - 0s 12ms/step - loss: 11.3142 - mae: 11.3142\n",
      "Epoch 39/100\n",
      "2/2 [==============================] - 0s 12ms/step - loss: 14.7730 - mae: 14.7730\n",
      "Epoch 40/100\n",
      "2/2 [==============================] - 0s 8ms/step - loss: 12.9032 - mae: 12.9032\n",
      "Epoch 41/100\n",
      "2/2 [==============================] - 0s 12ms/step - loss: 9.2949 - mae: 9.2949\n",
      "Epoch 42/100\n",
      "2/2 [==============================] - 0s 12ms/step - loss: 10.9981 - mae: 10.9981\n",
      "Epoch 43/100\n",
      "2/2 [==============================] - 0s 12ms/step - loss: 8.3367 - mae: 8.3367\n",
      "Epoch 44/100\n",
      "2/2 [==============================] - 0s 12ms/step - loss: 13.0336 - mae: 13.0336\n",
      "Epoch 45/100\n",
      "2/2 [==============================] - 0s 8ms/step - loss: 13.6956 - mae: 13.6956\n",
      "Epoch 46/100\n",
      "2/2 [==============================] - 0s 8ms/step - loss: 8.4020 - mae: 8.4020\n",
      "Epoch 47/100\n",
      "2/2 [==============================] - 0s 8ms/step - loss: 9.1873 - mae: 9.1873\n",
      "Epoch 48/100\n",
      "2/2 [==============================] - 0s 12ms/step - loss: 10.6976 - mae: 10.6976\n",
      "Epoch 49/100\n",
      "2/2 [==============================] - 0s 12ms/step - loss: 7.7981 - mae: 7.7981\n",
      "Epoch 50/100\n",
      "2/2 [==============================] - 0s 12ms/step - loss: 9.6128 - mae: 9.6128\n",
      "Epoch 51/100\n",
      "2/2 [==============================] - 0s 8ms/step - loss: 9.1786 - mae: 9.1786\n",
      "Epoch 52/100\n",
      "2/2 [==============================] - 0s 8ms/step - loss: 16.5101 - mae: 16.5101\n",
      "Epoch 53/100\n",
      "2/2 [==============================] - 0s 12ms/step - loss: 14.0702 - mae: 14.0702\n",
      "Epoch 54/100\n",
      "2/2 [==============================] - 0s 8ms/step - loss: 20.9658 - mae: 20.9658\n",
      "Epoch 55/100\n",
      "2/2 [==============================] - 0s 12ms/step - loss: 16.5305 - mae: 16.5305\n",
      "Epoch 56/100\n",
      "2/2 [==============================] - 0s 12ms/step - loss: 9.8435 - mae: 9.8435\n",
      "Epoch 57/100\n",
      "2/2 [==============================] - 0s 12ms/step - loss: 9.6796 - mae: 9.6796\n",
      "Epoch 58/100\n",
      "2/2 [==============================] - 0s 12ms/step - loss: 8.9944 - mae: 8.9944\n",
      "Epoch 59/100\n",
      "2/2 [==============================] - 0s 12ms/step - loss: 10.2125 - mae: 10.2125\n",
      "Epoch 60/100\n",
      "2/2 [==============================] - 0s 12ms/step - loss: 8.4100 - mae: 8.4100\n",
      "Epoch 61/100\n",
      "2/2 [==============================] - 0s 8ms/step - loss: 9.2403 - mae: 9.2403\n",
      "Epoch 62/100\n",
      "2/2 [==============================] - 0s 12ms/step - loss: 7.2829 - mae: 7.2829\n",
      "Epoch 63/100\n",
      "2/2 [==============================] - 0s 12ms/step - loss: 8.1880 - mae: 8.1880\n",
      "Epoch 64/100\n",
      "2/2 [==============================] - 0s 8ms/step - loss: 12.5553 - mae: 12.5553\n",
      "Epoch 65/100\n",
      "2/2 [==============================] - 0s 12ms/step - loss: 10.6389 - mae: 10.6389\n",
      "Epoch 66/100\n",
      "2/2 [==============================] - 0s 12ms/step - loss: 15.4613 - mae: 15.4613\n",
      "Epoch 67/100\n",
      "2/2 [==============================] - 0s 12ms/step - loss: 9.9069 - mae: 9.9069\n",
      "Epoch 68/100\n",
      "2/2 [==============================] - 0s 8ms/step - loss: 8.6827 - mae: 8.6827\n",
      "Epoch 69/100\n",
      "2/2 [==============================] - 0s 8ms/step - loss: 13.3359 - mae: 13.3359\n",
      "Epoch 70/100\n",
      "2/2 [==============================] - 0s 12ms/step - loss: 7.8637 - mae: 7.8637\n",
      "Epoch 71/100\n",
      "2/2 [==============================] - 0s 12ms/step - loss: 11.3617 - mae: 11.3617\n",
      "Epoch 72/100\n",
      "2/2 [==============================] - 0s 12ms/step - loss: 9.5561 - mae: 9.5561\n",
      "Epoch 73/100\n",
      "2/2 [==============================] - 0s 12ms/step - loss: 11.6536 - mae: 11.6536\n",
      "Epoch 74/100\n",
      "2/2 [==============================] - 0s 12ms/step - loss: 10.7700 - mae: 10.7700\n",
      "Epoch 75/100\n",
      "2/2 [==============================] - 0s 12ms/step - loss: 9.5532 - mae: 9.5532\n",
      "Epoch 76/100\n",
      "2/2 [==============================] - 0s 8ms/step - loss: 11.0004 - mae: 11.0004\n",
      "Epoch 77/100\n",
      "2/2 [==============================] - 0s 12ms/step - loss: 11.0632 - mae: 11.0632\n",
      "Epoch 78/100\n",
      "2/2 [==============================] - 0s 16ms/step - loss: 11.6000 - mae: 11.6000\n",
      "Epoch 79/100\n",
      "2/2 [==============================] - 0s 8ms/step - loss: 15.6662 - mae: 15.6662\n",
      "Epoch 80/100\n",
      "2/2 [==============================] - 0s 12ms/step - loss: 11.5611 - mae: 11.5611\n",
      "Epoch 81/100\n",
      "2/2 [==============================] - 0s 12ms/step - loss: 9.5212 - mae: 9.5212\n",
      "Epoch 82/100\n",
      "2/2 [==============================] - 0s 8ms/step - loss: 12.5480 - mae: 12.5480\n",
      "Epoch 83/100\n",
      "2/2 [==============================] - 0s 12ms/step - loss: 8.1563 - mae: 8.1563\n",
      "Epoch 84/100\n",
      "2/2 [==============================] - 0s 12ms/step - loss: 7.5626 - mae: 7.5626\n",
      "Epoch 85/100\n",
      "2/2 [==============================] - 0s 12ms/step - loss: 9.7605 - mae: 9.7605\n",
      "Epoch 86/100\n",
      "2/2 [==============================] - 0s 8ms/step - loss: 9.0614 - mae: 9.0614\n",
      "Epoch 87/100\n"
     ]
    },
    {
     "name": "stdout",
     "output_type": "stream",
     "text": [
      "2/2 [==============================] - 0s 12ms/step - loss: 11.7053 - mae: 11.7053\n",
      "Epoch 88/100\n",
      "2/2 [==============================] - 0s 12ms/step - loss: 10.3065 - mae: 10.3065\n",
      "Epoch 89/100\n",
      "2/2 [==============================] - 0s 12ms/step - loss: 6.7557 - mae: 6.7557\n",
      "Epoch 90/100\n",
      "2/2 [==============================] - 0s 12ms/step - loss: 8.1328 - mae: 8.1328\n",
      "Epoch 91/100\n",
      "2/2 [==============================] - 0s 12ms/step - loss: 6.9044 - mae: 6.9044\n",
      "Epoch 92/100\n",
      "2/2 [==============================] - 0s 8ms/step - loss: 9.0055 - mae: 9.0055\n",
      "Epoch 93/100\n",
      "2/2 [==============================] - 0s 12ms/step - loss: 7.4970 - mae: 7.4970\n",
      "Epoch 94/100\n",
      "2/2 [==============================] - 0s 12ms/step - loss: 9.1154 - mae: 9.1154\n",
      "Epoch 95/100\n",
      "2/2 [==============================] - 0s 12ms/step - loss: 10.5739 - mae: 10.5739\n",
      "Epoch 96/100\n",
      "2/2 [==============================] - 0s 12ms/step - loss: 10.5958 - mae: 10.5958\n",
      "Epoch 97/100\n",
      "2/2 [==============================] - 0s 12ms/step - loss: 7.0063 - mae: 7.0063\n",
      "Epoch 98/100\n",
      "2/2 [==============================] - 0s 12ms/step - loss: 9.1499 - mae: 9.1499\n",
      "Epoch 99/100\n",
      "2/2 [==============================] - 0s 12ms/step - loss: 8.9547 - mae: 8.9547\n",
      "Epoch 100/100\n",
      "2/2 [==============================] - 0s 12ms/step - loss: 13.0819 - mae: 13.0819\n"
     ]
    },
    {
     "data": {
      "text/plain": [
       "<keras.callbacks.History at 0x96c91f3400>"
      ]
     },
     "execution_count": 32,
     "metadata": {},
     "output_type": "execute_result"
    }
   ],
   "source": [
    "# Model 1\n",
    "# Definition\n",
    "model_1 = tf.keras.Sequential([\n",
    "    tf.keras.layers.Dense(1)\n",
    "])\n",
    "# Compile\n",
    "model_1.compile(loss=tf.keras.losses.mae, \n",
    "               optimizer=tf.keras.optimizers.SGD(),\n",
    "               metrics=['mae'])\n",
    "# Fit\n",
    "model_1.fit(tf.expand_dims(X_train, axis=-1), Y_train, epochs=100)"
   ]
  },
  {
   "cell_type": "code",
   "execution_count": 33,
   "id": "8da65be1",
   "metadata": {},
   "outputs": [
    {
     "name": "stdout",
     "output_type": "stream",
     "text": [
      "1/1 [==============================] - 0s 120ms/step\n"
     ]
    },
    {
     "data": {
      "image/png": "[encoded data removed]",
      "text/plain": [
       "<Figure size 1000x700 with 1 Axes>"
      ]
     },
     "metadata": {},
     "output_type": "display_data"
    }
   ],
   "source": [
    "Y_preds_1 = model_1.predict(X_test)\n",
    "plot_predictions(predictions=Y_preds_1)"
   ]
  },
  {
   "cell_type": "code",
   "execution_count": 34,
   "id": "a2bc1a4d",
   "metadata": {},
   "outputs": [
    {
     "data": {
      "text/plain": [
       "(<tf.Tensor: shape=(), dtype=float32, numpy=32.679874>,\n",
       " <tf.Tensor: shape=(), dtype=float32, numpy=1080.4482>)"
      ]
     },
     "execution_count": 34,
     "metadata": {},
     "output_type": "execute_result"
    }
   ],
   "source": [
    "# Calculate model 1 evaluation metrics\n",
    "mae_1 = mae(Y_test, Y_preds_1)\n",
    "mse_1 = mse(Y_test, Y_preds_1)\n",
    "mae_1, mse_1"
   ]
  },
  {
   "cell_type": "code",
   "execution_count": 35,
   "id": "b4712977",
   "metadata": {},
   "outputs": [],
   "source": [
    "tf.random.set_seed(42)"
   ]
  },
  {
   "cell_type": "code",
   "execution_count": 36,
   "id": "74f45ee3",
   "metadata": {},
   "outputs": [
    {
     "name": "stdout",
     "output_type": "stream",
     "text": [
      "Epoch 1/100\n",
      "2/2 [==============================] - 1s 20ms/step - loss: 55.5506 - mse: 4766.8135\n",
      "Epoch 2/100\n",
      "2/2 [==============================] - 0s 8ms/step - loss: 29.1578 - mse: 1339.8518\n",
      "Epoch 3/100\n",
      "2/2 [==============================] - 0s 12ms/step - loss: 20.0296 - mse: 586.1663\n",
      "Epoch 4/100\n",
      "2/2 [==============================] - 0s 12ms/step - loss: 12.9692 - mse: 226.8113\n",
      "Epoch 5/100\n",
      "2/2 [==============================] - 0s 12ms/step - loss: 14.2945 - mse: 251.0221\n",
      "Epoch 6/100\n",
      "2/2 [==============================] - 0s 12ms/step - loss: 11.4353 - mse: 148.2681\n",
      "Epoch 7/100\n",
      "2/2 [==============================] - 0s 12ms/step - loss: 12.4765 - mse: 204.1310\n",
      "Epoch 8/100\n",
      "2/2 [==============================] - 0s 12ms/step - loss: 10.9976 - mse: 144.6021\n",
      "Epoch 9/100\n",
      "2/2 [==============================] - 0s 12ms/step - loss: 39.0651 - mse: 2379.4414\n",
      "Epoch 10/100\n",
      "2/2 [==============================] - 0s 12ms/step - loss: 26.6371 - mse: 997.5132\n",
      "Epoch 11/100\n",
      "2/2 [==============================] - 0s 12ms/step - loss: 11.8061 - mse: 218.9670\n",
      "Epoch 12/100\n",
      "2/2 [==============================] - 0s 12ms/step - loss: 23.5707 - mse: 787.4518\n",
      "Epoch 13/100\n",
      "2/2 [==============================] - 0s 12ms/step - loss: 21.2176 - mse: 642.2975\n",
      "Epoch 14/100\n",
      "2/2 [==============================] - 0s 12ms/step - loss: 23.6837 - mse: 860.4186\n",
      "Epoch 15/100\n",
      "2/2 [==============================] - 0s 12ms/step - loss: 15.7627 - mse: 338.1063\n",
      "Epoch 16/100\n",
      "2/2 [==============================] - 0s 12ms/step - loss: 10.4415 - mse: 125.0342\n",
      "Epoch 17/100\n",
      "2/2 [==============================] - 0s 12ms/step - loss: 19.6776 - mse: 526.6810\n",
      "Epoch 18/100\n",
      "2/2 [==============================] - 0s 8ms/step - loss: 13.3057 - mse: 276.9361\n",
      "Epoch 19/100\n",
      "2/2 [==============================] - 0s 8ms/step - loss: 16.0816 - mse: 413.2477\n",
      "Epoch 20/100\n",
      "2/2 [==============================] - 0s 12ms/step - loss: 10.2179 - mse: 154.0813\n",
      "Epoch 21/100\n",
      "2/2 [==============================] - 0s 8ms/step - loss: 13.7670 - mse: 250.1195\n",
      "Epoch 22/100\n",
      "2/2 [==============================] - 0s 8ms/step - loss: 21.9920 - mse: 686.0173\n",
      "Epoch 23/100\n",
      "2/2 [==============================] - 0s 12ms/step - loss: 10.4580 - mse: 166.9934\n",
      "Epoch 24/100\n",
      "2/2 [==============================] - 0s 12ms/step - loss: 15.7426 - mse: 332.7668\n",
      "Epoch 25/100\n",
      "2/2 [==============================] - 0s 12ms/step - loss: 14.9000 - mse: 292.3628\n",
      "Epoch 26/100\n",
      "2/2 [==============================] - 0s 12ms/step - loss: 19.5180 - mse: 577.4887\n",
      "Epoch 27/100\n",
      "2/2 [==============================] - 0s 12ms/step - loss: 20.5501 - mse: 638.5214\n",
      "Epoch 28/100\n",
      "2/2 [==============================] - 0s 12ms/step - loss: 14.9230 - mse: 343.2240\n",
      "Epoch 29/100\n",
      "2/2 [==============================] - 0s 12ms/step - loss: 9.2740 - mse: 93.5515\n",
      "Epoch 30/100\n",
      "2/2 [==============================] - 0s 12ms/step - loss: 30.2844 - mse: 1675.1777\n",
      "Epoch 31/100\n",
      "2/2 [==============================] - 0s 12ms/step - loss: 55.0215 - mse: 5428.5889\n",
      "Epoch 32/100\n",
      "2/2 [==============================] - 0s 12ms/step - loss: 9.6958 - mse: 102.8731\n",
      "Epoch 33/100\n",
      "2/2 [==============================] - 0s 8ms/step - loss: 12.3033 - mse: 189.9662\n",
      "Epoch 34/100\n",
      "2/2 [==============================] - 0s 8ms/step - loss: 24.3988 - mse: 904.1605\n",
      "Epoch 35/100\n",
      "2/2 [==============================] - 0s 8ms/step - loss: 11.9750 - mse: 210.4422\n",
      "Epoch 36/100\n",
      "2/2 [==============================] - 0s 8ms/step - loss: 22.2280 - mse: 702.5145\n",
      "Epoch 37/100\n",
      "2/2 [==============================] - 0s 8ms/step - loss: 17.3649 - mse: 428.9997\n",
      "Epoch 38/100\n",
      "2/2 [==============================] - 0s 8ms/step - loss: 10.6728 - mse: 130.7162\n",
      "Epoch 39/100\n",
      "2/2 [==============================] - 0s 12ms/step - loss: 11.1873 - mse: 161.5934\n",
      "Epoch 40/100\n",
      "2/2 [==============================] - 0s 12ms/step - loss: 17.9591 - mse: 466.7686\n",
      "Epoch 41/100\n",
      "2/2 [==============================] - 0s 12ms/step - loss: 10.4001 - mse: 183.6034\n",
      "Epoch 42/100\n",
      "2/2 [==============================] - 0s 12ms/step - loss: 7.2840 - mse: 76.0093\n",
      "Epoch 43/100\n",
      "2/2 [==============================] - 0s 16ms/step - loss: 18.9123 - mse: 530.1108\n",
      "Epoch 44/100\n",
      "2/2 [==============================] - 0s 12ms/step - loss: 20.0572 - mse: 621.9542\n",
      "Epoch 45/100\n",
      "2/2 [==============================] - 0s 12ms/step - loss: 10.1164 - mse: 127.9519\n",
      "Epoch 46/100\n",
      "2/2 [==============================] - 0s 12ms/step - loss: 11.3681 - mse: 159.3351\n",
      "Epoch 47/100\n",
      "2/2 [==============================] - 0s 12ms/step - loss: 9.8372 - mse: 153.0317\n",
      "Epoch 48/100\n",
      "2/2 [==============================] - 0s 12ms/step - loss: 17.6400 - mse: 423.0482\n",
      "Epoch 49/100\n",
      "2/2 [==============================] - 0s 8ms/step - loss: 9.3254 - mse: 95.5310\n",
      "Epoch 50/100\n",
      "2/2 [==============================] - 0s 12ms/step - loss: 13.3583 - mse: 234.8018\n",
      "Epoch 51/100\n",
      "2/2 [==============================] - 0s 8ms/step - loss: 11.4331 - mse: 148.5078\n",
      "Epoch 52/100\n",
      "2/2 [==============================] - 0s 8ms/step - loss: 29.3120 - mse: 1472.8082\n",
      "Epoch 53/100\n",
      "2/2 [==============================] - 0s 12ms/step - loss: 16.7032 - mse: 412.9638\n",
      "Epoch 54/100\n",
      "2/2 [==============================] - 0s 8ms/step - loss: 21.6676 - mse: 692.0277\n",
      "Epoch 55/100\n",
      "2/2 [==============================] - 0s 8ms/step - loss: 22.1084 - mse: 731.0062\n",
      "Epoch 56/100\n",
      "2/2 [==============================] - 0s 12ms/step - loss: 11.2288 - mse: 171.6698\n",
      "Epoch 57/100\n",
      "2/2 [==============================] - 0s 12ms/step - loss: 13.1966 - mse: 217.1290\n",
      "Epoch 58/100\n",
      "2/2 [==============================] - 0s 12ms/step - loss: 9.8620 - mse: 107.2808\n",
      "Epoch 59/100\n",
      "2/2 [==============================] - 0s 8ms/step - loss: 13.3764 - mse: 252.7795\n",
      "Epoch 60/100\n",
      "2/2 [==============================] - 0s 12ms/step - loss: 10.9219 - mse: 140.7730\n",
      "Epoch 61/100\n",
      "2/2 [==============================] - 0s 12ms/step - loss: 13.5288 - mse: 244.1707\n",
      "Epoch 62/100\n",
      "2/2 [==============================] - 0s 12ms/step - loss: 17.5720 - mse: 471.3410\n",
      "Epoch 63/100\n",
      "2/2 [==============================] - 0s 12ms/step - loss: 9.1943 - mse: 88.1205\n",
      "Epoch 64/100\n",
      "2/2 [==============================] - 0s 12ms/step - loss: 18.4359 - mse: 493.9738\n",
      "Epoch 65/100\n",
      "2/2 [==============================] - 0s 12ms/step - loss: 10.1483 - mse: 115.6860\n",
      "Epoch 66/100\n",
      "2/2 [==============================] - 0s 16ms/step - loss: 24.2968 - mse: 891.2045\n",
      "Epoch 67/100\n",
      "2/2 [==============================] - 0s 12ms/step - loss: 10.9216 - mse: 143.6123\n",
      "Epoch 68/100\n",
      "2/2 [==============================] - 0s 12ms/step - loss: 10.7988 - mse: 159.9982\n",
      "Epoch 69/100\n",
      "2/2 [==============================] - 0s 16ms/step - loss: 23.2623 - mse: 782.2981\n",
      "Epoch 70/100\n",
      "2/2 [==============================] - 0s 12ms/step - loss: 8.8257 - mse: 143.7905\n",
      "Epoch 71/100\n",
      "2/2 [==============================] - 0s 12ms/step - loss: 15.9904 - mse: 347.9782\n",
      "Epoch 72/100\n",
      "2/2 [==============================] - 0s 12ms/step - loss: 8.1627 - mse: 110.0403\n",
      "Epoch 73/100\n",
      "2/2 [==============================] - 0s 12ms/step - loss: 9.4744 - mse: 153.3529\n",
      "Epoch 74/100\n",
      "2/2 [==============================] - 0s 8ms/step - loss: 28.1631 - mse: 1110.9037\n",
      "Epoch 75/100\n",
      "2/2 [==============================] - 0s 16ms/step - loss: 10.2112 - mse: 145.9647\n",
      "Epoch 76/100\n",
      "2/2 [==============================] - 0s 12ms/step - loss: 13.1588 - mse: 218.6803\n",
      "Epoch 77/100\n",
      "2/2 [==============================] - 0s 16ms/step - loss: 18.3623 - mse: 528.5244\n",
      "Epoch 78/100\n",
      "2/2 [==============================] - 0s 12ms/step - loss: 9.0322 - mse: 91.5254\n",
      "Epoch 79/100\n",
      "2/2 [==============================] - 0s 16ms/step - loss: 23.3947 - mse: 818.4130\n",
      "Epoch 80/100\n",
      "2/2 [==============================] - 0s 12ms/step - loss: 26.0574 - mse: 1042.8568\n",
      "Epoch 81/100\n",
      "2/2 [==============================] - 0s 12ms/step - loss: 11.3824 - mse: 157.6067\n",
      "Epoch 82/100\n",
      "2/2 [==============================] - 0s 12ms/step - loss: 12.5199 - mse: 228.2105\n",
      "Epoch 83/100\n",
      "2/2 [==============================] - 0s 12ms/step - loss: 17.2196 - mse: 385.6757\n",
      "Epoch 84/100\n",
      "2/2 [==============================] - 0s 12ms/step - loss: 6.6238 - mse: 65.2338\n",
      "Epoch 85/100\n"
     ]
    },
    {
     "name": "stdout",
     "output_type": "stream",
     "text": [
      "2/2 [==============================] - 0s 12ms/step - loss: 20.2259 - mse: 571.8255\n",
      "Epoch 86/100\n",
      "2/2 [==============================] - 0s 12ms/step - loss: 10.1740 - mse: 115.3053\n",
      "Epoch 87/100\n",
      "2/2 [==============================] - 0s 12ms/step - loss: 24.2514 - mse: 822.5811\n",
      "Epoch 88/100\n",
      "2/2 [==============================] - 0s 8ms/step - loss: 18.9185 - mse: 508.5892\n",
      "Epoch 89/100\n",
      "2/2 [==============================] - 0s 8ms/step - loss: 7.6862 - mse: 84.2016\n",
      "Epoch 90/100\n",
      "2/2 [==============================] - 0s 12ms/step - loss: 17.3339 - mse: 430.6845\n",
      "Epoch 91/100\n",
      "2/2 [==============================] - 0s 12ms/step - loss: 12.4457 - mse: 226.4998\n",
      "Epoch 92/100\n",
      "2/2 [==============================] - 0s 12ms/step - loss: 24.8112 - mse: 897.9761\n",
      "Epoch 93/100\n",
      "2/2 [==============================] - 0s 12ms/step - loss: 15.4562 - mse: 364.7729\n",
      "Epoch 94/100\n",
      "2/2 [==============================] - 0s 12ms/step - loss: 9.7503 - mse: 120.4305\n",
      "Epoch 95/100\n",
      "2/2 [==============================] - 0s 8ms/step - loss: 18.3661 - mse: 497.5255\n",
      "Epoch 96/100\n",
      "2/2 [==============================] - 0s 12ms/step - loss: 10.3934 - mse: 180.0388\n",
      "Epoch 97/100\n",
      "2/2 [==============================] - 0s 12ms/step - loss: 14.1287 - mse: 299.4151\n",
      "Epoch 98/100\n",
      "2/2 [==============================] - 0s 12ms/step - loss: 9.6292 - mse: 137.4966\n",
      "Epoch 99/100\n",
      "2/2 [==============================] - 0s 12ms/step - loss: 11.3279 - mse: 163.1318\n",
      "Epoch 100/100\n",
      "2/2 [==============================] - 0s 8ms/step - loss: 29.1826 - mse: 1310.5154\n"
     ]
    },
    {
     "data": {
      "text/plain": [
       "<keras.callbacks.History at 0x96c8a56610>"
      ]
     },
     "execution_count": 36,
     "metadata": {},
     "output_type": "execute_result"
    }
   ],
   "source": [
    "# Model 2 (just to experiment, the metrics on compile will be mse instead of mae)\n",
    "# Definition\n",
    "model_2 = tf.keras.Sequential([\n",
    "    tf.keras.layers.Dense(10),\n",
    "    tf.keras.layers.Dense(1)\n",
    "])\n",
    "# Compile\n",
    "model_2.compile(loss=tf.keras.losses.mae, \n",
    "               optimizer=tf.keras.optimizers.SGD(),\n",
    "               metrics=['mse'])\n",
    "# Fit\n",
    "model_2.fit(tf.expand_dims(X_train, axis=-1), Y_train, epochs=100)"
   ]
  },
  {
   "cell_type": "code",
   "execution_count": 37,
   "id": "63426595",
   "metadata": {},
   "outputs": [
    {
     "name": "stdout",
     "output_type": "stream",
     "text": [
      "1/1 [==============================] - 0s 144ms/step\n"
     ]
    },
    {
     "data": {
      "image/png": "[encoded data removed]",
      "text/plain": [
       "<Figure size 1000x700 with 1 Axes>"
      ]
     },
     "metadata": {},
     "output_type": "display_data"
    }
   ],
   "source": [
    "Y_preds_2 = model_2.predict(X_test)\n",
    "plot_predictions(predictions=Y_preds_2)"
   ]
  },
  {
   "cell_type": "code",
   "execution_count": 38,
   "id": "9a9d79a7",
   "metadata": {},
   "outputs": [
    {
     "data": {
      "text/plain": [
       "(<tf.Tensor: shape=(), dtype=float32, numpy=11.326427>,\n",
       " <tf.Tensor: shape=(), dtype=float32, numpy=136.66801>)"
      ]
     },
     "execution_count": 38,
     "metadata": {},
     "output_type": "execute_result"
    }
   ],
   "source": [
    "# Calculate model 1 evaluation metrics\n",
    "mae_2 = mae(Y_test, Y_preds_2)\n",
    "mse_2 = mse(Y_test, Y_preds_2)\n",
    "mae_2, mse_2"
   ]
  },
  {
   "cell_type": "code",
   "execution_count": 39,
   "id": "43deca7e",
   "metadata": {},
   "outputs": [],
   "source": [
    "tf.random.set_seed(42)"
   ]
  },
  {
   "cell_type": "code",
   "execution_count": 40,
   "id": "8775378f",
   "metadata": {},
   "outputs": [
    {
     "name": "stdout",
     "output_type": "stream",
     "text": [
      "Epoch 1/500\n",
      "2/2 [==============================] - 1s 20ms/step - loss: 60.5344 - mae: 60.5344\n",
      "Epoch 2/500\n",
      "2/2 [==============================] - 0s 16ms/step - loss: 31.9870 - mae: 31.9870\n",
      "Epoch 3/500\n",
      "2/2 [==============================] - 0s 12ms/step - loss: 36.7006 - mae: 36.7006\n",
      "Epoch 4/500\n",
      "2/2 [==============================] - 0s 16ms/step - loss: 28.7591 - mae: 28.7591\n",
      "Epoch 5/500\n",
      "2/2 [==============================] - 0s 16ms/step - loss: 15.5973 - mae: 15.5973\n",
      "Epoch 6/500\n",
      "2/2 [==============================] - 0s 12ms/step - loss: 12.3744 - mae: 12.3744\n",
      "Epoch 7/500\n",
      "2/2 [==============================] - 0s 16ms/step - loss: 11.6594 - mae: 11.6594\n",
      "Epoch 8/500\n",
      "2/2 [==============================] - 0s 12ms/step - loss: 12.0686 - mae: 12.0686\n",
      "Epoch 9/500\n",
      "2/2 [==============================] - 0s 16ms/step - loss: 37.7975 - mae: 37.7975\n",
      "Epoch 10/500\n",
      "2/2 [==============================] - 0s 16ms/step - loss: 25.4190 - mae: 25.4190\n",
      "Epoch 11/500\n",
      "2/2 [==============================] - 0s 12ms/step - loss: 10.2461 - mae: 10.2461\n",
      "Epoch 12/500\n",
      "2/2 [==============================] - 0s 12ms/step - loss: 25.3620 - mae: 25.3620\n",
      "Epoch 13/500\n",
      "2/2 [==============================] - 0s 12ms/step - loss: 16.9413 - mae: 16.9413\n",
      "Epoch 14/500\n",
      "2/2 [==============================] - 0s 20ms/step - loss: 25.8429 - mae: 25.8429\n",
      "Epoch 15/500\n",
      "2/2 [==============================] - 0s 16ms/step - loss: 17.9295 - mae: 17.9295\n",
      "Epoch 16/500\n",
      "2/2 [==============================] - 0s 12ms/step - loss: 7.3395 - mae: 7.3395\n",
      "Epoch 17/500\n",
      "2/2 [==============================] - 0s 8ms/step - loss: 12.8184 - mae: 12.8184\n",
      "Epoch 18/500\n",
      "2/2 [==============================] - 0s 12ms/step - loss: 10.1438 - mae: 10.1438\n",
      "Epoch 19/500\n",
      "2/2 [==============================] - 0s 12ms/step - loss: 14.3496 - mae: 14.3496\n",
      "Epoch 20/500\n",
      "2/2 [==============================] - 0s 12ms/step - loss: 10.4175 - mae: 10.4175\n",
      "Epoch 21/500\n",
      "2/2 [==============================] - 0s 16ms/step - loss: 15.1460 - mae: 15.1460\n",
      "Epoch 22/500\n",
      "2/2 [==============================] - 0s 16ms/step - loss: 15.4774 - mae: 15.4774\n",
      "Epoch 23/500\n",
      "2/2 [==============================] - 0s 12ms/step - loss: 9.2229 - mae: 9.2229\n",
      "Epoch 24/500\n",
      "2/2 [==============================] - 0s 12ms/step - loss: 17.2634 - mae: 17.2634\n",
      "Epoch 25/500\n",
      "2/2 [==============================] - 0s 12ms/step - loss: 15.9310 - mae: 15.9310\n",
      "Epoch 26/500\n",
      "2/2 [==============================] - 0s 12ms/step - loss: 20.9281 - mae: 20.9281\n",
      "Epoch 27/500\n",
      "2/2 [==============================] - 0s 16ms/step - loss: 25.9645 - mae: 25.9645\n",
      "Epoch 28/500\n",
      "2/2 [==============================] - 0s 16ms/step - loss: 18.4603 - mae: 18.4603\n",
      "Epoch 29/500\n",
      "2/2 [==============================] - 0s 12ms/step - loss: 9.2247 - mae: 9.2247\n",
      "Epoch 30/500\n",
      "2/2 [==============================] - 0s 12ms/step - loss: 29.0901 - mae: 29.0901\n",
      "Epoch 31/500\n",
      "2/2 [==============================] - 0s 12ms/step - loss: 52.6858 - mae: 52.6858\n",
      "Epoch 32/500\n",
      "2/2 [==============================] - 0s 12ms/step - loss: 11.9098 - mae: 11.9098\n",
      "Epoch 33/500\n",
      "2/2 [==============================] - 0s 8ms/step - loss: 15.5133 - mae: 15.5133\n",
      "Epoch 34/500\n",
      "2/2 [==============================] - 0s 12ms/step - loss: 12.5989 - mae: 12.5989\n",
      "Epoch 35/500\n",
      "2/2 [==============================] - 0s 12ms/step - loss: 9.1895 - mae: 9.1895\n",
      "Epoch 36/500\n",
      "2/2 [==============================] - 0s 8ms/step - loss: 16.5148 - mae: 16.5148\n",
      "Epoch 37/500\n",
      "2/2 [==============================] - 0s 12ms/step - loss: 11.0605 - mae: 11.0605\n",
      "Epoch 38/500\n",
      "2/2 [==============================] - 0s 16ms/step - loss: 18.1894 - mae: 18.1894\n",
      "Epoch 39/500\n",
      "2/2 [==============================] - 0s 12ms/step - loss: 19.1222 - mae: 19.1222\n",
      "Epoch 40/500\n",
      "2/2 [==============================] - 0s 8ms/step - loss: 20.4747 - mae: 20.4747\n",
      "Epoch 41/500\n",
      "2/2 [==============================] - 0s 12ms/step - loss: 14.8320 - mae: 14.8320\n",
      "Epoch 42/500\n",
      "2/2 [==============================] - 0s 12ms/step - loss: 12.2209 - mae: 12.2209\n",
      "Epoch 43/500\n",
      "2/2 [==============================] - 0s 12ms/step - loss: 10.6925 - mae: 10.6925\n",
      "Epoch 44/500\n",
      "2/2 [==============================] - 0s 16ms/step - loss: 22.9285 - mae: 22.9285\n",
      "Epoch 45/500\n",
      "2/2 [==============================] - 0s 12ms/step - loss: 10.3433 - mae: 10.3433\n",
      "Epoch 46/500\n",
      "2/2 [==============================] - 0s 12ms/step - loss: 11.7325 - mae: 11.7325\n",
      "Epoch 47/500\n",
      "2/2 [==============================] - 0s 12ms/step - loss: 9.6458 - mae: 9.6458\n",
      "Epoch 48/500\n",
      "2/2 [==============================] - 0s 12ms/step - loss: 17.2528 - mae: 17.2528\n",
      "Epoch 49/500\n",
      "2/2 [==============================] - 0s 12ms/step - loss: 9.5386 - mae: 9.5386\n",
      "Epoch 50/500\n",
      "2/2 [==============================] - 0s 12ms/step - loss: 13.7729 - mae: 13.7729\n",
      "Epoch 51/500\n",
      "2/2 [==============================] - 0s 16ms/step - loss: 11.5678 - mae: 11.5678\n",
      "Epoch 52/500\n",
      "2/2 [==============================] - 0s 12ms/step - loss: 30.5100 - mae: 30.5100\n",
      "Epoch 53/500\n",
      "2/2 [==============================] - 0s 12ms/step - loss: 14.3262 - mae: 14.3262\n",
      "Epoch 54/500\n",
      "2/2 [==============================] - 0s 16ms/step - loss: 23.9358 - mae: 23.9358\n",
      "Epoch 55/500\n",
      "2/2 [==============================] - 0s 12ms/step - loss: 23.1514 - mae: 23.1514\n",
      "Epoch 56/500\n",
      "2/2 [==============================] - 0s 20ms/step - loss: 10.8532 - mae: 10.8532\n",
      "Epoch 57/500\n",
      "2/2 [==============================] - 0s 20ms/step - loss: 12.7134 - mae: 12.7134\n",
      "Epoch 58/500\n",
      "2/2 [==============================] - 0s 16ms/step - loss: 9.5770 - mae: 9.5770\n",
      "Epoch 59/500\n",
      "2/2 [==============================] - 0s 16ms/step - loss: 12.4959 - mae: 12.4959\n",
      "Epoch 60/500\n",
      "2/2 [==============================] - 0s 16ms/step - loss: 12.3028 - mae: 12.3028\n",
      "Epoch 61/500\n",
      "2/2 [==============================] - 0s 16ms/step - loss: 17.4566 - mae: 17.4566\n",
      "Epoch 62/500\n",
      "2/2 [==============================] - 0s 8ms/step - loss: 10.5908 - mae: 10.5908\n",
      "Epoch 63/500\n",
      "2/2 [==============================] - 0s 12ms/step - loss: 10.4746 - mae: 10.4746\n",
      "Epoch 64/500\n",
      "2/2 [==============================] - 0s 12ms/step - loss: 24.8678 - mae: 24.8678\n",
      "Epoch 65/500\n",
      "2/2 [==============================] - 0s 12ms/step - loss: 10.6629 - mae: 10.6629\n",
      "Epoch 66/500\n",
      "2/2 [==============================] - 0s 12ms/step - loss: 21.9898 - mae: 21.9898\n",
      "Epoch 67/500\n",
      "2/2 [==============================] - 0s 12ms/step - loss: 10.1819 - mae: 10.1819\n",
      "Epoch 68/500\n",
      "2/2 [==============================] - 0s 12ms/step - loss: 13.3487 - mae: 13.3487\n",
      "Epoch 69/500\n",
      "2/2 [==============================] - 0s 12ms/step - loss: 11.3391 - mae: 11.3391\n",
      "Epoch 70/500\n",
      "2/2 [==============================] - 0s 12ms/step - loss: 13.5170 - mae: 13.5170\n",
      "Epoch 71/500\n",
      "2/2 [==============================] - 0s 12ms/step - loss: 15.5163 - mae: 15.5163\n",
      "Epoch 72/500\n",
      "2/2 [==============================] - 0s 12ms/step - loss: 11.7742 - mae: 11.7742\n",
      "Epoch 73/500\n",
      "2/2 [==============================] - 0s 12ms/step - loss: 16.5438 - mae: 16.5438\n",
      "Epoch 74/500\n",
      "2/2 [==============================] - 0s 12ms/step - loss: 24.0337 - mae: 24.0337\n",
      "Epoch 75/500\n",
      "2/2 [==============================] - 0s 8ms/step - loss: 9.5709 - mae: 9.5709\n",
      "Epoch 76/500\n",
      "2/2 [==============================] - 0s 8ms/step - loss: 12.4195 - mae: 12.4195\n",
      "Epoch 77/500\n",
      "2/2 [==============================] - 0s 8ms/step - loss: 16.6546 - mae: 16.6546\n",
      "Epoch 78/500\n",
      "2/2 [==============================] - 0s 12ms/step - loss: 9.0435 - mae: 9.0435\n",
      "Epoch 79/500\n",
      "2/2 [==============================] - 0s 12ms/step - loss: 23.9937 - mae: 23.9937\n",
      "Epoch 80/500\n",
      "2/2 [==============================] - 0s 12ms/step - loss: 26.7770 - mae: 26.7770\n",
      "Epoch 81/500\n",
      "2/2 [==============================] - 0s 12ms/step - loss: 11.6683 - mae: 11.6683\n",
      "Epoch 82/500\n",
      "2/2 [==============================] - 0s 12ms/step - loss: 12.0036 - mae: 12.0036\n",
      "Epoch 83/500\n",
      "2/2 [==============================] - 0s 12ms/step - loss: 17.3931 - mae: 17.3931\n",
      "Epoch 84/500\n",
      "2/2 [==============================] - 0s 12ms/step - loss: 7.2417 - mae: 7.2417\n",
      "Epoch 85/500\n",
      "2/2 [==============================] - 0s 12ms/step - loss: 14.9367 - mae: 14.9367\n",
      "Epoch 86/500\n"
     ]
    },
    {
     "name": "stdout",
     "output_type": "stream",
     "text": [
      "2/2 [==============================] - 0s 16ms/step - loss: 15.2610 - mae: 15.2610\n",
      "Epoch 87/500\n",
      "2/2 [==============================] - 0s 20ms/step - loss: 19.0648 - mae: 19.0648\n",
      "Epoch 88/500\n",
      "2/2 [==============================] - 0s 12ms/step - loss: 29.9298 - mae: 29.9298\n",
      "Epoch 89/500\n",
      "2/2 [==============================] - 0s 16ms/step - loss: 10.1730 - mae: 10.1730\n",
      "Epoch 90/500\n",
      "2/2 [==============================] - 0s 16ms/step - loss: 21.6209 - mae: 21.6209\n",
      "Epoch 91/500\n",
      "2/2 [==============================] - 0s 16ms/step - loss: 10.5797 - mae: 10.5797\n",
      "Epoch 92/500\n",
      "2/2 [==============================] - 0s 12ms/step - loss: 18.4908 - mae: 18.4908\n",
      "Epoch 93/500\n",
      "2/2 [==============================] - 0s 12ms/step - loss: 8.1373 - mae: 8.1373\n",
      "Epoch 94/500\n",
      "2/2 [==============================] - 0s 12ms/step - loss: 11.3479 - mae: 11.3479\n",
      "Epoch 95/500\n",
      "2/2 [==============================] - 0s 12ms/step - loss: 25.4332 - mae: 25.4332\n",
      "Epoch 96/500\n",
      "2/2 [==============================] - 0s 12ms/step - loss: 10.9692 - mae: 10.9692\n",
      "Epoch 97/500\n",
      "2/2 [==============================] - 0s 8ms/step - loss: 16.3019 - mae: 16.3019\n",
      "Epoch 98/500\n",
      "2/2 [==============================] - 0s 12ms/step - loss: 6.8214 - mae: 6.8214\n",
      "Epoch 99/500\n",
      "2/2 [==============================] - 0s 12ms/step - loss: 11.6870 - mae: 11.6870\n",
      "Epoch 100/500\n",
      "2/2 [==============================] - 0s 12ms/step - loss: 23.5156 - mae: 23.5156\n",
      "Epoch 101/500\n",
      "2/2 [==============================] - 0s 12ms/step - loss: 21.2342 - mae: 21.2342\n",
      "Epoch 102/500\n",
      "2/2 [==============================] - 0s 12ms/step - loss: 10.7224 - mae: 10.7224\n",
      "Epoch 103/500\n",
      "2/2 [==============================] - 0s 12ms/step - loss: 9.1420 - mae: 9.1420\n",
      "Epoch 104/500\n",
      "2/2 [==============================] - 0s 12ms/step - loss: 23.8509 - mae: 23.8509\n",
      "Epoch 105/500\n",
      "2/2 [==============================] - 0s 12ms/step - loss: 10.8168 - mae: 10.8168\n",
      "Epoch 106/500\n",
      "2/2 [==============================] - 0s 12ms/step - loss: 11.2792 - mae: 11.2792\n",
      "Epoch 107/500\n",
      "2/2 [==============================] - 0s 12ms/step - loss: 21.4501 - mae: 21.4501\n",
      "Epoch 108/500\n",
      "2/2 [==============================] - 0s 12ms/step - loss: 6.5625 - mae: 6.5625\n",
      "Epoch 109/500\n",
      "2/2 [==============================] - 0s 12ms/step - loss: 13.2965 - mae: 13.2965\n",
      "Epoch 110/500\n",
      "2/2 [==============================] - 0s 12ms/step - loss: 7.9694 - mae: 7.9694\n",
      "Epoch 111/500\n",
      "2/2 [==============================] - 0s 12ms/step - loss: 15.7513 - mae: 15.7513\n",
      "Epoch 112/500\n",
      "2/2 [==============================] - 0s 8ms/step - loss: 8.7226 - mae: 8.7226\n",
      "Epoch 113/500\n",
      "2/2 [==============================] - 0s 12ms/step - loss: 22.6854 - mae: 22.6854\n",
      "Epoch 114/500\n",
      "2/2 [==============================] - 0s 12ms/step - loss: 19.0269 - mae: 19.0269\n",
      "Epoch 115/500\n",
      "2/2 [==============================] - 0s 12ms/step - loss: 11.0657 - mae: 11.0657\n",
      "Epoch 116/500\n",
      "2/2 [==============================] - 0s 16ms/step - loss: 23.1387 - mae: 23.1387\n",
      "Epoch 117/500\n",
      "2/2 [==============================] - 0s 16ms/step - loss: 9.5555 - mae: 9.5555\n",
      "Epoch 118/500\n",
      "2/2 [==============================] - 0s 16ms/step - loss: 10.6243 - mae: 10.6243\n",
      "Epoch 119/500\n",
      "2/2 [==============================] - 0s 16ms/step - loss: 8.0190 - mae: 8.0190\n",
      "Epoch 120/500\n",
      "2/2 [==============================] - 0s 12ms/step - loss: 29.5021 - mae: 29.5021\n",
      "Epoch 121/500\n",
      "2/2 [==============================] - 0s 12ms/step - loss: 8.0573 - mae: 8.0573\n",
      "Epoch 122/500\n",
      "2/2 [==============================] - 0s 12ms/step - loss: 28.1628 - mae: 28.1628\n",
      "Epoch 123/500\n",
      "2/2 [==============================] - 0s 12ms/step - loss: 32.7219 - mae: 32.7219\n",
      "Epoch 124/500\n",
      "2/2 [==============================] - 0s 12ms/step - loss: 19.4934 - mae: 19.4934\n",
      "Epoch 125/500\n",
      "2/2 [==============================] - 0s 12ms/step - loss: 9.5479 - mae: 9.5479\n",
      "Epoch 126/500\n",
      "2/2 [==============================] - 0s 12ms/step - loss: 9.6177 - mae: 9.6177\n",
      "Epoch 127/500\n",
      "2/2 [==============================] - 0s 12ms/step - loss: 12.8198 - mae: 12.8198\n",
      "Epoch 128/500\n",
      "2/2 [==============================] - 0s 16ms/step - loss: 13.3525 - mae: 13.3525\n",
      "Epoch 129/500\n",
      "2/2 [==============================] - 0s 12ms/step - loss: 10.1924 - mae: 10.1924\n",
      "Epoch 130/500\n",
      "2/2 [==============================] - 0s 12ms/step - loss: 17.5271 - mae: 17.5271\n",
      "Epoch 131/500\n",
      "2/2 [==============================] - 0s 12ms/step - loss: 9.5006 - mae: 9.5006\n",
      "Epoch 132/500\n",
      "2/2 [==============================] - 0s 10ms/step - loss: 17.4434 - mae: 17.4434\n",
      "Epoch 133/500\n",
      "2/2 [==============================] - 0s 12ms/step - loss: 7.0861 - mae: 7.0861\n",
      "Epoch 134/500\n",
      "2/2 [==============================] - 0s 8ms/step - loss: 23.8065 - mae: 23.8065\n",
      "Epoch 135/500\n",
      "2/2 [==============================] - 0s 8ms/step - loss: 16.6947 - mae: 16.6947\n",
      "Epoch 136/500\n",
      "2/2 [==============================] - 0s 12ms/step - loss: 14.9039 - mae: 14.9039\n",
      "Epoch 137/500\n",
      "2/2 [==============================] - 0s 12ms/step - loss: 23.2297 - mae: 23.2297\n",
      "Epoch 138/500\n",
      "2/2 [==============================] - 0s 12ms/step - loss: 9.1508 - mae: 9.1508\n",
      "Epoch 139/500\n",
      "2/2 [==============================] - 0s 12ms/step - loss: 8.9242 - mae: 8.9242\n",
      "Epoch 140/500\n",
      "2/2 [==============================] - 0s 12ms/step - loss: 16.5301 - mae: 16.5301\n",
      "Epoch 141/500\n",
      "2/2 [==============================] - 0s 16ms/step - loss: 8.4104 - mae: 8.4104\n",
      "Epoch 142/500\n",
      "2/2 [==============================] - 0s 12ms/step - loss: 37.0905 - mae: 37.0905\n",
      "Epoch 143/500\n",
      "2/2 [==============================] - 0s 12ms/step - loss: 25.6844 - mae: 25.6844\n",
      "Epoch 144/500\n",
      "2/2 [==============================] - 0s 12ms/step - loss: 9.5245 - mae: 9.5245\n",
      "Epoch 145/500\n",
      "2/2 [==============================] - 0s 12ms/step - loss: 26.5705 - mae: 26.5705\n",
      "Epoch 146/500\n",
      "2/2 [==============================] - 0s 12ms/step - loss: 8.7613 - mae: 8.7613\n",
      "Epoch 147/500\n",
      "2/2 [==============================] - 0s 12ms/step - loss: 15.5778 - mae: 15.5778\n",
      "Epoch 148/500\n",
      "2/2 [==============================] - 0s 12ms/step - loss: 18.2558 - mae: 18.2558\n",
      "Epoch 149/500\n",
      "2/2 [==============================] - 0s 12ms/step - loss: 8.2282 - mae: 8.2282\n",
      "Epoch 150/500\n",
      "2/2 [==============================] - 0s 12ms/step - loss: 7.4993 - mae: 7.4993\n",
      "Epoch 151/500\n",
      "2/2 [==============================] - 0s 12ms/step - loss: 18.4470 - mae: 18.4470\n",
      "Epoch 152/500\n",
      "2/2 [==============================] - 0s 12ms/step - loss: 10.3063 - mae: 10.3063\n",
      "Epoch 153/500\n",
      "2/2 [==============================] - 0s 12ms/step - loss: 29.8243 - mae: 29.8243\n",
      "Epoch 154/500\n",
      "2/2 [==============================] - 0s 8ms/step - loss: 10.5132 - mae: 10.5132\n",
      "Epoch 155/500\n",
      "2/2 [==============================] - 0s 12ms/step - loss: 15.4150 - mae: 15.4150\n",
      "Epoch 156/500\n",
      "2/2 [==============================] - 0s 12ms/step - loss: 16.9353 - mae: 16.9353\n",
      "Epoch 157/500\n",
      "2/2 [==============================] - 0s 8ms/step - loss: 33.0335 - mae: 33.0335\n",
      "Epoch 158/500\n",
      "2/2 [==============================] - 0s 12ms/step - loss: 10.7535 - mae: 10.7535\n",
      "Epoch 159/500\n",
      "2/2 [==============================] - 0s 12ms/step - loss: 8.9230 - mae: 8.9230\n",
      "Epoch 160/500\n",
      "2/2 [==============================] - 0s 12ms/step - loss: 22.2921 - mae: 22.2921\n",
      "Epoch 161/500\n",
      "2/2 [==============================] - 0s 12ms/step - loss: 11.7651 - mae: 11.7651\n",
      "Epoch 162/500\n",
      "2/2 [==============================] - 0s 12ms/step - loss: 21.7263 - mae: 21.7263\n",
      "Epoch 163/500\n",
      "2/2 [==============================] - 0s 8ms/step - loss: 19.3923 - mae: 19.3923\n",
      "Epoch 164/500\n",
      "2/2 [==============================] - 0s 8ms/step - loss: 11.3045 - mae: 11.3045\n",
      "Epoch 165/500\n",
      "2/2 [==============================] - 0s 8ms/step - loss: 11.6215 - mae: 11.6215\n",
      "Epoch 166/500\n",
      "2/2 [==============================] - 0s 8ms/step - loss: 21.3959 - mae: 21.3959\n",
      "Epoch 167/500\n",
      "2/2 [==============================] - 0s 12ms/step - loss: 26.7693 - mae: 26.7693\n",
      "Epoch 168/500\n",
      "2/2 [==============================] - 0s 8ms/step - loss: 9.9400 - mae: 9.9400\n",
      "Epoch 169/500\n",
      "2/2 [==============================] - 0s 12ms/step - loss: 23.0491 - mae: 23.0491\n",
      "Epoch 170/500\n",
      "2/2 [==============================] - 0s 12ms/step - loss: 10.0686 - mae: 10.0686\n",
      "Epoch 171/500\n"
     ]
    },
    {
     "name": "stdout",
     "output_type": "stream",
     "text": [
      "2/2 [==============================] - 0s 12ms/step - loss: 17.8362 - mae: 17.8362\n",
      "Epoch 172/500\n",
      "2/2 [==============================] - 0s 12ms/step - loss: 29.3430 - mae: 29.3430\n",
      "Epoch 173/500\n",
      "2/2 [==============================] - 0s 8ms/step - loss: 16.9255 - mae: 16.9255\n",
      "Epoch 174/500\n",
      "2/2 [==============================] - 0s 12ms/step - loss: 11.1644 - mae: 11.1644\n",
      "Epoch 175/500\n",
      "2/2 [==============================] - 0s 16ms/step - loss: 27.4534 - mae: 27.4534\n",
      "Epoch 176/500\n",
      "2/2 [==============================] - 0s 16ms/step - loss: 8.4045 - mae: 8.4045\n",
      "Epoch 177/500\n",
      "2/2 [==============================] - 0s 16ms/step - loss: 9.3599 - mae: 9.3599\n",
      "Epoch 178/500\n",
      "2/2 [==============================] - 0s 16ms/step - loss: 18.5668 - mae: 18.5668\n",
      "Epoch 179/500\n",
      "2/2 [==============================] - 0s 12ms/step - loss: 10.4065 - mae: 10.4065\n",
      "Epoch 180/500\n",
      "2/2 [==============================] - 0s 12ms/step - loss: 7.9668 - mae: 7.9668\n",
      "Epoch 181/500\n",
      "2/2 [==============================] - 0s 12ms/step - loss: 17.7616 - mae: 17.7616\n",
      "Epoch 182/500\n",
      "2/2 [==============================] - 0s 12ms/step - loss: 11.1667 - mae: 11.1667\n",
      "Epoch 183/500\n",
      "2/2 [==============================] - 0s 12ms/step - loss: 12.3940 - mae: 12.3940\n",
      "Epoch 184/500\n",
      "2/2 [==============================] - 0s 12ms/step - loss: 27.3919 - mae: 27.3919\n",
      "Epoch 185/500\n",
      "2/2 [==============================] - 0s 12ms/step - loss: 7.5377 - mae: 7.5377\n",
      "Epoch 186/500\n",
      "2/2 [==============================] - 0s 8ms/step - loss: 15.9268 - mae: 15.9268\n",
      "Epoch 187/500\n",
      "2/2 [==============================] - 0s 8ms/step - loss: 8.5726 - mae: 8.5726\n",
      "Epoch 188/500\n",
      "2/2 [==============================] - 0s 8ms/step - loss: 28.9289 - mae: 28.9289\n",
      "Epoch 189/500\n",
      "2/2 [==============================] - 0s 8ms/step - loss: 13.1264 - mae: 13.1264\n",
      "Epoch 190/500\n",
      "2/2 [==============================] - 0s 16ms/step - loss: 18.2627 - mae: 18.2627\n",
      "Epoch 191/500\n",
      "2/2 [==============================] - 0s 12ms/step - loss: 13.6819 - mae: 13.6819\n",
      "Epoch 192/500\n",
      "2/2 [==============================] - 0s 12ms/step - loss: 13.6866 - mae: 13.6866\n",
      "Epoch 193/500\n",
      "2/2 [==============================] - 0s 12ms/step - loss: 28.5379 - mae: 28.5379\n",
      "Epoch 194/500\n",
      "2/2 [==============================] - 0s 8ms/step - loss: 7.1180 - mae: 7.1180\n",
      "Epoch 195/500\n",
      "2/2 [==============================] - 0s 8ms/step - loss: 7.0478 - mae: 7.0478\n",
      "Epoch 196/500\n",
      "2/2 [==============================] - 0s 8ms/step - loss: 21.9346 - mae: 21.9346\n",
      "Epoch 197/500\n",
      "2/2 [==============================] - 0s 8ms/step - loss: 20.9925 - mae: 20.9925\n",
      "Epoch 198/500\n",
      "2/2 [==============================] - 0s 12ms/step - loss: 12.5562 - mae: 12.5562\n",
      "Epoch 199/500\n",
      "2/2 [==============================] - 0s 8ms/step - loss: 18.0383 - mae: 18.0383\n",
      "Epoch 200/500\n",
      "2/2 [==============================] - 0s 12ms/step - loss: 13.8685 - mae: 13.8685\n",
      "Epoch 201/500\n",
      "2/2 [==============================] - 0s 8ms/step - loss: 6.0257 - mae: 6.0257\n",
      "Epoch 202/500\n",
      "2/2 [==============================] - 0s 8ms/step - loss: 22.9107 - mae: 22.9107\n",
      "Epoch 203/500\n",
      "2/2 [==============================] - 0s 8ms/step - loss: 8.9520 - mae: 8.9520\n",
      "Epoch 204/500\n",
      "2/2 [==============================] - 0s 12ms/step - loss: 18.8835 - mae: 18.8835\n",
      "Epoch 205/500\n",
      "2/2 [==============================] - 0s 12ms/step - loss: 9.3665 - mae: 9.3665\n",
      "Epoch 206/500\n",
      "2/2 [==============================] - 0s 8ms/step - loss: 10.4325 - mae: 10.4325\n",
      "Epoch 207/500\n",
      "2/2 [==============================] - 0s 12ms/step - loss: 21.1779 - mae: 21.1779\n",
      "Epoch 208/500\n",
      "2/2 [==============================] - 0s 12ms/step - loss: 16.5172 - mae: 16.5172\n",
      "Epoch 209/500\n",
      "2/2 [==============================] - 0s 12ms/step - loss: 14.4225 - mae: 14.4225\n",
      "Epoch 210/500\n",
      "2/2 [==============================] - 0s 12ms/step - loss: 19.4563 - mae: 19.4563\n",
      "Epoch 211/500\n",
      "2/2 [==============================] - 0s 12ms/step - loss: 10.3168 - mae: 10.3168\n",
      "Epoch 212/500\n",
      "2/2 [==============================] - 0s 12ms/step - loss: 20.2684 - mae: 20.2684\n",
      "Epoch 213/500\n",
      "2/2 [==============================] - 0s 12ms/step - loss: 15.0330 - mae: 15.0330\n",
      "Epoch 214/500\n",
      "2/2 [==============================] - 0s 12ms/step - loss: 14.5840 - mae: 14.5840\n",
      "Epoch 215/500\n",
      "2/2 [==============================] - 0s 12ms/step - loss: 23.2928 - mae: 23.2928\n",
      "Epoch 216/500\n",
      "2/2 [==============================] - 0s 12ms/step - loss: 13.3764 - mae: 13.3764\n",
      "Epoch 217/500\n",
      "2/2 [==============================] - 0s 12ms/step - loss: 9.8672 - mae: 9.8672\n",
      "Epoch 218/500\n",
      "2/2 [==============================] - 0s 12ms/step - loss: 12.5376 - mae: 12.5376\n",
      "Epoch 219/500\n",
      "2/2 [==============================] - 0s 12ms/step - loss: 4.9519 - mae: 4.9519\n",
      "Epoch 220/500\n",
      "2/2 [==============================] - 0s 8ms/step - loss: 13.2659 - mae: 13.2659\n",
      "Epoch 221/500\n",
      "2/2 [==============================] - 0s 12ms/step - loss: 31.8315 - mae: 31.8315\n",
      "Epoch 222/500\n",
      "2/2 [==============================] - 0s 12ms/step - loss: 9.1766 - mae: 9.1766\n",
      "Epoch 223/500\n",
      "2/2 [==============================] - 0s 12ms/step - loss: 9.9218 - mae: 9.9218\n",
      "Epoch 224/500\n",
      "2/2 [==============================] - 0s 12ms/step - loss: 14.4600 - mae: 14.4600\n",
      "Epoch 225/500\n",
      "2/2 [==============================] - 0s 12ms/step - loss: 16.4524 - mae: 16.4524\n",
      "Epoch 226/500\n",
      "2/2 [==============================] - 0s 8ms/step - loss: 15.6054 - mae: 15.6054\n",
      "Epoch 227/500\n",
      "2/2 [==============================] - 0s 8ms/step - loss: 16.0683 - mae: 16.0683\n",
      "Epoch 228/500\n",
      "2/2 [==============================] - 0s 8ms/step - loss: 13.8486 - mae: 13.8486\n",
      "Epoch 229/500\n",
      "2/2 [==============================] - 0s 12ms/step - loss: 17.9506 - mae: 17.9506\n",
      "Epoch 230/500\n",
      "2/2 [==============================] - 0s 12ms/step - loss: 15.5365 - mae: 15.5365\n",
      "Epoch 231/500\n",
      "2/2 [==============================] - 0s 12ms/step - loss: 21.0534 - mae: 21.0534\n",
      "Epoch 232/500\n",
      "2/2 [==============================] - 0s 12ms/step - loss: 25.6168 - mae: 25.6168\n",
      "Epoch 233/500\n",
      "2/2 [==============================] - 0s 12ms/step - loss: 16.5826 - mae: 16.5826\n",
      "Epoch 234/500\n",
      "2/2 [==============================] - 0s 12ms/step - loss: 7.3338 - mae: 7.3338\n",
      "Epoch 235/500\n",
      "2/2 [==============================] - 0s 8ms/step - loss: 17.2369 - mae: 17.2369\n",
      "Epoch 236/500\n",
      "2/2 [==============================] - 0s 12ms/step - loss: 7.2128 - mae: 7.2128\n",
      "Epoch 237/500\n",
      "2/2 [==============================] - 0s 12ms/step - loss: 9.3349 - mae: 9.3349\n",
      "Epoch 238/500\n",
      "2/2 [==============================] - 0s 12ms/step - loss: 8.1649 - mae: 8.1649\n",
      "Epoch 239/500\n",
      "2/2 [==============================] - 0s 12ms/step - loss: 17.3377 - mae: 17.3377\n",
      "Epoch 240/500\n",
      "2/2 [==============================] - 0s 12ms/step - loss: 8.9697 - mae: 8.9697\n",
      "Epoch 241/500\n",
      "2/2 [==============================] - 0s 12ms/step - loss: 13.3781 - mae: 13.3781\n",
      "Epoch 242/500\n",
      "2/2 [==============================] - 0s 8ms/step - loss: 8.8676 - mae: 8.8676\n",
      "Epoch 243/500\n",
      "2/2 [==============================] - 0s 8ms/step - loss: 19.2573 - mae: 19.2573\n",
      "Epoch 244/500\n",
      "2/2 [==============================] - 0s 12ms/step - loss: 13.8934 - mae: 13.8934\n",
      "Epoch 245/500\n",
      "2/2 [==============================] - 0s 12ms/step - loss: 14.5423 - mae: 14.5423\n",
      "Epoch 246/500\n",
      "2/2 [==============================] - 0s 12ms/step - loss: 15.6768 - mae: 15.6768\n",
      "Epoch 247/500\n",
      "2/2 [==============================] - 0s 12ms/step - loss: 17.5118 - mae: 17.5118\n",
      "Epoch 248/500\n",
      "2/2 [==============================] - 0s 12ms/step - loss: 13.0778 - mae: 13.0778\n",
      "Epoch 249/500\n",
      "2/2 [==============================] - 0s 12ms/step - loss: 14.4195 - mae: 14.4195\n",
      "Epoch 250/500\n",
      "2/2 [==============================] - 0s 16ms/step - loss: 27.8193 - mae: 27.8193\n",
      "Epoch 251/500\n",
      "2/2 [==============================] - 0s 16ms/step - loss: 7.4880 - mae: 7.4880\n",
      "Epoch 252/500\n",
      "2/2 [==============================] - 0s 12ms/step - loss: 38.2048 - mae: 38.2048\n",
      "Epoch 253/500\n",
      "2/2 [==============================] - 0s 8ms/step - loss: 23.1033 - mae: 23.1033\n",
      "Epoch 254/500\n",
      "2/2 [==============================] - 0s 12ms/step - loss: 7.2761 - mae: 7.2761\n",
      "Epoch 255/500\n",
      "2/2 [==============================] - 0s 16ms/step - loss: 24.6193 - mae: 24.6193\n",
      "Epoch 256/500\n"
     ]
    },
    {
     "name": "stdout",
     "output_type": "stream",
     "text": [
      "2/2 [==============================] - 0s 8ms/step - loss: 12.3790 - mae: 12.3790\n",
      "Epoch 257/500\n",
      "2/2 [==============================] - 0s 8ms/step - loss: 10.5511 - mae: 10.5511\n",
      "Epoch 258/500\n",
      "2/2 [==============================] - 0s 16ms/step - loss: 14.1854 - mae: 14.1854\n",
      "Epoch 259/500\n",
      "2/2 [==============================] - 0s 16ms/step - loss: 11.2425 - mae: 11.2425\n",
      "Epoch 260/500\n",
      "2/2 [==============================] - 0s 16ms/step - loss: 31.6238 - mae: 31.6238\n",
      "Epoch 261/500\n",
      "2/2 [==============================] - 0s 16ms/step - loss: 11.1584 - mae: 11.1584\n",
      "Epoch 262/500\n",
      "2/2 [==============================] - 0s 16ms/step - loss: 10.0163 - mae: 10.0163\n",
      "Epoch 263/500\n",
      "2/2 [==============================] - 0s 12ms/step - loss: 8.9311 - mae: 8.9311\n",
      "Epoch 264/500\n",
      "2/2 [==============================] - 0s 16ms/step - loss: 21.5314 - mae: 21.5314\n",
      "Epoch 265/500\n",
      "2/2 [==============================] - 0s 16ms/step - loss: 11.4248 - mae: 11.4248\n",
      "Epoch 266/500\n",
      "2/2 [==============================] - 0s 16ms/step - loss: 13.2562 - mae: 13.2562\n",
      "Epoch 267/500\n",
      "2/2 [==============================] - 0s 16ms/step - loss: 11.0577 - mae: 11.0577\n",
      "Epoch 268/500\n",
      "2/2 [==============================] - 0s 16ms/step - loss: 21.7062 - mae: 21.7062\n",
      "Epoch 269/500\n",
      "2/2 [==============================] - 0s 16ms/step - loss: 32.9488 - mae: 32.9488\n",
      "Epoch 270/500\n",
      "2/2 [==============================] - 0s 12ms/step - loss: 9.7310 - mae: 9.7310\n",
      "Epoch 271/500\n",
      "2/2 [==============================] - 0s 12ms/step - loss: 7.7011 - mae: 7.7011\n",
      "Epoch 272/500\n",
      "2/2 [==============================] - 0s 12ms/step - loss: 28.4964 - mae: 28.4964\n",
      "Epoch 273/500\n",
      "2/2 [==============================] - 0s 16ms/step - loss: 7.3788 - mae: 7.3788\n",
      "Epoch 274/500\n",
      "2/2 [==============================] - 0s 12ms/step - loss: 6.3154 - mae: 6.3154\n",
      "Epoch 275/500\n",
      "2/2 [==============================] - 0s 12ms/step - loss: 37.2259 - mae: 37.2259\n",
      "Epoch 276/500\n",
      "2/2 [==============================] - 0s 12ms/step - loss: 8.2777 - mae: 8.2777\n",
      "Epoch 277/500\n",
      "2/2 [==============================] - 0s 12ms/step - loss: 28.0049 - mae: 28.0049\n",
      "Epoch 278/500\n",
      "2/2 [==============================] - 0s 12ms/step - loss: 10.5955 - mae: 10.5955\n",
      "Epoch 279/500\n",
      "2/2 [==============================] - 0s 12ms/step - loss: 16.0442 - mae: 16.0442\n",
      "Epoch 280/500\n",
      "2/2 [==============================] - 0s 12ms/step - loss: 21.1086 - mae: 21.1086\n",
      "Epoch 281/500\n",
      "2/2 [==============================] - 0s 12ms/step - loss: 24.1059 - mae: 24.1059\n",
      "Epoch 282/500\n",
      "2/2 [==============================] - 0s 12ms/step - loss: 8.3131 - mae: 8.3131\n",
      "Epoch 283/500\n",
      "2/2 [==============================] - 0s 12ms/step - loss: 9.0537 - mae: 9.0537\n",
      "Epoch 284/500\n",
      "2/2 [==============================] - 0s 12ms/step - loss: 23.0485 - mae: 23.0485\n",
      "Epoch 285/500\n",
      "2/2 [==============================] - 0s 12ms/step - loss: 12.0931 - mae: 12.0931\n",
      "Epoch 286/500\n",
      "2/2 [==============================] - 0s 12ms/step - loss: 6.8728 - mae: 6.8728\n",
      "Epoch 287/500\n",
      "2/2 [==============================] - 0s 8ms/step - loss: 24.3766 - mae: 24.3766\n",
      "Epoch 288/500\n",
      "2/2 [==============================] - 0s 12ms/step - loss: 20.6239 - mae: 20.6239\n",
      "Epoch 289/500\n",
      "2/2 [==============================] - 0s 12ms/step - loss: 11.8303 - mae: 11.8303\n",
      "Epoch 290/500\n",
      "2/2 [==============================] - 0s 12ms/step - loss: 16.4124 - mae: 16.4124\n",
      "Epoch 291/500\n",
      "2/2 [==============================] - 0s 12ms/step - loss: 16.6337 - mae: 16.6337\n",
      "Epoch 292/500\n",
      "2/2 [==============================] - 0s 8ms/step - loss: 8.1170 - mae: 8.1170\n",
      "Epoch 293/500\n",
      "2/2 [==============================] - 0s 12ms/step - loss: 16.0980 - mae: 16.0980\n",
      "Epoch 294/500\n",
      "2/2 [==============================] - 0s 12ms/step - loss: 24.4104 - mae: 24.4104\n",
      "Epoch 295/500\n",
      "2/2 [==============================] - 0s 8ms/step - loss: 13.8606 - mae: 13.8606\n",
      "Epoch 296/500\n",
      "2/2 [==============================] - 0s 12ms/step - loss: 6.1042 - mae: 6.1042\n",
      "Epoch 297/500\n",
      "2/2 [==============================] - 0s 12ms/step - loss: 10.9453 - mae: 10.9453\n",
      "Epoch 298/500\n",
      "2/2 [==============================] - 0s 12ms/step - loss: 23.1830 - mae: 23.1830\n",
      "Epoch 299/500\n",
      "2/2 [==============================] - 0s 12ms/step - loss: 17.6728 - mae: 17.6728\n",
      "Epoch 300/500\n",
      "2/2 [==============================] - 0s 12ms/step - loss: 6.9404 - mae: 6.9404\n",
      "Epoch 301/500\n",
      "2/2 [==============================] - 0s 8ms/step - loss: 25.1110 - mae: 25.1110\n",
      "Epoch 302/500\n",
      "2/2 [==============================] - 0s 8ms/step - loss: 8.8588 - mae: 8.8588\n",
      "Epoch 303/500\n",
      "2/2 [==============================] - 0s 12ms/step - loss: 17.7244 - mae: 17.7244\n",
      "Epoch 304/500\n",
      "2/2 [==============================] - 0s 12ms/step - loss: 10.9492 - mae: 10.9492\n",
      "Epoch 305/500\n",
      "2/2 [==============================] - 0s 12ms/step - loss: 12.8930 - mae: 12.8930\n",
      "Epoch 306/500\n",
      "2/2 [==============================] - 0s 8ms/step - loss: 8.3671 - mae: 8.3671\n",
      "Epoch 307/500\n",
      "2/2 [==============================] - 0s 12ms/step - loss: 13.5923 - mae: 13.5923\n",
      "Epoch 308/500\n",
      "2/2 [==============================] - 0s 12ms/step - loss: 7.4117 - mae: 7.4117\n",
      "Epoch 309/500\n",
      "2/2 [==============================] - 0s 8ms/step - loss: 9.4470 - mae: 9.4470\n",
      "Epoch 310/500\n",
      "2/2 [==============================] - 0s 12ms/step - loss: 10.7178 - mae: 10.7178\n",
      "Epoch 311/500\n",
      "2/2 [==============================] - 0s 12ms/step - loss: 13.2633 - mae: 13.2633\n",
      "Epoch 312/500\n",
      "2/2 [==============================] - 0s 12ms/step - loss: 29.9644 - mae: 29.9644\n",
      "Epoch 313/500\n",
      "2/2 [==============================] - 0s 8ms/step - loss: 7.6215 - mae: 7.6215\n",
      "Epoch 314/500\n",
      "2/2 [==============================] - 0s 8ms/step - loss: 9.8866 - mae: 9.8866\n",
      "Epoch 315/500\n",
      "2/2 [==============================] - 0s 12ms/step - loss: 23.7347 - mae: 23.7347\n",
      "Epoch 316/500\n",
      "2/2 [==============================] - 0s 12ms/step - loss: 16.4526 - mae: 16.4526\n",
      "Epoch 317/500\n",
      "2/2 [==============================] - 0s 12ms/step - loss: 21.1450 - mae: 21.1450\n",
      "Epoch 318/500\n",
      "2/2 [==============================] - 0s 12ms/step - loss: 7.9296 - mae: 7.9296\n",
      "Epoch 319/500\n",
      "2/2 [==============================] - 0s 12ms/step - loss: 18.0471 - mae: 18.0471\n",
      "Epoch 320/500\n",
      "2/2 [==============================] - 0s 12ms/step - loss: 10.5768 - mae: 10.5768\n",
      "Epoch 321/500\n",
      "2/2 [==============================] - 0s 8ms/step - loss: 6.9576 - mae: 6.9576\n",
      "Epoch 322/500\n",
      "2/2 [==============================] - 0s 8ms/step - loss: 8.6511 - mae: 8.6511\n",
      "Epoch 323/500\n",
      "2/2 [==============================] - 0s 8ms/step - loss: 18.3254 - mae: 18.3254\n",
      "Epoch 324/500\n",
      "2/2 [==============================] - 0s 12ms/step - loss: 6.2594 - mae: 6.2594\n",
      "Epoch 325/500\n",
      "2/2 [==============================] - 0s 12ms/step - loss: 14.6110 - mae: 14.6110\n",
      "Epoch 326/500\n",
      "2/2 [==============================] - 0s 12ms/step - loss: 6.9483 - mae: 6.9483\n",
      "Epoch 327/500\n",
      "2/2 [==============================] - 0s 12ms/step - loss: 17.6752 - mae: 17.6752\n",
      "Epoch 328/500\n",
      "2/2 [==============================] - 0s 8ms/step - loss: 14.3507 - mae: 14.3507\n",
      "Epoch 329/500\n",
      "2/2 [==============================] - 0s 12ms/step - loss: 17.6427 - mae: 17.6427\n",
      "Epoch 330/500\n",
      "2/2 [==============================] - 0s 12ms/step - loss: 6.7441 - mae: 6.7441\n",
      "Epoch 331/500\n",
      "2/2 [==============================] - 0s 16ms/step - loss: 19.8559 - mae: 19.8559\n",
      "Epoch 332/500\n",
      "2/2 [==============================] - 0s 12ms/step - loss: 10.5527 - mae: 10.5527\n",
      "Epoch 333/500\n",
      "2/2 [==============================] - 0s 12ms/step - loss: 16.5633 - mae: 16.5633\n",
      "Epoch 334/500\n",
      "2/2 [==============================] - 0s 12ms/step - loss: 10.4996 - mae: 10.4996\n",
      "Epoch 335/500\n",
      "2/2 [==============================] - 0s 8ms/step - loss: 13.0736 - mae: 13.0736\n",
      "Epoch 336/500\n",
      "2/2 [==============================] - 0s 8ms/step - loss: 32.5785 - mae: 32.5785\n",
      "Epoch 337/500\n",
      "2/2 [==============================] - 0s 8ms/step - loss: 11.1345 - mae: 11.1345\n",
      "Epoch 338/500\n",
      "2/2 [==============================] - 0s 8ms/step - loss: 20.1635 - mae: 20.1635\n",
      "Epoch 339/500\n",
      "2/2 [==============================] - 0s 12ms/step - loss: 33.7203 - mae: 33.7203\n",
      "Epoch 340/500\n",
      "2/2 [==============================] - 0s 12ms/step - loss: 8.5506 - mae: 8.5506\n",
      "Epoch 341/500\n"
     ]
    },
    {
     "name": "stdout",
     "output_type": "stream",
     "text": [
      "2/2 [==============================] - 0s 12ms/step - loss: 21.4862 - mae: 21.4862\n",
      "Epoch 342/500\n",
      "2/2 [==============================] - 0s 16ms/step - loss: 14.0793 - mae: 14.0793\n",
      "Epoch 343/500\n",
      "2/2 [==============================] - 0s 12ms/step - loss: 11.6131 - mae: 11.6131\n",
      "Epoch 344/500\n",
      "2/2 [==============================] - 0s 16ms/step - loss: 10.6472 - mae: 10.6472\n",
      "Epoch 345/500\n",
      "2/2 [==============================] - 0s 8ms/step - loss: 30.8584 - mae: 30.8584\n",
      "Epoch 346/500\n",
      "2/2 [==============================] - 0s 8ms/step - loss: 10.5969 - mae: 10.5969\n",
      "Epoch 347/500\n",
      "2/2 [==============================] - 0s 12ms/step - loss: 25.4900 - mae: 25.4900\n",
      "Epoch 348/500\n",
      "2/2 [==============================] - 0s 12ms/step - loss: 13.4417 - mae: 13.4417\n",
      "Epoch 349/500\n",
      "2/2 [==============================] - 0s 12ms/step - loss: 12.9539 - mae: 12.9539\n",
      "Epoch 350/500\n",
      "2/2 [==============================] - 0s 12ms/step - loss: 15.3601 - mae: 15.3601\n",
      "Epoch 351/500\n",
      "2/2 [==============================] - 0s 12ms/step - loss: 32.8320 - mae: 32.8320\n",
      "Epoch 352/500\n",
      "2/2 [==============================] - 0s 12ms/step - loss: 14.0127 - mae: 14.0127\n",
      "Epoch 353/500\n",
      "2/2 [==============================] - 0s 12ms/step - loss: 17.6841 - mae: 17.6841\n",
      "Epoch 354/500\n",
      "2/2 [==============================] - 0s 12ms/step - loss: 11.2994 - mae: 11.2994\n",
      "Epoch 355/500\n",
      "2/2 [==============================] - 0s 12ms/step - loss: 26.6833 - mae: 26.6833\n",
      "Epoch 356/500\n",
      "2/2 [==============================] - 0s 12ms/step - loss: 10.2603 - mae: 10.2603\n",
      "Epoch 357/500\n",
      "2/2 [==============================] - 0s 12ms/step - loss: 14.8997 - mae: 14.8997\n",
      "Epoch 358/500\n",
      "2/2 [==============================] - 0s 8ms/step - loss: 14.8050 - mae: 14.8050\n",
      "Epoch 359/500\n",
      "2/2 [==============================] - 0s 8ms/step - loss: 12.2627 - mae: 12.2627\n",
      "Epoch 360/500\n",
      "2/2 [==============================] - 0s 16ms/step - loss: 20.2375 - mae: 20.2375\n",
      "Epoch 361/500\n",
      "2/2 [==============================] - 0s 8ms/step - loss: 11.0503 - mae: 11.0503\n",
      "Epoch 362/500\n",
      "2/2 [==============================] - 0s 8ms/step - loss: 6.8010 - mae: 6.8010\n",
      "Epoch 363/500\n",
      "2/2 [==============================] - 0s 12ms/step - loss: 24.0778 - mae: 24.0778\n",
      "Epoch 364/500\n",
      "2/2 [==============================] - 0s 12ms/step - loss: 29.8663 - mae: 29.8663\n",
      "Epoch 365/500\n",
      "2/2 [==============================] - 0s 12ms/step - loss: 8.3625 - mae: 8.3625\n",
      "Epoch 366/500\n",
      "2/2 [==============================] - 0s 12ms/step - loss: 6.0683 - mae: 6.0683\n",
      "Epoch 367/500\n",
      "2/2 [==============================] - 0s 12ms/step - loss: 35.0768 - mae: 35.0768\n",
      "Epoch 368/500\n",
      "2/2 [==============================] - 0s 12ms/step - loss: 7.4158 - mae: 7.4158\n",
      "Epoch 369/500\n",
      "2/2 [==============================] - 0s 12ms/step - loss: 9.6571 - mae: 9.6571\n",
      "Epoch 370/500\n",
      "2/2 [==============================] - 0s 8ms/step - loss: 7.7661 - mae: 7.7661\n",
      "Epoch 371/500\n",
      "2/2 [==============================] - 0s 12ms/step - loss: 20.0398 - mae: 20.0398\n",
      "Epoch 372/500\n",
      "2/2 [==============================] - 0s 12ms/step - loss: 12.5202 - mae: 12.5202\n",
      "Epoch 373/500\n",
      "2/2 [==============================] - 0s 12ms/step - loss: 26.4326 - mae: 26.4326\n",
      "Epoch 374/500\n",
      "2/2 [==============================] - 0s 12ms/step - loss: 9.2254 - mae: 9.2254\n",
      "Epoch 375/500\n",
      "2/2 [==============================] - 0s 12ms/step - loss: 4.8661 - mae: 4.8661\n",
      "Epoch 376/500\n",
      "2/2 [==============================] - 0s 12ms/step - loss: 17.6144 - mae: 17.6144\n",
      "Epoch 377/500\n",
      "2/2 [==============================] - 0s 12ms/step - loss: 14.2548 - mae: 14.2548\n",
      "Epoch 378/500\n",
      "2/2 [==============================] - 0s 8ms/step - loss: 15.9047 - mae: 15.9047\n",
      "Epoch 379/500\n",
      "2/2 [==============================] - 0s 12ms/step - loss: 19.9749 - mae: 19.9749\n",
      "Epoch 380/500\n",
      "2/2 [==============================] - 0s 8ms/step - loss: 36.2375 - mae: 36.2375\n",
      "Epoch 381/500\n",
      "2/2 [==============================] - 0s 8ms/step - loss: 9.9907 - mae: 9.9907\n",
      "Epoch 382/500\n",
      "2/2 [==============================] - 0s 8ms/step - loss: 5.7604 - mae: 5.7604\n",
      "Epoch 383/500\n",
      "2/2 [==============================] - 0s 12ms/step - loss: 14.4282 - mae: 14.4282\n",
      "Epoch 384/500\n",
      "2/2 [==============================] - 0s 12ms/step - loss: 16.2974 - mae: 16.2974\n",
      "Epoch 385/500\n",
      "2/2 [==============================] - 0s 12ms/step - loss: 11.7615 - mae: 11.7615\n",
      "Epoch 386/500\n",
      "2/2 [==============================] - 0s 12ms/step - loss: 20.2608 - mae: 20.2608\n",
      "Epoch 387/500\n",
      "2/2 [==============================] - 0s 12ms/step - loss: 23.6548 - mae: 23.6548\n",
      "Epoch 388/500\n",
      "2/2 [==============================] - 0s 12ms/step - loss: 7.4033 - mae: 7.4033\n",
      "Epoch 389/500\n",
      "2/2 [==============================] - 0s 12ms/step - loss: 13.7266 - mae: 13.7266\n",
      "Epoch 390/500\n",
      "2/2 [==============================] - 0s 12ms/step - loss: 6.8379 - mae: 6.8379\n",
      "Epoch 391/500\n",
      "2/2 [==============================] - 0s 8ms/step - loss: 16.4706 - mae: 16.4706\n",
      "Epoch 392/500\n",
      "2/2 [==============================] - 0s 12ms/step - loss: 14.8092 - mae: 14.8092\n",
      "Epoch 393/500\n",
      "2/2 [==============================] - 0s 12ms/step - loss: 12.2997 - mae: 12.2997\n",
      "Epoch 394/500\n",
      "2/2 [==============================] - 0s 16ms/step - loss: 14.1790 - mae: 14.1790\n",
      "Epoch 395/500\n",
      "2/2 [==============================] - 0s 12ms/step - loss: 28.6545 - mae: 28.6545\n",
      "Epoch 396/500\n",
      "2/2 [==============================] - 0s 16ms/step - loss: 8.1799 - mae: 8.1799\n",
      "Epoch 397/500\n",
      "2/2 [==============================] - 0s 12ms/step - loss: 10.5601 - mae: 10.5601\n",
      "Epoch 398/500\n",
      "2/2 [==============================] - 0s 12ms/step - loss: 7.3593 - mae: 7.3593\n",
      "Epoch 399/500\n",
      "2/2 [==============================] - 0s 12ms/step - loss: 15.7301 - mae: 15.7301\n",
      "Epoch 400/500\n",
      "2/2 [==============================] - 0s 12ms/step - loss: 6.7223 - mae: 6.7223\n",
      "Epoch 401/500\n",
      "2/2 [==============================] - 0s 12ms/step - loss: 8.4413 - mae: 8.4413\n",
      "Epoch 402/500\n",
      "2/2 [==============================] - 0s 12ms/step - loss: 14.9946 - mae: 14.9946\n",
      "Epoch 403/500\n",
      "2/2 [==============================] - 0s 12ms/step - loss: 12.2932 - mae: 12.2932\n",
      "Epoch 404/500\n",
      "2/2 [==============================] - 0s 12ms/step - loss: 22.8387 - mae: 22.8387\n",
      "Epoch 405/500\n",
      "2/2 [==============================] - 0s 12ms/step - loss: 18.2927 - mae: 18.2927\n",
      "Epoch 406/500\n",
      "2/2 [==============================] - 0s 12ms/step - loss: 7.0728 - mae: 7.0728\n",
      "Epoch 407/500\n",
      "2/2 [==============================] - 0s 8ms/step - loss: 12.7803 - mae: 12.7803\n",
      "Epoch 408/500\n",
      "2/2 [==============================] - 0s 8ms/step - loss: 5.6380 - mae: 5.6380\n",
      "Epoch 409/500\n",
      "2/2 [==============================] - 0s 12ms/step - loss: 31.5620 - mae: 31.5620\n",
      "Epoch 410/500\n",
      "2/2 [==============================] - 0s 12ms/step - loss: 9.1577 - mae: 9.1577\n",
      "Epoch 411/500\n",
      "2/2 [==============================] - 0s 12ms/step - loss: 14.8014 - mae: 14.8014\n",
      "Epoch 412/500\n",
      "2/2 [==============================] - 0s 12ms/step - loss: 21.6414 - mae: 21.6414\n",
      "Epoch 413/500\n",
      "2/2 [==============================] - 0s 12ms/step - loss: 12.9445 - mae: 12.9445\n",
      "Epoch 414/500\n",
      "2/2 [==============================] - 0s 12ms/step - loss: 8.3180 - mae: 8.3180\n",
      "Epoch 415/500\n",
      "2/2 [==============================] - 0s 12ms/step - loss: 11.7184 - mae: 11.7184\n",
      "Epoch 416/500\n",
      "2/2 [==============================] - 0s 12ms/step - loss: 25.6863 - mae: 25.6863\n",
      "Epoch 417/500\n",
      "2/2 [==============================] - 0s 12ms/step - loss: 15.5694 - mae: 15.5694\n",
      "Epoch 418/500\n",
      "2/2 [==============================] - 0s 12ms/step - loss: 12.6210 - mae: 12.6210\n",
      "Epoch 419/500\n",
      "2/2 [==============================] - 0s 8ms/step - loss: 15.7395 - mae: 15.7395\n",
      "Epoch 420/500\n",
      "2/2 [==============================] - 0s 12ms/step - loss: 24.4827 - mae: 24.4827\n",
      "Epoch 421/500\n",
      "2/2 [==============================] - 0s 12ms/step - loss: 18.1325 - mae: 18.1325\n",
      "Epoch 422/500\n",
      "2/2 [==============================] - 0s 12ms/step - loss: 8.6197 - mae: 8.6197\n",
      "Epoch 423/500\n",
      "2/2 [==============================] - 0s 12ms/step - loss: 24.6750 - mae: 24.6750\n",
      "Epoch 424/500\n",
      "2/2 [==============================] - 0s 8ms/step - loss: 16.7946 - mae: 16.7946\n",
      "Epoch 425/500\n",
      "2/2 [==============================] - 0s 12ms/step - loss: 7.2584 - mae: 7.2584\n",
      "Epoch 426/500\n"
     ]
    },
    {
     "name": "stdout",
     "output_type": "stream",
     "text": [
      "2/2 [==============================] - 0s 12ms/step - loss: 20.9762 - mae: 20.9762\n",
      "Epoch 427/500\n",
      "2/2 [==============================] - 0s 12ms/step - loss: 6.4470 - mae: 6.4470\n",
      "Epoch 428/500\n",
      "2/2 [==============================] - 0s 12ms/step - loss: 13.4591 - mae: 13.4591\n",
      "Epoch 429/500\n",
      "2/2 [==============================] - 0s 12ms/step - loss: 11.4443 - mae: 11.4443\n",
      "Epoch 430/500\n",
      "2/2 [==============================] - 0s 12ms/step - loss: 10.2144 - mae: 10.2144\n",
      "Epoch 431/500\n",
      "2/2 [==============================] - 0s 12ms/step - loss: 11.4888 - mae: 11.4888\n",
      "Epoch 432/500\n",
      "2/2 [==============================] - 0s 12ms/step - loss: 9.9109 - mae: 9.9109\n",
      "Epoch 433/500\n",
      "2/2 [==============================] - 0s 12ms/step - loss: 3.8057 - mae: 3.8057\n",
      "Epoch 434/500\n",
      "2/2 [==============================] - 0s 12ms/step - loss: 28.3258 - mae: 28.3258\n",
      "Epoch 435/500\n",
      "2/2 [==============================] - 0s 12ms/step - loss: 5.3299 - mae: 5.3299\n",
      "Epoch 436/500\n",
      "2/2 [==============================] - 0s 12ms/step - loss: 41.4397 - mae: 41.4397\n",
      "Epoch 437/500\n",
      "2/2 [==============================] - 0s 12ms/step - loss: 5.1384 - mae: 5.1384\n",
      "Epoch 438/500\n",
      "2/2 [==============================] - 0s 12ms/step - loss: 13.8606 - mae: 13.8606\n",
      "Epoch 439/500\n",
      "2/2 [==============================] - 0s 12ms/step - loss: 31.8647 - mae: 31.8647\n",
      "Epoch 440/500\n",
      "2/2 [==============================] - 0s 12ms/step - loss: 12.2299 - mae: 12.2299\n",
      "Epoch 441/500\n",
      "2/2 [==============================] - 0s 12ms/step - loss: 15.6136 - mae: 15.6136\n",
      "Epoch 442/500\n",
      "2/2 [==============================] - 0s 8ms/step - loss: 23.3899 - mae: 23.3899\n",
      "Epoch 443/500\n",
      "2/2 [==============================] - 0s 12ms/step - loss: 20.9708 - mae: 20.9708\n",
      "Epoch 444/500\n",
      "2/2 [==============================] - 0s 12ms/step - loss: 8.7016 - mae: 8.7016\n",
      "Epoch 445/500\n",
      "2/2 [==============================] - 0s 12ms/step - loss: 14.0337 - mae: 14.0337\n",
      "Epoch 446/500\n",
      "2/2 [==============================] - 0s 8ms/step - loss: 16.7165 - mae: 16.7165\n",
      "Epoch 447/500\n",
      "2/2 [==============================] - 0s 8ms/step - loss: 6.7160 - mae: 6.7160\n",
      "Epoch 448/500\n",
      "2/2 [==============================] - 0s 12ms/step - loss: 6.6640 - mae: 6.6640\n",
      "Epoch 449/500\n",
      "2/2 [==============================] - 0s 12ms/step - loss: 15.5605 - mae: 15.5605\n",
      "Epoch 450/500\n",
      "2/2 [==============================] - 0s 8ms/step - loss: 16.5079 - mae: 16.5079\n",
      "Epoch 451/500\n",
      "2/2 [==============================] - 0s 8ms/step - loss: 14.1610 - mae: 14.1610\n",
      "Epoch 452/500\n",
      "2/2 [==============================] - 0s 12ms/step - loss: 30.4128 - mae: 30.4128\n",
      "Epoch 453/500\n",
      "2/2 [==============================] - 0s 12ms/step - loss: 4.2359 - mae: 4.2359\n",
      "Epoch 454/500\n",
      "2/2 [==============================] - 0s 12ms/step - loss: 26.2739 - mae: 26.2739\n",
      "Epoch 455/500\n",
      "2/2 [==============================] - 0s 12ms/step - loss: 14.0789 - mae: 14.0789\n",
      "Epoch 456/500\n",
      "2/2 [==============================] - 0s 12ms/step - loss: 14.8262 - mae: 14.8262\n",
      "Epoch 457/500\n",
      "2/2 [==============================] - 0s 12ms/step - loss: 18.0918 - mae: 18.0918\n",
      "Epoch 458/500\n",
      "2/2 [==============================] - 0s 12ms/step - loss: 25.5820 - mae: 25.5820\n",
      "Epoch 459/500\n",
      "2/2 [==============================] - 0s 12ms/step - loss: 18.7143 - mae: 18.7143\n",
      "Epoch 460/500\n",
      "2/2 [==============================] - 0s 8ms/step - loss: 5.4626 - mae: 5.4626\n",
      "Epoch 461/500\n",
      "2/2 [==============================] - 0s 8ms/step - loss: 10.3101 - mae: 10.3101\n",
      "Epoch 462/500\n",
      "2/2 [==============================] - 0s 8ms/step - loss: 11.6715 - mae: 11.6715\n",
      "Epoch 463/500\n",
      "2/2 [==============================] - 0s 12ms/step - loss: 27.0026 - mae: 27.0026\n",
      "Epoch 464/500\n",
      "2/2 [==============================] - 0s 12ms/step - loss: 11.9269 - mae: 11.9269\n",
      "Epoch 465/500\n",
      "2/2 [==============================] - 0s 8ms/step - loss: 7.4526 - mae: 7.4526\n",
      "Epoch 466/500\n",
      "2/2 [==============================] - 0s 12ms/step - loss: 12.6217 - mae: 12.6217\n",
      "Epoch 467/500\n",
      "2/2 [==============================] - 0s 12ms/step - loss: 6.0050 - mae: 6.0050\n",
      "Epoch 468/500\n",
      "2/2 [==============================] - 0s 12ms/step - loss: 14.0844 - mae: 14.0844\n",
      "Epoch 469/500\n",
      "2/2 [==============================] - 0s 12ms/step - loss: 12.7655 - mae: 12.7655\n",
      "Epoch 470/500\n",
      "2/2 [==============================] - 0s 12ms/step - loss: 3.0988 - mae: 3.0988\n",
      "Epoch 471/500\n",
      "2/2 [==============================] - 0s 12ms/step - loss: 16.6796 - mae: 16.6796\n",
      "Epoch 472/500\n",
      "2/2 [==============================] - 0s 12ms/step - loss: 13.3786 - mae: 13.3786\n",
      "Epoch 473/500\n",
      "2/2 [==============================] - 0s 8ms/step - loss: 15.2323 - mae: 15.2323\n",
      "Epoch 474/500\n",
      "2/2 [==============================] - 0s 12ms/step - loss: 11.6905 - mae: 11.6905\n",
      "Epoch 475/500\n",
      "2/2 [==============================] - 0s 8ms/step - loss: 16.3903 - mae: 16.3903\n",
      "Epoch 476/500\n",
      "2/2 [==============================] - 0s 12ms/step - loss: 13.9732 - mae: 13.9732\n",
      "Epoch 477/500\n",
      "2/2 [==============================] - 0s 8ms/step - loss: 30.5513 - mae: 30.5513\n",
      "Epoch 478/500\n",
      "2/2 [==============================] - 0s 12ms/step - loss: 8.0851 - mae: 8.0851\n",
      "Epoch 479/500\n",
      "2/2 [==============================] - 0s 12ms/step - loss: 11.1457 - mae: 11.1457\n",
      "Epoch 480/500\n",
      "2/2 [==============================] - 0s 12ms/step - loss: 17.8100 - mae: 17.8100\n",
      "Epoch 481/500\n",
      "2/2 [==============================] - 0s 12ms/step - loss: 15.7242 - mae: 15.7242\n",
      "Epoch 482/500\n",
      "2/2 [==============================] - 0s 12ms/step - loss: 21.1657 - mae: 21.1657\n",
      "Epoch 483/500\n",
      "2/2 [==============================] - 0s 12ms/step - loss: 25.7023 - mae: 25.7023\n",
      "Epoch 484/500\n",
      "2/2 [==============================] - 0s 12ms/step - loss: 24.2695 - mae: 24.2695\n",
      "Epoch 485/500\n",
      "2/2 [==============================] - 0s 12ms/step - loss: 5.7194 - mae: 5.7194\n",
      "Epoch 486/500\n",
      "2/2 [==============================] - 0s 8ms/step - loss: 20.3992 - mae: 20.3992\n",
      "Epoch 487/500\n",
      "2/2 [==============================] - 0s 8ms/step - loss: 13.9826 - mae: 13.9826\n",
      "Epoch 488/500\n",
      "2/2 [==============================] - 0s 12ms/step - loss: 30.5195 - mae: 30.5195\n",
      "Epoch 489/500\n",
      "2/2 [==============================] - 0s 12ms/step - loss: 11.7752 - mae: 11.7752\n",
      "Epoch 490/500\n",
      "2/2 [==============================] - 0s 12ms/step - loss: 12.6403 - mae: 12.6403\n",
      "Epoch 491/500\n",
      "2/2 [==============================] - 0s 12ms/step - loss: 23.4479 - mae: 23.4479\n",
      "Epoch 492/500\n",
      "2/2 [==============================] - 0s 12ms/step - loss: 20.9504 - mae: 20.9504\n",
      "Epoch 493/500\n",
      "2/2 [==============================] - 0s 12ms/step - loss: 4.9745 - mae: 4.9745\n",
      "Epoch 494/500\n",
      "2/2 [==============================] - 0s 8ms/step - loss: 13.2408 - mae: 13.2408\n",
      "Epoch 495/500\n",
      "2/2 [==============================] - 0s 12ms/step - loss: 13.4697 - mae: 13.4697\n",
      "Epoch 496/500\n",
      "2/2 [==============================] - 0s 12ms/step - loss: 12.7366 - mae: 12.7366\n",
      "Epoch 497/500\n",
      "2/2 [==============================] - 0s 12ms/step - loss: 17.7249 - mae: 17.7249\n",
      "Epoch 498/500\n",
      "2/2 [==============================] - 0s 8ms/step - loss: 23.2740 - mae: 23.2740\n",
      "Epoch 499/500\n",
      "2/2 [==============================] - 0s 8ms/step - loss: 9.1400 - mae: 9.1400\n",
      "Epoch 500/500\n",
      "2/2 [==============================] - 0s 12ms/step - loss: 14.6241 - mae: 14.6241\n"
     ]
    },
    {
     "data": {
      "text/plain": [
       "<keras.callbacks.History at 0x96c8e98040>"
      ]
     },
     "execution_count": 40,
     "metadata": {},
     "output_type": "execute_result"
    }
   ],
   "source": [
    "# Model 3 (just to experiment, the metrics on compile will be mse instead of mae)\n",
    "# Definition\n",
    "model_3 = tf.keras.Sequential([\n",
    "    tf.keras.layers.Dense(10),\n",
    "    tf.keras.layers.Dense(1)\n",
    "])\n",
    "# Compile\n",
    "model_3.compile(loss=tf.keras.losses.mae, \n",
    "               optimizer=tf.keras.optimizers.SGD(),\n",
    "               metrics=['mae'])\n",
    "# Fit\n",
    "model_3.fit(tf.expand_dims(X_train, axis=-1), Y_train, epochs=500)"
   ]
  },
  {
   "cell_type": "code",
   "execution_count": 41,
   "id": "db035e02",
   "metadata": {},
   "outputs": [
    {
     "name": "stdout",
     "output_type": "stream",
     "text": [
      "1/1 [==============================] - 0s 136ms/step\n"
     ]
    },
    {
     "data": {
      "image/png": "[encoded data removed]",
      "text/plain": [
       "<Figure size 1000x700 with 1 Axes>"
      ]
     },
     "metadata": {},
     "output_type": "display_data"
    }
   ],
   "source": [
    "Y_preds_3 = model_3.predict(X_test)\n",
    "plot_predictions(predictions=Y_preds_3)"
   ]
  },
  {
   "cell_type": "code",
   "execution_count": 42,
   "id": "f6053c73",
   "metadata": {},
   "outputs": [
    {
     "data": {
      "text/plain": [
       "(<tf.Tensor: shape=(), dtype=float32, numpy=68.64977>,\n",
       " <tf.Tensor: shape=(), dtype=float32, numpy=4799.38>)"
      ]
     },
     "execution_count": 42,
     "metadata": {},
     "output_type": "execute_result"
    }
   ],
   "source": [
    "# Calculate model 3 evaluation metrics\n",
    "mae_3 = mae(Y_test, Y_preds_3)\n",
    "mse_3 = mse(Y_test, Y_preds_3)\n",
    "mae_3, mse_3"
   ]
  },
  {
   "cell_type": "code",
   "execution_count": 43,
   "id": "bac4887d",
   "metadata": {},
   "outputs": [
    {
     "name": "stdout",
     "output_type": "stream",
     "text": [
      "2/2 [==============================] - 0s 4ms/step\n"
     ]
    }
   ],
   "source": [
    "# Calculate model 3 training evaluation metrics\n",
    "Y_preds_3_train = model_3.predict(X_train)"
   ]
  },
  {
   "cell_type": "code",
   "execution_count": 44,
   "id": "797dd805",
   "metadata": {},
   "outputs": [
    {
     "data": {
      "text/plain": [
       "(<tf.Tensor: shape=(), dtype=float32, numpy=33.56968>,\n",
       " <tf.Tensor: shape=(), dtype=float32, numpy=1550.8904>)"
      ]
     },
     "execution_count": 44,
     "metadata": {},
     "output_type": "execute_result"
    }
   ],
   "source": [
    "mae_3_train = mae(Y_train, Y_preds_3_train)\n",
    "mse_3_train = mse(Y_train, Y_preds_3_train)\n",
    "mae_3_train, mse_3_train"
   ]
  },
  {
   "cell_type": "markdown",
   "id": "5c41e34f",
   "metadata": {},
   "source": [
    "## Comparing the results"
   ]
  },
  {
   "cell_type": "code",
   "execution_count": 45,
   "id": "6ee44535",
   "metadata": {},
   "outputs": [],
   "source": [
    "model_results = [['model_1', mae_1.numpy(), mse_1.numpy()],\n",
    "                ['model_2', mae_2.numpy(), mse_2.numpy()],\n",
    "                 ['model_3', mae_3.numpy(), mse_3.numpy()]]\n",
    "all_results = pd.DataFrame(model_results, columns=['model', 'mae', 'mse'])"
   ]
  },
  {
   "cell_type": "code",
   "execution_count": 46,
   "id": "e0007810",
   "metadata": {},
   "outputs": [
    {
     "data": {
      "text/html": [
       "<div>\n",
       "<style scoped>\n",
       "    .dataframe tbody tr th:only-of-type {\n",
       "        vertical-align: middle;\n",
       "    }\n",
       "\n",
       "    .dataframe tbody tr th {\n",
       "        vertical-align: top;\n",
       "    }\n",
       "\n",
       "    .dataframe thead th {\n",
       "        text-align: right;\n",
       "    }\n",
       "</style>\n",
       "<table border=\"1\" class=\"dataframe\">\n",
       "  <thead>\n",
       "    <tr style=\"text-align: right;\">\n",
       "      <th></th>\n",
       "      <th>model</th>\n",
       "      <th>mae</th>\n",
       "      <th>mse</th>\n",
       "    </tr>\n",
       "  </thead>\n",
       "  <tbody>\n",
       "    <tr>\n",
       "      <th>0</th>\n",
       "      <td>model_1</td>\n",
       "      <td>32.679874</td>\n",
       "      <td>1080.448242</td>\n",
       "    </tr>\n",
       "    <tr>\n",
       "      <th>1</th>\n",
       "      <td>model_2</td>\n",
       "      <td>11.326427</td>\n",
       "      <td>136.668015</td>\n",
       "    </tr>\n",
       "    <tr>\n",
       "      <th>2</th>\n",
       "      <td>model_3</td>\n",
       "      <td>68.649773</td>\n",
       "      <td>4799.379883</td>\n",
       "    </tr>\n",
       "  </tbody>\n",
       "</table>\n",
       "</div>"
      ],
      "text/plain": [
       "     model        mae          mse\n",
       "0  model_1  32.679874  1080.448242\n",
       "1  model_2  11.326427   136.668015\n",
       "2  model_3  68.649773  4799.379883"
      ]
     },
     "execution_count": 46,
     "metadata": {},
     "output_type": "execute_result"
    }
   ],
   "source": [
    "all_results"
   ]
  },
  {
   "cell_type": "markdown",
   "id": "ce3c812c",
   "metadata": {},
   "source": [
    "**Model 2 performed better**"
   ]
  },
  {
   "cell_type": "code",
   "execution_count": 47,
   "id": "e203bd10",
   "metadata": {},
   "outputs": [
    {
     "name": "stdout",
     "output_type": "stream",
     "text": [
      "Model: \"sequential_4\"\n",
      "_________________________________________________________________\n",
      " Layer (type)                Output Shape              Param #   \n",
      "=================================================================\n",
      " dense_5 (Dense)             (None, 10)                20        \n",
      "                                                                 \n",
      " dense_6 (Dense)             (None, 1)                 11        \n",
      "                                                                 \n",
      "=================================================================\n",
      "Total params: 31\n",
      "Trainable params: 31\n",
      "Non-trainable params: 0\n",
      "_________________________________________________________________\n"
     ]
    }
   ],
   "source": [
    "model_2.summary()"
   ]
  },
  {
   "cell_type": "markdown",
   "id": "2ad8f60c",
   "metadata": {},
   "source": [
    "## Tracking experiments\n",
    "Tools to help:\n",
    "- TensorBoard:  Library to help track experiments.\n",
    "- Weights & Biases: Tool for tracking all kinds of ML experiments. (Plugs into TensorBoard)"
   ]
  },
  {
   "cell_type": "markdown",
   "id": "1857262a",
   "metadata": {},
   "source": [
    "## Saving our models"
   ]
  },
  {
   "cell_type": "markdown",
   "id": "4fa49aa9",
   "metadata": {},
   "source": [
    "Two formats:\n",
    "- The SavedModel format.\n",
    "- The HDF5 format."
   ]
  },
  {
   "cell_type": "code",
   "execution_count": 48,
   "id": "e9f6e924",
   "metadata": {},
   "outputs": [
    {
     "name": "stderr",
     "output_type": "stream",
     "text": [
      "WARNING:absl:Found untraced functions such as _update_step_xla while saving (showing 1 of 1). These functions will not be directly callable after loading.\n"
     ]
    }
   ],
   "source": [
    "# Saving using SavedModel\n",
    "model_2.save('best_model_SavedModel_format')"
   ]
  },
  {
   "cell_type": "code",
   "execution_count": 49,
   "id": "049e77e4",
   "metadata": {},
   "outputs": [],
   "source": [
    "# Saving HDF5 (better for other cases outside the notebook)\n",
    "model_2.save('best_model_HDF5_format.h5')"
   ]
  },
  {
   "cell_type": "markdown",
   "id": "7662fa0a",
   "metadata": {},
   "source": [
    "## Load saved models"
   ]
  },
  {
   "cell_type": "code",
   "execution_count": 50,
   "id": "034ea85d",
   "metadata": {},
   "outputs": [
    {
     "name": "stdout",
     "output_type": "stream",
     "text": [
      "Model: \"sequential_4\"\n",
      "_________________________________________________________________\n",
      " Layer (type)                Output Shape              Param #   \n",
      "=================================================================\n",
      " dense_5 (Dense)             (None, 10)                20        \n",
      "                                                                 \n",
      " dense_6 (Dense)             (None, 1)                 11        \n",
      "                                                                 \n",
      "=================================================================\n",
      "Total params: 31\n",
      "Trainable params: 31\n",
      "Non-trainable params: 0\n",
      "_________________________________________________________________\n"
     ]
    }
   ],
   "source": [
    "# SavedModel\n",
    "load_SavedModel_format = tf.keras.models.load_model('best_model_SavedModel_format')\n",
    "load_SavedModel_format.summary()"
   ]
  },
  {
   "cell_type": "code",
   "execution_count": 51,
   "id": "a6a35c5a",
   "metadata": {},
   "outputs": [
    {
     "name": "stdout",
     "output_type": "stream",
     "text": [
      "Model: \"sequential_4\"\n",
      "_________________________________________________________________\n",
      " Layer (type)                Output Shape              Param #   \n",
      "=================================================================\n",
      " dense_5 (Dense)             (None, 10)                20        \n",
      "                                                                 \n",
      " dense_6 (Dense)             (None, 1)                 11        \n",
      "                                                                 \n",
      "=================================================================\n",
      "Total params: 31\n",
      "Trainable params: 31\n",
      "Non-trainable params: 0\n",
      "_________________________________________________________________\n"
     ]
    }
   ],
   "source": [
    "model_2.summary()"
   ]
  },
  {
   "cell_type": "code",
   "execution_count": 52,
   "id": "b522f0d1",
   "metadata": {},
   "outputs": [
    {
     "name": "stdout",
     "output_type": "stream",
     "text": [
      "1/1 [==============================] - 0s 85ms/step\n",
      "1/1 [==============================] - 0s 153ms/step\n"
     ]
    }
   ],
   "source": [
    "# Compare model_2 predictions with loaded model\n",
    "model_2_preds = model_2.predict(X_test)\n",
    "loaded_SavedModel_format_preds = load_SavedModel_format.predict(X_test)"
   ]
  },
  {
   "cell_type": "code",
   "execution_count": 53,
   "id": "61f7ff8d",
   "metadata": {},
   "outputs": [
    {
     "data": {
      "text/plain": [
       "array([[ True],\n",
       "       [ True],\n",
       "       [ True],\n",
       "       [ True],\n",
       "       [ True],\n",
       "       [ True],\n",
       "       [ True],\n",
       "       [ True],\n",
       "       [ True],\n",
       "       [ True]])"
      ]
     },
     "execution_count": 53,
     "metadata": {},
     "output_type": "execute_result"
    }
   ],
   "source": [
    "model_2_preds == loaded_SavedModel_format_preds"
   ]
  },
  {
   "cell_type": "code",
   "execution_count": 54,
   "id": "4fa38dde",
   "metadata": {},
   "outputs": [],
   "source": [
    "# Loading the HDF5 format\n",
    "loaded_h5_format = tf.keras.models.load_model('best_model_HDF5_format.h5')"
   ]
  },
  {
   "cell_type": "code",
   "execution_count": 55,
   "id": "44341a2c",
   "metadata": {},
   "outputs": [
    {
     "name": "stdout",
     "output_type": "stream",
     "text": [
      "Model: \"sequential_4\"\n",
      "_________________________________________________________________\n",
      " Layer (type)                Output Shape              Param #   \n",
      "=================================================================\n",
      " dense_5 (Dense)             (None, 10)                20        \n",
      "                                                                 \n",
      " dense_6 (Dense)             (None, 1)                 11        \n",
      "                                                                 \n",
      "=================================================================\n",
      "Total params: 31\n",
      "Trainable params: 31\n",
      "Non-trainable params: 0\n",
      "_________________________________________________________________\n"
     ]
    }
   ],
   "source": [
    "loaded_h5_format.summary()"
   ]
  },
  {
   "cell_type": "code",
   "execution_count": 56,
   "id": "a1683951",
   "metadata": {},
   "outputs": [
    {
     "name": "stdout",
     "output_type": "stream",
     "text": [
      "1/1 [==============================] - 0s 136ms/step\n"
     ]
    }
   ],
   "source": [
    "loaded_h5_format_preds = loaded_h5_format.predict(X_test)"
   ]
  },
  {
   "cell_type": "code",
   "execution_count": 57,
   "id": "f507c5ec",
   "metadata": {},
   "outputs": [
    {
     "data": {
      "text/plain": [
       "array([[ True],\n",
       "       [ True],\n",
       "       [ True],\n",
       "       [ True],\n",
       "       [ True],\n",
       "       [ True],\n",
       "       [ True],\n",
       "       [ True],\n",
       "       [ True],\n",
       "       [ True]])"
      ]
     },
     "execution_count": 57,
     "metadata": {},
     "output_type": "execute_result"
    }
   ],
   "source": [
    "loaded_h5_format_preds == model_2_preds"
   ]
  },
  {
   "cell_type": "markdown",
   "id": "ce24ab92",
   "metadata": {},
   "source": [
    "## A larger example"
   ]
  },
  {
   "cell_type": "code",
   "execution_count": 58,
   "id": "0c96686a",
   "metadata": {},
   "outputs": [],
   "source": [
    "# Read the insurance dataset\n",
    "insurance = pd.read_csv('datasets/insurance.csv')"
   ]
  },
  {
   "cell_type": "code",
   "execution_count": 59,
   "id": "5436f0e4",
   "metadata": {},
   "outputs": [
    {
     "data": {
      "text/html": [
       "<div>\n",
       "<style scoped>\n",
       "    .dataframe tbody tr th:only-of-type {\n",
       "        vertical-align: middle;\n",
       "    }\n",
       "\n",
       "    .dataframe tbody tr th {\n",
       "        vertical-align: top;\n",
       "    }\n",
       "\n",
       "    .dataframe thead th {\n",
       "        text-align: right;\n",
       "    }\n",
       "</style>\n",
       "<table border=\"1\" class=\"dataframe\">\n",
       "  <thead>\n",
       "    <tr style=\"text-align: right;\">\n",
       "      <th></th>\n",
       "      <th>age</th>\n",
       "      <th>sex</th>\n",
       "      <th>bmi</th>\n",
       "      <th>children</th>\n",
       "      <th>smoker</th>\n",
       "      <th>region</th>\n",
       "      <th>charges</th>\n",
       "    </tr>\n",
       "  </thead>\n",
       "  <tbody>\n",
       "    <tr>\n",
       "      <th>0</th>\n",
       "      <td>19</td>\n",
       "      <td>female</td>\n",
       "      <td>27.900</td>\n",
       "      <td>0</td>\n",
       "      <td>yes</td>\n",
       "      <td>southwest</td>\n",
       "      <td>16884.92400</td>\n",
       "    </tr>\n",
       "    <tr>\n",
       "      <th>1</th>\n",
       "      <td>18</td>\n",
       "      <td>male</td>\n",
       "      <td>33.770</td>\n",
       "      <td>1</td>\n",
       "      <td>no</td>\n",
       "      <td>southeast</td>\n",
       "      <td>1725.55230</td>\n",
       "    </tr>\n",
       "    <tr>\n",
       "      <th>2</th>\n",
       "      <td>28</td>\n",
       "      <td>male</td>\n",
       "      <td>33.000</td>\n",
       "      <td>3</td>\n",
       "      <td>no</td>\n",
       "      <td>southeast</td>\n",
       "      <td>4449.46200</td>\n",
       "    </tr>\n",
       "    <tr>\n",
       "      <th>3</th>\n",
       "      <td>33</td>\n",
       "      <td>male</td>\n",
       "      <td>22.705</td>\n",
       "      <td>0</td>\n",
       "      <td>no</td>\n",
       "      <td>northwest</td>\n",
       "      <td>21984.47061</td>\n",
       "    </tr>\n",
       "    <tr>\n",
       "      <th>4</th>\n",
       "      <td>32</td>\n",
       "      <td>male</td>\n",
       "      <td>28.880</td>\n",
       "      <td>0</td>\n",
       "      <td>no</td>\n",
       "      <td>northwest</td>\n",
       "      <td>3866.85520</td>\n",
       "    </tr>\n",
       "  </tbody>\n",
       "</table>\n",
       "</div>"
      ],
      "text/plain": [
       "   age     sex     bmi  children smoker     region      charges\n",
       "0   19  female  27.900         0    yes  southwest  16884.92400\n",
       "1   18    male  33.770         1     no  southeast   1725.55230\n",
       "2   28    male  33.000         3     no  southeast   4449.46200\n",
       "3   33    male  22.705         0     no  northwest  21984.47061\n",
       "4   32    male  28.880         0     no  northwest   3866.85520"
      ]
     },
     "execution_count": 59,
     "metadata": {},
     "output_type": "execute_result"
    }
   ],
   "source": [
    "insurance.head()"
   ]
  },
  {
   "cell_type": "code",
   "execution_count": 60,
   "id": "99ec7f80",
   "metadata": {},
   "outputs": [
    {
     "data": {
      "text/plain": [
       "(1338, 7)"
      ]
     },
     "execution_count": 60,
     "metadata": {},
     "output_type": "execute_result"
    }
   ],
   "source": [
    "insurance.shape"
   ]
  },
  {
   "cell_type": "markdown",
   "id": "83644ed7",
   "metadata": {},
   "source": [
    "**Function get_dummies in pandas for one hot encoding** "
   ]
  },
  {
   "cell_type": "code",
   "execution_count": 61,
   "id": "d2c4cae1",
   "metadata": {},
   "outputs": [],
   "source": [
    "insurance_one_hot = pd.get_dummies(insurance)"
   ]
  },
  {
   "cell_type": "code",
   "execution_count": 62,
   "id": "52bed999",
   "metadata": {},
   "outputs": [
    {
     "data": {
      "text/html": [
       "<div>\n",
       "<style scoped>\n",
       "    .dataframe tbody tr th:only-of-type {\n",
       "        vertical-align: middle;\n",
       "    }\n",
       "\n",
       "    .dataframe tbody tr th {\n",
       "        vertical-align: top;\n",
       "    }\n",
       "\n",
       "    .dataframe thead th {\n",
       "        text-align: right;\n",
       "    }\n",
       "</style>\n",
       "<table border=\"1\" class=\"dataframe\">\n",
       "  <thead>\n",
       "    <tr style=\"text-align: right;\">\n",
       "      <th></th>\n",
       "      <th>age</th>\n",
       "      <th>bmi</th>\n",
       "      <th>children</th>\n",
       "      <th>charges</th>\n",
       "      <th>sex_female</th>\n",
       "      <th>sex_male</th>\n",
       "      <th>smoker_no</th>\n",
       "      <th>smoker_yes</th>\n",
       "      <th>region_northeast</th>\n",
       "      <th>region_northwest</th>\n",
       "      <th>region_southeast</th>\n",
       "      <th>region_southwest</th>\n",
       "    </tr>\n",
       "  </thead>\n",
       "  <tbody>\n",
       "    <tr>\n",
       "      <th>0</th>\n",
       "      <td>19</td>\n",
       "      <td>27.900</td>\n",
       "      <td>0</td>\n",
       "      <td>16884.92400</td>\n",
       "      <td>1</td>\n",
       "      <td>0</td>\n",
       "      <td>0</td>\n",
       "      <td>1</td>\n",
       "      <td>0</td>\n",
       "      <td>0</td>\n",
       "      <td>0</td>\n",
       "      <td>1</td>\n",
       "    </tr>\n",
       "    <tr>\n",
       "      <th>1</th>\n",
       "      <td>18</td>\n",
       "      <td>33.770</td>\n",
       "      <td>1</td>\n",
       "      <td>1725.55230</td>\n",
       "      <td>0</td>\n",
       "      <td>1</td>\n",
       "      <td>1</td>\n",
       "      <td>0</td>\n",
       "      <td>0</td>\n",
       "      <td>0</td>\n",
       "      <td>1</td>\n",
       "      <td>0</td>\n",
       "    </tr>\n",
       "    <tr>\n",
       "      <th>2</th>\n",
       "      <td>28</td>\n",
       "      <td>33.000</td>\n",
       "      <td>3</td>\n",
       "      <td>4449.46200</td>\n",
       "      <td>0</td>\n",
       "      <td>1</td>\n",
       "      <td>1</td>\n",
       "      <td>0</td>\n",
       "      <td>0</td>\n",
       "      <td>0</td>\n",
       "      <td>1</td>\n",
       "      <td>0</td>\n",
       "    </tr>\n",
       "    <tr>\n",
       "      <th>3</th>\n",
       "      <td>33</td>\n",
       "      <td>22.705</td>\n",
       "      <td>0</td>\n",
       "      <td>21984.47061</td>\n",
       "      <td>0</td>\n",
       "      <td>1</td>\n",
       "      <td>1</td>\n",
       "      <td>0</td>\n",
       "      <td>0</td>\n",
       "      <td>1</td>\n",
       "      <td>0</td>\n",
       "      <td>0</td>\n",
       "    </tr>\n",
       "    <tr>\n",
       "      <th>4</th>\n",
       "      <td>32</td>\n",
       "      <td>28.880</td>\n",
       "      <td>0</td>\n",
       "      <td>3866.85520</td>\n",
       "      <td>0</td>\n",
       "      <td>1</td>\n",
       "      <td>1</td>\n",
       "      <td>0</td>\n",
       "      <td>0</td>\n",
       "      <td>1</td>\n",
       "      <td>0</td>\n",
       "      <td>0</td>\n",
       "    </tr>\n",
       "  </tbody>\n",
       "</table>\n",
       "</div>"
      ],
      "text/plain": [
       "   age     bmi  children      charges  sex_female  sex_male  smoker_no  \\\n",
       "0   19  27.900         0  16884.92400           1         0          0   \n",
       "1   18  33.770         1   1725.55230           0         1          1   \n",
       "2   28  33.000         3   4449.46200           0         1          1   \n",
       "3   33  22.705         0  21984.47061           0         1          1   \n",
       "4   32  28.880         0   3866.85520           0         1          1   \n",
       "\n",
       "   smoker_yes  region_northeast  region_northwest  region_southeast  \\\n",
       "0           1                 0                 0                 0   \n",
       "1           0                 0                 0                 1   \n",
       "2           0                 0                 0                 1   \n",
       "3           0                 0                 1                 0   \n",
       "4           0                 0                 1                 0   \n",
       "\n",
       "   region_southwest  \n",
       "0                 1  \n",
       "1                 0  \n",
       "2                 0  \n",
       "3                 0  \n",
       "4                 0  "
      ]
     },
     "execution_count": 62,
     "metadata": {},
     "output_type": "execute_result"
    }
   ],
   "source": [
    "insurance_one_hot.head()"
   ]
  },
  {
   "cell_type": "code",
   "execution_count": 63,
   "id": "7089298c",
   "metadata": {},
   "outputs": [],
   "source": [
    "X = insurance_one_hot.drop(columns=['charges'], axis=1)\n",
    "Y = insurance_one_hot['charges']"
   ]
  },
  {
   "cell_type": "code",
   "execution_count": 64,
   "id": "9f593133",
   "metadata": {},
   "outputs": [
    {
     "data": {
      "text/plain": [
       "((1338, 11), (1070, 11), (268, 11))"
      ]
     },
     "execution_count": 64,
     "metadata": {},
     "output_type": "execute_result"
    }
   ],
   "source": [
    "# Train and test sets\n",
    "X_train, X_test, Y_train, Y_test = train_test_split(X, Y, test_size=0.2, random_state=42)\n",
    "X.shape, X_train.shape, X_test.shape"
   ]
  },
  {
   "cell_type": "code",
   "execution_count": 65,
   "id": "8e62ce72",
   "metadata": {},
   "outputs": [
    {
     "name": "stdout",
     "output_type": "stream",
     "text": [
      "Model: \"sequential_4\"\n",
      "_________________________________________________________________\n",
      " Layer (type)                Output Shape              Param #   \n",
      "=================================================================\n",
      " dense_5 (Dense)             (None, 10)                20        \n",
      "                                                                 \n",
      " dense_6 (Dense)             (None, 1)                 11        \n",
      "                                                                 \n",
      "=================================================================\n",
      "Total params: 31\n",
      "Trainable params: 31\n",
      "Non-trainable params: 0\n",
      "_________________________________________________________________\n"
     ]
    }
   ],
   "source": [
    "# Build a model similar to model_2\n",
    "model_2.summary()"
   ]
  },
  {
   "cell_type": "code",
   "execution_count": 66,
   "id": "7e88b489",
   "metadata": {},
   "outputs": [
    {
     "name": "stdout",
     "output_type": "stream",
     "text": [
      "Epoch 1/100\n",
      "34/34 [==============================] - 1s 4ms/step - loss: 8642.4814 - mae: 8642.4814\n",
      "Epoch 2/100\n",
      "34/34 [==============================] - 0s 4ms/step - loss: 7873.8345 - mae: 7873.8345\n",
      "Epoch 3/100\n",
      "34/34 [==============================] - 0s 4ms/step - loss: 7599.9399 - mae: 7599.9399\n",
      "Epoch 4/100\n",
      "34/34 [==============================] - 0s 4ms/step - loss: 7724.4741 - mae: 7724.4741\n",
      "Epoch 5/100\n",
      "34/34 [==============================] - 0s 4ms/step - loss: 7693.6841 - mae: 7693.6841\n",
      "Epoch 6/100\n",
      "34/34 [==============================] - 0s 4ms/step - loss: 7622.1353 - mae: 7622.1353\n",
      "Epoch 7/100\n",
      "34/34 [==============================] - 0s 4ms/step - loss: 7586.6572 - mae: 7586.6572\n",
      "Epoch 8/100\n",
      "34/34 [==============================] - 0s 4ms/step - loss: 7762.5229 - mae: 7762.5229\n",
      "Epoch 9/100\n",
      "34/34 [==============================] - 0s 4ms/step - loss: 7490.5874 - mae: 7490.5874\n",
      "Epoch 10/100\n",
      "34/34 [==============================] - 0s 5ms/step - loss: 7703.6392 - mae: 7703.6392\n",
      "Epoch 11/100\n",
      "34/34 [==============================] - 0s 4ms/step - loss: 7573.0703 - mae: 7573.0703\n",
      "Epoch 12/100\n",
      "34/34 [==============================] - 0s 4ms/step - loss: 7653.6948 - mae: 7653.6948\n",
      "Epoch 13/100\n",
      "34/34 [==============================] - 0s 4ms/step - loss: 7671.9209 - mae: 7671.9209\n",
      "Epoch 14/100\n",
      "34/34 [==============================] - 0s 4ms/step - loss: 7791.7075 - mae: 7791.7075\n",
      "Epoch 15/100\n",
      "34/34 [==============================] - 0s 4ms/step - loss: 7664.7778 - mae: 7664.7778\n",
      "Epoch 16/100\n",
      "34/34 [==============================] - 0s 4ms/step - loss: 7747.1167 - mae: 7747.1167\n",
      "Epoch 17/100\n",
      "34/34 [==============================] - 0s 4ms/step - loss: 7678.0171 - mae: 7678.0171\n",
      "Epoch 18/100\n",
      "34/34 [==============================] - 0s 4ms/step - loss: 7823.1646 - mae: 7823.1646\n",
      "Epoch 19/100\n",
      "34/34 [==============================] - 0s 4ms/step - loss: 7493.8145 - mae: 7493.8145\n",
      "Epoch 20/100\n",
      "34/34 [==============================] - 0s 4ms/step - loss: 7841.0918 - mae: 7841.0918\n",
      "Epoch 21/100\n",
      "34/34 [==============================] - 0s 4ms/step - loss: 7468.5371 - mae: 7468.5371\n",
      "Epoch 22/100\n",
      "34/34 [==============================] - 0s 4ms/step - loss: 7851.1729 - mae: 7851.1729\n",
      "Epoch 23/100\n",
      "34/34 [==============================] - 0s 4ms/step - loss: 7492.0552 - mae: 7492.0552\n",
      "Epoch 24/100\n",
      "34/34 [==============================] - 0s 4ms/step - loss: 7606.3750 - mae: 7606.3750\n",
      "Epoch 25/100\n",
      "34/34 [==============================] - 0s 4ms/step - loss: 7582.4565 - mae: 7582.4565\n",
      "Epoch 26/100\n",
      "34/34 [==============================] - 0s 4ms/step - loss: 7629.1626 - mae: 7629.1626\n",
      "Epoch 27/100\n",
      "34/34 [==============================] - 0s 4ms/step - loss: 7566.8672 - mae: 7566.8672\n",
      "Epoch 28/100\n",
      "34/34 [==============================] - 0s 4ms/step - loss: 7243.3730 - mae: 7243.3730\n",
      "Epoch 29/100\n",
      "34/34 [==============================] - 0s 4ms/step - loss: 7680.3530 - mae: 7680.3530\n",
      "Epoch 30/100\n",
      "34/34 [==============================] - 0s 4ms/step - loss: 7553.0723 - mae: 7553.0723\n",
      "Epoch 31/100\n",
      "34/34 [==============================] - 0s 4ms/step - loss: 7713.7207 - mae: 7713.7207\n",
      "Epoch 32/100\n",
      "34/34 [==============================] - 0s 4ms/step - loss: 7473.0967 - mae: 7473.0967\n",
      "Epoch 33/100\n",
      "34/34 [==============================] - 0s 4ms/step - loss: 7455.5562 - mae: 7455.5562\n",
      "Epoch 34/100\n",
      "34/34 [==============================] - 0s 4ms/step - loss: 7486.4087 - mae: 7486.4087\n",
      "Epoch 35/100\n",
      "34/34 [==============================] - 0s 4ms/step - loss: 7549.6221 - mae: 7549.6221\n",
      "Epoch 36/100\n",
      "34/34 [==============================] - 0s 4ms/step - loss: 7565.9863 - mae: 7565.9863\n",
      "Epoch 37/100\n",
      "34/34 [==============================] - 0s 4ms/step - loss: 7503.5591 - mae: 7503.5591\n",
      "Epoch 38/100\n",
      "34/34 [==============================] - 0s 4ms/step - loss: 7428.5703 - mae: 7428.5703\n",
      "Epoch 39/100\n",
      "34/34 [==============================] - 0s 4ms/step - loss: 7536.1831 - mae: 7536.1831\n",
      "Epoch 40/100\n",
      "34/34 [==============================] - 0s 4ms/step - loss: 7442.1172 - mae: 7442.1172\n",
      "Epoch 41/100\n",
      "34/34 [==============================] - 0s 4ms/step - loss: 7679.9395 - mae: 7679.9395\n",
      "Epoch 42/100\n",
      "34/34 [==============================] - 0s 4ms/step - loss: 7562.6484 - mae: 7562.6484\n",
      "Epoch 43/100\n",
      "34/34 [==============================] - 0s 4ms/step - loss: 7641.2529 - mae: 7641.2529\n",
      "Epoch 44/100\n",
      "34/34 [==============================] - 0s 4ms/step - loss: 7417.2705 - mae: 7417.2705\n",
      "Epoch 45/100\n",
      "34/34 [==============================] - 0s 4ms/step - loss: 7312.1450 - mae: 7312.1450\n",
      "Epoch 46/100\n",
      "34/34 [==============================] - 0s 5ms/step - loss: 7430.0718 - mae: 7430.0718\n",
      "Epoch 47/100\n",
      "34/34 [==============================] - 0s 4ms/step - loss: 7374.3140 - mae: 7374.3140\n",
      "Epoch 48/100\n",
      "34/34 [==============================] - 0s 4ms/step - loss: 7466.3379 - mae: 7466.3379\n",
      "Epoch 49/100\n",
      "34/34 [==============================] - 0s 4ms/step - loss: 7546.8652 - mae: 7546.8652\n",
      "Epoch 50/100\n",
      "34/34 [==============================] - 0s 4ms/step - loss: 7485.9092 - mae: 7485.9092\n",
      "Epoch 51/100\n",
      "34/34 [==============================] - 0s 4ms/step - loss: 7405.8496 - mae: 7405.8496\n",
      "Epoch 52/100\n",
      "34/34 [==============================] - 0s 4ms/step - loss: 7469.9619 - mae: 7469.9619\n",
      "Epoch 53/100\n",
      "34/34 [==============================] - 0s 4ms/step - loss: 7512.0420 - mae: 7512.0420\n",
      "Epoch 54/100\n",
      "34/34 [==============================] - 0s 3ms/step - loss: 7292.8672 - mae: 7292.8672\n",
      "Epoch 55/100\n",
      "34/34 [==============================] - 0s 3ms/step - loss: 7199.0039 - mae: 7199.0039\n",
      "Epoch 56/100\n",
      "34/34 [==============================] - 0s 3ms/step - loss: 7294.6592 - mae: 7294.6592\n",
      "Epoch 57/100\n",
      "34/34 [==============================] - 0s 4ms/step - loss: 7305.4946 - mae: 7305.4946\n",
      "Epoch 58/100\n",
      "34/34 [==============================] - 0s 3ms/step - loss: 7402.7622 - mae: 7402.7622\n",
      "Epoch 59/100\n",
      "34/34 [==============================] - 0s 3ms/step - loss: 7637.0742 - mae: 7637.0742\n",
      "Epoch 60/100\n",
      "34/34 [==============================] - 0s 4ms/step - loss: 7400.9102 - mae: 7400.9102\n",
      "Epoch 61/100\n",
      "34/34 [==============================] - 0s 3ms/step - loss: 7449.4199 - mae: 7449.4199\n",
      "Epoch 62/100\n",
      "34/34 [==============================] - 0s 4ms/step - loss: 7358.3975 - mae: 7358.3975\n",
      "Epoch 63/100\n",
      "34/34 [==============================] - 0s 4ms/step - loss: 7309.0518 - mae: 7309.0518\n",
      "Epoch 64/100\n",
      "34/34 [==============================] - 0s 3ms/step - loss: 7412.9155 - mae: 7412.9155\n",
      "Epoch 65/100\n",
      "34/34 [==============================] - 0s 3ms/step - loss: 7508.0396 - mae: 7508.0396\n",
      "Epoch 66/100\n",
      "34/34 [==============================] - 0s 3ms/step - loss: 7248.8623 - mae: 7248.8623\n",
      "Epoch 67/100\n",
      "34/34 [==============================] - 0s 4ms/step - loss: 7179.0640 - mae: 7179.0640\n",
      "Epoch 68/100\n",
      "34/34 [==============================] - 0s 4ms/step - loss: 7533.3809 - mae: 7533.3809\n",
      "Epoch 69/100\n",
      "34/34 [==============================] - 0s 4ms/step - loss: 7590.9482 - mae: 7590.9482\n",
      "Epoch 70/100\n",
      "34/34 [==============================] - 0s 4ms/step - loss: 7673.5459 - mae: 7673.5459\n",
      "Epoch 71/100\n",
      "34/34 [==============================] - 0s 3ms/step - loss: 7231.4878 - mae: 7231.4878\n",
      "Epoch 72/100\n",
      "34/34 [==============================] - 0s 3ms/step - loss: 6979.7969 - mae: 6979.7969\n",
      "Epoch 73/100\n",
      "34/34 [==============================] - 0s 3ms/step - loss: 7514.9292 - mae: 7514.9292\n",
      "Epoch 74/100\n",
      "34/34 [==============================] - 0s 3ms/step - loss: 7450.1157 - mae: 7450.1157\n",
      "Epoch 75/100\n",
      "34/34 [==============================] - 0s 4ms/step - loss: 7073.6250 - mae: 7073.6250\n",
      "Epoch 76/100\n",
      "34/34 [==============================] - 0s 3ms/step - loss: 7231.9927 - mae: 7231.9927\n",
      "Epoch 77/100\n",
      "34/34 [==============================] - 0s 4ms/step - loss: 7350.4658 - mae: 7350.4658\n",
      "Epoch 78/100\n",
      "34/34 [==============================] - 0s 4ms/step - loss: 7084.0312 - mae: 7084.0312\n",
      "Epoch 79/100\n",
      "34/34 [==============================] - 0s 3ms/step - loss: 7344.1924 - mae: 7344.1924\n",
      "Epoch 80/100\n",
      "34/34 [==============================] - 0s 3ms/step - loss: 7407.2080 - mae: 7407.2080\n",
      "Epoch 81/100\n",
      "34/34 [==============================] - 0s 3ms/step - loss: 7212.3481 - mae: 7212.3481\n",
      "Epoch 82/100\n"
     ]
    },
    {
     "name": "stdout",
     "output_type": "stream",
     "text": [
      "34/34 [==============================] - 0s 3ms/step - loss: 7141.0537 - mae: 7141.0537\n",
      "Epoch 83/100\n",
      "34/34 [==============================] - 0s 4ms/step - loss: 7469.8789 - mae: 7469.8789\n",
      "Epoch 84/100\n",
      "34/34 [==============================] - 0s 4ms/step - loss: 7375.2095 - mae: 7375.2095\n",
      "Epoch 85/100\n",
      "34/34 [==============================] - 0s 4ms/step - loss: 7534.8711 - mae: 7534.8711\n",
      "Epoch 86/100\n",
      "34/34 [==============================] - 0s 5ms/step - loss: 7428.4512 - mae: 7428.4512\n",
      "Epoch 87/100\n",
      "34/34 [==============================] - 0s 5ms/step - loss: 7137.5283 - mae: 7137.5283\n",
      "Epoch 88/100\n",
      "34/34 [==============================] - 0s 4ms/step - loss: 7331.9443 - mae: 7331.9443\n",
      "Epoch 89/100\n",
      "34/34 [==============================] - 0s 4ms/step - loss: 7455.9941 - mae: 7455.9941\n",
      "Epoch 90/100\n",
      "34/34 [==============================] - 0s 4ms/step - loss: 6995.3457 - mae: 6995.3457\n",
      "Epoch 91/100\n",
      "34/34 [==============================] - 0s 4ms/step - loss: 7230.1157 - mae: 7230.1157\n",
      "Epoch 92/100\n",
      "34/34 [==============================] - 0s 3ms/step - loss: 7350.5864 - mae: 7350.5864\n",
      "Epoch 93/100\n",
      "34/34 [==============================] - 0s 4ms/step - loss: 7414.7544 - mae: 7414.7544\n",
      "Epoch 94/100\n",
      "34/34 [==============================] - 0s 3ms/step - loss: 7215.9575 - mae: 7215.9575\n",
      "Epoch 95/100\n",
      "34/34 [==============================] - 0s 4ms/step - loss: 7377.7207 - mae: 7377.7207\n",
      "Epoch 96/100\n",
      "34/34 [==============================] - 0s 4ms/step - loss: 7241.2324 - mae: 7241.2324\n",
      "Epoch 97/100\n",
      "34/34 [==============================] - 0s 3ms/step - loss: 7251.0142 - mae: 7251.0142\n",
      "Epoch 98/100\n",
      "34/34 [==============================] - 0s 4ms/step - loss: 7437.2695 - mae: 7437.2695\n",
      "Epoch 99/100\n",
      "34/34 [==============================] - 0s 3ms/step - loss: 7289.7827 - mae: 7289.7827\n",
      "Epoch 100/100\n",
      "34/34 [==============================] - 0s 4ms/step - loss: 7137.8174 - mae: 7137.8174\n"
     ]
    },
    {
     "data": {
      "text/plain": [
       "<keras.callbacks.History at 0x96c9af0a30>"
      ]
     },
     "execution_count": 66,
     "metadata": {},
     "output_type": "execute_result"
    }
   ],
   "source": [
    "tf.random.set_seed(42)\n",
    "\n",
    "# Create the model\n",
    "insurance_model = tf.keras.Sequential([\n",
    "    tf.keras.layers.Dense(10),\n",
    "    tf.keras.layers.Dense(1)\n",
    "])\n",
    "\n",
    "# Compile the model\n",
    "insurance_model.compile(loss=tf.keras.losses.mae, \n",
    "                        optimizer=tf.keras.optimizers.SGD(),\n",
    "                       metrics=['mae'])\n",
    "\n",
    "# Fit the model\n",
    "insurance_model.fit(X_train, Y_train, epochs=100)"
   ]
  },
  {
   "cell_type": "code",
   "execution_count": 67,
   "id": "b92ad525",
   "metadata": {},
   "outputs": [
    {
     "name": "stdout",
     "output_type": "stream",
     "text": [
      "9/9 [==============================] - 0s 4ms/step - loss: 7724.0200 - mae: 7724.0200\n"
     ]
    },
    {
     "data": {
      "text/plain": [
       "[7724.02001953125, 7724.02001953125]"
      ]
     },
     "execution_count": 67,
     "metadata": {},
     "output_type": "execute_result"
    }
   ],
   "source": [
    "# Check the results on test data\n",
    "insurance_model.evaluate(X_test, Y_test)"
   ]
  },
  {
   "cell_type": "code",
   "execution_count": 68,
   "id": "d848bd33",
   "metadata": {},
   "outputs": [
    {
     "data": {
      "text/plain": [
       "(9575.4421, 13346.089736364485)"
      ]
     },
     "execution_count": 68,
     "metadata": {},
     "output_type": "execute_result"
    }
   ],
   "source": [
    "Y_train.median(), Y_train.mean()"
   ]
  },
  {
   "cell_type": "markdown",
   "id": "977bcf6a",
   "metadata": {},
   "source": [
    "**The model isn't performing well, a mae of ~7000 is very significant when looking at the mean and median of the target variable.**"
   ]
  },
  {
   "cell_type": "markdown",
   "id": "fd60d973",
   "metadata": {},
   "source": [
    "## Improving the model"
   ]
  },
  {
   "cell_type": "markdown",
   "id": "6ee0196a",
   "metadata": {},
   "source": [
    "We will try 2 experiments. \n",
    "- Add an extra layer and Adam optimizer\n",
    "- Train for longer"
   ]
  },
  {
   "cell_type": "code",
   "execution_count": 69,
   "id": "6b5beb81",
   "metadata": {},
   "outputs": [
    {
     "data": {
      "text/plain": [
       "<keras.callbacks.History at 0x96cbbc3f40>"
      ]
     },
     "execution_count": 69,
     "metadata": {},
     "output_type": "execute_result"
    }
   ],
   "source": [
    "# First experiment\n",
    "tf.random.set_seed(42)\n",
    "\n",
    "# Create the model\n",
    "insurance_model_test_1 = tf.keras.Sequential([\n",
    "    tf.keras.layers.Dense(100),\n",
    "    tf.keras.layers.Dense(10),\n",
    "    tf.keras.layers.Dense(1)\n",
    "])\n",
    "\n",
    "# Compile the model\n",
    "insurance_model_test_1.compile(loss=tf.keras.losses.mae, \n",
    "                        optimizer=tf.keras.optimizers.Adam(),\n",
    "                       metrics=['mae'])\n",
    "\n",
    "# Fit the model\n",
    "insurance_model_test_1.fit(X_train, Y_train, epochs=100, verbose=0)"
   ]
  },
  {
   "cell_type": "code",
   "execution_count": 70,
   "id": "b37091d8",
   "metadata": {},
   "outputs": [
    {
     "name": "stdout",
     "output_type": "stream",
     "text": [
      "9/9 [==============================] - 0s 4ms/step - loss: 4994.5488 - mae: 4994.5488\n"
     ]
    },
    {
     "data": {
      "text/plain": [
       "[4994.548828125, 4994.548828125]"
      ]
     },
     "execution_count": 70,
     "metadata": {},
     "output_type": "execute_result"
    }
   ],
   "source": [
    "# Check the results on test data\n",
    "insurance_model_test_1.evaluate(X_test, Y_test)"
   ]
  },
  {
   "cell_type": "code",
   "execution_count": 71,
   "id": "03aa1057",
   "metadata": {},
   "outputs": [
    {
     "name": "stdout",
     "output_type": "stream",
     "text": [
      "Epoch 1/200\n",
      "34/34 [==============================] - 2s 4ms/step - loss: 13303.5107 - mae: 13303.5107\n",
      "Epoch 2/200\n",
      "34/34 [==============================] - 0s 4ms/step - loss: 13142.8906 - mae: 13142.8906\n",
      "Epoch 3/200\n",
      "34/34 [==============================] - 0s 4ms/step - loss: 12814.8564 - mae: 12814.8564\n",
      "Epoch 4/200\n",
      "34/34 [==============================] - 0s 4ms/step - loss: 12165.3418 - mae: 12165.3418\n",
      "Epoch 5/200\n",
      "34/34 [==============================] - 0s 4ms/step - loss: 11060.4502 - mae: 11060.4502\n",
      "Epoch 6/200\n",
      "34/34 [==============================] - 0s 4ms/step - loss: 9619.4297 - mae: 9619.4297\n",
      "Epoch 7/200\n",
      "34/34 [==============================] - 0s 4ms/step - loss: 8266.9023 - mae: 8266.9023\n",
      "Epoch 8/200\n",
      "34/34 [==============================] - 0s 3ms/step - loss: 7576.5918 - mae: 7576.5918\n",
      "Epoch 9/200\n",
      "34/34 [==============================] - 0s 4ms/step - loss: 7454.7290 - mae: 7454.7290\n",
      "Epoch 10/200\n",
      "34/34 [==============================] - 0s 4ms/step - loss: 7432.8110 - mae: 7432.8110\n",
      "Epoch 11/200\n",
      "34/34 [==============================] - 0s 4ms/step - loss: 7413.2983 - mae: 7413.2983\n",
      "Epoch 12/200\n",
      "34/34 [==============================] - 0s 4ms/step - loss: 7390.4585 - mae: 7390.4585\n",
      "Epoch 13/200\n",
      "34/34 [==============================] - 0s 4ms/step - loss: 7369.4351 - mae: 7369.4351\n",
      "Epoch 14/200\n",
      "34/34 [==============================] - 0s 4ms/step - loss: 7346.2769 - mae: 7346.2769\n",
      "Epoch 15/200\n",
      "34/34 [==============================] - 0s 3ms/step - loss: 7326.4219 - mae: 7326.4219\n",
      "Epoch 16/200\n",
      "34/34 [==============================] - 0s 4ms/step - loss: 7303.0918 - mae: 7303.0918\n",
      "Epoch 17/200\n",
      "34/34 [==============================] - 0s 4ms/step - loss: 7282.1509 - mae: 7282.1509\n",
      "Epoch 18/200\n",
      "34/34 [==============================] - 0s 3ms/step - loss: 7257.6577 - mae: 7257.6577\n",
      "Epoch 19/200\n",
      "34/34 [==============================] - 0s 4ms/step - loss: 7234.8115 - mae: 7234.8115\n",
      "Epoch 20/200\n",
      "34/34 [==============================] - 0s 3ms/step - loss: 7210.5654 - mae: 7210.5654\n",
      "Epoch 21/200\n",
      "34/34 [==============================] - 0s 4ms/step - loss: 7190.5449 - mae: 7190.5449\n",
      "Epoch 22/200\n",
      "34/34 [==============================] - 0s 3ms/step - loss: 7162.4849 - mae: 7162.4849\n",
      "Epoch 23/200\n",
      "34/34 [==============================] - 0s 4ms/step - loss: 7136.5298 - mae: 7136.5298\n",
      "Epoch 24/200\n",
      "34/34 [==============================] - 0s 4ms/step - loss: 7110.6948 - mae: 7110.6948\n",
      "Epoch 25/200\n",
      "34/34 [==============================] - 0s 4ms/step - loss: 7091.3066 - mae: 7091.3066\n",
      "Epoch 26/200\n",
      "34/34 [==============================] - 0s 3ms/step - loss: 7058.8247 - mae: 7058.8247\n",
      "Epoch 27/200\n",
      "34/34 [==============================] - 0s 4ms/step - loss: 7028.7500 - mae: 7028.7500\n",
      "Epoch 28/200\n",
      "34/34 [==============================] - 0s 4ms/step - loss: 6999.3013 - mae: 6999.3013\n",
      "Epoch 29/200\n",
      "34/34 [==============================] - 0s 4ms/step - loss: 6969.8394 - mae: 6969.8394\n",
      "Epoch 30/200\n",
      "34/34 [==============================] - 0s 4ms/step - loss: 6941.3574 - mae: 6941.3574\n",
      "Epoch 31/200\n",
      "34/34 [==============================] - 0s 4ms/step - loss: 6908.6030 - mae: 6908.6030\n",
      "Epoch 32/200\n",
      "34/34 [==============================] - 0s 4ms/step - loss: 6879.2769 - mae: 6879.2769\n",
      "Epoch 33/200\n",
      "34/34 [==============================] - 0s 4ms/step - loss: 6846.0127 - mae: 6846.0127\n",
      "Epoch 34/200\n",
      "34/34 [==============================] - 0s 4ms/step - loss: 6812.9512 - mae: 6812.9512\n",
      "Epoch 35/200\n",
      "34/34 [==============================] - 0s 3ms/step - loss: 6777.1460 - mae: 6777.1460\n",
      "Epoch 36/200\n",
      "34/34 [==============================] - 0s 4ms/step - loss: 6740.8589 - mae: 6740.8589\n",
      "Epoch 37/200\n",
      "34/34 [==============================] - 0s 3ms/step - loss: 6703.1904 - mae: 6703.1904\n",
      "Epoch 38/200\n",
      "34/34 [==============================] - 0s 4ms/step - loss: 6670.1030 - mae: 6670.1030\n",
      "Epoch 39/200\n",
      "34/34 [==============================] - 0s 4ms/step - loss: 6630.5723 - mae: 6630.5723\n",
      "Epoch 40/200\n",
      "34/34 [==============================] - 0s 4ms/step - loss: 6594.2437 - mae: 6594.2437\n",
      "Epoch 41/200\n",
      "34/34 [==============================] - 0s 4ms/step - loss: 6561.9077 - mae: 6561.9077\n",
      "Epoch 42/200\n",
      "34/34 [==============================] - 0s 4ms/step - loss: 6537.7129 - mae: 6537.7129\n",
      "Epoch 43/200\n",
      "34/34 [==============================] - 0s 4ms/step - loss: 6508.6416 - mae: 6508.6416\n",
      "Epoch 44/200\n",
      "34/34 [==============================] - 0s 4ms/step - loss: 6487.1157 - mae: 6487.1157\n",
      "Epoch 45/200\n",
      "34/34 [==============================] - 0s 3ms/step - loss: 6477.2505 - mae: 6477.2505\n",
      "Epoch 46/200\n",
      "34/34 [==============================] - 0s 4ms/step - loss: 6457.0337 - mae: 6457.0337\n",
      "Epoch 47/200\n",
      "34/34 [==============================] - 0s 4ms/step - loss: 6440.4688 - mae: 6440.4688\n",
      "Epoch 48/200\n",
      "34/34 [==============================] - 0s 4ms/step - loss: 6426.1021 - mae: 6426.1021\n",
      "Epoch 49/200\n",
      "34/34 [==============================] - 0s 4ms/step - loss: 6413.5229 - mae: 6413.5229\n",
      "Epoch 50/200\n",
      "34/34 [==============================] - 0s 4ms/step - loss: 6398.9976 - mae: 6398.9976\n",
      "Epoch 51/200\n",
      "34/34 [==============================] - 0s 4ms/step - loss: 6385.3994 - mae: 6385.3994\n",
      "Epoch 52/200\n",
      "34/34 [==============================] - 0s 3ms/step - loss: 6372.3940 - mae: 6372.3940\n",
      "Epoch 53/200\n",
      "34/34 [==============================] - 0s 4ms/step - loss: 6357.5952 - mae: 6357.5952\n",
      "Epoch 54/200\n",
      "34/34 [==============================] - 0s 3ms/step - loss: 6343.5747 - mae: 6343.5747\n",
      "Epoch 55/200\n",
      "34/34 [==============================] - 0s 4ms/step - loss: 6329.1377 - mae: 6329.1377\n",
      "Epoch 56/200\n",
      "34/34 [==============================] - 0s 4ms/step - loss: 6314.3281 - mae: 6314.3281\n",
      "Epoch 57/200\n",
      "34/34 [==============================] - 0s 5ms/step - loss: 6300.4624 - mae: 6300.4624\n",
      "Epoch 58/200\n",
      "34/34 [==============================] - 0s 3ms/step - loss: 6286.2227 - mae: 6286.2227\n",
      "Epoch 59/200\n",
      "34/34 [==============================] - 0s 4ms/step - loss: 6269.6035 - mae: 6269.6035\n",
      "Epoch 60/200\n",
      "34/34 [==============================] - 0s 4ms/step - loss: 6258.1885 - mae: 6258.1885\n",
      "Epoch 61/200\n",
      "34/34 [==============================] - 0s 3ms/step - loss: 6237.0098 - mae: 6237.0098\n",
      "Epoch 62/200\n",
      "34/34 [==============================] - 0s 4ms/step - loss: 6224.2227 - mae: 6224.2227\n",
      "Epoch 63/200\n",
      "34/34 [==============================] - 0s 4ms/step - loss: 6205.3413 - mae: 6205.3413\n",
      "Epoch 64/200\n",
      "34/34 [==============================] - 0s 4ms/step - loss: 6186.2383 - mae: 6186.2383\n",
      "Epoch 65/200\n",
      "34/34 [==============================] - 0s 4ms/step - loss: 6168.1592 - mae: 6168.1592\n",
      "Epoch 66/200\n",
      "34/34 [==============================] - 0s 4ms/step - loss: 6149.6577 - mae: 6149.6577\n",
      "Epoch 67/200\n",
      "34/34 [==============================] - 0s 4ms/step - loss: 6136.3604 - mae: 6136.3604\n",
      "Epoch 68/200\n",
      "34/34 [==============================] - 0s 4ms/step - loss: 6112.6377 - mae: 6112.6377\n",
      "Epoch 69/200\n",
      "34/34 [==============================] - 0s 4ms/step - loss: 6093.9424 - mae: 6093.9424\n",
      "Epoch 70/200\n",
      "34/34 [==============================] - 0s 4ms/step - loss: 6072.2153 - mae: 6072.2153\n",
      "Epoch 71/200\n",
      "34/34 [==============================] - 0s 5ms/step - loss: 6051.1128 - mae: 6051.1128\n",
      "Epoch 72/200\n",
      "34/34 [==============================] - 0s 3ms/step - loss: 6028.8506 - mae: 6028.8506\n",
      "Epoch 73/200\n",
      "34/34 [==============================] - 0s 4ms/step - loss: 6014.5981 - mae: 6014.5981\n",
      "Epoch 74/200\n",
      "34/34 [==============================] - 0s 4ms/step - loss: 5983.3462 - mae: 5983.3462\n",
      "Epoch 75/200\n",
      "34/34 [==============================] - 0s 4ms/step - loss: 5961.1279 - mae: 5961.1279\n",
      "Epoch 76/200\n",
      "34/34 [==============================] - 0s 4ms/step - loss: 5943.3540 - mae: 5943.3540\n",
      "Epoch 77/200\n",
      "34/34 [==============================] - 0s 4ms/step - loss: 5909.3872 - mae: 5909.3872\n",
      "Epoch 78/200\n",
      "34/34 [==============================] - 0s 4ms/step - loss: 5882.8662 - mae: 5882.8662\n",
      "Epoch 79/200\n",
      "34/34 [==============================] - 0s 4ms/step - loss: 5855.9502 - mae: 5855.9502\n",
      "Epoch 80/200\n",
      "34/34 [==============================] - 0s 3ms/step - loss: 5825.1201 - mae: 5825.1201\n",
      "Epoch 81/200\n",
      "34/34 [==============================] - 0s 4ms/step - loss: 5797.6978 - mae: 5797.6978\n",
      "Epoch 82/200\n"
     ]
    },
    {
     "name": "stdout",
     "output_type": "stream",
     "text": [
      "34/34 [==============================] - 0s 3ms/step - loss: 5764.8154 - mae: 5764.8154\n",
      "Epoch 83/200\n",
      "34/34 [==============================] - 0s 4ms/step - loss: 5734.3115 - mae: 5734.3115\n",
      "Epoch 84/200\n",
      "34/34 [==============================] - 0s 4ms/step - loss: 5697.1436 - mae: 5697.1436\n",
      "Epoch 85/200\n",
      "34/34 [==============================] - 0s 4ms/step - loss: 5667.0591 - mae: 5667.0591\n",
      "Epoch 86/200\n",
      "34/34 [==============================] - 0s 4ms/step - loss: 5629.8262 - mae: 5629.8262\n",
      "Epoch 87/200\n",
      "34/34 [==============================] - 0s 3ms/step - loss: 5588.5513 - mae: 5588.5513\n",
      "Epoch 88/200\n",
      "34/34 [==============================] - 0s 4ms/step - loss: 5549.1919 - mae: 5549.1919\n",
      "Epoch 89/200\n",
      "34/34 [==============================] - 0s 4ms/step - loss: 5505.1909 - mae: 5505.1909\n",
      "Epoch 90/200\n",
      "34/34 [==============================] - 0s 4ms/step - loss: 5458.6270 - mae: 5458.6270\n",
      "Epoch 91/200\n",
      "34/34 [==============================] - 0s 4ms/step - loss: 5415.8950 - mae: 5415.8950\n",
      "Epoch 92/200\n",
      "34/34 [==============================] - 0s 4ms/step - loss: 5363.9077 - mae: 5363.9077\n",
      "Epoch 93/200\n",
      "34/34 [==============================] - 0s 4ms/step - loss: 5315.2822 - mae: 5315.2822\n",
      "Epoch 94/200\n",
      "34/34 [==============================] - 0s 4ms/step - loss: 5262.3735 - mae: 5262.3735\n",
      "Epoch 95/200\n",
      "34/34 [==============================] - 0s 4ms/step - loss: 5205.7109 - mae: 5205.7109\n",
      "Epoch 96/200\n",
      "34/34 [==============================] - 0s 4ms/step - loss: 5153.0361 - mae: 5153.0361\n",
      "Epoch 97/200\n",
      "34/34 [==============================] - 0s 3ms/step - loss: 5093.2144 - mae: 5093.2144\n",
      "Epoch 98/200\n",
      "34/34 [==============================] - 0s 4ms/step - loss: 5023.7026 - mae: 5023.7026\n",
      "Epoch 99/200\n",
      "34/34 [==============================] - 0s 3ms/step - loss: 4956.5757 - mae: 4956.5757\n",
      "Epoch 100/200\n",
      "34/34 [==============================] - 0s 4ms/step - loss: 4897.3052 - mae: 4897.3052\n",
      "Epoch 101/200\n",
      "34/34 [==============================] - 0s 4ms/step - loss: 4816.4443 - mae: 4816.4443\n",
      "Epoch 102/200\n",
      "34/34 [==============================] - 0s 4ms/step - loss: 4735.2949 - mae: 4735.2949\n",
      "Epoch 103/200\n",
      "34/34 [==============================] - 0s 4ms/step - loss: 4660.6514 - mae: 4660.6514\n",
      "Epoch 104/200\n",
      "34/34 [==============================] - 0s 3ms/step - loss: 4571.7334 - mae: 4571.7334\n",
      "Epoch 105/200\n",
      "34/34 [==============================] - 0s 4ms/step - loss: 4479.4287 - mae: 4479.4287\n",
      "Epoch 106/200\n",
      "34/34 [==============================] - 0s 4ms/step - loss: 4397.6533 - mae: 4397.6533\n",
      "Epoch 107/200\n",
      "34/34 [==============================] - 0s 4ms/step - loss: 4315.6812 - mae: 4315.6812\n",
      "Epoch 108/200\n",
      "34/34 [==============================] - 0s 4ms/step - loss: 4229.5420 - mae: 4229.5420\n",
      "Epoch 109/200\n",
      "34/34 [==============================] - 0s 4ms/step - loss: 4150.6392 - mae: 4150.6392\n",
      "Epoch 110/200\n",
      "34/34 [==============================] - 0s 4ms/step - loss: 4080.2837 - mae: 4080.2837\n",
      "Epoch 111/200\n",
      "34/34 [==============================] - 0s 3ms/step - loss: 4015.5225 - mae: 4015.5225\n",
      "Epoch 112/200\n",
      "34/34 [==============================] - 0s 4ms/step - loss: 3972.5164 - mae: 3972.5164\n",
      "Epoch 113/200\n",
      "34/34 [==============================] - 0s 4ms/step - loss: 3934.5051 - mae: 3934.5051\n",
      "Epoch 114/200\n",
      "34/34 [==============================] - 0s 4ms/step - loss: 3913.6008 - mae: 3913.6008\n",
      "Epoch 115/200\n",
      "34/34 [==============================] - 0s 4ms/step - loss: 3881.4126 - mae: 3881.4126\n",
      "Epoch 116/200\n",
      "34/34 [==============================] - 0s 4ms/step - loss: 3870.4187 - mae: 3870.4187\n",
      "Epoch 117/200\n",
      "34/34 [==============================] - 0s 4ms/step - loss: 3859.2051 - mae: 3859.2051\n",
      "Epoch 118/200\n",
      "34/34 [==============================] - 0s 3ms/step - loss: 3842.5288 - mae: 3842.5288\n",
      "Epoch 119/200\n",
      "34/34 [==============================] - 0s 4ms/step - loss: 3827.0664 - mae: 3827.0664\n",
      "Epoch 120/200\n",
      "34/34 [==============================] - 0s 4ms/step - loss: 3811.9690 - mae: 3811.9690\n",
      "Epoch 121/200\n",
      "34/34 [==============================] - 0s 3ms/step - loss: 3809.1367 - mae: 3809.1367\n",
      "Epoch 122/200\n",
      "34/34 [==============================] - 0s 4ms/step - loss: 3807.8215 - mae: 3807.8215\n",
      "Epoch 123/200\n",
      "34/34 [==============================] - 0s 3ms/step - loss: 3799.5220 - mae: 3799.5220\n",
      "Epoch 124/200\n",
      "34/34 [==============================] - 0s 4ms/step - loss: 3794.0889 - mae: 3794.0889\n",
      "Epoch 125/200\n",
      "34/34 [==============================] - 0s 4ms/step - loss: 3785.5828 - mae: 3785.5828\n",
      "Epoch 126/200\n",
      "34/34 [==============================] - 0s 4ms/step - loss: 3795.0957 - mae: 3795.0957\n",
      "Epoch 127/200\n",
      "34/34 [==============================] - 0s 4ms/step - loss: 3788.5918 - mae: 3788.5918\n",
      "Epoch 128/200\n",
      "34/34 [==============================] - 0s 3ms/step - loss: 3783.7368 - mae: 3783.7368\n",
      "Epoch 129/200\n",
      "34/34 [==============================] - 0s 4ms/step - loss: 3793.5605 - mae: 3793.5605\n",
      "Epoch 130/200\n",
      "34/34 [==============================] - 0s 4ms/step - loss: 3783.1421 - mae: 3783.1421\n",
      "Epoch 131/200\n",
      "34/34 [==============================] - 0s 4ms/step - loss: 3775.5244 - mae: 3775.5244\n",
      "Epoch 132/200\n",
      "34/34 [==============================] - 0s 4ms/step - loss: 3769.5012 - mae: 3769.5012\n",
      "Epoch 133/200\n",
      "34/34 [==============================] - 0s 4ms/step - loss: 3765.6821 - mae: 3765.6821\n",
      "Epoch 134/200\n",
      "34/34 [==============================] - 0s 4ms/step - loss: 3767.2722 - mae: 3767.2722\n",
      "Epoch 135/200\n",
      "34/34 [==============================] - 0s 4ms/step - loss: 3762.6650 - mae: 3762.6650\n",
      "Epoch 136/200\n",
      "34/34 [==============================] - 0s 4ms/step - loss: 3761.2458 - mae: 3761.2458\n",
      "Epoch 137/200\n",
      "34/34 [==============================] - 0s 3ms/step - loss: 3768.2686 - mae: 3768.2686\n",
      "Epoch 138/200\n",
      "34/34 [==============================] - 0s 4ms/step - loss: 3778.5850 - mae: 3778.5850\n",
      "Epoch 139/200\n",
      "34/34 [==============================] - 0s 4ms/step - loss: 3755.7283 - mae: 3755.7283\n",
      "Epoch 140/200\n",
      "34/34 [==============================] - 0s 3ms/step - loss: 3756.1018 - mae: 3756.1018\n",
      "Epoch 141/200\n",
      "34/34 [==============================] - 0s 4ms/step - loss: 3759.0974 - mae: 3759.0974\n",
      "Epoch 142/200\n",
      "34/34 [==============================] - 0s 4ms/step - loss: 3761.6414 - mae: 3761.6414\n",
      "Epoch 143/200\n",
      "34/34 [==============================] - 0s 4ms/step - loss: 3749.6846 - mae: 3749.6846\n",
      "Epoch 144/200\n",
      "34/34 [==============================] - 0s 4ms/step - loss: 3745.5854 - mae: 3745.5854\n",
      "Epoch 145/200\n",
      "34/34 [==============================] - 0s 4ms/step - loss: 3746.3372 - mae: 3746.3372\n",
      "Epoch 146/200\n",
      "34/34 [==============================] - 0s 4ms/step - loss: 3751.3269 - mae: 3751.3269\n",
      "Epoch 147/200\n",
      "34/34 [==============================] - 0s 3ms/step - loss: 3746.9807 - mae: 3746.9807\n",
      "Epoch 148/200\n",
      "34/34 [==============================] - 0s 4ms/step - loss: 3751.1296 - mae: 3751.1296\n",
      "Epoch 149/200\n",
      "34/34 [==============================] - 0s 5ms/step - loss: 3739.4810 - mae: 3739.4810\n",
      "Epoch 150/200\n",
      "34/34 [==============================] - 0s 4ms/step - loss: 3735.1753 - mae: 3735.1753\n",
      "Epoch 151/200\n",
      "34/34 [==============================] - 0s 4ms/step - loss: 3736.0642 - mae: 3736.0642\n",
      "Epoch 152/200\n",
      "34/34 [==============================] - 0s 4ms/step - loss: 3737.5974 - mae: 3737.5974\n",
      "Epoch 153/200\n",
      "34/34 [==============================] - 0s 4ms/step - loss: 3740.9880 - mae: 3740.9880\n",
      "Epoch 154/200\n",
      "34/34 [==============================] - 0s 4ms/step - loss: 3732.9062 - mae: 3732.9062\n",
      "Epoch 155/200\n",
      "34/34 [==============================] - 0s 4ms/step - loss: 3733.7244 - mae: 3733.7244\n",
      "Epoch 156/200\n",
      "34/34 [==============================] - 0s 4ms/step - loss: 3732.5168 - mae: 3732.5168\n",
      "Epoch 157/200\n",
      "34/34 [==============================] - 0s 4ms/step - loss: 3728.3176 - mae: 3728.3176\n",
      "Epoch 158/200\n",
      "34/34 [==============================] - 0s 4ms/step - loss: 3725.2944 - mae: 3725.2944\n",
      "Epoch 159/200\n",
      "34/34 [==============================] - 0s 4ms/step - loss: 3721.6658 - mae: 3721.6658\n",
      "Epoch 160/200\n",
      "34/34 [==============================] - 0s 4ms/step - loss: 3728.5317 - mae: 3728.5317\n",
      "Epoch 161/200\n",
      "34/34 [==============================] - 0s 4ms/step - loss: 3724.1636 - mae: 3724.1636\n",
      "Epoch 162/200\n"
     ]
    },
    {
     "name": "stdout",
     "output_type": "stream",
     "text": [
      "34/34 [==============================] - 0s 4ms/step - loss: 3720.3176 - mae: 3720.3176\n",
      "Epoch 163/200\n",
      "34/34 [==============================] - 0s 4ms/step - loss: 3718.0383 - mae: 3718.0383\n",
      "Epoch 164/200\n",
      "34/34 [==============================] - 0s 4ms/step - loss: 3722.7388 - mae: 3722.7388\n",
      "Epoch 165/200\n",
      "34/34 [==============================] - 0s 4ms/step - loss: 3711.9460 - mae: 3711.9460\n",
      "Epoch 166/200\n",
      "34/34 [==============================] - 0s 4ms/step - loss: 3717.2695 - mae: 3717.2695\n",
      "Epoch 167/200\n",
      "34/34 [==============================] - 0s 4ms/step - loss: 3715.9644 - mae: 3715.9644\n",
      "Epoch 168/200\n",
      "34/34 [==============================] - 0s 4ms/step - loss: 3710.8242 - mae: 3710.8242\n",
      "Epoch 169/200\n",
      "34/34 [==============================] - 0s 4ms/step - loss: 3708.1572 - mae: 3708.1572\n",
      "Epoch 170/200\n",
      "34/34 [==============================] - 0s 4ms/step - loss: 3704.0532 - mae: 3704.0532\n",
      "Epoch 171/200\n",
      "34/34 [==============================] - 0s 4ms/step - loss: 3703.6658 - mae: 3703.6658\n",
      "Epoch 172/200\n",
      "34/34 [==============================] - 0s 4ms/step - loss: 3707.5168 - mae: 3707.5168\n",
      "Epoch 173/200\n",
      "34/34 [==============================] - 0s 4ms/step - loss: 3699.9399 - mae: 3699.9399\n",
      "Epoch 174/200\n",
      "34/34 [==============================] - 0s 4ms/step - loss: 3707.0684 - mae: 3707.0684\n",
      "Epoch 175/200\n",
      "34/34 [==============================] - 0s 4ms/step - loss: 3708.8394 - mae: 3708.8394\n",
      "Epoch 176/200\n",
      "34/34 [==============================] - 0s 4ms/step - loss: 3702.5430 - mae: 3702.5430\n",
      "Epoch 177/200\n",
      "34/34 [==============================] - 0s 4ms/step - loss: 3695.6433 - mae: 3695.6433\n",
      "Epoch 178/200\n",
      "34/34 [==============================] - 0s 4ms/step - loss: 3690.7769 - mae: 3690.7769\n",
      "Epoch 179/200\n",
      "34/34 [==============================] - 0s 4ms/step - loss: 3704.7852 - mae: 3704.7852\n",
      "Epoch 180/200\n",
      "34/34 [==============================] - 0s 4ms/step - loss: 3708.9397 - mae: 3708.9397\n",
      "Epoch 181/200\n",
      "34/34 [==============================] - 0s 4ms/step - loss: 3692.5554 - mae: 3692.5554\n",
      "Epoch 182/200\n",
      "34/34 [==============================] - 0s 4ms/step - loss: 3689.6831 - mae: 3689.6831\n",
      "Epoch 183/200\n",
      "34/34 [==============================] - 0s 4ms/step - loss: 3687.2119 - mae: 3687.2119\n",
      "Epoch 184/200\n",
      "34/34 [==============================] - 0s 4ms/step - loss: 3695.1497 - mae: 3695.1497\n",
      "Epoch 185/200\n",
      "34/34 [==============================] - 0s 4ms/step - loss: 3689.2424 - mae: 3689.2424\n",
      "Epoch 186/200\n",
      "34/34 [==============================] - 0s 4ms/step - loss: 3691.2439 - mae: 3691.2439\n",
      "Epoch 187/200\n",
      "34/34 [==============================] - 0s 4ms/step - loss: 3683.0361 - mae: 3683.0361\n",
      "Epoch 188/200\n",
      "34/34 [==============================] - 0s 4ms/step - loss: 3690.9314 - mae: 3690.9314\n",
      "Epoch 189/200\n",
      "34/34 [==============================] - 0s 4ms/step - loss: 3680.2588 - mae: 3680.2588\n",
      "Epoch 190/200\n",
      "34/34 [==============================] - 0s 4ms/step - loss: 3680.1028 - mae: 3680.1028\n",
      "Epoch 191/200\n",
      "34/34 [==============================] - 0s 4ms/step - loss: 3692.7058 - mae: 3692.7058\n",
      "Epoch 192/200\n",
      "34/34 [==============================] - 0s 4ms/step - loss: 3680.6440 - mae: 3680.6440\n",
      "Epoch 193/200\n",
      "34/34 [==============================] - 0s 4ms/step - loss: 3672.3806 - mae: 3672.3806\n",
      "Epoch 194/200\n",
      "34/34 [==============================] - 0s 4ms/step - loss: 3672.5857 - mae: 3672.5857\n",
      "Epoch 195/200\n",
      "34/34 [==============================] - 0s 4ms/step - loss: 3669.8176 - mae: 3669.8176\n",
      "Epoch 196/200\n",
      "34/34 [==============================] - 0s 4ms/step - loss: 3678.7598 - mae: 3678.7598\n",
      "Epoch 197/200\n",
      "34/34 [==============================] - 0s 4ms/step - loss: 3663.9509 - mae: 3663.9509\n",
      "Epoch 198/200\n",
      "34/34 [==============================] - 0s 4ms/step - loss: 3672.3645 - mae: 3672.3645\n",
      "Epoch 199/200\n",
      "34/34 [==============================] - 0s 4ms/step - loss: 3679.0046 - mae: 3679.0046\n",
      "Epoch 200/200\n",
      "34/34 [==============================] - 0s 4ms/step - loss: 3664.2937 - mae: 3664.2937\n"
     ]
    }
   ],
   "source": [
    "# Second experiment\n",
    "tf.random.set_seed(42)\n",
    "\n",
    "# Create the model\n",
    "insurance_model_test_2 = tf.keras.Sequential([\n",
    "    tf.keras.layers.Dense(100),\n",
    "    tf.keras.layers.Dense(10),\n",
    "    tf.keras.layers.Dense(1)\n",
    "])\n",
    "\n",
    "# Compile the model\n",
    "insurance_model_test_2.compile(loss=tf.keras.losses.mae, \n",
    "                        optimizer=tf.keras.optimizers.Adam(),\n",
    "                       metrics=['mae'])\n",
    "\n",
    "# Fit the model and save history\n",
    "history_model_test_2 = insurance_model_test_2.fit(X_train, Y_train, epochs=200)"
   ]
  },
  {
   "cell_type": "code",
   "execution_count": 72,
   "id": "91bfa50e",
   "metadata": {},
   "outputs": [
    {
     "name": "stdout",
     "output_type": "stream",
     "text": [
      "9/9 [==============================] - 0s 4ms/step - loss: 3484.3960 - mae: 3484.3960\n"
     ]
    },
    {
     "data": {
      "text/plain": [
       "[3484.39599609375, 3484.39599609375]"
      ]
     },
     "execution_count": 72,
     "metadata": {},
     "output_type": "execute_result"
    }
   ],
   "source": [
    "# Check the results on test data\n",
    "insurance_model_test_2.evaluate(X_test, Y_test)"
   ]
  },
  {
   "cell_type": "code",
   "execution_count": 73,
   "id": "177cbc9f",
   "metadata": {},
   "outputs": [
    {
     "data": {
      "text/plain": [
       "Text(0.5, 0, 'epochs')"
      ]
     },
     "execution_count": 73,
     "metadata": {},
     "output_type": "execute_result"
    },
    {
     "data": {
      "image/png": "[encoded data removed]",
      "text/plain": [
       "<Figure size 640x480 with 1 Axes>"
      ]
     },
     "metadata": {},
     "output_type": "display_data"
    }
   ],
   "source": [
    "# Plot history, also known as loss curve or training curve\n",
    "pd.DataFrame(history_model_test_2.history).plot()\n",
    "plt.ylabel('loss')\n",
    "plt.xlabel('epochs')"
   ]
  },
  {
   "cell_type": "markdown",
   "id": "78ddcd64",
   "metadata": {},
   "source": [
    "\n",
    "    🤔 Question: How long should you train for?\n",
    "\n",
    "    It depends on what problem you're working on. Sometimes training won't take very long, other times it'll take longer than you expect. A common method is to set your model training for a very long time (e.g. 1000's of epochs) but set it up with an EarlyStopping callback so it stops automatically when it stops improving. We'll see this in another module.\n"
   ]
  },
  {
   "cell_type": "markdown",
   "id": "93797a54",
   "metadata": {},
   "source": [
    "## Preprocessing data"
   ]
  },
  {
   "cell_type": "code",
   "execution_count": 75,
   "id": "13643f60",
   "metadata": {},
   "outputs": [
    {
     "data": {
      "text/plain": [
       "<Axes: ylabel='Frequency'>"
      ]
     },
     "execution_count": 75,
     "metadata": {},
     "output_type": "execute_result"
    },
    {
     "data": {
      "image/png": "[encoded data removed]",
      "text/plain": [
       "<Figure size 640x480 with 1 Axes>"
      ]
     },
     "metadata": {},
     "output_type": "display_data"
    }
   ],
   "source": [
    "X['age'].plot(kind='hist')"
   ]
  },
  {
   "cell_type": "code",
   "execution_count": 76,
   "id": "a86ea615",
   "metadata": {},
   "outputs": [
    {
     "data": {
      "text/plain": [
       "<Axes: ylabel='Frequency'>"
      ]
     },
     "execution_count": 76,
     "metadata": {},
     "output_type": "execute_result"
    },
    {
     "data": {
      "image/png": "[encoded data removed]",
      "text/plain": [
       "<Figure size 640x480 with 1 Axes>"
      ]
     },
     "metadata": {},
     "output_type": "display_data"
    }
   ],
   "source": [
    "X['bmi'].plot(kind='hist')"
   ]
  },
  {
   "cell_type": "code",
   "execution_count": 101,
   "id": "50f9224a",
   "metadata": {},
   "outputs": [],
   "source": [
    "import pandas as pd\n",
    "import tensorflow as tf\n",
    "import matplotlib.pyplot as plt\n",
    "\n",
    "from sklearn.compose import make_column_transformer\n",
    "from sklearn.model_selection import train_test_split\n",
    "\n",
    "from sklearn.preprocessing import MinMaxScaler, OneHotEncoder"
   ]
  },
  {
   "cell_type": "code",
   "execution_count": 98,
   "id": "e4d2b355",
   "metadata": {},
   "outputs": [],
   "source": [
    "insurance = pd.read_csv('datasets/insurance.csv')"
   ]
  },
  {
   "cell_type": "code",
   "execution_count": 99,
   "id": "92983fbb",
   "metadata": {},
   "outputs": [
    {
     "data": {
      "text/html": [
       "<div>\n",
       "<style scoped>\n",
       "    .dataframe tbody tr th:only-of-type {\n",
       "        vertical-align: middle;\n",
       "    }\n",
       "\n",
       "    .dataframe tbody tr th {\n",
       "        vertical-align: top;\n",
       "    }\n",
       "\n",
       "    .dataframe thead th {\n",
       "        text-align: right;\n",
       "    }\n",
       "</style>\n",
       "<table border=\"1\" class=\"dataframe\">\n",
       "  <thead>\n",
       "    <tr style=\"text-align: right;\">\n",
       "      <th></th>\n",
       "      <th>age</th>\n",
       "      <th>sex</th>\n",
       "      <th>bmi</th>\n",
       "      <th>children</th>\n",
       "      <th>smoker</th>\n",
       "      <th>region</th>\n",
       "      <th>charges</th>\n",
       "    </tr>\n",
       "  </thead>\n",
       "  <tbody>\n",
       "    <tr>\n",
       "      <th>0</th>\n",
       "      <td>19</td>\n",
       "      <td>female</td>\n",
       "      <td>27.900</td>\n",
       "      <td>0</td>\n",
       "      <td>yes</td>\n",
       "      <td>southwest</td>\n",
       "      <td>16884.92400</td>\n",
       "    </tr>\n",
       "    <tr>\n",
       "      <th>1</th>\n",
       "      <td>18</td>\n",
       "      <td>male</td>\n",
       "      <td>33.770</td>\n",
       "      <td>1</td>\n",
       "      <td>no</td>\n",
       "      <td>southeast</td>\n",
       "      <td>1725.55230</td>\n",
       "    </tr>\n",
       "    <tr>\n",
       "      <th>2</th>\n",
       "      <td>28</td>\n",
       "      <td>male</td>\n",
       "      <td>33.000</td>\n",
       "      <td>3</td>\n",
       "      <td>no</td>\n",
       "      <td>southeast</td>\n",
       "      <td>4449.46200</td>\n",
       "    </tr>\n",
       "    <tr>\n",
       "      <th>3</th>\n",
       "      <td>33</td>\n",
       "      <td>male</td>\n",
       "      <td>22.705</td>\n",
       "      <td>0</td>\n",
       "      <td>no</td>\n",
       "      <td>northwest</td>\n",
       "      <td>21984.47061</td>\n",
       "    </tr>\n",
       "    <tr>\n",
       "      <th>4</th>\n",
       "      <td>32</td>\n",
       "      <td>male</td>\n",
       "      <td>28.880</td>\n",
       "      <td>0</td>\n",
       "      <td>no</td>\n",
       "      <td>northwest</td>\n",
       "      <td>3866.85520</td>\n",
       "    </tr>\n",
       "  </tbody>\n",
       "</table>\n",
       "</div>"
      ],
      "text/plain": [
       "   age     sex     bmi  children smoker     region      charges\n",
       "0   19  female  27.900         0    yes  southwest  16884.92400\n",
       "1   18    male  33.770         1     no  southeast   1725.55230\n",
       "2   28    male  33.000         3     no  southeast   4449.46200\n",
       "3   33    male  22.705         0     no  northwest  21984.47061\n",
       "4   32    male  28.880         0     no  northwest   3866.85520"
      ]
     },
     "execution_count": 99,
     "metadata": {},
     "output_type": "execute_result"
    }
   ],
   "source": [
    "insurance.head()"
   ]
  },
  {
   "cell_type": "code",
   "execution_count": 104,
   "id": "1cd32067",
   "metadata": {},
   "outputs": [],
   "source": [
    "# Create a column transformer\n",
    "ct = make_column_transformer(\n",
    "    (MinMaxScaler(), ['age', 'bmi', 'children']),\n",
    "    (OneHotEncoder(handle_unknown='ignore'), ['sex', 'smoker', 'region'])\n",
    ")\n",
    "\n",
    "# Create X and Y\n",
    "X = insurance.drop('charges', axis=1)\n",
    "Y = insurance['charges']\n",
    "\n",
    "# Build train and test\n",
    "X_train, X_test, Y_train, Y_test = train_test_split(X, Y, test_size=0.2, random_state=42)\n",
    "\n",
    "# Fit the column transformer to train data\n",
    "ct.fit(X_train)\n",
    "\n",
    "# Transform train and test data with normalization (MinMaxScaler) and OneHotEncoder\n",
    "X_train_normal = ct.transform(X_train)\n",
    "X_test_normal = ct.transform(X_test)"
   ]
  },
  {
   "cell_type": "code",
   "execution_count": 107,
   "id": "0dd40938",
   "metadata": {},
   "outputs": [
    {
     "data": {
      "text/plain": [
       "array([0.60869565, 0.10734463, 0.4       , 1.        , 0.        ,\n",
       "       1.        , 0.        , 0.        , 1.        , 0.        ,\n",
       "       0.        ])"
      ]
     },
     "execution_count": 107,
     "metadata": {},
     "output_type": "execute_result"
    }
   ],
   "source": [
    "# What does our data look like\n",
    "X_train_normal[0]"
   ]
  },
  {
   "cell_type": "code",
   "execution_count": 108,
   "id": "2d53a59c",
   "metadata": {},
   "outputs": [
    {
     "data": {
      "text/plain": [
       "((1070, 6), (1070, 11))"
      ]
     },
     "execution_count": 108,
     "metadata": {},
     "output_type": "execute_result"
    }
   ],
   "source": [
    "X_train.shape, X_train_normal.shape"
   ]
  },
  {
   "cell_type": "markdown",
   "id": "bd2ffdd6",
   "metadata": {},
   "source": [
    "**The data is normalized and One Hot Encoded, now it's ready for a Neural Network**"
   ]
  },
  {
   "cell_type": "code",
   "execution_count": 109,
   "id": "144283d7",
   "metadata": {},
   "outputs": [],
   "source": [
    "tf.random.set_seed(42)"
   ]
  },
  {
   "cell_type": "code",
   "execution_count": 116,
   "id": "354e1acc",
   "metadata": {},
   "outputs": [
    {
     "name": "stdout",
     "output_type": "stream",
     "text": [
      "Model: \"sequential_7\"\n",
      "_________________________________________________________________\n",
      " Layer (type)                Output Shape              Param #   \n",
      "=================================================================\n",
      " dense_11 (Dense)            (None, 100)               1200      \n",
      "                                                                 \n",
      " dense_12 (Dense)            (None, 10)                1010      \n",
      "                                                                 \n",
      " dense_13 (Dense)            (None, 1)                 11        \n",
      "                                                                 \n",
      "=================================================================\n",
      "Total params: 2,221\n",
      "Trainable params: 2,221\n",
      "Non-trainable params: 0\n",
      "_________________________________________________________________\n"
     ]
    }
   ],
   "source": [
    "# Comparing with insurance_model_test_1\n",
    "insurance_model_test_1.summary()"
   ]
  },
  {
   "cell_type": "code",
   "execution_count": 117,
   "id": "98889958",
   "metadata": {},
   "outputs": [
    {
     "name": "stdout",
     "output_type": "stream",
     "text": [
      "Epoch 1/100\n",
      "34/34 [==============================] - 2s 3ms/step - loss: 13343.9141 - mae: 13343.9141\n",
      "Epoch 2/100\n",
      "34/34 [==============================] - 0s 5ms/step - loss: 13336.1865 - mae: 13336.1865\n",
      "Epoch 3/100\n",
      "34/34 [==============================] - 0s 4ms/step - loss: 13316.4414 - mae: 13316.4414\n",
      "Epoch 4/100\n",
      "34/34 [==============================] - 0s 5ms/step - loss: 13274.2305 - mae: 13274.2305\n",
      "Epoch 5/100\n",
      "34/34 [==============================] - 0s 5ms/step - loss: 13198.4150 - mae: 13198.4150\n",
      "Epoch 6/100\n",
      "34/34 [==============================] - 0s 5ms/step - loss: 13078.1768 - mae: 13078.1768\n",
      "Epoch 7/100\n",
      "34/34 [==============================] - 0s 3ms/step - loss: 12903.3076 - mae: 12903.3076\n",
      "Epoch 8/100\n",
      "34/34 [==============================] - 0s 4ms/step - loss: 12663.6885 - mae: 12663.6885\n",
      "Epoch 9/100\n",
      "34/34 [==============================] - 0s 4ms/step - loss: 12349.0732 - mae: 12349.0732\n",
      "Epoch 10/100\n",
      "34/34 [==============================] - 0s 4ms/step - loss: 11954.0938 - mae: 11954.0938\n",
      "Epoch 11/100\n",
      "34/34 [==============================] - 0s 4ms/step - loss: 11486.4424 - mae: 11486.4424\n",
      "Epoch 12/100\n",
      "34/34 [==============================] - 0s 4ms/step - loss: 10981.9932 - mae: 10981.9932\n",
      "Epoch 13/100\n",
      "34/34 [==============================] - 0s 4ms/step - loss: 10481.1396 - mae: 10481.1396\n",
      "Epoch 14/100\n",
      "34/34 [==============================] - 0s 4ms/step - loss: 9983.7031 - mae: 9983.7031\n",
      "Epoch 15/100\n",
      "34/34 [==============================] - 0s 4ms/step - loss: 9513.9209 - mae: 9513.9209\n",
      "Epoch 16/100\n",
      "34/34 [==============================] - 0s 4ms/step - loss: 9094.1553 - mae: 9094.1553\n",
      "Epoch 17/100\n",
      "34/34 [==============================] - 0s 4ms/step - loss: 8746.3936 - mae: 8746.3936\n",
      "Epoch 18/100\n",
      "34/34 [==============================] - 0s 4ms/step - loss: 8464.5430 - mae: 8464.5430\n",
      "Epoch 19/100\n",
      "34/34 [==============================] - 0s 4ms/step - loss: 8246.6660 - mae: 8246.6660\n",
      "Epoch 20/100\n",
      "34/34 [==============================] - 0s 4ms/step - loss: 8097.2671 - mae: 8097.2671\n",
      "Epoch 21/100\n",
      "34/34 [==============================] - 0s 4ms/step - loss: 7985.4365 - mae: 7985.4365\n",
      "Epoch 22/100\n",
      "34/34 [==============================] - 0s 4ms/step - loss: 7910.2310 - mae: 7910.2310\n",
      "Epoch 23/100\n",
      "34/34 [==============================] - 0s 4ms/step - loss: 7851.4824 - mae: 7851.4824\n",
      "Epoch 24/100\n",
      "34/34 [==============================] - 0s 4ms/step - loss: 7799.1406 - mae: 7799.1406\n",
      "Epoch 25/100\n",
      "34/34 [==============================] - 0s 4ms/step - loss: 7760.5615 - mae: 7760.5615\n",
      "Epoch 26/100\n",
      "34/34 [==============================] - 0s 4ms/step - loss: 7709.5786 - mae: 7709.5786\n",
      "Epoch 27/100\n",
      "34/34 [==============================] - 0s 4ms/step - loss: 7668.1250 - mae: 7668.1250\n",
      "Epoch 28/100\n",
      "34/34 [==============================] - 0s 4ms/step - loss: 7626.4126 - mae: 7626.4126\n",
      "Epoch 29/100\n",
      "34/34 [==============================] - 0s 4ms/step - loss: 7584.4937 - mae: 7584.4937\n",
      "Epoch 30/100\n",
      "34/34 [==============================] - 0s 4ms/step - loss: 7541.8857 - mae: 7541.8857\n",
      "Epoch 31/100\n",
      "34/34 [==============================] - 0s 4ms/step - loss: 7498.8657 - mae: 7498.8657\n",
      "Epoch 32/100\n",
      "34/34 [==============================] - 0s 4ms/step - loss: 7455.6875 - mae: 7455.6875\n",
      "Epoch 33/100\n",
      "34/34 [==============================] - 0s 3ms/step - loss: 7412.4746 - mae: 7412.4746\n",
      "Epoch 34/100\n",
      "34/34 [==============================] - 0s 4ms/step - loss: 7365.3418 - mae: 7365.3418\n",
      "Epoch 35/100\n",
      "34/34 [==============================] - 0s 4ms/step - loss: 7319.7788 - mae: 7319.7788\n",
      "Epoch 36/100\n",
      "34/34 [==============================] - 0s 4ms/step - loss: 7271.0127 - mae: 7271.0127\n",
      "Epoch 37/100\n",
      "34/34 [==============================] - 0s 4ms/step - loss: 7221.9912 - mae: 7221.9912\n",
      "Epoch 38/100\n",
      "34/34 [==============================] - 0s 4ms/step - loss: 7172.3428 - mae: 7172.3428\n",
      "Epoch 39/100\n",
      "34/34 [==============================] - 0s 4ms/step - loss: 7118.9521 - mae: 7118.9521\n",
      "Epoch 40/100\n",
      "34/34 [==============================] - 0s 4ms/step - loss: 7065.1685 - mae: 7065.1685\n",
      "Epoch 41/100\n",
      "34/34 [==============================] - 0s 4ms/step - loss: 7010.3784 - mae: 7010.3784\n",
      "Epoch 42/100\n",
      "34/34 [==============================] - 0s 4ms/step - loss: 6952.9634 - mae: 6952.9634\n",
      "Epoch 43/100\n",
      "34/34 [==============================] - 0s 4ms/step - loss: 6892.2231 - mae: 6892.2231\n",
      "Epoch 44/100\n",
      "34/34 [==============================] - 0s 5ms/step - loss: 6828.0205 - mae: 6828.0205\n",
      "Epoch 45/100\n",
      "34/34 [==============================] - 0s 3ms/step - loss: 6762.9609 - mae: 6762.9609\n",
      "Epoch 46/100\n",
      "34/34 [==============================] - 0s 4ms/step - loss: 6695.8931 - mae: 6695.8931\n",
      "Epoch 47/100\n",
      "34/34 [==============================] - 0s 4ms/step - loss: 6627.3374 - mae: 6627.3374\n",
      "Epoch 48/100\n",
      "34/34 [==============================] - 0s 4ms/step - loss: 6551.0522 - mae: 6551.0522\n",
      "Epoch 49/100\n",
      "34/34 [==============================] - 0s 4ms/step - loss: 6474.8965 - mae: 6474.8965\n",
      "Epoch 50/100\n",
      "34/34 [==============================] - 0s 4ms/step - loss: 6392.3682 - mae: 6392.3682\n",
      "Epoch 51/100\n",
      "34/34 [==============================] - 0s 4ms/step - loss: 6311.1074 - mae: 6311.1074\n",
      "Epoch 52/100\n",
      "34/34 [==============================] - 0s 4ms/step - loss: 6221.1924 - mae: 6221.1924\n",
      "Epoch 53/100\n",
      "34/34 [==============================] - 0s 4ms/step - loss: 6128.7773 - mae: 6128.7773\n",
      "Epoch 54/100\n",
      "34/34 [==============================] - 0s 4ms/step - loss: 6033.8931 - mae: 6033.8931\n",
      "Epoch 55/100\n",
      "34/34 [==============================] - 0s 3ms/step - loss: 5930.5664 - mae: 5930.5664\n",
      "Epoch 56/100\n",
      "34/34 [==============================] - 0s 3ms/step - loss: 5826.4888 - mae: 5826.4888\n",
      "Epoch 57/100\n",
      "34/34 [==============================] - 0s 3ms/step - loss: 5715.2017 - mae: 5715.2017\n",
      "Epoch 58/100\n",
      "34/34 [==============================] - 0s 4ms/step - loss: 5599.4917 - mae: 5599.4917\n",
      "Epoch 59/100\n",
      "34/34 [==============================] - 0s 4ms/step - loss: 5485.4810 - mae: 5485.4810\n",
      "Epoch 60/100\n",
      "34/34 [==============================] - 0s 4ms/step - loss: 5367.3584 - mae: 5367.3584\n",
      "Epoch 61/100\n",
      "34/34 [==============================] - 0s 4ms/step - loss: 5243.0601 - mae: 5243.0601\n",
      "Epoch 62/100\n",
      "34/34 [==============================] - 0s 4ms/step - loss: 5118.7856 - mae: 5118.7856\n",
      "Epoch 63/100\n",
      "34/34 [==============================] - 0s 4ms/step - loss: 4993.1836 - mae: 4993.1836\n",
      "Epoch 64/100\n",
      "34/34 [==============================] - 0s 4ms/step - loss: 4864.2568 - mae: 4864.2568\n",
      "Epoch 65/100\n",
      "34/34 [==============================] - 0s 5ms/step - loss: 4736.9761 - mae: 4736.9761\n",
      "Epoch 66/100\n",
      "34/34 [==============================] - 0s 4ms/step - loss: 4607.6274 - mae: 4607.6274\n",
      "Epoch 67/100\n",
      "34/34 [==============================] - 0s 4ms/step - loss: 4491.8818 - mae: 4491.8818\n",
      "Epoch 68/100\n",
      "34/34 [==============================] - 0s 4ms/step - loss: 4381.5464 - mae: 4381.5464\n",
      "Epoch 69/100\n",
      "34/34 [==============================] - 0s 4ms/step - loss: 4277.7261 - mae: 4277.7261\n",
      "Epoch 70/100\n",
      "34/34 [==============================] - 0s 3ms/step - loss: 4180.4634 - mae: 4180.4634\n",
      "Epoch 71/100\n",
      "34/34 [==============================] - 0s 3ms/step - loss: 4087.9167 - mae: 4087.9167\n",
      "Epoch 72/100\n",
      "34/34 [==============================] - 0s 4ms/step - loss: 4004.2771 - mae: 4004.2771\n",
      "Epoch 73/100\n",
      "34/34 [==============================] - 0s 3ms/step - loss: 3929.9958 - mae: 3929.9958\n",
      "Epoch 74/100\n",
      "34/34 [==============================] - 0s 5ms/step - loss: 3866.7349 - mae: 3866.7349\n",
      "Epoch 75/100\n",
      "34/34 [==============================] - 0s 5ms/step - loss: 3817.1704 - mae: 3817.1704\n",
      "Epoch 76/100\n",
      "34/34 [==============================] - 0s 4ms/step - loss: 3776.9990 - mae: 3776.9990\n",
      "Epoch 77/100\n",
      "34/34 [==============================] - 0s 4ms/step - loss: 3744.9502 - mae: 3744.9502\n",
      "Epoch 78/100\n",
      "34/34 [==============================] - 0s 4ms/step - loss: 3722.0298 - mae: 3722.0298\n",
      "Epoch 79/100\n",
      "34/34 [==============================] - 0s 5ms/step - loss: 3704.0962 - mae: 3704.0962\n",
      "Epoch 80/100\n",
      "34/34 [==============================] - 0s 4ms/step - loss: 3691.9675 - mae: 3691.9675\n",
      "Epoch 81/100\n"
     ]
    },
    {
     "name": "stdout",
     "output_type": "stream",
     "text": [
      "34/34 [==============================] - 0s 4ms/step - loss: 3683.1707 - mae: 3683.1707\n",
      "Epoch 82/100\n",
      "34/34 [==============================] - 0s 4ms/step - loss: 3678.1179 - mae: 3678.1179\n",
      "Epoch 83/100\n",
      "34/34 [==============================] - 0s 4ms/step - loss: 3670.5469 - mae: 3670.5469\n",
      "Epoch 84/100\n",
      "34/34 [==============================] - 0s 4ms/step - loss: 3666.7693 - mae: 3666.7693\n",
      "Epoch 85/100\n",
      "34/34 [==============================] - 0s 3ms/step - loss: 3664.3564 - mae: 3664.3564\n",
      "Epoch 86/100\n",
      "34/34 [==============================] - 0s 4ms/step - loss: 3661.4988 - mae: 3661.4988\n",
      "Epoch 87/100\n",
      "34/34 [==============================] - 0s 4ms/step - loss: 3658.4985 - mae: 3658.4985\n",
      "Epoch 88/100\n",
      "34/34 [==============================] - 0s 3ms/step - loss: 3655.7014 - mae: 3655.7014\n",
      "Epoch 89/100\n",
      "34/34 [==============================] - 0s 3ms/step - loss: 3653.7781 - mae: 3653.7781\n",
      "Epoch 90/100\n",
      "34/34 [==============================] - 0s 3ms/step - loss: 3652.3110 - mae: 3652.3110\n",
      "Epoch 91/100\n",
      "34/34 [==============================] - 0s 4ms/step - loss: 3649.2751 - mae: 3649.2751\n",
      "Epoch 92/100\n",
      "34/34 [==============================] - 0s 4ms/step - loss: 3648.5322 - mae: 3648.5322\n",
      "Epoch 93/100\n",
      "34/34 [==============================] - 0s 4ms/step - loss: 3646.3936 - mae: 3646.3936\n",
      "Epoch 94/100\n",
      "34/34 [==============================] - 0s 4ms/step - loss: 3644.5212 - mae: 3644.5212\n",
      "Epoch 95/100\n",
      "34/34 [==============================] - 0s 4ms/step - loss: 3645.7502 - mae: 3645.7502\n",
      "Epoch 96/100\n",
      "34/34 [==============================] - 0s 4ms/step - loss: 3642.3779 - mae: 3642.3779\n",
      "Epoch 97/100\n",
      "34/34 [==============================] - 0s 4ms/step - loss: 3640.0522 - mae: 3640.0522\n",
      "Epoch 98/100\n",
      "34/34 [==============================] - 0s 4ms/step - loss: 3638.1968 - mae: 3638.1968\n",
      "Epoch 99/100\n",
      "34/34 [==============================] - 0s 4ms/step - loss: 3637.4670 - mae: 3637.4670\n",
      "Epoch 100/100\n",
      "34/34 [==============================] - 0s 4ms/step - loss: 3635.8325 - mae: 3635.8325\n"
     ]
    },
    {
     "data": {
      "text/plain": [
       "<keras.callbacks.History at 0x9688bbbe20>"
      ]
     },
     "execution_count": 117,
     "metadata": {},
     "output_type": "execute_result"
    }
   ],
   "source": [
    "# Create model\n",
    "insurance_model_test_4 = tf.keras.Sequential([\n",
    "    tf.keras.layers.Dense(100),\n",
    "    tf.keras.layers.Dense(10),\n",
    "    tf.keras.layers.Dense(1),\n",
    "])\n",
    "# Compile model\n",
    "insurance_model_test_4.compile(loss=tf.keras.losses.mae,\n",
    "                              optimizer=tf.keras.optimizers.Adam(),\n",
    "                              metrics=['mae'])\n",
    "# Fit model\n",
    "insurance_model_test_4.fit(X_train_normal, Y_train, epochs=100)"
   ]
  },
  {
   "cell_type": "code",
   "execution_count": 118,
   "id": "3a2fb37c",
   "metadata": {},
   "outputs": [
    {
     "name": "stdout",
     "output_type": "stream",
     "text": [
      "9/9 [==============================] - 0s 4ms/step - loss: 3439.6335 - mae: 3439.6335\n"
     ]
    },
    {
     "data": {
      "text/plain": [
       "[3439.633544921875, 3439.633544921875]"
      ]
     },
     "execution_count": 118,
     "metadata": {},
     "output_type": "execute_result"
    }
   ],
   "source": [
    "insurance_model_test_4.evaluate(X_test_normal, Y_test)"
   ]
  },
  {
   "cell_type": "code",
   "execution_count": 120,
   "id": "aeb34904",
   "metadata": {},
   "outputs": [],
   "source": [
    "# Previous result:\n",
    "# 9/9 [==============================] - 0s 4ms/step - loss: 4994.5488 - mae: 4994.5488\n",
    "\n",
    "# [4994.548828125, 4994.548828125]"
   ]
  },
  {
   "cell_type": "code",
   "execution_count": null,
   "id": "767990a2",
   "metadata": {},
   "outputs": [],
   "source": []
  }
 ],
 "metadata": {
  "kernelspec": {
   "display_name": "Python 3 (ipykernel)",
   "language": "python",
   "name": "python3"
  },
  "language_info": {
   "codemirror_mode": {
    "name": "ipython",
    "version": 3
   },
   "file_extension": ".py",
   "mimetype": "text/x-python",
   "name": "python",
   "nbconvert_exporter": "python",
   "pygments_lexer": "ipython3",
   "version": "3.9.11"
  }
 },
 "nbformat": 4,
 "nbformat_minor": 5
}
