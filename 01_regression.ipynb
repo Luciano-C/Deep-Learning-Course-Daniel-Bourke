{
 "cells": [
  {
   "cell_type": "code",
   "execution_count": 1,
   "id": "b471ce37",
   "metadata": {},
   "outputs": [],
   "source": [
    "import tensorflow as tf\n",
    "import numpy as np\n",
    "import matplotlib.pyplot as plt"
   ]
  },
  {
   "cell_type": "code",
   "execution_count": 23,
   "id": "cc75dbd7",
   "metadata": {},
   "outputs": [],
   "source": [
    "import os\n",
    "import logging\n",
    "os.environ['TF_CPP_MIN_LOG_LEVEL'] = '3'\n",
    "logging.getLogger('tensorflow').setLevel(logging.ERROR)"
   ]
  },
  {
   "cell_type": "markdown",
   "id": "e17e8ae7",
   "metadata": {},
   "source": [
    "## Creating data to view and fit"
   ]
  },
  {
   "cell_type": "code",
   "execution_count": 2,
   "id": "a23d0d98",
   "metadata": {},
   "outputs": [],
   "source": [
    "# Create features\n",
    "X = np.array([-7.0, -4.0, -1.0, 2.0, 5.0, 8.0, 11.0, 14.0])\n",
    "# Create labels\n",
    "Y = np.array([3.0, 6.0, 9.0, 12.0, 15.0, 18.0, 21.0, 24.0])"
   ]
  },
  {
   "cell_type": "code",
   "execution_count": 3,
   "id": "e83141bc",
   "metadata": {},
   "outputs": [
    {
     "data": {
      "text/plain": [
       "<matplotlib.collections.PathCollection at 0x39a8e07370>"
      ]
     },
     "execution_count": 3,
     "metadata": {},
     "output_type": "execute_result"
    },
    {
     "data": {
      "image/png": "[encoded data removed]",
      "text/plain": [
       "<Figure size 640x480 with 1 Axes>"
      ]
     },
     "metadata": {},
     "output_type": "display_data"
    }
   ],
   "source": [
    "# Visualize\n",
    "plt.scatter(X, Y)"
   ]
  },
  {
   "cell_type": "code",
   "execution_count": 4,
   "id": "3926b282",
   "metadata": {},
   "outputs": [
    {
     "data": {
      "text/plain": [
       "((8,), (8,))"
      ]
     },
     "execution_count": 4,
     "metadata": {},
     "output_type": "execute_result"
    }
   ],
   "source": [
    "input_shape = X.shape\n",
    "output_shape = Y.shape\n",
    "input_shape, output_shape"
   ]
  },
  {
   "cell_type": "code",
   "execution_count": 5,
   "id": "f9d52041",
   "metadata": {},
   "outputs": [
    {
     "data": {
      "text/plain": [
       "(<tf.Tensor: shape=(8,), dtype=float64, numpy=array([-7., -4., -1.,  2.,  5.,  8., 11., 14.])>,\n",
       " <tf.Tensor: shape=(8,), dtype=float64, numpy=array([ 3.,  6.,  9., 12., 15., 18., 21., 24.])>)"
      ]
     },
     "execution_count": 5,
     "metadata": {},
     "output_type": "execute_result"
    }
   ],
   "source": [
    "# Turn numpy arrays into tensors\n",
    "X = tf.constant(X)\n",
    "Y = tf.constant(Y)\n",
    "X, Y"
   ]
  },
  {
   "cell_type": "markdown",
   "id": "479aa9ae",
   "metadata": {},
   "source": [
    "## Steps in modeling with tensorflow"
   ]
  },
  {
   "cell_type": "markdown",
   "id": "29e3d34e",
   "metadata": {},
   "source": [
    "1. Creating a model: Define input and output laters as well as the hidden layers\n",
    "2. Compiling a model: Define loss function,  optimizer (how to improve the learning) and evaluation metrics.\n",
    "3. Fitting a model: Find the patterns."
   ]
  },
  {
   "cell_type": "code",
   "execution_count": 6,
   "id": "5f66d9b5",
   "metadata": {},
   "outputs": [],
   "source": [
    "# Set random seed\n",
    "tf.random.set_seed(42)"
   ]
  },
  {
   "cell_type": "code",
   "execution_count": 8,
   "id": "b2f49b36",
   "metadata": {},
   "outputs": [
    {
     "name": "stdout",
     "output_type": "stream",
     "text": [
      "Epoch 1/5\n",
      "1/1 [==============================] - 1s 1s/step - loss: 12.8154 - mae: 12.8154\n",
      "Epoch 2/5\n",
      "1/1 [==============================] - 0s 32ms/step - loss: 12.6829 - mae: 12.6829\n",
      "Epoch 3/5\n",
      "1/1 [==============================] - 0s 16ms/step - loss: 12.5504 - mae: 12.5504\n",
      "Epoch 4/5\n",
      "1/1 [==============================] - 0s 16ms/step - loss: 12.4179 - mae: 12.4179\n",
      "Epoch 5/5\n",
      "1/1 [==============================] - 0s 29ms/step - loss: 12.2854 - mae: 12.2854\n"
     ]
    },
    {
     "data": {
      "text/plain": [
       "<keras.callbacks.History at 0x39ad8653a0>"
      ]
     },
     "execution_count": 8,
     "metadata": {},
     "output_type": "execute_result"
    }
   ],
   "source": [
    "# Create a model\n",
    "model = tf.keras.Sequential([\n",
    "    tf.keras.layers.Dense(1),\n",
    "])\n",
    "# Compile the model\n",
    "model.compile(loss=tf.keras.losses.mae,      # MAE: Mean absolote error\n",
    "             optimizer=tf.keras.optimizers.SGD(), # SGD: Stochastic gradient descent\n",
    "             metrics=['mae'])  \n",
    "# Fit the model\n",
    "model.fit(tf.expand_dims(X, axis=-1), Y, epochs=5)"
   ]
  },
  {
   "cell_type": "code",
   "execution_count": 9,
   "id": "0c5279de",
   "metadata": {},
   "outputs": [
    {
     "name": "stdout",
     "output_type": "stream",
     "text": [
      "1/1 [==============================] - 0s 498ms/step\n"
     ]
    },
    {
     "data": {
      "text/plain": [
       "array([[6.349963]], dtype=float32)"
      ]
     },
     "execution_count": 9,
     "metadata": {},
     "output_type": "execute_result"
    }
   ],
   "source": [
    "# Check prediction\n",
    "model.predict([17.0])"
   ]
  },
  {
   "cell_type": "markdown",
   "id": "45bd88cf",
   "metadata": {},
   "source": [
    "## Improve the model\n",
    "\n",
    "1. Create a model: Add more layers, increase the number of hidden units (neurons) within layers, change activation function of each layer.\n",
    "2. Compile the model: Change optimization, change the learning rate of optimization function.\n",
    "3. Fit the model: Change epochs (look at the data more times). Feed more data to train."
   ]
  },
  {
   "cell_type": "code",
   "execution_count": 10,
   "id": "7a70ff7f",
   "metadata": {},
   "outputs": [
    {
     "name": "stdout",
     "output_type": "stream",
     "text": [
      "Epoch 1/100\n",
      "1/1 [==============================] - 1s 969ms/step - loss: 19.9724 - mae: 19.9724\n",
      "Epoch 2/100\n",
      "1/1 [==============================] - 0s 16ms/step - loss: 19.6912 - mae: 19.6912\n",
      "Epoch 3/100\n",
      "1/1 [==============================] - 0s 16ms/step - loss: 19.4099 - mae: 19.4099\n",
      "Epoch 4/100\n",
      "1/1 [==============================] - 0s 16ms/step - loss: 19.1287 - mae: 19.1287\n",
      "Epoch 5/100\n",
      "1/1 [==============================] - 0s 16ms/step - loss: 18.8474 - mae: 18.8474\n",
      "Epoch 6/100\n",
      "1/1 [==============================] - 0s 16ms/step - loss: 18.5662 - mae: 18.5662\n",
      "Epoch 7/100\n",
      "1/1 [==============================] - 0s 16ms/step - loss: 18.2849 - mae: 18.2849\n",
      "Epoch 8/100\n",
      "1/1 [==============================] - 0s 16ms/step - loss: 18.0037 - mae: 18.0037\n",
      "Epoch 9/100\n",
      "1/1 [==============================] - 0s 16ms/step - loss: 17.7224 - mae: 17.7224\n",
      "Epoch 10/100\n",
      "1/1 [==============================] - 0s 16ms/step - loss: 17.4412 - mae: 17.4412\n",
      "Epoch 11/100\n",
      "1/1 [==============================] - 0s 16ms/step - loss: 17.1599 - mae: 17.1599\n",
      "Epoch 12/100\n",
      "1/1 [==============================] - 0s 31ms/step - loss: 16.8787 - mae: 16.8787\n",
      "Epoch 13/100\n",
      "1/1 [==============================] - 0s 16ms/step - loss: 16.5974 - mae: 16.5974\n",
      "Epoch 14/100\n",
      "1/1 [==============================] - 0s 16ms/step - loss: 16.3162 - mae: 16.3162\n",
      "Epoch 15/100\n",
      "1/1 [==============================] - 0s 16ms/step - loss: 16.0349 - mae: 16.0349\n",
      "Epoch 16/100\n",
      "1/1 [==============================] - 0s 16ms/step - loss: 15.7536 - mae: 15.7536\n",
      "Epoch 17/100\n",
      "1/1 [==============================] - 0s 16ms/step - loss: 15.4724 - mae: 15.4724\n",
      "Epoch 18/100\n",
      "1/1 [==============================] - 0s 16ms/step - loss: 15.1911 - mae: 15.1911\n",
      "Epoch 19/100\n",
      "1/1 [==============================] - 0s 16ms/step - loss: 14.9099 - mae: 14.9099\n",
      "Epoch 20/100\n",
      "1/1 [==============================] - 0s 16ms/step - loss: 14.6812 - mae: 14.6812\n",
      "Epoch 21/100\n",
      "1/1 [==============================] - 0s 16ms/step - loss: 14.5487 - mae: 14.5487\n",
      "Epoch 22/100\n",
      "1/1 [==============================] - 0s 16ms/step - loss: 14.4162 - mae: 14.4162\n",
      "Epoch 23/100\n",
      "1/1 [==============================] - 0s 16ms/step - loss: 14.2837 - mae: 14.2837\n",
      "Epoch 24/100\n",
      "1/1 [==============================] - 0s 16ms/step - loss: 14.1512 - mae: 14.1512\n",
      "Epoch 25/100\n",
      "1/1 [==============================] - 0s 31ms/step - loss: 14.0187 - mae: 14.0187\n",
      "Epoch 26/100\n",
      "1/1 [==============================] - 0s 16ms/step - loss: 13.8862 - mae: 13.8862\n",
      "Epoch 27/100\n",
      "1/1 [==============================] - 0s 16ms/step - loss: 13.7537 - mae: 13.7537\n",
      "Epoch 28/100\n",
      "1/1 [==============================] - 0s 16ms/step - loss: 13.6212 - mae: 13.6212\n",
      "Epoch 29/100\n",
      "1/1 [==============================] - 0s 16ms/step - loss: 13.4887 - mae: 13.4887\n",
      "Epoch 30/100\n",
      "1/1 [==============================] - 0s 31ms/step - loss: 13.3562 - mae: 13.3562\n",
      "Epoch 31/100\n",
      "1/1 [==============================] - 0s 31ms/step - loss: 13.2237 - mae: 13.2237\n",
      "Epoch 32/100\n",
      "1/1 [==============================] - 0s 31ms/step - loss: 13.0912 - mae: 13.0912\n",
      "Epoch 33/100\n",
      "1/1 [==============================] - 0s 16ms/step - loss: 12.9587 - mae: 12.9587\n",
      "Epoch 34/100\n",
      "1/1 [==============================] - 0s 16ms/step - loss: 12.8262 - mae: 12.8262\n",
      "Epoch 35/100\n",
      "1/1 [==============================] - 0s 16ms/step - loss: 12.6937 - mae: 12.6937\n",
      "Epoch 36/100\n",
      "1/1 [==============================] - 0s 16ms/step - loss: 12.5612 - mae: 12.5612\n",
      "Epoch 37/100\n",
      "1/1 [==============================] - 0s 16ms/step - loss: 12.4287 - mae: 12.4287\n",
      "Epoch 38/100\n",
      "1/1 [==============================] - 0s 16ms/step - loss: 12.2962 - mae: 12.2962\n",
      "Epoch 39/100\n",
      "1/1 [==============================] - 0s 16ms/step - loss: 12.1637 - mae: 12.1637\n",
      "Epoch 40/100\n",
      "1/1 [==============================] - 0s 16ms/step - loss: 12.0312 - mae: 12.0312\n",
      "Epoch 41/100\n",
      "1/1 [==============================] - 0s 16ms/step - loss: 11.8987 - mae: 11.8987\n",
      "Epoch 42/100\n",
      "1/1 [==============================] - 0s 16ms/step - loss: 11.7662 - mae: 11.7662\n",
      "Epoch 43/100\n",
      "1/1 [==============================] - 0s 16ms/step - loss: 11.6337 - mae: 11.6337\n",
      "Epoch 44/100\n",
      "1/1 [==============================] - 0s 31ms/step - loss: 11.5012 - mae: 11.5012\n",
      "Epoch 45/100\n",
      "1/1 [==============================] - 0s 16ms/step - loss: 11.3687 - mae: 11.3687\n",
      "Epoch 46/100\n",
      "1/1 [==============================] - 0s 16ms/step - loss: 11.2362 - mae: 11.2362\n",
      "Epoch 47/100\n",
      "1/1 [==============================] - 0s 16ms/step - loss: 11.1037 - mae: 11.1037\n",
      "Epoch 48/100\n",
      "1/1 [==============================] - 0s 16ms/step - loss: 10.9712 - mae: 10.9712\n",
      "Epoch 49/100\n",
      "1/1 [==============================] - 0s 16ms/step - loss: 10.8387 - mae: 10.8387\n",
      "Epoch 50/100\n",
      "1/1 [==============================] - 0s 16ms/step - loss: 10.7062 - mae: 10.7062\n",
      "Epoch 51/100\n",
      "1/1 [==============================] - 0s 16ms/step - loss: 10.5737 - mae: 10.5737\n",
      "Epoch 52/100\n",
      "1/1 [==============================] - 0s 16ms/step - loss: 10.4412 - mae: 10.4412\n",
      "Epoch 53/100\n",
      "1/1 [==============================] - 0s 16ms/step - loss: 10.3087 - mae: 10.3087\n",
      "Epoch 54/100\n",
      "1/1 [==============================] - 0s 16ms/step - loss: 10.1762 - mae: 10.1762\n",
      "Epoch 55/100\n",
      "1/1 [==============================] - 0s 16ms/step - loss: 10.0437 - mae: 10.0437\n",
      "Epoch 56/100\n",
      "1/1 [==============================] - 0s 16ms/step - loss: 9.9112 - mae: 9.9112\n",
      "Epoch 57/100\n",
      "1/1 [==============================] - 0s 16ms/step - loss: 9.7787 - mae: 9.7787\n",
      "Epoch 58/100\n",
      "1/1 [==============================] - 0s 0s/step - loss: 9.6462 - mae: 9.6462\n",
      "Epoch 59/100\n",
      "1/1 [==============================] - 0s 16ms/step - loss: 9.5137 - mae: 9.5137\n",
      "Epoch 60/100\n",
      "1/1 [==============================] - 0s 16ms/step - loss: 9.3812 - mae: 9.3812\n",
      "Epoch 61/100\n",
      "1/1 [==============================] - 0s 16ms/step - loss: 9.2487 - mae: 9.2487\n",
      "Epoch 62/100\n",
      "1/1 [==============================] - 0s 16ms/step - loss: 9.1162 - mae: 9.1162\n",
      "Epoch 63/100\n",
      "1/1 [==============================] - 0s 16ms/step - loss: 8.9837 - mae: 8.9837\n",
      "Epoch 64/100\n",
      "1/1 [==============================] - 0s 16ms/step - loss: 8.8512 - mae: 8.8512\n",
      "Epoch 65/100\n",
      "1/1 [==============================] - 0s 16ms/step - loss: 8.7187 - mae: 8.7187\n",
      "Epoch 66/100\n",
      "1/1 [==============================] - 0s 16ms/step - loss: 8.5862 - mae: 8.5862\n",
      "Epoch 67/100\n",
      "1/1 [==============================] - 0s 16ms/step - loss: 8.4537 - mae: 8.4537\n",
      "Epoch 68/100\n",
      "1/1 [==============================] - 0s 16ms/step - loss: 8.3212 - mae: 8.3212\n",
      "Epoch 69/100\n",
      "1/1 [==============================] - 0s 16ms/step - loss: 8.1887 - mae: 8.1887\n",
      "Epoch 70/100\n",
      "1/1 [==============================] - 0s 16ms/step - loss: 8.0562 - mae: 8.0562\n",
      "Epoch 71/100\n",
      "1/1 [==============================] - 0s 16ms/step - loss: 7.9237 - mae: 7.9237\n",
      "Epoch 72/100\n",
      "1/1 [==============================] - 0s 16ms/step - loss: 7.7912 - mae: 7.7912\n",
      "Epoch 73/100\n",
      "1/1 [==============================] - 0s 16ms/step - loss: 7.6587 - mae: 7.6587\n",
      "Epoch 74/100\n",
      "1/1 [==============================] - 0s 16ms/step - loss: 7.5262 - mae: 7.5262\n",
      "Epoch 75/100\n",
      "1/1 [==============================] - 0s 0s/step - loss: 7.3937 - mae: 7.3937\n",
      "Epoch 76/100\n",
      "1/1 [==============================] - 0s 16ms/step - loss: 7.2612 - mae: 7.2612\n",
      "Epoch 77/100\n",
      "1/1 [==============================] - 0s 16ms/step - loss: 7.1287 - mae: 7.1287\n",
      "Epoch 78/100\n",
      "1/1 [==============================] - 0s 16ms/step - loss: 6.9962 - mae: 6.9962\n",
      "Epoch 79/100\n",
      "1/1 [==============================] - 0s 16ms/step - loss: 6.9506 - mae: 6.9506\n",
      "Epoch 80/100\n",
      "1/1 [==============================] - 0s 16ms/step - loss: 6.9450 - mae: 6.9450\n",
      "Epoch 81/100\n",
      "1/1 [==============================] - 0s 16ms/step - loss: 6.9394 - mae: 6.9394\n",
      "Epoch 82/100\n",
      "1/1 [==============================] - 0s 16ms/step - loss: 6.9338 - mae: 6.9338\n",
      "Epoch 83/100\n",
      "1/1 [==============================] - 0s 16ms/step - loss: 6.9281 - mae: 6.9281\n",
      "Epoch 84/100\n",
      "1/1 [==============================] - 0s 16ms/step - loss: 6.9225 - mae: 6.9225\n",
      "Epoch 85/100\n",
      "1/1 [==============================] - 0s 16ms/step - loss: 6.9169 - mae: 6.9169\n",
      "Epoch 86/100\n",
      "1/1 [==============================] - 0s 16ms/step - loss: 6.9113 - mae: 6.9113\n",
      "Epoch 87/100\n"
     ]
    },
    {
     "name": "stdout",
     "output_type": "stream",
     "text": [
      "1/1 [==============================] - 0s 16ms/step - loss: 6.9056 - mae: 6.9056\n",
      "Epoch 88/100\n",
      "1/1 [==============================] - 0s 16ms/step - loss: 6.9000 - mae: 6.9000\n",
      "Epoch 89/100\n",
      "1/1 [==============================] - 0s 16ms/step - loss: 6.8944 - mae: 6.8944\n",
      "Epoch 90/100\n",
      "1/1 [==============================] - 0s 16ms/step - loss: 6.8888 - mae: 6.8888\n",
      "Epoch 91/100\n",
      "1/1 [==============================] - 0s 16ms/step - loss: 6.8831 - mae: 6.8831\n",
      "Epoch 92/100\n",
      "1/1 [==============================] - 0s 16ms/step - loss: 6.8775 - mae: 6.8775\n",
      "Epoch 93/100\n",
      "1/1 [==============================] - 0s 16ms/step - loss: 6.8719 - mae: 6.8719\n",
      "Epoch 94/100\n",
      "1/1 [==============================] - 0s 16ms/step - loss: 6.8663 - mae: 6.8663\n",
      "Epoch 95/100\n",
      "1/1 [==============================] - 0s 16ms/step - loss: 6.8606 - mae: 6.8606\n",
      "Epoch 96/100\n",
      "1/1 [==============================] - 0s 16ms/step - loss: 6.8550 - mae: 6.8550\n",
      "Epoch 97/100\n",
      "1/1 [==============================] - 0s 16ms/step - loss: 6.8494 - mae: 6.8494\n",
      "Epoch 98/100\n",
      "1/1 [==============================] - 0s 16ms/step - loss: 6.8438 - mae: 6.8438\n",
      "Epoch 99/100\n",
      "1/1 [==============================] - 0s 16ms/step - loss: 6.8381 - mae: 6.8381\n",
      "Epoch 100/100\n",
      "1/1 [==============================] - 0s 16ms/step - loss: 6.8325 - mae: 6.8325\n"
     ]
    },
    {
     "data": {
      "text/plain": [
       "<keras.callbacks.History at 0x39aed658b0>"
      ]
     },
     "execution_count": 10,
     "metadata": {},
     "output_type": "execute_result"
    }
   ],
   "source": [
    "# Rebuild the model\n",
    "model = tf.keras.Sequential([\n",
    "    tf.keras.layers.Dense(1),\n",
    "])\n",
    "# Compile the model\n",
    "model.compile(loss=tf.keras.losses.mae,\n",
    "             optimizer=tf.keras.optimizers.SGD(),\n",
    "             metrics=['mae'])  \n",
    "# Fit the model\n",
    "model.fit(tf.expand_dims(X, axis=-1), Y, epochs=100)"
   ]
  },
  {
   "cell_type": "code",
   "execution_count": 11,
   "id": "5962b2b2",
   "metadata": {},
   "outputs": [
    {
     "name": "stdout",
     "output_type": "stream",
     "text": [
      "1/1 [==============================] - 0s 313ms/step\n"
     ]
    },
    {
     "data": {
      "text/plain": [
       "array([[29.573175]], dtype=float32)"
      ]
     },
     "execution_count": 11,
     "metadata": {},
     "output_type": "execute_result"
    }
   ],
   "source": [
    "model.predict([17.0])"
   ]
  },
  {
   "cell_type": "code",
   "execution_count": 39,
   "id": "92e9512f",
   "metadata": {
    "scrolled": false
   },
   "outputs": [
    {
     "name": "stdout",
     "output_type": "stream",
     "text": [
      "Epoch 1/100\n",
      "1/1 [==============================] - 2s 2s/step - loss: 12.2834 - mae: 12.2834\n",
      "Epoch 2/100\n",
      "1/1 [==============================] - 0s 10ms/step - loss: 12.2155 - mae: 12.2155\n",
      "Epoch 3/100\n",
      "1/1 [==============================] - 0s 20ms/step - loss: 12.1476 - mae: 12.1476\n",
      "Epoch 4/100\n",
      "1/1 [==============================] - 0s 10ms/step - loss: 12.0798 - mae: 12.0798\n",
      "Epoch 5/100\n",
      "1/1 [==============================] - 0s 20ms/step - loss: 12.0119 - mae: 12.0119\n",
      "Epoch 6/100\n",
      "1/1 [==============================] - 0s 20ms/step - loss: 11.9440 - mae: 11.9440\n",
      "Epoch 7/100\n",
      "1/1 [==============================] - 0s 10ms/step - loss: 11.8762 - mae: 11.8762\n",
      "Epoch 8/100\n",
      "1/1 [==============================] - 0s 20ms/step - loss: 11.8083 - mae: 11.8083\n",
      "Epoch 9/100\n",
      "1/1 [==============================] - 0s 20ms/step - loss: 11.7404 - mae: 11.7404\n",
      "Epoch 10/100\n",
      "1/1 [==============================] - 0s 20ms/step - loss: 11.6724 - mae: 11.6724\n",
      "Epoch 11/100\n",
      "1/1 [==============================] - 0s 20ms/step - loss: 11.6045 - mae: 11.6045\n",
      "Epoch 12/100\n",
      "1/1 [==============================] - 0s 10ms/step - loss: 11.5365 - mae: 11.5365\n",
      "Epoch 13/100\n",
      "1/1 [==============================] - 0s 20ms/step - loss: 11.4685 - mae: 11.4685\n",
      "Epoch 14/100\n",
      "1/1 [==============================] - 0s 20ms/step - loss: 11.4004 - mae: 11.4004\n",
      "Epoch 15/100\n",
      "1/1 [==============================] - 0s 10ms/step - loss: 11.3323 - mae: 11.3323\n",
      "Epoch 16/100\n",
      "1/1 [==============================] - 0s 20ms/step - loss: 11.2641 - mae: 11.2641\n",
      "Epoch 17/100\n",
      "1/1 [==============================] - 0s 20ms/step - loss: 11.1959 - mae: 11.1959\n",
      "Epoch 18/100\n",
      "1/1 [==============================] - 0s 20ms/step - loss: 11.1276 - mae: 11.1276\n",
      "Epoch 19/100\n",
      "1/1 [==============================] - 0s 10ms/step - loss: 11.0592 - mae: 11.0592\n",
      "Epoch 20/100\n",
      "1/1 [==============================] - 0s 20ms/step - loss: 10.9907 - mae: 10.9907\n",
      "Epoch 21/100\n",
      "1/1 [==============================] - 0s 10ms/step - loss: 10.9221 - mae: 10.9221\n",
      "Epoch 22/100\n",
      "1/1 [==============================] - 0s 20ms/step - loss: 10.8534 - mae: 10.8534\n",
      "Epoch 23/100\n",
      "1/1 [==============================] - 0s 20ms/step - loss: 10.7846 - mae: 10.7846\n",
      "Epoch 24/100\n",
      "1/1 [==============================] - 0s 20ms/step - loss: 10.7157 - mae: 10.7157\n",
      "Epoch 25/100\n",
      "1/1 [==============================] - 0s 20ms/step - loss: 10.6466 - mae: 10.6466\n",
      "Epoch 26/100\n",
      "1/1 [==============================] - 0s 20ms/step - loss: 10.5774 - mae: 10.5774\n",
      "Epoch 27/100\n",
      "1/1 [==============================] - 0s 20ms/step - loss: 10.5080 - mae: 10.5080\n",
      "Epoch 28/100\n",
      "1/1 [==============================] - 0s 20ms/step - loss: 10.4385 - mae: 10.4385\n",
      "Epoch 29/100\n",
      "1/1 [==============================] - 0s 20ms/step - loss: 10.3688 - mae: 10.3688\n",
      "Epoch 30/100\n",
      "1/1 [==============================] - 0s 20ms/step - loss: 10.2990 - mae: 10.2990\n",
      "Epoch 31/100\n",
      "1/1 [==============================] - 0s 20ms/step - loss: 10.2289 - mae: 10.2289\n",
      "Epoch 32/100\n",
      "1/1 [==============================] - 0s 10ms/step - loss: 10.1587 - mae: 10.1587\n",
      "Epoch 33/100\n",
      "1/1 [==============================] - 0s 20ms/step - loss: 10.0883 - mae: 10.0883\n",
      "Epoch 34/100\n",
      "1/1 [==============================] - 0s 10ms/step - loss: 10.0177 - mae: 10.0177\n",
      "Epoch 35/100\n",
      "1/1 [==============================] - 0s 20ms/step - loss: 9.9468 - mae: 9.9468\n",
      "Epoch 36/100\n",
      "1/1 [==============================] - 0s 20ms/step - loss: 9.8758 - mae: 9.8758\n",
      "Epoch 37/100\n",
      "1/1 [==============================] - 0s 20ms/step - loss: 9.8045 - mae: 9.8045\n",
      "Epoch 38/100\n",
      "1/1 [==============================] - 0s 20ms/step - loss: 9.7329 - mae: 9.7329\n",
      "Epoch 39/100\n",
      "1/1 [==============================] - 0s 20ms/step - loss: 9.6611 - mae: 9.6611\n",
      "Epoch 40/100\n",
      "1/1 [==============================] - 0s 20ms/step - loss: 9.5890 - mae: 9.5890\n",
      "Epoch 41/100\n",
      "1/1 [==============================] - 0s 20ms/step - loss: 9.5167 - mae: 9.5167\n",
      "Epoch 42/100\n",
      "1/1 [==============================] - 0s 10ms/step - loss: 9.4441 - mae: 9.4441\n",
      "Epoch 43/100\n",
      "1/1 [==============================] - 0s 20ms/step - loss: 9.3712 - mae: 9.3712\n",
      "Epoch 44/100\n",
      "1/1 [==============================] - 0s 10ms/step - loss: 9.2980 - mae: 9.2980\n",
      "Epoch 45/100\n",
      "1/1 [==============================] - 0s 10ms/step - loss: 9.2245 - mae: 9.2245\n",
      "Epoch 46/100\n",
      "1/1 [==============================] - 0s 20ms/step - loss: 9.1507 - mae: 9.1507\n",
      "Epoch 47/100\n",
      "1/1 [==============================] - 0s 20ms/step - loss: 9.0765 - mae: 9.0765\n",
      "Epoch 48/100\n",
      "1/1 [==============================] - 0s 20ms/step - loss: 9.0021 - mae: 9.0021\n",
      "Epoch 49/100\n",
      "1/1 [==============================] - 0s 28ms/step - loss: 8.9273 - mae: 8.9273\n",
      "Epoch 50/100\n",
      "1/1 [==============================] - 0s 16ms/step - loss: 8.8521 - mae: 8.8521\n",
      "Epoch 51/100\n",
      "1/1 [==============================] - 0s 21ms/step - loss: 8.7766 - mae: 8.7766\n",
      "Epoch 52/100\n",
      "1/1 [==============================] - 0s 20ms/step - loss: 8.7007 - mae: 8.7007\n",
      "Epoch 53/100\n",
      "1/1 [==============================] - 0s 12ms/step - loss: 8.6245 - mae: 8.6245\n",
      "Epoch 54/100\n",
      "1/1 [==============================] - 0s 20ms/step - loss: 8.5479 - mae: 8.5479\n",
      "Epoch 55/100\n",
      "1/1 [==============================] - 0s 14ms/step - loss: 8.4709 - mae: 8.4709\n",
      "Epoch 56/100\n",
      "1/1 [==============================] - 0s 28ms/step - loss: 8.3934 - mae: 8.3934\n",
      "Epoch 57/100\n",
      "1/1 [==============================] - 0s 14ms/step - loss: 8.3156 - mae: 8.3156\n",
      "Epoch 58/100\n",
      "1/1 [==============================] - 0s 14ms/step - loss: 8.2374 - mae: 8.2374\n",
      "Epoch 59/100\n",
      "1/1 [==============================] - 0s 28ms/step - loss: 8.1587 - mae: 8.1587\n",
      "Epoch 60/100\n",
      "1/1 [==============================] - 0s 16ms/step - loss: 8.0797 - mae: 8.0797\n",
      "Epoch 61/100\n",
      "1/1 [==============================] - 0s 16ms/step - loss: 8.0001 - mae: 8.0001\n",
      "Epoch 62/100\n",
      "1/1 [==============================] - 0s 16ms/step - loss: 7.9202 - mae: 7.9202\n",
      "Epoch 63/100\n",
      "1/1 [==============================] - 0s 16ms/step - loss: 7.8398 - mae: 7.8398\n",
      "Epoch 64/100\n",
      "1/1 [==============================] - 0s 16ms/step - loss: 7.7589 - mae: 7.7589\n",
      "Epoch 65/100\n",
      "1/1 [==============================] - 0s 16ms/step - loss: 7.6775 - mae: 7.6775\n",
      "Epoch 66/100\n",
      "1/1 [==============================] - 0s 16ms/step - loss: 7.5957 - mae: 7.5957\n",
      "Epoch 67/100\n",
      "1/1 [==============================] - 0s 16ms/step - loss: 7.5134 - mae: 7.5134\n",
      "Epoch 68/100\n",
      "1/1 [==============================] - 0s 16ms/step - loss: 7.4306 - mae: 7.4306\n",
      "Epoch 69/100\n",
      "1/1 [==============================] - 0s 16ms/step - loss: 7.3473 - mae: 7.3473\n",
      "Epoch 70/100\n",
      "1/1 [==============================] - 0s 16ms/step - loss: 7.2635 - mae: 7.2635\n",
      "Epoch 71/100\n",
      "1/1 [==============================] - 0s 31ms/step - loss: 7.1792 - mae: 7.1792\n",
      "Epoch 72/100\n",
      "1/1 [==============================] - 0s 16ms/step - loss: 7.0943 - mae: 7.0943\n",
      "Epoch 73/100\n",
      "1/1 [==============================] - 0s 31ms/step - loss: 7.0090 - mae: 7.0090\n",
      "Epoch 74/100\n",
      "1/1 [==============================] - 0s 16ms/step - loss: 6.9231 - mae: 6.9231\n",
      "Epoch 75/100\n",
      "1/1 [==============================] - 0s 16ms/step - loss: 6.9065 - mae: 6.9065\n",
      "Epoch 76/100\n",
      "1/1 [==============================] - 0s 16ms/step - loss: 6.8964 - mae: 6.8964\n",
      "Epoch 77/100\n",
      "1/1 [==============================] - 0s 31ms/step - loss: 6.8866 - mae: 6.8866\n",
      "Epoch 78/100\n",
      "1/1 [==============================] - 0s 16ms/step - loss: 6.8770 - mae: 6.8770\n",
      "Epoch 79/100\n",
      "1/1 [==============================] - 0s 16ms/step - loss: 6.8675 - mae: 6.8675\n",
      "Epoch 80/100\n",
      "1/1 [==============================] - 0s 16ms/step - loss: 6.8582 - mae: 6.8582\n",
      "Epoch 81/100\n",
      "1/1 [==============================] - 0s 16ms/step - loss: 6.8491 - mae: 6.8491\n",
      "Epoch 82/100\n",
      "1/1 [==============================] - 0s 16ms/step - loss: 6.8400 - mae: 6.8400\n",
      "Epoch 83/100\n",
      "1/1 [==============================] - 0s 16ms/step - loss: 6.8311 - mae: 6.8311\n",
      "Epoch 84/100\n",
      "1/1 [==============================] - 0s 16ms/step - loss: 6.8222 - mae: 6.8222\n",
      "Epoch 85/100\n",
      "1/1 [==============================] - 0s 16ms/step - loss: 6.8134 - mae: 6.8134\n",
      "Epoch 86/100\n",
      "1/1 [==============================] - 0s 16ms/step - loss: 6.8047 - mae: 6.8047\n",
      "Epoch 87/100\n"
     ]
    },
    {
     "name": "stdout",
     "output_type": "stream",
     "text": [
      "1/1 [==============================] - 0s 16ms/step - loss: 6.7961 - mae: 6.7961\n",
      "Epoch 88/100\n",
      "1/1 [==============================] - 0s 16ms/step - loss: 6.8036 - mae: 6.8036\n",
      "Epoch 89/100\n",
      "1/1 [==============================] - 0s 16ms/step - loss: 6.8088 - mae: 6.8088\n",
      "Epoch 90/100\n",
      "1/1 [==============================] - 0s 16ms/step - loss: 6.8081 - mae: 6.8081\n",
      "Epoch 91/100\n",
      "1/1 [==============================] - 0s 16ms/step - loss: 6.8020 - mae: 6.8020\n",
      "Epoch 92/100\n",
      "1/1 [==============================] - 0s 16ms/step - loss: 6.7910 - mae: 6.7910\n",
      "Epoch 93/100\n",
      "1/1 [==============================] - 0s 16ms/step - loss: 6.7757 - mae: 6.7757\n",
      "Epoch 94/100\n",
      "1/1 [==============================] - 0s 16ms/step - loss: 6.7565 - mae: 6.7565\n",
      "Epoch 95/100\n",
      "1/1 [==============================] - 0s 16ms/step - loss: 6.7386 - mae: 6.7386\n",
      "Epoch 96/100\n",
      "1/1 [==============================] - 0s 31ms/step - loss: 6.7324 - mae: 6.7324\n",
      "Epoch 97/100\n",
      "1/1 [==============================] - 0s 16ms/step - loss: 6.7260 - mae: 6.7260\n",
      "Epoch 98/100\n",
      "1/1 [==============================] - 0s 16ms/step - loss: 6.7195 - mae: 6.7195\n",
      "Epoch 99/100\n",
      "1/1 [==============================] - 0s 16ms/step - loss: 6.7127 - mae: 6.7127\n",
      "Epoch 100/100\n",
      "1/1 [==============================] - 0s 0s/step - loss: 6.7059 - mae: 6.7059\n"
     ]
    },
    {
     "data": {
      "text/plain": [
       "<keras.callbacks.History at 0x39b3d34760>"
      ]
     },
     "execution_count": 39,
     "metadata": {},
     "output_type": "execute_result"
    }
   ],
   "source": [
    "# Trying another change: Extra layer with 100 hidden units\n",
    "model = tf.keras.Sequential([\n",
    "    tf.keras.layers.Dense(50, activation=None),\n",
    "    tf.keras.layers.Dense(1)\n",
    "])\n",
    "# Compile the model\n",
    "model.compile(loss=tf.keras.losses.mae,\n",
    "             optimizer=tf.keras.optimizers.Adam(learning_rate=0.01),\n",
    "             metrics=['mae'])  \n",
    "# Fit the model\n",
    "model.fit(tf.expand_dims(X, axis=-1), Y, epochs=100)"
   ]
  },
  {
   "cell_type": "code",
   "execution_count": 40,
   "id": "30c9761a",
   "metadata": {},
   "outputs": [
    {
     "name": "stdout",
     "output_type": "stream",
     "text": [
      "1/1 [==============================] - 0s 313ms/step\n"
     ]
    },
    {
     "data": {
      "text/plain": [
       "array([[31.452871]], dtype=float32)"
      ]
     },
     "execution_count": 40,
     "metadata": {},
     "output_type": "execute_result"
    }
   ],
   "source": [
    "# Might be overfitting, since the metrics is better, but the predicion deviates more than the previous test \n",
    "model.predict([17.0])"
   ]
  },
  {
   "cell_type": "code",
   "execution_count": null,
   "id": "b5880f79",
   "metadata": {},
   "outputs": [],
   "source": []
  }
 ],
 "metadata": {
  "kernelspec": {
   "display_name": "Python 3 (ipykernel)",
   "language": "python",
   "name": "python3"
  },
  "language_info": {
   "codemirror_mode": {
    "name": "ipython",
    "version": 3
   },
   "file_extension": ".py",
   "mimetype": "text/x-python",
   "name": "python",
   "nbconvert_exporter": "python",
   "pygments_lexer": "ipython3",
   "version": "3.9.11"
  }
 },
 "nbformat": 4,
 "nbformat_minor": 5
}
