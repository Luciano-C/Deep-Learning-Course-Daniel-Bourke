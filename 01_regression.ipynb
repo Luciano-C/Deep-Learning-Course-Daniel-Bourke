{
 "cells": [
  {
   "cell_type": "code",
   "execution_count": 64,
   "id": "b471ce37",
   "metadata": {},
   "outputs": [],
   "source": [
    "import tensorflow as tf\n",
    "import numpy as np\n",
    "import matplotlib.pyplot as plt\n",
    "import pandas as pd\n",
    "\n",
    "from tensorflow.keras.utils import plot_model"
   ]
  },
  {
   "cell_type": "code",
   "execution_count": 2,
   "id": "76c3aa96",
   "metadata": {},
   "outputs": [],
   "source": [
    "import logging\n",
    "logging.getLogger('tensorflow').setLevel(logging.ERROR)"
   ]
  },
  {
   "cell_type": "markdown",
   "id": "02974052",
   "metadata": {},
   "source": [
    "## Creating data to view and fit"
   ]
  },
  {
   "cell_type": "code",
   "execution_count": 3,
   "id": "a2ccaffd",
   "metadata": {},
   "outputs": [],
   "source": [
    "# Create features\n",
    "X = np.array([-7.0, -4.0, -1.0, 2.0, 5.0, 8.0, 11.0, 14.0])\n",
    "# Create labels\n",
    "Y = np.array([3.0, 6.0, 9.0, 12.0, 15.0, 18.0, 21.0, 24.0])"
   ]
  },
  {
   "cell_type": "code",
   "execution_count": 4,
   "id": "8fc123db",
   "metadata": {},
   "outputs": [
    {
     "data": {
      "text/plain": [
       "<matplotlib.collections.PathCollection at 0x879b1ceb80>"
      ]
     },
     "execution_count": 4,
     "metadata": {},
     "output_type": "execute_result"
    },
    {
     "data": {
      "image/png": "[encoded data removed]",
      "text/plain": [
       "<Figure size 640x480 with 1 Axes>"
      ]
     },
     "metadata": {},
     "output_type": "display_data"
    }
   ],
   "source": [
    "# Visualize\n",
    "plt.scatter(X, Y)"
   ]
  },
  {
   "cell_type": "code",
   "execution_count": 5,
   "id": "b9bba341",
   "metadata": {},
   "outputs": [
    {
     "data": {
      "text/plain": [
       "((8,), (8,))"
      ]
     },
     "execution_count": 5,
     "metadata": {},
     "output_type": "execute_result"
    }
   ],
   "source": [
    "input_shape = X.shape\n",
    "output_shape = Y.shape\n",
    "input_shape, output_shape"
   ]
  },
  {
   "cell_type": "code",
   "execution_count": 6,
   "id": "7782a61a",
   "metadata": {},
   "outputs": [
    {
     "data": {
      "text/plain": [
       "(<tf.Tensor: shape=(8,), dtype=float64, numpy=array([-7., -4., -1.,  2.,  5.,  8., 11., 14.])>,\n",
       " <tf.Tensor: shape=(8,), dtype=float64, numpy=array([ 3.,  6.,  9., 12., 15., 18., 21., 24.])>)"
      ]
     },
     "execution_count": 6,
     "metadata": {},
     "output_type": "execute_result"
    }
   ],
   "source": [
    "# Turn numpy arrays into tensors\n",
    "X = tf.constant(X)\n",
    "Y = tf.constant(Y)\n",
    "X, Y"
   ]
  },
  {
   "cell_type": "markdown",
   "id": "a478e51e",
   "metadata": {},
   "source": [
    "## Steps in modeling with tensorflow"
   ]
  },
  {
   "cell_type": "markdown",
   "id": "f005e028",
   "metadata": {},
   "source": [
    "1. Creating a model: Define input and output laters as well as the hidden layers\n",
    "2. Compiling a model: Define loss function,  optimizer (how to improve the learning) and evaluation metrics.\n",
    "3. Fitting a model: Find the patterns."
   ]
  },
  {
   "cell_type": "code",
   "execution_count": 7,
   "id": "247cbdfc",
   "metadata": {},
   "outputs": [],
   "source": [
    "# Set random seed\n",
    "tf.random.set_seed(42)"
   ]
  },
  {
   "cell_type": "code",
   "execution_count": 8,
   "id": "29fcc9cb",
   "metadata": {},
   "outputs": [
    {
     "name": "stdout",
     "output_type": "stream",
     "text": [
      "Epoch 1/5\n",
      "1/1 [==============================] - 3s 3s/step - loss: 15.8329 - mae: 15.8329\n",
      "Epoch 2/5\n",
      "1/1 [==============================] - 0s 56ms/step - loss: 15.5516 - mae: 15.5516\n",
      "Epoch 3/5\n",
      "1/1 [==============================] - 0s 16ms/step - loss: 15.2704 - mae: 15.2704\n",
      "Epoch 4/5\n",
      "1/1 [==============================] - 0s 20ms/step - loss: 14.9891 - mae: 14.9891\n",
      "Epoch 5/5\n",
      "1/1 [==============================] - 0s 16ms/step - loss: 14.7902 - mae: 14.7902\n"
     ]
    },
    {
     "data": {
      "text/plain": [
       "<keras.callbacks.History at 0x879f5b8070>"
      ]
     },
     "execution_count": 8,
     "metadata": {},
     "output_type": "execute_result"
    }
   ],
   "source": [
    "# Create a model\n",
    "model = tf.keras.Sequential([\n",
    "    tf.keras.layers.Dense(1),\n",
    "])\n",
    "# Compile the model\n",
    "model.compile(loss=tf.keras.losses.mae,      # MAE: Mean absolote error\n",
    "             optimizer=tf.keras.optimizers.SGD(), # SGD: Stochastic gradient descent\n",
    "             metrics=['mae'])  \n",
    "# Fit the model\n",
    "model.fit(tf.expand_dims(X, axis=-1), Y, epochs=5)"
   ]
  },
  {
   "cell_type": "code",
   "execution_count": 9,
   "id": "eff1cfc9",
   "metadata": {},
   "outputs": [
    {
     "name": "stdout",
     "output_type": "stream",
     "text": [
      "1/1 [==============================] - 1s 536ms/step\n"
     ]
    },
    {
     "data": {
      "text/plain": [
       "array([[-5.777615]], dtype=float32)"
      ]
     },
     "execution_count": 9,
     "metadata": {},
     "output_type": "execute_result"
    }
   ],
   "source": [
    "# Check prediction\n",
    "model.predict([17.0])"
   ]
  },
  {
   "cell_type": "markdown",
   "id": "1fea9aa4",
   "metadata": {},
   "source": [
    "## Improve the model\n",
    "\n",
    "1. Create a model: Add more layers, increase the number of hidden units (neurons) within layers, change activation function of each layer.\n",
    "2. Compile the model: Change optimization, change the learning rate of optimization function.\n",
    "3. Fit the model: Change epochs (look at the data more times). Feed more data to train."
   ]
  },
  {
   "cell_type": "code",
   "execution_count": 10,
   "id": "99ae6f78",
   "metadata": {},
   "outputs": [
    {
     "name": "stdout",
     "output_type": "stream",
     "text": [
      "Epoch 1/100\n",
      "1/1 [==============================] - 1s 1s/step - loss: 10.3174 - mae: 10.3174\n",
      "Epoch 2/100\n",
      "1/1 [==============================] - 0s 16ms/step - loss: 10.1849 - mae: 10.1849\n",
      "Epoch 3/100\n",
      "1/1 [==============================] - 0s 16ms/step - loss: 10.0524 - mae: 10.0524\n",
      "Epoch 4/100\n",
      "1/1 [==============================] - 0s 20ms/step - loss: 9.9199 - mae: 9.9199\n",
      "Epoch 5/100\n",
      "1/1 [==============================] - 0s 16ms/step - loss: 9.7874 - mae: 9.7874\n",
      "Epoch 6/100\n",
      "1/1 [==============================] - 0s 20ms/step - loss: 9.6549 - mae: 9.6549\n",
      "Epoch 7/100\n",
      "1/1 [==============================] - 0s 16ms/step - loss: 9.5224 - mae: 9.5224\n",
      "Epoch 8/100\n",
      "1/1 [==============================] - 0s 20ms/step - loss: 9.3899 - mae: 9.3899\n",
      "Epoch 9/100\n",
      "1/1 [==============================] - 0s 20ms/step - loss: 9.2574 - mae: 9.2574\n",
      "Epoch 10/100\n",
      "1/1 [==============================] - 0s 16ms/step - loss: 9.1249 - mae: 9.1249\n",
      "Epoch 11/100\n",
      "1/1 [==============================] - 0s 20ms/step - loss: 8.9924 - mae: 8.9924\n",
      "Epoch 12/100\n",
      "1/1 [==============================] - 0s 16ms/step - loss: 8.8599 - mae: 8.8599\n",
      "Epoch 13/100\n",
      "1/1 [==============================] - 0s 16ms/step - loss: 8.7274 - mae: 8.7274\n",
      "Epoch 14/100\n",
      "1/1 [==============================] - 0s 12ms/step - loss: 8.5949 - mae: 8.5949\n",
      "Epoch 15/100\n",
      "1/1 [==============================] - 0s 16ms/step - loss: 8.4624 - mae: 8.4624\n",
      "Epoch 16/100\n",
      "1/1 [==============================] - 0s 16ms/step - loss: 8.3299 - mae: 8.3299\n",
      "Epoch 17/100\n",
      "1/1 [==============================] - 0s 16ms/step - loss: 8.1974 - mae: 8.1974\n",
      "Epoch 18/100\n",
      "1/1 [==============================] - 0s 16ms/step - loss: 8.0649 - mae: 8.0649\n",
      "Epoch 19/100\n",
      "1/1 [==============================] - 0s 16ms/step - loss: 7.9324 - mae: 7.9324\n",
      "Epoch 20/100\n",
      "1/1 [==============================] - 0s 16ms/step - loss: 7.7999 - mae: 7.7999\n",
      "Epoch 21/100\n",
      "1/1 [==============================] - 0s 12ms/step - loss: 7.6674 - mae: 7.6674\n",
      "Epoch 22/100\n",
      "1/1 [==============================] - 0s 16ms/step - loss: 7.5349 - mae: 7.5349\n",
      "Epoch 23/100\n",
      "1/1 [==============================] - 0s 16ms/step - loss: 7.4024 - mae: 7.4024\n",
      "Epoch 24/100\n",
      "1/1 [==============================] - 0s 12ms/step - loss: 7.3275 - mae: 7.3275\n",
      "Epoch 25/100\n",
      "1/1 [==============================] - 0s 12ms/step - loss: 7.3219 - mae: 7.3219\n",
      "Epoch 26/100\n",
      "1/1 [==============================] - 0s 12ms/step - loss: 7.3162 - mae: 7.3162\n",
      "Epoch 27/100\n",
      "1/1 [==============================] - 0s 12ms/step - loss: 7.3106 - mae: 7.3106\n",
      "Epoch 28/100\n",
      "1/1 [==============================] - 0s 16ms/step - loss: 7.3050 - mae: 7.3050\n",
      "Epoch 29/100\n",
      "1/1 [==============================] - 0s 12ms/step - loss: 7.2994 - mae: 7.2994\n",
      "Epoch 30/100\n",
      "1/1 [==============================] - 0s 16ms/step - loss: 7.2938 - mae: 7.2938\n",
      "Epoch 31/100\n",
      "1/1 [==============================] - 0s 16ms/step - loss: 7.2881 - mae: 7.2881\n",
      "Epoch 32/100\n",
      "1/1 [==============================] - 0s 20ms/step - loss: 7.2825 - mae: 7.2825\n",
      "Epoch 33/100\n",
      "1/1 [==============================] - 0s 20ms/step - loss: 7.2769 - mae: 7.2769\n",
      "Epoch 34/100\n",
      "1/1 [==============================] - 0s 20ms/step - loss: 7.2712 - mae: 7.2712\n",
      "Epoch 35/100\n",
      "1/1 [==============================] - 0s 20ms/step - loss: 7.2656 - mae: 7.2656\n",
      "Epoch 36/100\n",
      "1/1 [==============================] - 0s 24ms/step - loss: 7.2600 - mae: 7.2600\n",
      "Epoch 37/100\n",
      "1/1 [==============================] - 0s 20ms/step - loss: 7.2544 - mae: 7.2544\n",
      "Epoch 38/100\n",
      "1/1 [==============================] - 0s 16ms/step - loss: 7.2487 - mae: 7.2487\n",
      "Epoch 39/100\n",
      "1/1 [==============================] - 0s 16ms/step - loss: 7.2431 - mae: 7.2431\n",
      "Epoch 40/100\n",
      "1/1 [==============================] - 0s 20ms/step - loss: 7.2375 - mae: 7.2375\n",
      "Epoch 41/100\n",
      "1/1 [==============================] - 0s 20ms/step - loss: 7.2319 - mae: 7.2319\n",
      "Epoch 42/100\n",
      "1/1 [==============================] - 0s 16ms/step - loss: 7.2263 - mae: 7.2263\n",
      "Epoch 43/100\n",
      "1/1 [==============================] - 0s 16ms/step - loss: 7.2206 - mae: 7.2206\n",
      "Epoch 44/100\n",
      "1/1 [==============================] - 0s 16ms/step - loss: 7.2150 - mae: 7.2150\n",
      "Epoch 45/100\n",
      "1/1 [==============================] - 0s 16ms/step - loss: 7.2094 - mae: 7.2094\n",
      "Epoch 46/100\n",
      "1/1 [==============================] - 0s 16ms/step - loss: 7.2038 - mae: 7.2038\n",
      "Epoch 47/100\n",
      "1/1 [==============================] - 0s 16ms/step - loss: 7.1981 - mae: 7.1981\n",
      "Epoch 48/100\n",
      "1/1 [==============================] - 0s 20ms/step - loss: 7.1925 - mae: 7.1925\n",
      "Epoch 49/100\n",
      "1/1 [==============================] - 0s 16ms/step - loss: 7.1869 - mae: 7.1869\n",
      "Epoch 50/100\n",
      "1/1 [==============================] - 0s 16ms/step - loss: 7.1813 - mae: 7.1813\n",
      "Epoch 51/100\n",
      "1/1 [==============================] - 0s 16ms/step - loss: 7.1756 - mae: 7.1756\n",
      "Epoch 52/100\n",
      "1/1 [==============================] - 0s 16ms/step - loss: 7.1700 - mae: 7.1700\n",
      "Epoch 53/100\n",
      "1/1 [==============================] - 0s 16ms/step - loss: 7.1644 - mae: 7.1644\n",
      "Epoch 54/100\n",
      "1/1 [==============================] - 0s 16ms/step - loss: 7.1588 - mae: 7.1588\n",
      "Epoch 55/100\n",
      "1/1 [==============================] - 0s 12ms/step - loss: 7.1531 - mae: 7.1531\n",
      "Epoch 56/100\n",
      "1/1 [==============================] - 0s 16ms/step - loss: 7.1475 - mae: 7.1475\n",
      "Epoch 57/100\n",
      "1/1 [==============================] - 0s 16ms/step - loss: 7.1419 - mae: 7.1419\n",
      "Epoch 58/100\n",
      "1/1 [==============================] - 0s 16ms/step - loss: 7.1363 - mae: 7.1363\n",
      "Epoch 59/100\n",
      "1/1 [==============================] - 0s 16ms/step - loss: 7.1306 - mae: 7.1306\n",
      "Epoch 60/100\n",
      "1/1 [==============================] - 0s 12ms/step - loss: 7.1250 - mae: 7.1250\n",
      "Epoch 61/100\n",
      "1/1 [==============================] - 0s 16ms/step - loss: 7.1194 - mae: 7.1194\n",
      "Epoch 62/100\n",
      "1/1 [==============================] - 0s 12ms/step - loss: 7.1138 - mae: 7.1138\n",
      "Epoch 63/100\n",
      "1/1 [==============================] - 0s 12ms/step - loss: 7.1081 - mae: 7.1081\n",
      "Epoch 64/100\n",
      "1/1 [==============================] - 0s 16ms/step - loss: 7.1025 - mae: 7.1025\n",
      "Epoch 65/100\n",
      "1/1 [==============================] - 0s 16ms/step - loss: 7.0969 - mae: 7.0969\n",
      "Epoch 66/100\n",
      "1/1 [==============================] - 0s 16ms/step - loss: 7.0913 - mae: 7.0913\n",
      "Epoch 67/100\n",
      "1/1 [==============================] - 0s 20ms/step - loss: 7.0856 - mae: 7.0856\n",
      "Epoch 68/100\n",
      "1/1 [==============================] - 0s 24ms/step - loss: 7.0800 - mae: 7.0800\n",
      "Epoch 69/100\n",
      "1/1 [==============================] - 0s 24ms/step - loss: 7.0744 - mae: 7.0744\n",
      "Epoch 70/100\n",
      "1/1 [==============================] - 0s 20ms/step - loss: 7.0688 - mae: 7.0688\n",
      "Epoch 71/100\n",
      "1/1 [==============================] - 0s 20ms/step - loss: 7.0631 - mae: 7.0631\n",
      "Epoch 72/100\n",
      "1/1 [==============================] - 0s 20ms/step - loss: 7.0575 - mae: 7.0575\n",
      "Epoch 73/100\n",
      "1/1 [==============================] - 0s 20ms/step - loss: 7.0519 - mae: 7.0519\n",
      "Epoch 74/100\n",
      "1/1 [==============================] - 0s 20ms/step - loss: 7.0463 - mae: 7.0463\n",
      "Epoch 75/100\n",
      "1/1 [==============================] - 0s 24ms/step - loss: 7.0406 - mae: 7.0406\n",
      "Epoch 76/100\n",
      "1/1 [==============================] - 0s 16ms/step - loss: 7.0350 - mae: 7.0350\n",
      "Epoch 77/100\n",
      "1/1 [==============================] - 0s 16ms/step - loss: 7.0294 - mae: 7.0294\n",
      "Epoch 78/100\n",
      "1/1 [==============================] - 0s 16ms/step - loss: 7.0238 - mae: 7.0238\n",
      "Epoch 79/100\n",
      "1/1 [==============================] - 0s 16ms/step - loss: 7.0181 - mae: 7.0181\n",
      "Epoch 80/100\n",
      "1/1 [==============================] - 0s 16ms/step - loss: 7.0125 - mae: 7.0125\n",
      "Epoch 81/100\n",
      "1/1 [==============================] - 0s 12ms/step - loss: 7.0069 - mae: 7.0069\n",
      "Epoch 82/100\n",
      "1/1 [==============================] - 0s 16ms/step - loss: 7.0013 - mae: 7.0013\n",
      "Epoch 83/100\n",
      "1/1 [==============================] - 0s 16ms/step - loss: 6.9956 - mae: 6.9956\n",
      "Epoch 84/100\n",
      "1/1 [==============================] - 0s 16ms/step - loss: 6.9900 - mae: 6.9900\n",
      "Epoch 85/100\n",
      "1/1 [==============================] - 0s 16ms/step - loss: 6.9844 - mae: 6.9844\n",
      "Epoch 86/100\n",
      "1/1 [==============================] - 0s 16ms/step - loss: 6.9788 - mae: 6.9788\n",
      "Epoch 87/100\n",
      "1/1 [==============================] - 0s 16ms/step - loss: 6.9731 - mae: 6.9731\n",
      "Epoch 88/100\n"
     ]
    },
    {
     "name": "stdout",
     "output_type": "stream",
     "text": [
      "1/1 [==============================] - 0s 24ms/step - loss: 6.9675 - mae: 6.9675\n",
      "Epoch 89/100\n",
      "1/1 [==============================] - 0s 16ms/step - loss: 6.9619 - mae: 6.9619\n",
      "Epoch 90/100\n",
      "1/1 [==============================] - 0s 20ms/step - loss: 6.9563 - mae: 6.9563\n",
      "Epoch 91/100\n",
      "1/1 [==============================] - 0s 20ms/step - loss: 6.9506 - mae: 6.9506\n",
      "Epoch 92/100\n",
      "1/1 [==============================] - 0s 20ms/step - loss: 6.9450 - mae: 6.9450\n",
      "Epoch 93/100\n",
      "1/1 [==============================] - 0s 16ms/step - loss: 6.9394 - mae: 6.9394\n",
      "Epoch 94/100\n",
      "1/1 [==============================] - 0s 20ms/step - loss: 6.9338 - mae: 6.9338\n",
      "Epoch 95/100\n",
      "1/1 [==============================] - 0s 20ms/step - loss: 6.9281 - mae: 6.9281\n",
      "Epoch 96/100\n",
      "1/1 [==============================] - 0s 20ms/step - loss: 6.9225 - mae: 6.9225\n",
      "Epoch 97/100\n",
      "1/1 [==============================] - 0s 20ms/step - loss: 6.9169 - mae: 6.9169\n",
      "Epoch 98/100\n",
      "1/1 [==============================] - 0s 16ms/step - loss: 6.9113 - mae: 6.9113\n",
      "Epoch 99/100\n",
      "1/1 [==============================] - 0s 16ms/step - loss: 6.9056 - mae: 6.9056\n",
      "Epoch 100/100\n",
      "1/1 [==============================] - 0s 16ms/step - loss: 6.9000 - mae: 6.9000\n"
     ]
    },
    {
     "data": {
      "text/plain": [
       "<keras.callbacks.History at 0x87a05de3d0>"
      ]
     },
     "execution_count": 10,
     "metadata": {},
     "output_type": "execute_result"
    }
   ],
   "source": [
    "# Rebuild the model\n",
    "model = tf.keras.Sequential([\n",
    "    tf.keras.layers.Dense(1),\n",
    "])\n",
    "# Compile the model\n",
    "model.compile(loss=tf.keras.losses.mae,\n",
    "             optimizer=tf.keras.optimizers.SGD(),\n",
    "             metrics=['mae'])  \n",
    "# Fit the model\n",
    "model.fit(tf.expand_dims(X, axis=-1), Y, epochs=100)"
   ]
  },
  {
   "cell_type": "code",
   "execution_count": 11,
   "id": "2d4daf3a",
   "metadata": {},
   "outputs": [
    {
     "name": "stdout",
     "output_type": "stream",
     "text": [
      "1/1 [==============================] - 0s 164ms/step\n"
     ]
    },
    {
     "data": {
      "text/plain": [
       "array([[29.950762]], dtype=float32)"
      ]
     },
     "execution_count": 11,
     "metadata": {},
     "output_type": "execute_result"
    }
   ],
   "source": [
    "model.predict([17.0])"
   ]
  },
  {
   "cell_type": "code",
   "execution_count": 12,
   "id": "2deab331",
   "metadata": {
    "scrolled": false
   },
   "outputs": [
    {
     "name": "stdout",
     "output_type": "stream",
     "text": [
      "Epoch 1/100\n",
      "1/1 [==============================] - 2s 2s/step - loss: 12.0369 - mae: 12.0369\n",
      "Epoch 2/100\n",
      "1/1 [==============================] - 0s 20ms/step - loss: 11.3358 - mae: 11.3358\n",
      "Epoch 3/100\n",
      "1/1 [==============================] - 0s 20ms/step - loss: 10.6387 - mae: 10.6387\n",
      "Epoch 4/100\n",
      "1/1 [==============================] - 0s 24ms/step - loss: 9.9438 - mae: 9.9438\n",
      "Epoch 5/100\n",
      "1/1 [==============================] - 0s 20ms/step - loss: 9.2489 - mae: 9.2489\n",
      "Epoch 6/100\n",
      "1/1 [==============================] - 0s 20ms/step - loss: 8.5516 - mae: 8.5516\n",
      "Epoch 7/100\n",
      "1/1 [==============================] - 0s 16ms/step - loss: 7.8492 - mae: 7.8492\n",
      "Epoch 8/100\n",
      "1/1 [==============================] - 0s 20ms/step - loss: 7.1387 - mae: 7.1387\n",
      "Epoch 9/100\n",
      "1/1 [==============================] - 0s 16ms/step - loss: 6.9400 - mae: 6.9400\n",
      "Epoch 10/100\n",
      "1/1 [==============================] - 0s 16ms/step - loss: 7.2455 - mae: 7.2455\n",
      "Epoch 11/100\n",
      "1/1 [==============================] - 0s 20ms/step - loss: 7.5044 - mae: 7.5044\n",
      "Epoch 12/100\n",
      "1/1 [==============================] - 0s 16ms/step - loss: 7.7194 - mae: 7.7194\n",
      "Epoch 13/100\n",
      "1/1 [==============================] - 0s 16ms/step - loss: 7.7795 - mae: 7.7795\n",
      "Epoch 14/100\n",
      "1/1 [==============================] - 0s 16ms/step - loss: 7.6569 - mae: 7.6569\n",
      "Epoch 15/100\n",
      "1/1 [==============================] - 0s 20ms/step - loss: 7.3997 - mae: 7.3997\n",
      "Epoch 16/100\n",
      "1/1 [==============================] - 0s 20ms/step - loss: 7.1638 - mae: 7.1638\n",
      "Epoch 17/100\n",
      "1/1 [==============================] - 0s 20ms/step - loss: 6.9188 - mae: 6.9188\n",
      "Epoch 18/100\n",
      "1/1 [==============================] - 0s 20ms/step - loss: 6.6592 - mae: 6.6592\n",
      "Epoch 19/100\n",
      "1/1 [==============================] - 0s 16ms/step - loss: 6.3989 - mae: 6.3989\n",
      "Epoch 20/100\n",
      "1/1 [==============================] - 0s 20ms/step - loss: 6.3570 - mae: 6.3570\n",
      "Epoch 21/100\n",
      "1/1 [==============================] - 0s 16ms/step - loss: 6.3113 - mae: 6.3113\n",
      "Epoch 22/100\n",
      "1/1 [==============================] - 0s 16ms/step - loss: 6.3825 - mae: 6.3825\n",
      "Epoch 23/100\n",
      "1/1 [==============================] - 0s 20ms/step - loss: 6.4246 - mae: 6.4246\n",
      "Epoch 24/100\n",
      "1/1 [==============================] - 0s 16ms/step - loss: 6.3746 - mae: 6.3746\n",
      "Epoch 25/100\n",
      "1/1 [==============================] - 0s 16ms/step - loss: 6.2443 - mae: 6.2443\n",
      "Epoch 26/100\n",
      "1/1 [==============================] - 0s 16ms/step - loss: 6.0422 - mae: 6.0422\n",
      "Epoch 27/100\n",
      "1/1 [==============================] - 0s 20ms/step - loss: 5.8899 - mae: 5.8899\n",
      "Epoch 28/100\n",
      "1/1 [==============================] - 0s 20ms/step - loss: 5.7983 - mae: 5.7983\n",
      "Epoch 29/100\n",
      "1/1 [==============================] - 0s 16ms/step - loss: 5.7040 - mae: 5.7040\n",
      "Epoch 30/100\n",
      "1/1 [==============================] - 0s 16ms/step - loss: 5.6802 - mae: 5.6802\n",
      "Epoch 31/100\n",
      "1/1 [==============================] - 0s 16ms/step - loss: 5.6660 - mae: 5.6660\n",
      "Epoch 32/100\n",
      "1/1 [==============================] - 0s 16ms/step - loss: 5.6086 - mae: 5.6086\n",
      "Epoch 33/100\n",
      "1/1 [==============================] - 0s 24ms/step - loss: 5.5112 - mae: 5.5112\n",
      "Epoch 34/100\n",
      "1/1 [==============================] - 0s 20ms/step - loss: 5.3769 - mae: 5.3769\n",
      "Epoch 35/100\n",
      "1/1 [==============================] - 0s 24ms/step - loss: 5.2085 - mae: 5.2085\n",
      "Epoch 36/100\n",
      "1/1 [==============================] - 0s 24ms/step - loss: 5.0752 - mae: 5.0752\n",
      "Epoch 37/100\n",
      "1/1 [==============================] - 0s 24ms/step - loss: 4.9839 - mae: 4.9839\n",
      "Epoch 38/100\n",
      "1/1 [==============================] - 0s 24ms/step - loss: 4.8857 - mae: 4.8857\n",
      "Epoch 39/100\n",
      "1/1 [==============================] - 0s 24ms/step - loss: 4.7804 - mae: 4.7804\n",
      "Epoch 40/100\n",
      "1/1 [==============================] - 0s 24ms/step - loss: 4.7277 - mae: 4.7277\n",
      "Epoch 41/100\n",
      "1/1 [==============================] - 0s 24ms/step - loss: 4.5845 - mae: 4.5845\n",
      "Epoch 42/100\n",
      "1/1 [==============================] - 0s 24ms/step - loss: 4.3986 - mae: 4.3986\n",
      "Epoch 43/100\n",
      "1/1 [==============================] - 0s 20ms/step - loss: 4.2502 - mae: 4.2502\n",
      "Epoch 44/100\n",
      "1/1 [==============================] - 0s 20ms/step - loss: 4.0944 - mae: 4.0944\n",
      "Epoch 45/100\n",
      "1/1 [==============================] - 0s 20ms/step - loss: 3.9643 - mae: 3.9643\n",
      "Epoch 46/100\n",
      "1/1 [==============================] - 0s 20ms/step - loss: 3.8418 - mae: 3.8418\n",
      "Epoch 47/100\n",
      "1/1 [==============================] - 0s 20ms/step - loss: 3.6615 - mae: 3.6615\n",
      "Epoch 48/100\n",
      "1/1 [==============================] - 0s 16ms/step - loss: 3.4449 - mae: 3.4449\n",
      "Epoch 49/100\n",
      "1/1 [==============================] - 0s 16ms/step - loss: 3.2720 - mae: 3.2720\n",
      "Epoch 50/100\n",
      "1/1 [==============================] - 0s 16ms/step - loss: 3.0884 - mae: 3.0884\n",
      "Epoch 51/100\n",
      "1/1 [==============================] - 0s 20ms/step - loss: 2.8936 - mae: 2.8936\n",
      "Epoch 52/100\n",
      "1/1 [==============================] - 0s 16ms/step - loss: 2.6875 - mae: 2.6875\n",
      "Epoch 53/100\n",
      "1/1 [==============================] - 0s 16ms/step - loss: 2.5050 - mae: 2.5050\n",
      "Epoch 54/100\n",
      "1/1 [==============================] - 0s 16ms/step - loss: 2.2321 - mae: 2.2321\n",
      "Epoch 55/100\n",
      "1/1 [==============================] - 0s 20ms/step - loss: 1.9920 - mae: 1.9920\n",
      "Epoch 56/100\n",
      "1/1 [==============================] - 0s 16ms/step - loss: 1.7635 - mae: 1.7635\n",
      "Epoch 57/100\n",
      "1/1 [==============================] - 0s 16ms/step - loss: 1.4818 - mae: 1.4818\n",
      "Epoch 58/100\n",
      "1/1 [==============================] - 0s 16ms/step - loss: 1.2167 - mae: 1.2167\n",
      "Epoch 59/100\n",
      "1/1 [==============================] - 0s 16ms/step - loss: 0.9938 - mae: 0.9938\n",
      "Epoch 60/100\n",
      "1/1 [==============================] - 0s 20ms/step - loss: 0.6358 - mae: 0.6358\n",
      "Epoch 61/100\n",
      "1/1 [==============================] - 0s 16ms/step - loss: 0.3440 - mae: 0.3440\n",
      "Epoch 62/100\n",
      "1/1 [==============================] - 0s 20ms/step - loss: 0.1526 - mae: 0.1526\n",
      "Epoch 63/100\n",
      "1/1 [==============================] - 0s 17ms/step - loss: 0.3752 - mae: 0.3752\n",
      "Epoch 64/100\n",
      "1/1 [==============================] - 0s 16ms/step - loss: 0.5812 - mae: 0.5812\n",
      "Epoch 65/100\n",
      "1/1 [==============================] - 0s 16ms/step - loss: 0.6602 - mae: 0.6602\n",
      "Epoch 66/100\n",
      "1/1 [==============================] - 0s 16ms/step - loss: 0.7816 - mae: 0.7816\n",
      "Epoch 67/100\n",
      "1/1 [==============================] - 0s 16ms/step - loss: 0.7757 - mae: 0.7757\n",
      "Epoch 68/100\n",
      "1/1 [==============================] - 0s 16ms/step - loss: 0.8648 - mae: 0.8648\n",
      "Epoch 69/100\n",
      "1/1 [==============================] - 0s 12ms/step - loss: 0.8003 - mae: 0.8003\n",
      "Epoch 70/100\n",
      "1/1 [==============================] - 0s 16ms/step - loss: 0.6732 - mae: 0.6732\n",
      "Epoch 71/100\n",
      "1/1 [==============================] - 0s 20ms/step - loss: 0.6239 - mae: 0.6239\n",
      "Epoch 72/100\n",
      "1/1 [==============================] - 0s 12ms/step - loss: 0.4043 - mae: 0.4043\n",
      "Epoch 73/100\n",
      "1/1 [==============================] - 0s 16ms/step - loss: 0.3270 - mae: 0.3270\n",
      "Epoch 74/100\n",
      "1/1 [==============================] - 0s 16ms/step - loss: 0.0957 - mae: 0.0957\n",
      "Epoch 75/100\n",
      "1/1 [==============================] - 0s 12ms/step - loss: 0.3176 - mae: 0.3176\n",
      "Epoch 76/100\n",
      "1/1 [==============================] - 0s 20ms/step - loss: 0.4112 - mae: 0.4112\n",
      "Epoch 77/100\n",
      "1/1 [==============================] - 0s 20ms/step - loss: 0.3464 - mae: 0.3464\n",
      "Epoch 78/100\n",
      "1/1 [==============================] - 0s 16ms/step - loss: 0.6477 - mae: 0.6477\n",
      "Epoch 79/100\n",
      "1/1 [==============================] - 0s 20ms/step - loss: 0.7307 - mae: 0.7307\n",
      "Epoch 80/100\n",
      "1/1 [==============================] - 0s 20ms/step - loss: 0.5400 - mae: 0.5400\n",
      "Epoch 81/100\n",
      "1/1 [==============================] - 0s 16ms/step - loss: 0.5390 - mae: 0.5390\n",
      "Epoch 82/100\n",
      "1/1 [==============================] - 0s 16ms/step - loss: 0.6210 - mae: 0.6210\n",
      "Epoch 83/100\n",
      "1/1 [==============================] - 0s 16ms/step - loss: 0.5377 - mae: 0.5377\n",
      "Epoch 84/100\n",
      "1/1 [==============================] - 0s 20ms/step - loss: 0.3052 - mae: 0.3052\n",
      "Epoch 85/100\n",
      "1/1 [==============================] - 0s 16ms/step - loss: 0.2775 - mae: 0.2775\n",
      "Epoch 86/100\n",
      "1/1 [==============================] - 0s 20ms/step - loss: 0.3035 - mae: 0.3035\n",
      "Epoch 87/100\n",
      "1/1 [==============================] - 0s 20ms/step - loss: 0.1628 - mae: 0.1628\n",
      "Epoch 88/100\n"
     ]
    },
    {
     "name": "stdout",
     "output_type": "stream",
     "text": [
      "1/1 [==============================] - 0s 20ms/step - loss: 0.5357 - mae: 0.5357\n",
      "Epoch 89/100\n",
      "1/1 [==============================] - 0s 16ms/step - loss: 0.6562 - mae: 0.6562\n",
      "Epoch 90/100\n",
      "1/1 [==============================] - 0s 20ms/step - loss: 0.4766 - mae: 0.4766\n",
      "Epoch 91/100\n",
      "1/1 [==============================] - 0s 16ms/step - loss: 0.3514 - mae: 0.3514\n",
      "Epoch 92/100\n",
      "1/1 [==============================] - 0s 20ms/step - loss: 0.4535 - mae: 0.4535\n",
      "Epoch 93/100\n",
      "1/1 [==============================] - 0s 12ms/step - loss: 0.3994 - mae: 0.3994\n",
      "Epoch 94/100\n",
      "1/1 [==============================] - 0s 16ms/step - loss: 0.1519 - mae: 0.1519\n",
      "Epoch 95/100\n",
      "1/1 [==============================] - 0s 12ms/step - loss: 0.3096 - mae: 0.3096\n",
      "Epoch 96/100\n",
      "1/1 [==============================] - 0s 20ms/step - loss: 0.3874 - mae: 0.3874\n",
      "Epoch 97/100\n",
      "1/1 [==============================] - 0s 16ms/step - loss: 0.2814 - mae: 0.2814\n",
      "Epoch 98/100\n",
      "1/1 [==============================] - 0s 20ms/step - loss: 0.3288 - mae: 0.3288\n",
      "Epoch 99/100\n",
      "1/1 [==============================] - 0s 20ms/step - loss: 0.4577 - mae: 0.4577\n",
      "Epoch 100/100\n",
      "1/1 [==============================] - 0s 16ms/step - loss: 0.3319 - mae: 0.3319\n"
     ]
    },
    {
     "data": {
      "text/plain": [
       "<keras.callbacks.History at 0x878355f5e0>"
      ]
     },
     "execution_count": 12,
     "metadata": {},
     "output_type": "execute_result"
    }
   ],
   "source": [
    "# Trying another change: Extra layer with 100 hidden units\n",
    "model = tf.keras.Sequential([\n",
    "    tf.keras.layers.Dense(50, activation=None),\n",
    "    tf.keras.layers.Dense(1)\n",
    "])\n",
    "# Compile the model\n",
    "model.compile(loss=tf.keras.losses.mae,\n",
    "             optimizer=tf.keras.optimizers.Adam(learning_rate=0.01),\n",
    "             metrics=['mae'])  \n",
    "# Fit the model\n",
    "model.fit(tf.expand_dims(X, axis=-1), Y, epochs=100)"
   ]
  },
  {
   "cell_type": "code",
   "execution_count": 13,
   "id": "36eda545",
   "metadata": {},
   "outputs": [
    {
     "name": "stdout",
     "output_type": "stream",
     "text": [
      "1/1 [==============================] - 0s 250ms/step\n"
     ]
    },
    {
     "data": {
      "text/plain": [
       "array([[26.785107]], dtype=float32)"
      ]
     },
     "execution_count": 13,
     "metadata": {},
     "output_type": "execute_result"
    }
   ],
   "source": [
    "# Might be overfitting, since the metrics is better, but the predicion deviates more than the previous test \n",
    "model.predict([17.0])"
   ]
  },
  {
   "cell_type": "markdown",
   "id": "2c61b481",
   "metadata": {},
   "source": [
    "## Evaluating a model"
   ]
  },
  {
   "cell_type": "markdown",
   "id": "9428591c",
   "metadata": {},
   "source": [
    "\"Visualize, visualize, visualize\""
   ]
  },
  {
   "cell_type": "code",
   "execution_count": 14,
   "id": "b2983a34",
   "metadata": {},
   "outputs": [
    {
     "data": {
      "text/plain": [
       "<tf.Tensor: shape=(50,), dtype=int32, numpy=\n",
       "array([-100,  -96,  -92,  -88,  -84,  -80,  -76,  -72,  -68,  -64,  -60,\n",
       "        -56,  -52,  -48,  -44,  -40,  -36,  -32,  -28,  -24,  -20,  -16,\n",
       "        -12,   -8,   -4,    0,    4,    8,   12,   16,   20,   24,   28,\n",
       "         32,   36,   40,   44,   48,   52,   56,   60,   64,   68,   72,\n",
       "         76,   80,   84,   88,   92,   96])>"
      ]
     },
     "execution_count": 14,
     "metadata": {},
     "output_type": "execute_result"
    }
   ],
   "source": [
    "# Make a bigger dataset\n",
    "X = tf.range(-100, 100, 4)\n",
    "X"
   ]
  },
  {
   "cell_type": "code",
   "execution_count": 15,
   "id": "f6c0b454",
   "metadata": {},
   "outputs": [
    {
     "data": {
      "text/plain": [
       "<tf.Tensor: shape=(50,), dtype=int32, numpy=\n",
       "array([-90, -86, -82, -78, -74, -70, -66, -62, -58, -54, -50, -46, -42,\n",
       "       -38, -34, -30, -26, -22, -18, -14, -10,  -6,  -2,   2,   6,  10,\n",
       "        14,  18,  22,  26,  30,  34,  38,  42,  46,  50,  54,  58,  62,\n",
       "        66,  70,  74,  78,  82,  86,  90,  94,  98, 102, 106])>"
      ]
     },
     "execution_count": 15,
     "metadata": {},
     "output_type": "execute_result"
    }
   ],
   "source": [
    "# Make labels\n",
    "Y = X + 10\n",
    "Y"
   ]
  },
  {
   "cell_type": "code",
   "execution_count": 16,
   "id": "2b724208",
   "metadata": {},
   "outputs": [
    {
     "data": {
      "text/plain": [
       "<matplotlib.collections.PathCollection at 0x878363fe20>"
      ]
     },
     "execution_count": 16,
     "metadata": {},
     "output_type": "execute_result"
    },
    {
     "data": {
      "image/png": "[encoded data removed]",
      "text/plain": [
       "<Figure size 640x480 with 1 Axes>"
      ]
     },
     "metadata": {},
     "output_type": "display_data"
    }
   ],
   "source": [
    "# Visualize the data\n",
    "plt.scatter(X, Y)"
   ]
  },
  {
   "cell_type": "code",
   "execution_count": 17,
   "id": "43721d9e",
   "metadata": {},
   "outputs": [
    {
     "data": {
      "text/plain": [
       "(40, 10, 40, 10)"
      ]
     },
     "execution_count": 17,
     "metadata": {},
     "output_type": "execute_result"
    }
   ],
   "source": [
    "# Split the data in train/test\n",
    "X_train = X[:40]\n",
    "Y_train = Y[:40]\n",
    "X_test = X[40:]\n",
    "Y_test = Y[40:]\n",
    "\n",
    "len(X_train), len(X_test), len(Y_train), len(Y_test)"
   ]
  },
  {
   "cell_type": "markdown",
   "id": "82395579",
   "metadata": {},
   "source": [
    "## Visualizing the data"
   ]
  },
  {
   "cell_type": "code",
   "execution_count": 18,
   "id": "2a8785c8",
   "metadata": {},
   "outputs": [
    {
     "data": {
      "image/png": "[encoded data removed]",
      "text/plain": [
       "<Figure size 1000x700 with 1 Axes>"
      ]
     },
     "metadata": {},
     "output_type": "display_data"
    }
   ],
   "source": [
    "plt.figure(figsize=(10, 7))\n",
    "plt.scatter(X_train, Y_train, c='b', label='Training Data')\n",
    "plt.scatter(X_test, Y_test, c='g', label='Test Data')\n",
    "plt.legend()\n",
    "plt.show()"
   ]
  },
  {
   "cell_type": "code",
   "execution_count": 19,
   "id": "019741e9",
   "metadata": {},
   "outputs": [
    {
     "name": "stdout",
     "output_type": "stream",
     "text": [
      "Epoch 1/100\n",
      "2/2 [==============================] - 2s 16ms/step - loss: 61.6211 - mae: 61.6211\n",
      "Epoch 2/100\n",
      "2/2 [==============================] - 0s 16ms/step - loss: 54.6534 - mae: 54.6534\n",
      "Epoch 3/100\n",
      "2/2 [==============================] - 0s 16ms/step - loss: 47.9948 - mae: 47.9948\n",
      "Epoch 4/100\n",
      "2/2 [==============================] - 0s 16ms/step - loss: 41.1999 - mae: 41.1999\n",
      "Epoch 5/100\n",
      "2/2 [==============================] - 0s 16ms/step - loss: 34.5475 - mae: 34.5475\n",
      "Epoch 6/100\n",
      "2/2 [==============================] - 0s 16ms/step - loss: 27.9287 - mae: 27.9287\n",
      "Epoch 7/100\n",
      "2/2 [==============================] - 0s 16ms/step - loss: 21.1813 - mae: 21.1813\n",
      "Epoch 8/100\n",
      "2/2 [==============================] - 0s 16ms/step - loss: 14.5035 - mae: 14.5035\n",
      "Epoch 9/100\n",
      "2/2 [==============================] - 0s 16ms/step - loss: 9.1847 - mae: 9.1847\n",
      "Epoch 10/100\n",
      "2/2 [==============================] - 0s 16ms/step - loss: 9.1625 - mae: 9.1625\n",
      "Epoch 11/100\n",
      "2/2 [==============================] - 0s 16ms/step - loss: 12.3051 - mae: 12.3051\n",
      "Epoch 12/100\n",
      "2/2 [==============================] - 0s 16ms/step - loss: 13.5599 - mae: 13.5599\n",
      "Epoch 13/100\n",
      "2/2 [==============================] - 0s 16ms/step - loss: 14.1014 - mae: 14.1014\n",
      "Epoch 14/100\n",
      "2/2 [==============================] - 0s 16ms/step - loss: 13.9035 - mae: 13.9035\n",
      "Epoch 15/100\n",
      "2/2 [==============================] - 0s 16ms/step - loss: 13.2000 - mae: 13.2000\n",
      "Epoch 16/100\n",
      "2/2 [==============================] - 0s 16ms/step - loss: 12.0440 - mae: 12.0440\n",
      "Epoch 17/100\n",
      "2/2 [==============================] - 0s 16ms/step - loss: 10.8814 - mae: 10.8814\n",
      "Epoch 18/100\n",
      "2/2 [==============================] - 0s 16ms/step - loss: 9.0406 - mae: 9.0406\n",
      "Epoch 19/100\n",
      "2/2 [==============================] - 0s 16ms/step - loss: 7.5996 - mae: 7.5996\n",
      "Epoch 20/100\n",
      "2/2 [==============================] - 0s 16ms/step - loss: 7.7873 - mae: 7.7873\n",
      "Epoch 21/100\n",
      "2/2 [==============================] - 0s 16ms/step - loss: 8.6143 - mae: 8.6143\n",
      "Epoch 22/100\n",
      "2/2 [==============================] - 0s 16ms/step - loss: 8.5770 - mae: 8.5770\n",
      "Epoch 23/100\n",
      "2/2 [==============================] - 0s 16ms/step - loss: 7.8712 - mae: 7.8712\n",
      "Epoch 24/100\n",
      "2/2 [==============================] - 0s 16ms/step - loss: 6.9062 - mae: 6.9062\n",
      "Epoch 25/100\n",
      "2/2 [==============================] - 0s 16ms/step - loss: 7.0983 - mae: 7.0983\n",
      "Epoch 26/100\n",
      "2/2 [==============================] - 0s 16ms/step - loss: 7.3793 - mae: 7.3793\n",
      "Epoch 27/100\n",
      "2/2 [==============================] - 0s 16ms/step - loss: 7.0617 - mae: 7.0617\n",
      "Epoch 28/100\n",
      "2/2 [==============================] - 0s 16ms/step - loss: 6.5600 - mae: 6.5600\n",
      "Epoch 29/100\n",
      "2/2 [==============================] - 0s 16ms/step - loss: 6.8130 - mae: 6.8130\n",
      "Epoch 30/100\n",
      "2/2 [==============================] - 0s 16ms/step - loss: 6.9726 - mae: 6.9726\n",
      "Epoch 31/100\n",
      "2/2 [==============================] - 0s 16ms/step - loss: 6.6284 - mae: 6.6284\n",
      "Epoch 32/100\n",
      "2/2 [==============================] - 0s 0s/step - loss: 6.3906 - mae: 6.3906\n",
      "Epoch 33/100\n",
      "2/2 [==============================] - 0s 16ms/step - loss: 6.4232 - mae: 6.4232\n",
      "Epoch 34/100\n",
      "2/2 [==============================] - 0s 16ms/step - loss: 6.1303 - mae: 6.1303\n",
      "Epoch 35/100\n",
      "2/2 [==============================] - 0s 16ms/step - loss: 6.2025 - mae: 6.2025\n",
      "Epoch 36/100\n",
      "2/2 [==============================] - 0s 16ms/step - loss: 6.3944 - mae: 6.3944\n",
      "Epoch 37/100\n",
      "2/2 [==============================] - 0s 0s/step - loss: 6.2414 - mae: 6.2414\n",
      "Epoch 38/100\n",
      "2/2 [==============================] - 0s 16ms/step - loss: 5.8648 - mae: 5.8648\n",
      "Epoch 39/100\n",
      "2/2 [==============================] - 0s 16ms/step - loss: 6.0604 - mae: 6.0604\n",
      "Epoch 40/100\n",
      "2/2 [==============================] - 0s 16ms/step - loss: 6.0720 - mae: 6.0720\n",
      "Epoch 41/100\n",
      "2/2 [==============================] - 0s 16ms/step - loss: 5.6622 - mae: 5.6622\n",
      "Epoch 42/100\n",
      "2/2 [==============================] - 0s 16ms/step - loss: 5.6964 - mae: 5.6964\n",
      "Epoch 43/100\n",
      "2/2 [==============================] - 0s 16ms/step - loss: 5.8616 - mae: 5.8616\n",
      "Epoch 44/100\n",
      "2/2 [==============================] - 0s 16ms/step - loss: 5.6605 - mae: 5.6605\n",
      "Epoch 45/100\n",
      "2/2 [==============================] - 0s 0s/step - loss: 5.3484 - mae: 5.3484\n",
      "Epoch 46/100\n",
      "2/2 [==============================] - 0s 16ms/step - loss: 5.2405 - mae: 5.2405\n",
      "Epoch 47/100\n",
      "2/2 [==============================] - 0s 16ms/step - loss: 5.1434 - mae: 5.1434\n",
      "Epoch 48/100\n",
      "2/2 [==============================] - 0s 16ms/step - loss: 5.0754 - mae: 5.0754\n",
      "Epoch 49/100\n",
      "2/2 [==============================] - 0s 16ms/step - loss: 5.0842 - mae: 5.0842\n",
      "Epoch 50/100\n",
      "2/2 [==============================] - 0s 0s/step - loss: 5.0099 - mae: 5.0099\n",
      "Epoch 51/100\n",
      "2/2 [==============================] - 0s 16ms/step - loss: 4.8451 - mae: 4.8451\n",
      "Epoch 52/100\n",
      "2/2 [==============================] - 0s 16ms/step - loss: 4.8214 - mae: 4.8214\n",
      "Epoch 53/100\n",
      "2/2 [==============================] - 0s 0s/step - loss: 4.7122 - mae: 4.7122\n",
      "Epoch 54/100\n",
      "2/2 [==============================] - 0s 16ms/step - loss: 4.7332 - mae: 4.7332\n",
      "Epoch 55/100\n",
      "2/2 [==============================] - 0s 16ms/step - loss: 4.9078 - mae: 4.9078\n",
      "Epoch 56/100\n",
      "2/2 [==============================] - 0s 16ms/step - loss: 4.5226 - mae: 4.5226\n",
      "Epoch 57/100\n",
      "2/2 [==============================] - 0s 16ms/step - loss: 4.3806 - mae: 4.3806\n",
      "Epoch 58/100\n",
      "2/2 [==============================] - 0s 0s/step - loss: 4.8344 - mae: 4.8344\n",
      "Epoch 59/100\n",
      "2/2 [==============================] - 0s 16ms/step - loss: 4.6334 - mae: 4.6334\n",
      "Epoch 60/100\n",
      "2/2 [==============================] - 0s 16ms/step - loss: 4.0511 - mae: 4.0511\n",
      "Epoch 61/100\n",
      "2/2 [==============================] - 0s 16ms/step - loss: 4.1358 - mae: 4.1358\n",
      "Epoch 62/100\n",
      "2/2 [==============================] - 0s 0s/step - loss: 3.9930 - mae: 3.9930\n",
      "Epoch 63/100\n",
      "2/2 [==============================] - 0s 16ms/step - loss: 3.8175 - mae: 3.8175\n",
      "Epoch 64/100\n",
      "2/2 [==============================] - 0s 16ms/step - loss: 3.7189 - mae: 3.7189\n",
      "Epoch 65/100\n",
      "2/2 [==============================] - 0s 16ms/step - loss: 3.5423 - mae: 3.5423\n",
      "Epoch 66/100\n",
      "2/2 [==============================] - 0s 0s/step - loss: 3.4579 - mae: 3.4579\n",
      "Epoch 67/100\n",
      "2/2 [==============================] - 0s 16ms/step - loss: 3.3615 - mae: 3.3615\n",
      "Epoch 68/100\n",
      "2/2 [==============================] - 0s 16ms/step - loss: 3.2601 - mae: 3.2601\n",
      "Epoch 69/100\n",
      "2/2 [==============================] - 0s 16ms/step - loss: 3.1505 - mae: 3.1505\n",
      "Epoch 70/100\n",
      "2/2 [==============================] - 0s 16ms/step - loss: 3.0691 - mae: 3.0691\n",
      "Epoch 71/100\n",
      "2/2 [==============================] - 0s 16ms/step - loss: 2.9332 - mae: 2.9332\n",
      "Epoch 72/100\n",
      "2/2 [==============================] - 0s 16ms/step - loss: 2.9861 - mae: 2.9861\n",
      "Epoch 73/100\n",
      "2/2 [==============================] - 0s 16ms/step - loss: 2.7925 - mae: 2.7925\n",
      "Epoch 74/100\n",
      "2/2 [==============================] - 0s 16ms/step - loss: 2.6420 - mae: 2.6420\n",
      "Epoch 75/100\n",
      "2/2 [==============================] - 0s 0s/step - loss: 2.5276 - mae: 2.5276\n",
      "Epoch 76/100\n",
      "2/2 [==============================] - 0s 16ms/step - loss: 2.3856 - mae: 2.3856\n",
      "Epoch 77/100\n",
      "2/2 [==============================] - 0s 0s/step - loss: 2.2807 - mae: 2.2807\n",
      "Epoch 78/100\n",
      "2/2 [==============================] - 0s 16ms/step - loss: 2.1637 - mae: 2.1637\n",
      "Epoch 79/100\n",
      "2/2 [==============================] - 0s 16ms/step - loss: 2.1697 - mae: 2.1697\n",
      "Epoch 80/100\n",
      "2/2 [==============================] - 0s 16ms/step - loss: 2.0161 - mae: 2.0161\n",
      "Epoch 81/100\n",
      "2/2 [==============================] - 0s 16ms/step - loss: 1.9314 - mae: 1.9314\n",
      "Epoch 82/100\n",
      "2/2 [==============================] - 0s 16ms/step - loss: 1.8692 - mae: 1.8692\n",
      "Epoch 83/100\n",
      "2/2 [==============================] - 0s 16ms/step - loss: 1.5266 - mae: 1.5266\n",
      "Epoch 84/100\n",
      "2/2 [==============================] - 0s 16ms/step - loss: 1.5876 - mae: 1.5876\n",
      "Epoch 85/100\n",
      "2/2 [==============================] - 0s 16ms/step - loss: 1.4661 - mae: 1.4661\n",
      "Epoch 86/100\n",
      "2/2 [==============================] - 0s 0s/step - loss: 1.4941 - mae: 1.4941\n",
      "Epoch 87/100\n",
      "2/2 [==============================] - 0s 16ms/step - loss: 1.1678 - mae: 1.1678\n",
      "Epoch 88/100\n"
     ]
    },
    {
     "name": "stdout",
     "output_type": "stream",
     "text": [
      "2/2 [==============================] - 0s 16ms/step - loss: 1.0115 - mae: 1.0115\n",
      "Epoch 89/100\n",
      "2/2 [==============================] - 0s 16ms/step - loss: 1.0556 - mae: 1.0556\n",
      "Epoch 90/100\n",
      "2/2 [==============================] - 0s 16ms/step - loss: 0.7296 - mae: 0.7296\n",
      "Epoch 91/100\n",
      "2/2 [==============================] - 0s 16ms/step - loss: 0.8878 - mae: 0.8878\n",
      "Epoch 92/100\n",
      "2/2 [==============================] - 0s 0s/step - loss: 1.0635 - mae: 1.0635\n",
      "Epoch 93/100\n",
      "2/2 [==============================] - 0s 0s/step - loss: 1.1722 - mae: 1.1722\n",
      "Epoch 94/100\n",
      "2/2 [==============================] - 0s 16ms/step - loss: 1.0135 - mae: 1.0135\n",
      "Epoch 95/100\n",
      "2/2 [==============================] - 0s 16ms/step - loss: 1.0138 - mae: 1.0138\n",
      "Epoch 96/100\n",
      "2/2 [==============================] - 0s 16ms/step - loss: 1.3525 - mae: 1.3525\n",
      "Epoch 97/100\n",
      "2/2 [==============================] - 0s 16ms/step - loss: 1.5033 - mae: 1.5033\n",
      "Epoch 98/100\n",
      "2/2 [==============================] - 0s 0s/step - loss: 0.6838 - mae: 0.6838\n",
      "Epoch 99/100\n",
      "2/2 [==============================] - 0s 16ms/step - loss: 0.8392 - mae: 0.8392\n",
      "Epoch 100/100\n",
      "2/2 [==============================] - 0s 0s/step - loss: 1.1128 - mae: 1.1128\n"
     ]
    },
    {
     "data": {
      "text/plain": [
       "<keras.callbacks.History at 0x879fd243d0>"
      ]
     },
     "execution_count": 19,
     "metadata": {},
     "output_type": "execute_result"
    }
   ],
   "source": [
    "# Neural network for our data\n",
    "# Create a model\n",
    "model = tf.keras.Sequential([\n",
    "    tf.keras.layers.Dense(10, input_shape=[1], name='Input_Layer'),\n",
    "    tf.keras.layers.Dense(1, name='Output_Layer'),\n",
    "], name='model_1')\n",
    "# Compile the model\n",
    "model.compile(loss=tf.keras.losses.mae,\n",
    "             optimizer=tf.keras.optimizers.Adam(learning_rate=0.01), \n",
    "             metrics=['mae'])  \n",
    "# Fit the model\n",
    "model.fit(tf.expand_dims(X_train, axis=-1), Y_train, epochs=100)"
   ]
  },
  {
   "cell_type": "code",
   "execution_count": 20,
   "id": "9c6c1f45",
   "metadata": {},
   "outputs": [
    {
     "name": "stdout",
     "output_type": "stream",
     "text": [
      "Model: \"model_1\"\n",
      "_________________________________________________________________\n",
      " Layer (type)                Output Shape              Param #   \n",
      "=================================================================\n",
      " Input_Layer (Dense)         (None, 10)                20        \n",
      "                                                                 \n",
      " Output_Layer (Dense)        (None, 1)                 11        \n",
      "                                                                 \n",
      "=================================================================\n",
      "Total params: 31\n",
      "Trainable params: 31\n",
      "Non-trainable params: 0\n",
      "_________________________________________________________________\n"
     ]
    }
   ],
   "source": [
    "model.summary()"
   ]
  },
  {
   "cell_type": "markdown",
   "id": "ae7cf950",
   "metadata": {},
   "source": [
    "**- Dense layer: Fully connected layers, ie all neurons from each layer connect to all neurons on the next.**  \n",
    "**- Non-trainable params: When getting a pre-trained model sometimes we may want to \"freeze\" some parameters.**"
   ]
  },
  {
   "cell_type": "code",
   "execution_count": 21,
   "id": "83b8037f",
   "metadata": {},
   "outputs": [
    {
     "data": {
      "image/png": "[encoded data removed]",
      "text/plain": [
       "<IPython.core.display.Image object>"
      ]
     },
     "execution_count": 21,
     "metadata": {},
     "output_type": "execute_result"
    }
   ],
   "source": [
    "plot_model(model, show_shapes=True, show_layer_names=True)"
   ]
  },
  {
   "cell_type": "markdown",
   "id": "92fe5ee5",
   "metadata": {},
   "source": [
    "## Visualizing predictions"
   ]
  },
  {
   "cell_type": "code",
   "execution_count": 22,
   "id": "3321b2f4",
   "metadata": {},
   "outputs": [
    {
     "name": "stdout",
     "output_type": "stream",
     "text": [
      "1/1 [==============================] - 0s 141ms/step\n"
     ]
    },
    {
     "data": {
      "text/plain": [
       "array([[ 72.00645 ],\n",
       "       [ 76.12808 ],\n",
       "       [ 80.24973 ],\n",
       "       [ 84.37137 ],\n",
       "       [ 88.49302 ],\n",
       "       [ 92.61467 ],\n",
       "       [ 96.736305],\n",
       "       [100.85794 ],\n",
       "       [104.9796  ],\n",
       "       [109.10124 ]], dtype=float32)"
      ]
     },
     "execution_count": 22,
     "metadata": {},
     "output_type": "execute_result"
    }
   ],
   "source": [
    "# Make some predictions\n",
    "Y_pred = model.predict(X_test)\n",
    "Y_pred"
   ]
  },
  {
   "cell_type": "code",
   "execution_count": 23,
   "id": "9cffee63",
   "metadata": {},
   "outputs": [
    {
     "data": {
      "text/plain": [
       "<tf.Tensor: shape=(10,), dtype=int32, numpy=array([ 70,  74,  78,  82,  86,  90,  94,  98, 102, 106])>"
      ]
     },
     "execution_count": 23,
     "metadata": {},
     "output_type": "execute_result"
    }
   ],
   "source": [
    "Y_test"
   ]
  },
  {
   "cell_type": "code",
   "execution_count": 24,
   "id": "14d98338",
   "metadata": {},
   "outputs": [],
   "source": [
    "# Plotting function\n",
    "def plot_predictions(train_data=X_train, train_labels=Y_train, test_data=X_test, test_labels=Y_test, predictions=Y_pred):\n",
    "    \"\"\"\n",
    "    Plots training data, test data and compare predictions to ground truth labels\n",
    "    \"\"\"\n",
    "    plt.figure(figsize=(10, 7))\n",
    "    plt.scatter(train_data, train_labels, c='b', label='Training Data')\n",
    "    plt.scatter(test_data, test_labels, c='g', label='Test Data')\n",
    "    \n",
    "    # Plot model's predictions\n",
    "    plt.scatter(test_data, predictions, c='r', label='Prediction')\n",
    "    # Show legend\n",
    "    plt.legend()\n",
    "    plt.show()"
   ]
  },
  {
   "cell_type": "code",
   "execution_count": 25,
   "id": "b8443f87",
   "metadata": {},
   "outputs": [
    {
     "data": {
      "image/png": "[encoded data removed]",
      "text/plain": [
       "<Figure size 1000x700 with 1 Axes>"
      ]
     },
     "metadata": {},
     "output_type": "display_data"
    }
   ],
   "source": [
    "plot_predictions()"
   ]
  },
  {
   "cell_type": "markdown",
   "id": "352e65c0",
   "metadata": {},
   "source": [
    "## Evaluating the model"
   ]
  },
  {
   "cell_type": "code",
   "execution_count": 26,
   "id": "23350431",
   "metadata": {},
   "outputs": [
    {
     "name": "stdout",
     "output_type": "stream",
     "text": [
      "1/1 [==============================] - 0s 391ms/step - loss: 2.5538 - mae: 2.5538\n"
     ]
    },
    {
     "data": {
      "text/plain": [
       "[2.553835391998291, 2.553835391998291]"
      ]
     },
     "execution_count": 26,
     "metadata": {},
     "output_type": "execute_result"
    }
   ],
   "source": [
    "# Evaluate the model on the test\n",
    "model.evaluate(X_test, Y_test)"
   ]
  },
  {
   "cell_type": "code",
   "execution_count": 27,
   "id": "3edda75c",
   "metadata": {},
   "outputs": [
    {
     "data": {
      "text/plain": [
       "<tf.Tensor: shape=(), dtype=float32, numpy=2.5538406>"
      ]
     },
     "execution_count": 27,
     "metadata": {},
     "output_type": "execute_result"
    }
   ],
   "source": [
    "# Calculate the mean absolute error\n",
    "mae = tf.metrics.mean_absolute_error(Y_test, tf.squeeze(Y_pred))\n",
    "mae"
   ]
  },
  {
   "cell_type": "code",
   "execution_count": 28,
   "id": "9dbdd58a",
   "metadata": {},
   "outputs": [
    {
     "data": {
      "text/plain": [
       "<tf.Tensor: shape=(), dtype=float32, numpy=6.6441793>"
      ]
     },
     "execution_count": 28,
     "metadata": {},
     "output_type": "execute_result"
    }
   ],
   "source": [
    "# Calculate the mean square error\n",
    "mse = tf.metrics.mean_squared_error(Y_test, tf.squeeze(Y_pred))\n",
    "mse"
   ]
  },
  {
   "cell_type": "code",
   "execution_count": 38,
   "id": "fd47b526",
   "metadata": {},
   "outputs": [],
   "source": [
    "# Make some functions for mse and mae\n",
    "def mae(Y_true, Y_pred):\n",
    "    return tf.metrics.mean_absolute_error(y_true=Y_true, y_pred=tf.squeeze(Y_pred))\n",
    "\n",
    "def mse(Y_true, Y_pred):\n",
    "    return tf.metrics.mean_squared_error(y_true=Y_true, y_pred=tf.squeeze(Y_pred))"
   ]
  },
  {
   "cell_type": "markdown",
   "id": "5ede5e51",
   "metadata": {},
   "source": [
    "## Experiments to improve the model"
   ]
  },
  {
   "cell_type": "code",
   "execution_count": 30,
   "id": "04af4f79",
   "metadata": {},
   "outputs": [
    {
     "data": {
      "text/plain": [
       "(<tf.Tensor: shape=(40,), dtype=int32, numpy=\n",
       " array([-100,  -96,  -92,  -88,  -84,  -80,  -76,  -72,  -68,  -64,  -60,\n",
       "         -56,  -52,  -48,  -44,  -40,  -36,  -32,  -28,  -24,  -20,  -16,\n",
       "         -12,   -8,   -4,    0,    4,    8,   12,   16,   20,   24,   28,\n",
       "          32,   36,   40,   44,   48,   52,   56])>,\n",
       " <tf.Tensor: shape=(40,), dtype=int32, numpy=\n",
       " array([-90, -86, -82, -78, -74, -70, -66, -62, -58, -54, -50, -46, -42,\n",
       "        -38, -34, -30, -26, -22, -18, -14, -10,  -6,  -2,   2,   6,  10,\n",
       "         14,  18,  22,  26,  30,  34,  38,  42,  46,  50,  54,  58,  62,\n",
       "         66])>)"
      ]
     },
     "execution_count": 30,
     "metadata": {},
     "output_type": "execute_result"
    }
   ],
   "source": [
    "X_train, Y_train"
   ]
  },
  {
   "cell_type": "markdown",
   "id": "1e31d4c7",
   "metadata": {},
   "source": [
    "**Modeling experiments:**\n",
    "- Same original model, 1 layer, 100 epochs\n",
    "- 2 layers, 100 epochs\n",
    "- 2 layers, 500 epochs"
   ]
  },
  {
   "cell_type": "code",
   "execution_count": 31,
   "id": "87bb56f9",
   "metadata": {},
   "outputs": [],
   "source": [
    "# Setting the seed\n",
    "tf.random.set_seed(42)"
   ]
  },
  {
   "cell_type": "code",
   "execution_count": 33,
   "id": "3bb9783e",
   "metadata": {},
   "outputs": [
    {
     "name": "stdout",
     "output_type": "stream",
     "text": [
      "Epoch 1/100\n",
      "2/2 [==============================] - 1s 24ms/step - loss: 8.5783 - mae: 8.5783\n",
      "Epoch 2/100\n",
      "2/2 [==============================] - 0s 16ms/step - loss: 10.4287 - mae: 10.4287\n",
      "Epoch 3/100\n",
      "2/2 [==============================] - 0s 16ms/step - loss: 10.8430 - mae: 10.8430\n",
      "Epoch 4/100\n",
      "2/2 [==============================] - 0s 12ms/step - loss: 9.4521 - mae: 9.4521\n",
      "Epoch 5/100\n",
      "2/2 [==============================] - 0s 12ms/step - loss: 10.3450 - mae: 10.3450\n",
      "Epoch 6/100\n",
      "2/2 [==============================] - 0s 12ms/step - loss: 9.5856 - mae: 9.5856\n",
      "Epoch 7/100\n",
      "2/2 [==============================] - 0s 16ms/step - loss: 8.6995 - mae: 8.6995\n",
      "Epoch 8/100\n",
      "2/2 [==============================] - 0s 16ms/step - loss: 9.0505 - mae: 9.0505\n",
      "Epoch 9/100\n",
      "2/2 [==============================] - 0s 12ms/step - loss: 19.0839 - mae: 19.0839\n",
      "Epoch 10/100\n",
      "2/2 [==============================] - 0s 12ms/step - loss: 10.2957 - mae: 10.2957\n",
      "Epoch 11/100\n",
      "2/2 [==============================] - 0s 8ms/step - loss: 8.4658 - mae: 8.4658\n",
      "Epoch 12/100\n",
      "2/2 [==============================] - 0s 12ms/step - loss: 10.8081 - mae: 10.8081\n",
      "Epoch 13/100\n",
      "2/2 [==============================] - 0s 12ms/step - loss: 9.8658 - mae: 9.8658\n",
      "Epoch 14/100\n",
      "2/2 [==============================] - 0s 12ms/step - loss: 12.0506 - mae: 12.0506\n",
      "Epoch 15/100\n",
      "2/2 [==============================] - 0s 12ms/step - loss: 12.4275 - mae: 12.4275\n",
      "Epoch 16/100\n",
      "2/2 [==============================] - 0s 12ms/step - loss: 8.4056 - mae: 8.4056\n",
      "Epoch 17/100\n",
      "2/2 [==============================] - 0s 8ms/step - loss: 13.3341 - mae: 13.3341\n",
      "Epoch 18/100\n",
      "2/2 [==============================] - 0s 12ms/step - loss: 11.0891 - mae: 11.0891\n",
      "Epoch 19/100\n",
      "2/2 [==============================] - 0s 12ms/step - loss: 18.4539 - mae: 18.4539\n",
      "Epoch 20/100\n",
      "2/2 [==============================] - 0s 12ms/step - loss: 15.1523 - mae: 15.1523\n",
      "Epoch 21/100\n",
      "2/2 [==============================] - 0s 12ms/step - loss: 11.1054 - mae: 11.1054\n",
      "Epoch 22/100\n",
      "2/2 [==============================] - 0s 8ms/step - loss: 8.2306 - mae: 8.2306\n",
      "Epoch 23/100\n",
      "2/2 [==============================] - 0s 12ms/step - loss: 9.4461 - mae: 9.4461\n",
      "Epoch 24/100\n",
      "2/2 [==============================] - 0s 8ms/step - loss: 7.6733 - mae: 7.6733\n",
      "Epoch 25/100\n",
      "2/2 [==============================] - 0s 12ms/step - loss: 13.0427 - mae: 13.0427\n",
      "Epoch 26/100\n",
      "2/2 [==============================] - 0s 8ms/step - loss: 16.5224 - mae: 16.5224\n",
      "Epoch 27/100\n",
      "2/2 [==============================] - 0s 8ms/step - loss: 13.2487 - mae: 13.2487\n",
      "Epoch 28/100\n",
      "2/2 [==============================] - 0s 8ms/step - loss: 14.3631 - mae: 14.3631\n",
      "Epoch 29/100\n",
      "2/2 [==============================] - 0s 12ms/step - loss: 10.0917 - mae: 10.0917\n",
      "Epoch 30/100\n",
      "2/2 [==============================] - 0s 12ms/step - loss: 16.5046 - mae: 16.5046\n",
      "Epoch 31/100\n",
      "2/2 [==============================] - 0s 12ms/step - loss: 23.4900 - mae: 23.4900\n",
      "Epoch 32/100\n",
      "2/2 [==============================] - 0s 12ms/step - loss: 7.3586 - mae: 7.3586\n",
      "Epoch 33/100\n",
      "2/2 [==============================] - 0s 12ms/step - loss: 9.7976 - mae: 9.7976\n",
      "Epoch 34/100\n",
      "2/2 [==============================] - 0s 12ms/step - loss: 12.2529 - mae: 12.2529\n",
      "Epoch 35/100\n",
      "2/2 [==============================] - 0s 8ms/step - loss: 11.1450 - mae: 11.1450\n",
      "Epoch 36/100\n",
      "2/2 [==============================] - 0s 8ms/step - loss: 13.3675 - mae: 13.3675\n",
      "Epoch 37/100\n",
      "2/2 [==============================] - 0s 12ms/step - loss: 9.4468 - mae: 9.4468\n",
      "Epoch 38/100\n",
      "2/2 [==============================] - 0s 8ms/step - loss: 10.0993 - mae: 10.0993\n",
      "Epoch 39/100\n",
      "2/2 [==============================] - 0s 12ms/step - loss: 10.1970 - mae: 10.1970\n",
      "Epoch 40/100\n",
      "2/2 [==============================] - 0s 12ms/step - loss: 10.9420 - mae: 10.9420\n",
      "Epoch 41/100\n",
      "2/2 [==============================] - 0s 12ms/step - loss: 7.9170 - mae: 7.9170\n",
      "Epoch 42/100\n",
      "2/2 [==============================] - 0s 12ms/step - loss: 10.5774 - mae: 10.5774\n",
      "Epoch 43/100\n",
      "2/2 [==============================] - 0s 12ms/step - loss: 7.2018 - mae: 7.2018\n",
      "Epoch 44/100\n",
      "2/2 [==============================] - 0s 8ms/step - loss: 7.9907 - mae: 7.9907\n",
      "Epoch 45/100\n",
      "2/2 [==============================] - 0s 8ms/step - loss: 9.7839 - mae: 9.7839\n",
      "Epoch 46/100\n",
      "2/2 [==============================] - 0s 8ms/step - loss: 8.8605 - mae: 8.8605\n",
      "Epoch 47/100\n",
      "2/2 [==============================] - 0s 8ms/step - loss: 7.5640 - mae: 7.5640\n",
      "Epoch 48/100\n",
      "2/2 [==============================] - 0s 8ms/step - loss: 8.5641 - mae: 8.5641\n",
      "Epoch 49/100\n",
      "2/2 [==============================] - 0s 8ms/step - loss: 9.9894 - mae: 9.9894\n",
      "Epoch 50/100\n",
      "2/2 [==============================] - 0s 12ms/step - loss: 9.0158 - mae: 9.0158\n",
      "Epoch 51/100\n",
      "2/2 [==============================] - 0s 8ms/step - loss: 10.6593 - mae: 10.6593\n",
      "Epoch 52/100\n",
      "2/2 [==============================] - 0s 12ms/step - loss: 15.2889 - mae: 15.2889\n",
      "Epoch 53/100\n",
      "2/2 [==============================] - 0s 8ms/step - loss: 14.3108 - mae: 14.3108\n",
      "Epoch 54/100\n",
      "2/2 [==============================] - 0s 8ms/step - loss: 21.6073 - mae: 21.6073\n",
      "Epoch 55/100\n",
      "2/2 [==============================] - 0s 12ms/step - loss: 15.9875 - mae: 15.9875\n",
      "Epoch 56/100\n",
      "2/2 [==============================] - 0s 12ms/step - loss: 10.2813 - mae: 10.2813\n",
      "Epoch 57/100\n",
      "2/2 [==============================] - 0s 8ms/step - loss: 9.7591 - mae: 9.7591\n",
      "Epoch 58/100\n",
      "2/2 [==============================] - 0s 12ms/step - loss: 9.0446 - mae: 9.0446\n",
      "Epoch 59/100\n",
      "2/2 [==============================] - 0s 12ms/step - loss: 8.2504 - mae: 8.2504\n",
      "Epoch 60/100\n",
      "2/2 [==============================] - 0s 12ms/step - loss: 9.3464 - mae: 9.3464\n",
      "Epoch 61/100\n",
      "2/2 [==============================] - 0s 12ms/step - loss: 11.1554 - mae: 11.1554\n",
      "Epoch 62/100\n",
      "2/2 [==============================] - 0s 12ms/step - loss: 12.0699 - mae: 12.0699\n",
      "Epoch 63/100\n",
      "2/2 [==============================] - 0s 12ms/step - loss: 7.2609 - mae: 7.2609\n",
      "Epoch 64/100\n",
      "2/2 [==============================] - 0s 12ms/step - loss: 12.4241 - mae: 12.4241\n",
      "Epoch 65/100\n",
      "2/2 [==============================] - 0s 12ms/step - loss: 10.4913 - mae: 10.4913\n",
      "Epoch 66/100\n",
      "2/2 [==============================] - 0s 12ms/step - loss: 15.6033 - mae: 15.6033\n",
      "Epoch 67/100\n",
      "2/2 [==============================] - 0s 12ms/step - loss: 10.0035 - mae: 10.0035\n",
      "Epoch 68/100\n",
      "2/2 [==============================] - 0s 12ms/step - loss: 8.7130 - mae: 8.7130\n",
      "Epoch 69/100\n",
      "2/2 [==============================] - 0s 12ms/step - loss: 13.4794 - mae: 13.4794\n",
      "Epoch 70/100\n",
      "2/2 [==============================] - 0s 12ms/step - loss: 7.4595 - mae: 7.4595\n",
      "Epoch 71/100\n",
      "2/2 [==============================] - 0s 12ms/step - loss: 12.2182 - mae: 12.2182\n",
      "Epoch 72/100\n",
      "2/2 [==============================] - 0s 8ms/step - loss: 8.5239 - mae: 8.5239\n",
      "Epoch 73/100\n",
      "2/2 [==============================] - 0s 12ms/step - loss: 7.0301 - mae: 7.0301\n",
      "Epoch 74/100\n",
      "2/2 [==============================] - 0s 12ms/step - loss: 9.9219 - mae: 9.9219\n",
      "Epoch 75/100\n",
      "2/2 [==============================] - 0s 12ms/step - loss: 9.9284 - mae: 9.9284\n",
      "Epoch 76/100\n",
      "2/2 [==============================] - 0s 12ms/step - loss: 10.0948 - mae: 10.0948\n",
      "Epoch 77/100\n",
      "2/2 [==============================] - 0s 8ms/step - loss: 12.9457 - mae: 12.9457\n",
      "Epoch 78/100\n",
      "2/2 [==============================] - 0s 12ms/step - loss: 11.1404 - mae: 11.1404\n",
      "Epoch 79/100\n",
      "2/2 [==============================] - 0s 8ms/step - loss: 14.6940 - mae: 14.6940\n",
      "Epoch 80/100\n",
      "2/2 [==============================] - 0s 8ms/step - loss: 8.9167 - mae: 8.9167\n",
      "Epoch 81/100\n",
      "2/2 [==============================] - 0s 12ms/step - loss: 10.7598 - mae: 10.7598\n",
      "Epoch 82/100\n",
      "2/2 [==============================] - 0s 12ms/step - loss: 8.3799 - mae: 8.3799\n",
      "Epoch 83/100\n",
      "2/2 [==============================] - 0s 12ms/step - loss: 9.2164 - mae: 9.2164\n",
      "Epoch 84/100\n",
      "2/2 [==============================] - 0s 12ms/step - loss: 8.9335 - mae: 8.9335\n",
      "Epoch 85/100\n",
      "2/2 [==============================] - 0s 12ms/step - loss: 13.1953 - mae: 13.1953\n",
      "Epoch 86/100\n",
      "2/2 [==============================] - 0s 12ms/step - loss: 13.6976 - mae: 13.6976\n",
      "Epoch 87/100\n"
     ]
    },
    {
     "name": "stdout",
     "output_type": "stream",
     "text": [
      "2/2 [==============================] - 0s 12ms/step - loss: 13.1817 - mae: 13.1817\n",
      "Epoch 88/100\n",
      "2/2 [==============================] - 0s 12ms/step - loss: 11.5066 - mae: 11.5066\n",
      "Epoch 89/100\n",
      "2/2 [==============================] - 0s 12ms/step - loss: 7.7946 - mae: 7.7946\n",
      "Epoch 90/100\n",
      "2/2 [==============================] - 0s 12ms/step - loss: 10.9204 - mae: 10.9204\n",
      "Epoch 91/100\n",
      "2/2 [==============================] - 0s 16ms/step - loss: 6.7402 - mae: 6.7402\n",
      "Epoch 92/100\n",
      "2/2 [==============================] - 0s 12ms/step - loss: 10.1129 - mae: 10.1129\n",
      "Epoch 93/100\n",
      "2/2 [==============================] - 0s 12ms/step - loss: 7.5995 - mae: 7.5995\n",
      "Epoch 94/100\n",
      "2/2 [==============================] - 0s 12ms/step - loss: 9.2315 - mae: 9.2315\n",
      "Epoch 95/100\n",
      "2/2 [==============================] - 0s 12ms/step - loss: 10.8213 - mae: 10.8213\n",
      "Epoch 96/100\n",
      "2/2 [==============================] - 0s 12ms/step - loss: 10.2868 - mae: 10.2868\n",
      "Epoch 97/100\n",
      "2/2 [==============================] - 0s 12ms/step - loss: 7.6716 - mae: 7.6716\n",
      "Epoch 98/100\n",
      "2/2 [==============================] - 0s 12ms/step - loss: 8.6064 - mae: 8.6064\n",
      "Epoch 99/100\n",
      "2/2 [==============================] - 0s 16ms/step - loss: 9.3848 - mae: 9.3848\n",
      "Epoch 100/100\n",
      "2/2 [==============================] - 0s 12ms/step - loss: 8.8307 - mae: 8.8307\n"
     ]
    },
    {
     "data": {
      "text/plain": [
       "<keras.callbacks.History at 0x87a0046460>"
      ]
     },
     "execution_count": 33,
     "metadata": {},
     "output_type": "execute_result"
    }
   ],
   "source": [
    "# Model 1\n",
    "# Definition\n",
    "model_1 = tf.keras.Sequential([\n",
    "    tf.keras.layers.Dense(1)\n",
    "])\n",
    "# Compile\n",
    "model_1.compile(loss=tf.keras.losses.mae, \n",
    "               optimizer=tf.keras.optimizers.SGD(),\n",
    "               metrics=['mae'])\n",
    "# Fit\n",
    "model_1.fit(tf.expand_dims(X_train, axis=-1), Y_train, epochs=100)"
   ]
  },
  {
   "cell_type": "code",
   "execution_count": 34,
   "id": "8da65be1",
   "metadata": {},
   "outputs": [
    {
     "name": "stdout",
     "output_type": "stream",
     "text": [
      "1/1 [==============================] - 0s 136ms/step\n"
     ]
    },
    {
     "data": {
      "image/png": "[encoded data removed]",
      "text/plain": [
       "<Figure size 1000x700 with 1 Axes>"
      ]
     },
     "metadata": {},
     "output_type": "display_data"
    }
   ],
   "source": [
    "Y_preds_1 = model_1.predict(X_test)\n",
    "plot_predictions(predictions=Y_preds_1)"
   ]
  },
  {
   "cell_type": "code",
   "execution_count": 39,
   "id": "a2bc1a4d",
   "metadata": {},
   "outputs": [
    {
     "data": {
      "text/plain": [
       "(<tf.Tensor: shape=(), dtype=float32, numpy=8.655555>,\n",
       " <tf.Tensor: shape=(), dtype=float32, numpy=81.44352>)"
      ]
     },
     "execution_count": 39,
     "metadata": {},
     "output_type": "execute_result"
    }
   ],
   "source": [
    "# Calculate model 1 evaluation metrics\n",
    "mae_1 = mae(Y_test, Y_preds_1)\n",
    "mse_1 = mse(Y_test, Y_preds_1)\n",
    "mae_1, mse_1"
   ]
  },
  {
   "cell_type": "code",
   "execution_count": 40,
   "id": "b4712977",
   "metadata": {},
   "outputs": [],
   "source": [
    "tf.random.set_seed(42)"
   ]
  },
  {
   "cell_type": "code",
   "execution_count": 41,
   "id": "74f45ee3",
   "metadata": {},
   "outputs": [
    {
     "name": "stdout",
     "output_type": "stream",
     "text": [
      "Epoch 1/100\n",
      "2/2 [==============================] - 1s 16ms/step - loss: 83.6280 - mse: 10687.9873\n",
      "Epoch 2/100\n",
      "2/2 [==============================] - 0s 16ms/step - loss: 27.9745 - mse: 1213.4744\n",
      "Epoch 3/100\n",
      "2/2 [==============================] - 0s 0s/step - loss: 20.7658 - mse: 633.5209\n",
      "Epoch 4/100\n",
      "2/2 [==============================] - 0s 16ms/step - loss: 13.3824 - mse: 242.3190\n",
      "Epoch 5/100\n",
      "2/2 [==============================] - 0s 16ms/step - loss: 17.5275 - mse: 413.3193\n",
      "Epoch 6/100\n",
      "2/2 [==============================] - 0s 16ms/step - loss: 10.2504 - mse: 120.5474\n",
      "Epoch 7/100\n",
      "2/2 [==============================] - 0s 16ms/step - loss: 11.2231 - mse: 152.4560\n",
      "Epoch 8/100\n",
      "2/2 [==============================] - 0s 16ms/step - loss: 11.1398 - mse: 161.1791\n",
      "Epoch 9/100\n",
      "2/2 [==============================] - 0s 16ms/step - loss: 40.6785 - mse: 2613.6421\n",
      "Epoch 10/100\n",
      "2/2 [==============================] - 0s 0s/step - loss: 28.0415 - mse: 1108.4141\n",
      "Epoch 11/100\n",
      "2/2 [==============================] - 0s 16ms/step - loss: 10.2676 - mse: 149.0551\n",
      "Epoch 12/100\n",
      "2/2 [==============================] - 0s 16ms/step - loss: 25.2642 - mse: 889.6187\n",
      "Epoch 13/100\n",
      "2/2 [==============================] - 0s 16ms/step - loss: 17.0738 - mse: 404.6488\n",
      "Epoch 14/100\n",
      "2/2 [==============================] - 0s 16ms/step - loss: 26.0542 - mse: 1061.5348\n",
      "Epoch 15/100\n",
      "2/2 [==============================] - 0s 16ms/step - loss: 18.1061 - mse: 455.7393\n",
      "Epoch 16/100\n",
      "2/2 [==============================] - 0s 16ms/step - loss: 7.8778 - mse: 90.2309\n",
      "Epoch 17/100\n",
      "2/2 [==============================] - 0s 16ms/step - loss: 22.2103 - mse: 683.2427\n",
      "Epoch 18/100\n",
      "2/2 [==============================] - 0s 16ms/step - loss: 10.8378 - mse: 171.3586\n",
      "Epoch 19/100\n",
      "2/2 [==============================] - 0s 0s/step - loss: 10.7227 - mse: 139.0045\n",
      "Epoch 20/100\n",
      "2/2 [==============================] - 0s 16ms/step - loss: 12.0419 - mse: 165.0769\n",
      "Epoch 21/100\n",
      "2/2 [==============================] - 0s 16ms/step - loss: 20.0999 - mse: 586.1027\n",
      "Epoch 22/100\n",
      "2/2 [==============================] - 0s 16ms/step - loss: 13.7720 - mse: 241.8800\n",
      "Epoch 23/100\n",
      "2/2 [==============================] - 0s 16ms/step - loss: 9.5328 - mse: 94.8824\n",
      "Epoch 24/100\n",
      "2/2 [==============================] - 0s 0s/step - loss: 11.8868 - mse: 163.6111\n",
      "Epoch 25/100\n",
      "2/2 [==============================] - 0s 16ms/step - loss: 16.1442 - mse: 381.6566\n",
      "Epoch 26/100\n",
      "2/2 [==============================] - 0s 16ms/step - loss: 16.3423 - mse: 371.2350\n",
      "Epoch 27/100\n",
      "2/2 [==============================] - 0s 16ms/step - loss: 11.5824 - mse: 179.7099\n",
      "Epoch 28/100\n",
      "2/2 [==============================] - 0s 16ms/step - loss: 29.8356 - mse: 1450.8608\n",
      "Epoch 29/100\n",
      "2/2 [==============================] - 0s 0s/step - loss: 9.2675 - mse: 93.1344\n",
      "Epoch 30/100\n",
      "2/2 [==============================] - 0s 16ms/step - loss: 30.4063 - mse: 1692.1914\n",
      "Epoch 31/100\n",
      "2/2 [==============================] - 0s 16ms/step - loss: 55.2591 - mse: 5476.8223\n",
      "Epoch 32/100\n",
      "2/2 [==============================] - 0s 16ms/step - loss: 9.7166 - mse: 103.1723\n",
      "Epoch 33/100\n",
      "2/2 [==============================] - 0s 16ms/step - loss: 12.3292 - mse: 192.3022\n",
      "Epoch 34/100\n",
      "2/2 [==============================] - 0s 16ms/step - loss: 24.5439 - mse: 915.5443\n",
      "Epoch 35/100\n",
      "2/2 [==============================] - 0s 16ms/step - loss: 11.9516 - mse: 210.9867\n",
      "Epoch 36/100\n",
      "2/2 [==============================] - 0s 16ms/step - loss: 22.1696 - mse: 699.3547\n",
      "Epoch 37/100\n",
      "2/2 [==============================] - 0s 16ms/step - loss: 17.4586 - mse: 434.5100\n",
      "Epoch 38/100\n",
      "2/2 [==============================] - 0s 16ms/step - loss: 10.7028 - mse: 132.0958\n",
      "Epoch 39/100\n",
      "2/2 [==============================] - 0s 0s/step - loss: 11.2180 - mse: 164.0682\n",
      "Epoch 40/100\n",
      "2/2 [==============================] - 0s 16ms/step - loss: 18.0815 - mse: 472.6732\n",
      "Epoch 41/100\n",
      "2/2 [==============================] - 0s 16ms/step - loss: 10.4469 - mse: 182.8591\n",
      "Epoch 42/100\n",
      "2/2 [==============================] - 0s 16ms/step - loss: 7.2687 - mse: 75.2412\n",
      "Epoch 43/100\n",
      "2/2 [==============================] - 0s 0s/step - loss: 19.0288 - mse: 536.9899\n",
      "Epoch 44/100\n",
      "2/2 [==============================] - 0s 16ms/step - loss: 20.2015 - mse: 631.4865\n",
      "Epoch 45/100\n",
      "2/2 [==============================] - 0s 16ms/step - loss: 10.1540 - mse: 127.8487\n",
      "Epoch 46/100\n",
      "2/2 [==============================] - 0s 16ms/step - loss: 11.4295 - mse: 162.6019\n",
      "Epoch 47/100\n",
      "2/2 [==============================] - 0s 16ms/step - loss: 9.8028 - mse: 152.9187\n",
      "Epoch 48/100\n",
      "2/2 [==============================] - 0s 16ms/step - loss: 17.5716 - mse: 419.6358\n",
      "Epoch 49/100\n",
      "2/2 [==============================] - 0s 16ms/step - loss: 9.3611 - mse: 95.9662\n",
      "Epoch 50/100\n",
      "2/2 [==============================] - 0s 0s/step - loss: 13.4292 - mse: 238.6765\n",
      "Epoch 51/100\n",
      "2/2 [==============================] - 0s 16ms/step - loss: 11.4550 - mse: 149.2650\n",
      "Epoch 52/100\n",
      "2/2 [==============================] - 0s 16ms/step - loss: 29.5215 - mse: 1496.0491\n",
      "Epoch 53/100\n",
      "2/2 [==============================] - 0s 16ms/step - loss: 16.8209 - mse: 419.1651\n",
      "Epoch 54/100\n",
      "2/2 [==============================] - 0s 16ms/step - loss: 21.8180 - mse: 702.5839\n",
      "Epoch 55/100\n",
      "2/2 [==============================] - 0s 16ms/step - loss: 22.4411 - mse: 751.4503\n",
      "Epoch 56/100\n",
      "2/2 [==============================] - 0s 16ms/step - loss: 10.6595 - mse: 172.7512\n",
      "Epoch 57/100\n",
      "2/2 [==============================] - 0s 16ms/step - loss: 12.4305 - mse: 186.9299\n",
      "Epoch 58/100\n",
      "2/2 [==============================] - 0s 16ms/step - loss: 9.4288 - mse: 101.0837\n",
      "Epoch 59/100\n",
      "2/2 [==============================] - 0s 16ms/step - loss: 12.2216 - mse: 198.1580\n",
      "Epoch 60/100\n",
      "2/2 [==============================] - 0s 16ms/step - loss: 11.6957 - mse: 178.7717\n",
      "Epoch 61/100\n",
      "2/2 [==============================] - 0s 16ms/step - loss: 16.1640 - mse: 364.7379\n",
      "Epoch 62/100\n",
      "2/2 [==============================] - 0s 16ms/step - loss: 11.2035 - mse: 159.2271\n",
      "Epoch 63/100\n",
      "2/2 [==============================] - 0s 16ms/step - loss: 12.4741 - mse: 221.1093\n",
      "Epoch 64/100\n",
      "2/2 [==============================] - 0s 16ms/step - loss: 15.8559 - mse: 359.9715\n",
      "Epoch 65/100\n",
      "2/2 [==============================] - 0s 16ms/step - loss: 10.6480 - mse: 140.3032\n",
      "Epoch 66/100\n",
      "2/2 [==============================] - 0s 16ms/step - loss: 21.6140 - mse: 692.1993\n",
      "Epoch 67/100\n",
      "2/2 [==============================] - 0s 16ms/step - loss: 10.6684 - mse: 134.0794\n",
      "Epoch 68/100\n",
      "2/2 [==============================] - 0s 0s/step - loss: 10.6091 - mse: 145.9819\n",
      "Epoch 69/100\n",
      "2/2 [==============================] - 0s 16ms/step - loss: 22.4769 - mse: 727.5783\n",
      "Epoch 70/100\n",
      "2/2 [==============================] - 0s 16ms/step - loss: 9.3810 - mse: 165.2240\n",
      "Epoch 71/100\n",
      "2/2 [==============================] - 0s 0s/step - loss: 15.5146 - mse: 326.3465\n",
      "Epoch 72/100\n",
      "2/2 [==============================] - 0s 16ms/step - loss: 7.0296 - mse: 68.0870\n",
      "Epoch 73/100\n",
      "2/2 [==============================] - 0s 16ms/step - loss: 12.2580 - mse: 217.1469\n",
      "Epoch 74/100\n",
      "2/2 [==============================] - 0s 16ms/step - loss: 17.4240 - mse: 411.3297\n",
      "Epoch 75/100\n",
      "2/2 [==============================] - 0s 16ms/step - loss: 7.2474 - mse: 71.7630\n",
      "Epoch 76/100\n",
      "2/2 [==============================] - 0s 16ms/step - loss: 10.0004 - mse: 170.9166\n",
      "Epoch 77/100\n",
      "2/2 [==============================] - 0s 0s/step - loss: 21.4880 - mse: 695.7921\n",
      "Epoch 78/100\n",
      "2/2 [==============================] - 0s 16ms/step - loss: 18.8072 - mse: 537.8000\n",
      "Epoch 79/100\n",
      "2/2 [==============================] - 0s 0s/step - loss: 16.0814 - mse: 379.9191\n",
      "Epoch 80/100\n",
      "2/2 [==============================] - 0s 16ms/step - loss: 23.7974 - mse: 859.0068\n",
      "Epoch 81/100\n",
      "2/2 [==============================] - 0s 16ms/step - loss: 11.0860 - mse: 146.8365\n",
      "Epoch 82/100\n",
      "2/2 [==============================] - 0s 16ms/step - loss: 12.6643 - mse: 230.5847\n",
      "Epoch 83/100\n",
      "2/2 [==============================] - 0s 16ms/step - loss: 17.4091 - mse: 394.7751\n",
      "Epoch 84/100\n",
      "2/2 [==============================] - 0s 31ms/step - loss: 7.2854 - mse: 73.5986\n",
      "Epoch 85/100\n"
     ]
    },
    {
     "name": "stdout",
     "output_type": "stream",
     "text": [
      "2/2 [==============================] - 0s 0s/step - loss: 14.9647 - mse: 312.7437\n",
      "Epoch 86/100\n",
      "2/2 [==============================] - 0s 16ms/step - loss: 15.2896 - mse: 315.6199\n",
      "Epoch 87/100\n",
      "2/2 [==============================] - 0s 16ms/step - loss: 19.1047 - mse: 521.0304\n",
      "Epoch 88/100\n",
      "2/2 [==============================] - 0s 16ms/step - loss: 29.8424 - mse: 1288.9980\n",
      "Epoch 89/100\n",
      "2/2 [==============================] - 0s 16ms/step - loss: 10.2031 - mse: 124.6507\n",
      "Epoch 90/100\n",
      "2/2 [==============================] - 0s 16ms/step - loss: 21.5277 - mse: 664.1969\n",
      "Epoch 91/100\n",
      "2/2 [==============================] - 0s 16ms/step - loss: 10.5960 - mse: 162.3078\n",
      "Epoch 92/100\n",
      "2/2 [==============================] - 0s 16ms/step - loss: 18.3931 - mse: 463.8105\n",
      "Epoch 93/100\n",
      "2/2 [==============================] - 0s 16ms/step - loss: 7.4354 - mse: 82.5532\n",
      "Epoch 94/100\n",
      "2/2 [==============================] - 0s 0s/step - loss: 17.7243 - mse: 444.9835\n",
      "Epoch 95/100\n",
      "2/2 [==============================] - 0s 16ms/step - loss: 11.1276 - mse: 163.9068\n",
      "Epoch 96/100\n",
      "2/2 [==============================] - 0s 16ms/step - loss: 19.4166 - mse: 509.5250\n",
      "Epoch 97/100\n",
      "2/2 [==============================] - 0s 0s/step - loss: 12.1649 - mse: 209.3206\n",
      "Epoch 98/100\n",
      "2/2 [==============================] - 0s 16ms/step - loss: 11.5709 - mse: 169.1157\n",
      "Epoch 99/100\n",
      "2/2 [==============================] - 0s 16ms/step - loss: 13.8659 - mse: 264.3472\n",
      "Epoch 100/100\n",
      "2/2 [==============================] - 0s 16ms/step - loss: 20.1703 - mse: 605.1667\n"
     ]
    },
    {
     "data": {
      "text/plain": [
       "<keras.callbacks.History at 0x87a7b0fee0>"
      ]
     },
     "execution_count": 41,
     "metadata": {},
     "output_type": "execute_result"
    }
   ],
   "source": [
    "# Model 2 (just to experiment, the metrics on compile will be mse instead of mae)\n",
    "# Definition\n",
    "model_2 = tf.keras.Sequential([\n",
    "    tf.keras.layers.Dense(10),\n",
    "    tf.keras.layers.Dense(1)\n",
    "])\n",
    "# Compile\n",
    "model_2.compile(loss=tf.keras.losses.mae, \n",
    "               optimizer=tf.keras.optimizers.SGD(),\n",
    "               metrics=['mse'])\n",
    "# Fit\n",
    "model_2.fit(tf.expand_dims(X_train, axis=-1), Y_train, epochs=100)"
   ]
  },
  {
   "cell_type": "code",
   "execution_count": 42,
   "id": "63426595",
   "metadata": {},
   "outputs": [
    {
     "name": "stdout",
     "output_type": "stream",
     "text": [
      "1/1 [==============================] - 0s 172ms/step\n"
     ]
    },
    {
     "data": {
      "image/png": "[encoded data removed]",
      "text/plain": [
       "<Figure size 1000x700 with 1 Axes>"
      ]
     },
     "metadata": {},
     "output_type": "display_data"
    }
   ],
   "source": [
    "Y_preds_2 = model_2.predict(X_test)\n",
    "plot_predictions(predictions=Y_preds_2)"
   ]
  },
  {
   "cell_type": "code",
   "execution_count": 43,
   "id": "9a9d79a7",
   "metadata": {},
   "outputs": [
    {
     "data": {
      "text/plain": [
       "(<tf.Tensor: shape=(), dtype=float32, numpy=2.9700813>,\n",
       " <tf.Tensor: shape=(), dtype=float32, numpy=11.577646>)"
      ]
     },
     "execution_count": 43,
     "metadata": {},
     "output_type": "execute_result"
    }
   ],
   "source": [
    "# Calculate model 1 evaluation metrics\n",
    "mae_2 = mae(Y_test, Y_preds_2)\n",
    "mse_2 = mse(Y_test, Y_preds_2)\n",
    "mae_2, mse_2"
   ]
  },
  {
   "cell_type": "code",
   "execution_count": 49,
   "id": "43deca7e",
   "metadata": {},
   "outputs": [],
   "source": [
    "tf.random.set_seed(42)"
   ]
  },
  {
   "cell_type": "code",
   "execution_count": 50,
   "id": "8775378f",
   "metadata": {},
   "outputs": [
    {
     "name": "stdout",
     "output_type": "stream",
     "text": [
      "Epoch 1/500\n",
      "2/2 [==============================] - 1s 16ms/step - loss: 11.2526 - mae: 11.2526\n",
      "Epoch 2/500\n",
      "2/2 [==============================] - 0s 16ms/step - loss: 30.5441 - mae: 30.5441\n",
      "Epoch 3/500\n",
      "2/2 [==============================] - 0s 15ms/step - loss: 28.1501 - mae: 28.1501\n",
      "Epoch 4/500\n",
      "2/2 [==============================] - 0s 15ms/step - loss: 15.6938 - mae: 15.6938\n",
      "Epoch 5/500\n",
      "2/2 [==============================] - 0s 15ms/step - loss: 21.7477 - mae: 21.7477\n",
      "Epoch 6/500\n",
      "2/2 [==============================] - 0s 15ms/step - loss: 11.2737 - mae: 11.2737\n",
      "Epoch 7/500\n",
      "2/2 [==============================] - 0s 16ms/step - loss: 12.3342 - mae: 12.3342\n",
      "Epoch 8/500\n",
      "2/2 [==============================] - 0s 20ms/step - loss: 10.9925 - mae: 10.9925\n",
      "Epoch 9/500\n",
      "2/2 [==============================] - 0s 26ms/step - loss: 38.9626 - mae: 38.9626\n",
      "Epoch 10/500\n",
      "2/2 [==============================] - 0s 16ms/step - loss: 26.5527 - mae: 26.5527\n",
      "Epoch 11/500\n",
      "2/2 [==============================] - 0s 19ms/step - loss: 11.8096 - mae: 11.8096\n",
      "Epoch 12/500\n",
      "2/2 [==============================] - 0s 19ms/step - loss: 23.6318 - mae: 23.6318\n",
      "Epoch 13/500\n",
      "2/2 [==============================] - 0s 25ms/step - loss: 21.1902 - mae: 21.1902\n",
      "Epoch 14/500\n",
      "2/2 [==============================] - 0s 12ms/step - loss: 23.6566 - mae: 23.6566\n",
      "Epoch 15/500\n",
      "2/2 [==============================] - 0s 12ms/step - loss: 15.7367 - mae: 15.7367\n",
      "Epoch 16/500\n",
      "2/2 [==============================] - 0s 12ms/step - loss: 10.4219 - mae: 10.4219\n",
      "Epoch 17/500\n",
      "2/2 [==============================] - 0s 16ms/step - loss: 19.6594 - mae: 19.6594\n",
      "Epoch 18/500\n",
      "2/2 [==============================] - 0s 16ms/step - loss: 13.2974 - mae: 13.2974\n",
      "Epoch 19/500\n",
      "2/2 [==============================] - 0s 12ms/step - loss: 16.0787 - mae: 16.0787\n",
      "Epoch 20/500\n",
      "2/2 [==============================] - 0s 12ms/step - loss: 10.2034 - mae: 10.2034\n",
      "Epoch 21/500\n",
      "2/2 [==============================] - 0s 16ms/step - loss: 13.7583 - mae: 13.7583\n",
      "Epoch 22/500\n",
      "2/2 [==============================] - 0s 16ms/step - loss: 22.0084 - mae: 22.0084\n",
      "Epoch 23/500\n",
      "2/2 [==============================] - 0s 16ms/step - loss: 10.4383 - mae: 10.4383\n",
      "Epoch 24/500\n",
      "2/2 [==============================] - 0s 16ms/step - loss: 15.7240 - mae: 15.7240\n",
      "Epoch 25/500\n",
      "2/2 [==============================] - 0s 12ms/step - loss: 14.8806 - mae: 14.8806\n",
      "Epoch 26/500\n",
      "2/2 [==============================] - 0s 16ms/step - loss: 19.4893 - mae: 19.4893\n",
      "Epoch 27/500\n",
      "2/2 [==============================] - 0s 16ms/step - loss: 11.3654 - mae: 11.3654\n",
      "Epoch 28/500\n",
      "2/2 [==============================] - 0s 16ms/step - loss: 28.6259 - mae: 28.6259\n",
      "Epoch 29/500\n",
      "2/2 [==============================] - 0s 12ms/step - loss: 9.2373 - mae: 9.2373\n",
      "Epoch 30/500\n",
      "2/2 [==============================] - 0s 12ms/step - loss: 29.4675 - mae: 29.4675\n",
      "Epoch 31/500\n",
      "2/2 [==============================] - 0s 12ms/step - loss: 53.4147 - mae: 53.4147\n",
      "Epoch 32/500\n",
      "2/2 [==============================] - 0s 16ms/step - loss: 9.4719 - mae: 9.4719\n",
      "Epoch 33/500\n",
      "2/2 [==============================] - 0s 16ms/step - loss: 12.0502 - mae: 12.0502\n",
      "Epoch 34/500\n",
      "2/2 [==============================] - 0s 12ms/step - loss: 23.3491 - mae: 23.3491\n",
      "Epoch 35/500\n",
      "2/2 [==============================] - 0s 12ms/step - loss: 11.8222 - mae: 11.8222\n",
      "Epoch 36/500\n",
      "2/2 [==============================] - 0s 16ms/step - loss: 21.7841 - mae: 21.7841\n",
      "Epoch 37/500\n",
      "2/2 [==============================] - 0s 12ms/step - loss: 11.1479 - mae: 11.1479\n",
      "Epoch 38/500\n",
      "2/2 [==============================] - 0s 12ms/step - loss: 12.7600 - mae: 12.7600\n",
      "Epoch 39/500\n",
      "2/2 [==============================] - 0s 12ms/step - loss: 12.0435 - mae: 12.0435\n",
      "Epoch 40/500\n",
      "2/2 [==============================] - 0s 12ms/step - loss: 15.6297 - mae: 15.6297\n",
      "Epoch 41/500\n",
      "2/2 [==============================] - 0s 12ms/step - loss: 11.8521 - mae: 11.8521\n",
      "Epoch 42/500\n",
      "2/2 [==============================] - 0s 12ms/step - loss: 9.9656 - mae: 9.9656\n",
      "Epoch 43/500\n",
      "2/2 [==============================] - 0s 12ms/step - loss: 9.8059 - mae: 9.8059\n",
      "Epoch 44/500\n",
      "2/2 [==============================] - 0s 12ms/step - loss: 30.6445 - mae: 30.6445\n",
      "Epoch 45/500\n",
      "2/2 [==============================] - 0s 12ms/step - loss: 12.0059 - mae: 12.0059\n",
      "Epoch 46/500\n",
      "2/2 [==============================] - 0s 20ms/step - loss: 16.1685 - mae: 16.1685\n",
      "Epoch 47/500\n",
      "2/2 [==============================] - 0s 12ms/step - loss: 15.0310 - mae: 15.0310\n",
      "Epoch 48/500\n",
      "2/2 [==============================] - 0s 12ms/step - loss: 14.2483 - mae: 14.2483\n",
      "Epoch 49/500\n",
      "2/2 [==============================] - 0s 16ms/step - loss: 13.8023 - mae: 13.8023\n",
      "Epoch 50/500\n",
      "2/2 [==============================] - 0s 16ms/step - loss: 12.6682 - mae: 12.6682\n",
      "Epoch 51/500\n",
      "2/2 [==============================] - 0s 12ms/step - loss: 14.7167 - mae: 14.7167\n",
      "Epoch 52/500\n",
      "2/2 [==============================] - 0s 12ms/step - loss: 18.6253 - mae: 18.6253\n",
      "Epoch 53/500\n",
      "2/2 [==============================] - 0s 16ms/step - loss: 23.9533 - mae: 23.9533\n",
      "Epoch 54/500\n",
      "2/2 [==============================] - 0s 12ms/step - loss: 23.9096 - mae: 23.9096\n",
      "Epoch 55/500\n",
      "2/2 [==============================] - 0s 12ms/step - loss: 23.1273 - mae: 23.1273\n",
      "Epoch 56/500\n",
      "2/2 [==============================] - 0s 12ms/step - loss: 10.8652 - mae: 10.8652\n",
      "Epoch 57/500\n",
      "2/2 [==============================] - 0s 12ms/step - loss: 12.7183 - mae: 12.7183\n",
      "Epoch 58/500\n",
      "2/2 [==============================] - 0s 12ms/step - loss: 9.5860 - mae: 9.5860\n",
      "Epoch 59/500\n",
      "2/2 [==============================] - 0s 16ms/step - loss: 12.4927 - mae: 12.4927\n",
      "Epoch 60/500\n",
      "2/2 [==============================] - 0s 16ms/step - loss: 11.9028 - mae: 11.9028\n",
      "Epoch 61/500\n",
      "2/2 [==============================] - 0s 12ms/step - loss: 16.9861 - mae: 16.9861\n",
      "Epoch 62/500\n",
      "2/2 [==============================] - 0s 16ms/step - loss: 10.3988 - mae: 10.3988\n",
      "Epoch 63/500\n",
      "2/2 [==============================] - 0s 16ms/step - loss: 10.3522 - mae: 10.3522\n",
      "Epoch 64/500\n",
      "2/2 [==============================] - 0s 12ms/step - loss: 24.2118 - mae: 24.2118\n",
      "Epoch 65/500\n",
      "2/2 [==============================] - 0s 16ms/step - loss: 10.5325 - mae: 10.5325\n",
      "Epoch 66/500\n",
      "2/2 [==============================] - 0s 20ms/step - loss: 21.2219 - mae: 21.2219\n",
      "Epoch 67/500\n",
      "2/2 [==============================] - 0s 12ms/step - loss: 10.5302 - mae: 10.5302\n",
      "Epoch 68/500\n",
      "2/2 [==============================] - 0s 12ms/step - loss: 14.3824 - mae: 14.3824\n",
      "Epoch 69/500\n",
      "2/2 [==============================] - 0s 24ms/step - loss: 10.6219 - mae: 10.6219\n",
      "Epoch 70/500\n",
      "2/2 [==============================] - 0s 20ms/step - loss: 12.7076 - mae: 12.7076\n",
      "Epoch 71/500\n",
      "2/2 [==============================] - 0s 12ms/step - loss: 13.1365 - mae: 13.1365\n",
      "Epoch 72/500\n",
      "2/2 [==============================] - 0s 12ms/step - loss: 19.6468 - mae: 19.6468\n",
      "Epoch 73/500\n",
      "2/2 [==============================] - 0s 12ms/step - loss: 11.2010 - mae: 11.2010\n",
      "Epoch 74/500\n",
      "2/2 [==============================] - 0s 12ms/step - loss: 21.9330 - mae: 21.9330\n",
      "Epoch 75/500\n",
      "2/2 [==============================] - 0s 12ms/step - loss: 7.1930 - mae: 7.1930\n",
      "Epoch 76/500\n",
      "2/2 [==============================] - 0s 12ms/step - loss: 9.4166 - mae: 9.4166\n",
      "Epoch 77/500\n",
      "2/2 [==============================] - 0s 8ms/step - loss: 22.0395 - mae: 22.0395\n",
      "Epoch 78/500\n",
      "2/2 [==============================] - 0s 8ms/step - loss: 17.7173 - mae: 17.7173\n",
      "Epoch 79/500\n",
      "2/2 [==============================] - 0s 12ms/step - loss: 14.8746 - mae: 14.8746\n",
      "Epoch 80/500\n",
      "2/2 [==============================] - 0s 12ms/step - loss: 25.2066 - mae: 25.2066\n",
      "Epoch 81/500\n",
      "2/2 [==============================] - 0s 12ms/step - loss: 10.9427 - mae: 10.9427\n",
      "Epoch 82/500\n",
      "2/2 [==============================] - 0s 12ms/step - loss: 12.7351 - mae: 12.7351\n",
      "Epoch 83/500\n",
      "2/2 [==============================] - 0s 16ms/step - loss: 17.5025 - mae: 17.5025\n",
      "Epoch 84/500\n",
      "2/2 [==============================] - 0s 12ms/step - loss: 7.2856 - mae: 7.2856\n",
      "Epoch 85/500\n",
      "2/2 [==============================] - 0s 12ms/step - loss: 15.0279 - mae: 15.0279\n",
      "Epoch 86/500\n"
     ]
    },
    {
     "name": "stdout",
     "output_type": "stream",
     "text": [
      "2/2 [==============================] - 0s 12ms/step - loss: 15.3373 - mae: 15.3373\n",
      "Epoch 87/500\n",
      "2/2 [==============================] - 0s 12ms/step - loss: 19.2081 - mae: 19.2081\n",
      "Epoch 88/500\n",
      "2/2 [==============================] - 0s 12ms/step - loss: 29.5643 - mae: 29.5643\n",
      "Epoch 89/500\n",
      "2/2 [==============================] - 0s 8ms/step - loss: 10.1444 - mae: 10.1444\n",
      "Epoch 90/500\n",
      "2/2 [==============================] - 0s 16ms/step - loss: 21.3099 - mae: 21.3099\n",
      "Epoch 91/500\n",
      "2/2 [==============================] - 0s 12ms/step - loss: 10.5275 - mae: 10.5275\n",
      "Epoch 92/500\n",
      "2/2 [==============================] - 0s 12ms/step - loss: 18.2045 - mae: 18.2045\n",
      "Epoch 93/500\n",
      "2/2 [==============================] - 0s 12ms/step - loss: 6.8159 - mae: 6.8159\n",
      "Epoch 94/500\n",
      "2/2 [==============================] - 0s 12ms/step - loss: 13.0091 - mae: 13.0091\n",
      "Epoch 95/500\n",
      "2/2 [==============================] - 0s 20ms/step - loss: 18.3906 - mae: 18.3906\n",
      "Epoch 96/500\n",
      "2/2 [==============================] - 0s 24ms/step - loss: 10.3510 - mae: 10.3510\n",
      "Epoch 97/500\n",
      "2/2 [==============================] - 0s 12ms/step - loss: 14.4101 - mae: 14.4101\n",
      "Epoch 98/500\n",
      "2/2 [==============================] - 0s 8ms/step - loss: 6.5799 - mae: 6.5799\n",
      "Epoch 99/500\n",
      "2/2 [==============================] - 0s 8ms/step - loss: 12.6027 - mae: 12.6027\n",
      "Epoch 100/500\n",
      "2/2 [==============================] - 0s 12ms/step - loss: 19.4224 - mae: 19.4224\n",
      "Epoch 101/500\n",
      "2/2 [==============================] - 0s 15ms/step - loss: 16.0432 - mae: 16.0432\n",
      "Epoch 102/500\n",
      "2/2 [==============================] - 0s 15ms/step - loss: 11.1708 - mae: 11.1708\n",
      "Epoch 103/500\n",
      "2/2 [==============================] - 0s 12ms/step - loss: 9.3149 - mae: 9.3149\n",
      "Epoch 104/500\n",
      "2/2 [==============================] - 0s 15ms/step - loss: 24.9188 - mae: 24.9188\n",
      "Epoch 105/500\n",
      "2/2 [==============================] - 0s 13ms/step - loss: 11.9618 - mae: 11.9618\n",
      "Epoch 106/500\n",
      "2/2 [==============================] - 0s 6ms/step - loss: 10.0736 - mae: 10.0736\n",
      "Epoch 107/500\n",
      "2/2 [==============================] - 0s 5ms/step - loss: 22.4797 - mae: 22.4797\n",
      "Epoch 108/500\n",
      "2/2 [==============================] - 0s 17ms/step - loss: 8.1178 - mae: 8.1178\n",
      "Epoch 109/500\n",
      "2/2 [==============================] - 0s 20ms/step - loss: 13.3101 - mae: 13.3101\n",
      "Epoch 110/500\n",
      "2/2 [==============================] - 0s 19ms/step - loss: 7.9905 - mae: 7.9905\n",
      "Epoch 111/500\n",
      "2/2 [==============================] - 0s 19ms/step - loss: 15.7701 - mae: 15.7701\n",
      "Epoch 112/500\n",
      "2/2 [==============================] - 0s 0s/step - loss: 8.7430 - mae: 8.7430\n",
      "Epoch 113/500\n",
      "2/2 [==============================] - 0s 16ms/step - loss: 22.6396 - mae: 22.6396\n",
      "Epoch 114/500\n",
      "2/2 [==============================] - 0s 16ms/step - loss: 18.9930 - mae: 18.9930\n",
      "Epoch 115/500\n",
      "2/2 [==============================] - 0s 16ms/step - loss: 11.0795 - mae: 11.0795\n",
      "Epoch 116/500\n",
      "2/2 [==============================] - 0s 16ms/step - loss: 23.0841 - mae: 23.0841\n",
      "Epoch 117/500\n",
      "2/2 [==============================] - 0s 16ms/step - loss: 9.5604 - mae: 9.5604\n",
      "Epoch 118/500\n",
      "2/2 [==============================] - 0s 16ms/step - loss: 10.6208 - mae: 10.6208\n",
      "Epoch 119/500\n",
      "2/2 [==============================] - 0s 16ms/step - loss: 8.0413 - mae: 8.0413\n",
      "Epoch 120/500\n",
      "2/2 [==============================] - 0s 0s/step - loss: 29.3779 - mae: 29.3779\n",
      "Epoch 121/500\n",
      "2/2 [==============================] - 0s 16ms/step - loss: 8.0782 - mae: 8.0782\n",
      "Epoch 122/500\n",
      "2/2 [==============================] - 0s 16ms/step - loss: 28.0484 - mae: 28.0484\n",
      "Epoch 123/500\n",
      "2/2 [==============================] - 0s 0s/step - loss: 32.5785 - mae: 32.5785\n",
      "Epoch 124/500\n",
      "2/2 [==============================] - 0s 16ms/step - loss: 19.3914 - mae: 19.3914\n",
      "Epoch 125/500\n",
      "2/2 [==============================] - 0s 0s/step - loss: 9.5354 - mae: 9.5354\n",
      "Epoch 126/500\n",
      "2/2 [==============================] - 0s 16ms/step - loss: 9.6067 - mae: 9.6067\n",
      "Epoch 127/500\n",
      "2/2 [==============================] - 0s 0s/step - loss: 12.7379 - mae: 12.7379\n",
      "Epoch 128/500\n",
      "2/2 [==============================] - 0s 16ms/step - loss: 12.8324 - mae: 12.8324\n",
      "Epoch 129/500\n",
      "2/2 [==============================] - 0s 16ms/step - loss: 13.9697 - mae: 13.9697\n",
      "Epoch 130/500\n",
      "2/2 [==============================] - 0s 16ms/step - loss: 10.2455 - mae: 10.2455\n",
      "Epoch 131/500\n",
      "2/2 [==============================] - 0s 16ms/step - loss: 21.7435 - mae: 21.7435\n",
      "Epoch 132/500\n",
      "2/2 [==============================] - 0s 16ms/step - loss: 8.2888 - mae: 8.2888\n",
      "Epoch 133/500\n",
      "2/2 [==============================] - 0s 16ms/step - loss: 9.0690 - mae: 9.0690\n",
      "Epoch 134/500\n",
      "2/2 [==============================] - 0s 0s/step - loss: 16.9310 - mae: 16.9310\n",
      "Epoch 135/500\n",
      "2/2 [==============================] - 0s 16ms/step - loss: 10.6656 - mae: 10.6656\n",
      "Epoch 136/500\n",
      "2/2 [==============================] - 0s 0s/step - loss: 18.5376 - mae: 18.5376\n",
      "Epoch 137/500\n",
      "2/2 [==============================] - 0s 16ms/step - loss: 23.5371 - mae: 23.5371\n",
      "Epoch 138/500\n",
      "2/2 [==============================] - 0s 0s/step - loss: 9.2938 - mae: 9.2938\n",
      "Epoch 139/500\n",
      "2/2 [==============================] - 0s 16ms/step - loss: 9.0211 - mae: 9.0211\n",
      "Epoch 140/500\n",
      "2/2 [==============================] - 0s 0s/step - loss: 16.9933 - mae: 16.9933\n",
      "Epoch 141/500\n",
      "2/2 [==============================] - 0s 16ms/step - loss: 8.3223 - mae: 8.3223\n",
      "Epoch 142/500\n",
      "2/2 [==============================] - 0s 0s/step - loss: 34.0796 - mae: 34.0796\n",
      "Epoch 143/500\n",
      "2/2 [==============================] - 0s 0s/step - loss: 23.1298 - mae: 23.1298\n",
      "Epoch 144/500\n",
      "2/2 [==============================] - 0s 16ms/step - loss: 10.4792 - mae: 10.4792\n",
      "Epoch 145/500\n",
      "2/2 [==============================] - 0s 16ms/step - loss: 25.8920 - mae: 25.8920\n",
      "Epoch 146/500\n",
      "2/2 [==============================] - 0s 0s/step - loss: 9.8409 - mae: 9.8409\n",
      "Epoch 147/500\n",
      "2/2 [==============================] - 0s 0s/step - loss: 15.0362 - mae: 15.0362\n",
      "Epoch 148/500\n",
      "2/2 [==============================] - 0s 16ms/step - loss: 17.4840 - mae: 17.4840\n",
      "Epoch 149/500\n",
      "2/2 [==============================] - 0s 16ms/step - loss: 8.7540 - mae: 8.7540\n",
      "Epoch 150/500\n",
      "2/2 [==============================] - 0s 16ms/step - loss: 7.7296 - mae: 7.7296\n",
      "Epoch 151/500\n",
      "2/2 [==============================] - 0s 16ms/step - loss: 19.8520 - mae: 19.8520\n",
      "Epoch 152/500\n",
      "2/2 [==============================] - 0s 16ms/step - loss: 10.2331 - mae: 10.2331\n",
      "Epoch 153/500\n",
      "2/2 [==============================] - 0s 16ms/step - loss: 29.2111 - mae: 29.2111\n",
      "Epoch 154/500\n",
      "2/2 [==============================] - 0s 16ms/step - loss: 10.6464 - mae: 10.6464\n",
      "Epoch 155/500\n",
      "2/2 [==============================] - 0s 16ms/step - loss: 15.5368 - mae: 15.5368\n",
      "Epoch 156/500\n",
      "2/2 [==============================] - 0s 16ms/step - loss: 17.1978 - mae: 17.1978\n",
      "Epoch 157/500\n",
      "2/2 [==============================] - 0s 0s/step - loss: 32.3517 - mae: 32.3517\n",
      "Epoch 158/500\n",
      "2/2 [==============================] - 0s 16ms/step - loss: 10.5796 - mae: 10.5796\n",
      "Epoch 159/500\n",
      "2/2 [==============================] - 0s 16ms/step - loss: 8.8550 - mae: 8.8550\n",
      "Epoch 160/500\n",
      "2/2 [==============================] - 0s 16ms/step - loss: 21.7889 - mae: 21.7889\n",
      "Epoch 161/500\n",
      "2/2 [==============================] - 0s 16ms/step - loss: 11.0614 - mae: 11.0614\n",
      "Epoch 162/500\n",
      "2/2 [==============================] - 0s 16ms/step - loss: 21.3303 - mae: 21.3303\n",
      "Epoch 163/500\n",
      "2/2 [==============================] - 0s 16ms/step - loss: 18.8135 - mae: 18.8135\n",
      "Epoch 164/500\n",
      "2/2 [==============================] - 0s 0s/step - loss: 12.6577 - mae: 12.6577\n",
      "Epoch 165/500\n",
      "2/2 [==============================] - 0s 16ms/step - loss: 12.7395 - mae: 12.7395\n",
      "Epoch 166/500\n",
      "2/2 [==============================] - 0s 16ms/step - loss: 18.9280 - mae: 18.9280\n",
      "Epoch 167/500\n",
      "2/2 [==============================] - 0s 16ms/step - loss: 26.7581 - mae: 26.7581\n",
      "Epoch 168/500\n",
      "2/2 [==============================] - 0s 16ms/step - loss: 9.9655 - mae: 9.9655\n",
      "Epoch 169/500\n",
      "2/2 [==============================] - 0s 16ms/step - loss: 23.0168 - mae: 23.0168\n",
      "Epoch 170/500\n",
      "2/2 [==============================] - 0s 16ms/step - loss: 10.0888 - mae: 10.0888\n",
      "Epoch 171/500\n"
     ]
    },
    {
     "name": "stdout",
     "output_type": "stream",
     "text": [
      "2/2 [==============================] - 0s 0s/step - loss: 17.8594 - mae: 17.8594\n",
      "Epoch 172/500\n",
      "2/2 [==============================] - 0s 16ms/step - loss: 29.2930 - mae: 29.2930\n",
      "Epoch 173/500\n",
      "2/2 [==============================] - 0s 16ms/step - loss: 16.8952 - mae: 16.8952\n",
      "Epoch 174/500\n",
      "2/2 [==============================] - 0s 16ms/step - loss: 11.1824 - mae: 11.1824\n",
      "Epoch 175/500\n",
      "2/2 [==============================] - 0s 16ms/step - loss: 27.4693 - mae: 27.4693\n",
      "Epoch 176/500\n",
      "2/2 [==============================] - 0s 16ms/step - loss: 8.4152 - mae: 8.4152\n",
      "Epoch 177/500\n",
      "2/2 [==============================] - 0s 0s/step - loss: 9.3754 - mae: 9.3754\n",
      "Epoch 178/500\n",
      "2/2 [==============================] - 0s 16ms/step - loss: 18.5091 - mae: 18.5091\n",
      "Epoch 179/500\n",
      "2/2 [==============================] - 0s 16ms/step - loss: 10.4413 - mae: 10.4413\n",
      "Epoch 180/500\n",
      "2/2 [==============================] - 0s 0s/step - loss: 7.9821 - mae: 7.9821\n",
      "Epoch 181/500\n",
      "2/2 [==============================] - 0s 16ms/step - loss: 17.6990 - mae: 17.6990\n",
      "Epoch 182/500\n",
      "2/2 [==============================] - 0s 16ms/step - loss: 11.1639 - mae: 11.1639\n",
      "Epoch 183/500\n",
      "2/2 [==============================] - 0s 0s/step - loss: 12.3596 - mae: 12.3596\n",
      "Epoch 184/500\n",
      "2/2 [==============================] - 0s 16ms/step - loss: 27.2688 - mae: 27.2688\n",
      "Epoch 185/500\n",
      "2/2 [==============================] - 0s 16ms/step - loss: 7.5732 - mae: 7.5732\n",
      "Epoch 186/500\n",
      "2/2 [==============================] - 0s 16ms/step - loss: 15.9817 - mae: 15.9817\n",
      "Epoch 187/500\n",
      "2/2 [==============================] - 0s 16ms/step - loss: 8.5849 - mae: 8.5849\n",
      "Epoch 188/500\n",
      "2/2 [==============================] - 0s 0s/step - loss: 28.7634 - mae: 28.7634\n",
      "Epoch 189/500\n",
      "2/2 [==============================] - 0s 16ms/step - loss: 13.1707 - mae: 13.1707\n",
      "Epoch 190/500\n",
      "2/2 [==============================] - 0s 16ms/step - loss: 18.3130 - mae: 18.3130\n",
      "Epoch 191/500\n",
      "2/2 [==============================] - 0s 16ms/step - loss: 13.7416 - mae: 13.7416\n",
      "Epoch 192/500\n",
      "2/2 [==============================] - 0s 16ms/step - loss: 13.7202 - mae: 13.7202\n",
      "Epoch 193/500\n",
      "2/2 [==============================] - 0s 16ms/step - loss: 28.5855 - mae: 28.5855\n",
      "Epoch 194/500\n",
      "2/2 [==============================] - 0s 16ms/step - loss: 7.0877 - mae: 7.0877\n",
      "Epoch 195/500\n",
      "2/2 [==============================] - 0s 16ms/step - loss: 7.0738 - mae: 7.0738\n",
      "Epoch 196/500\n",
      "2/2 [==============================] - 0s 16ms/step - loss: 22.0199 - mae: 22.0199\n",
      "Epoch 197/500\n",
      "2/2 [==============================] - 0s 16ms/step - loss: 20.8205 - mae: 20.8205\n",
      "Epoch 198/500\n",
      "2/2 [==============================] - 0s 16ms/step - loss: 12.4638 - mae: 12.4638\n",
      "Epoch 199/500\n",
      "2/2 [==============================] - 0s 16ms/step - loss: 17.8881 - mae: 17.8881\n",
      "Epoch 200/500\n",
      "2/2 [==============================] - 0s 16ms/step - loss: 13.7305 - mae: 13.7305\n",
      "Epoch 201/500\n",
      "2/2 [==============================] - 0s 16ms/step - loss: 5.4922 - mae: 5.4922\n",
      "Epoch 202/500\n",
      "2/2 [==============================] - 0s 16ms/step - loss: 13.6799 - mae: 13.6799\n",
      "Epoch 203/500\n",
      "2/2 [==============================] - 0s 16ms/step - loss: 9.4242 - mae: 9.4242\n",
      "Epoch 204/500\n",
      "2/2 [==============================] - 0s 16ms/step - loss: 20.9216 - mae: 20.9216\n",
      "Epoch 205/500\n",
      "2/2 [==============================] - 0s 16ms/step - loss: 9.5467 - mae: 9.5467\n",
      "Epoch 206/500\n",
      "2/2 [==============================] - 0s 16ms/step - loss: 11.7099 - mae: 11.7099\n",
      "Epoch 207/500\n",
      "2/2 [==============================] - 0s 16ms/step - loss: 14.3293 - mae: 14.3293\n",
      "Epoch 208/500\n",
      "2/2 [==============================] - 0s 0s/step - loss: 14.8224 - mae: 14.8224\n",
      "Epoch 209/500\n",
      "2/2 [==============================] - 0s 16ms/step - loss: 14.6106 - mae: 14.6106\n",
      "Epoch 210/500\n",
      "2/2 [==============================] - 0s 16ms/step - loss: 17.8501 - mae: 17.8501\n",
      "Epoch 211/500\n",
      "2/2 [==============================] - 0s 16ms/step - loss: 9.8326 - mae: 9.8326\n",
      "Epoch 212/500\n",
      "2/2 [==============================] - 0s 0s/step - loss: 18.2654 - mae: 18.2654\n",
      "Epoch 213/500\n",
      "2/2 [==============================] - 0s 16ms/step - loss: 15.0674 - mae: 15.0674\n",
      "Epoch 214/500\n",
      "2/2 [==============================] - 0s 16ms/step - loss: 14.6082 - mae: 14.6082\n",
      "Epoch 215/500\n",
      "2/2 [==============================] - 0s 16ms/step - loss: 23.3361 - mae: 23.3361\n",
      "Epoch 216/500\n",
      "2/2 [==============================] - 0s 16ms/step - loss: 13.3128 - mae: 13.3128\n",
      "Epoch 217/500\n",
      "2/2 [==============================] - 0s 0s/step - loss: 9.8258 - mae: 9.8258\n",
      "Epoch 218/500\n",
      "2/2 [==============================] - 0s 16ms/step - loss: 12.5901 - mae: 12.5901\n",
      "Epoch 219/500\n",
      "2/2 [==============================] - 0s 16ms/step - loss: 5.3436 - mae: 5.3436\n",
      "Epoch 220/500\n",
      "2/2 [==============================] - 0s 0s/step - loss: 14.6974 - mae: 14.6974\n",
      "Epoch 221/500\n",
      "2/2 [==============================] - 0s 16ms/step - loss: 33.5398 - mae: 33.5398\n",
      "Epoch 222/500\n",
      "2/2 [==============================] - 0s 16ms/step - loss: 13.8856 - mae: 13.8856\n",
      "Epoch 223/500\n",
      "2/2 [==============================] - 0s 16ms/step - loss: 10.9889 - mae: 10.9889\n",
      "Epoch 224/500\n",
      "2/2 [==============================] - 0s 0s/step - loss: 14.9430 - mae: 14.9430\n",
      "Epoch 225/500\n",
      "2/2 [==============================] - 0s 16ms/step - loss: 16.9897 - mae: 16.9897\n",
      "Epoch 226/500\n",
      "2/2 [==============================] - 0s 16ms/step - loss: 16.1790 - mae: 16.1790\n",
      "Epoch 227/500\n",
      "2/2 [==============================] - 0s 16ms/step - loss: 16.4950 - mae: 16.4950\n",
      "Epoch 228/500\n",
      "2/2 [==============================] - 0s 16ms/step - loss: 9.9378 - mae: 9.9378\n",
      "Epoch 229/500\n",
      "2/2 [==============================] - 0s 16ms/step - loss: 17.8339 - mae: 17.8339\n",
      "Epoch 230/500\n",
      "2/2 [==============================] - 0s 0s/step - loss: 15.4559 - mae: 15.4559\n",
      "Epoch 231/500\n",
      "2/2 [==============================] - 0s 16ms/step - loss: 20.8786 - mae: 20.8786\n",
      "Epoch 232/500\n",
      "2/2 [==============================] - 0s 16ms/step - loss: 20.4267 - mae: 20.4267\n",
      "Epoch 233/500\n",
      "2/2 [==============================] - 0s 0s/step - loss: 15.0861 - mae: 15.0861\n",
      "Epoch 234/500\n",
      "2/2 [==============================] - 0s 16ms/step - loss: 6.9686 - mae: 6.9686\n",
      "Epoch 235/500\n",
      "2/2 [==============================] - 0s 16ms/step - loss: 15.7371 - mae: 15.7371\n",
      "Epoch 236/500\n",
      "2/2 [==============================] - 0s 16ms/step - loss: 6.6907 - mae: 6.6907\n",
      "Epoch 237/500\n",
      "2/2 [==============================] - 0s 16ms/step - loss: 8.6044 - mae: 8.6044\n",
      "Epoch 238/500\n",
      "2/2 [==============================] - 0s 16ms/step - loss: 7.7671 - mae: 7.7671\n",
      "Epoch 239/500\n",
      "2/2 [==============================] - 0s 16ms/step - loss: 15.6567 - mae: 15.6567\n",
      "Epoch 240/500\n",
      "2/2 [==============================] - 0s 16ms/step - loss: 9.0086 - mae: 9.0086\n",
      "Epoch 241/500\n",
      "2/2 [==============================] - 0s 16ms/step - loss: 13.4266 - mae: 13.4266\n",
      "Epoch 242/500\n",
      "2/2 [==============================] - 0s 16ms/step - loss: 8.8982 - mae: 8.8982\n",
      "Epoch 243/500\n",
      "2/2 [==============================] - 0s 16ms/step - loss: 19.3105 - mae: 19.3105\n",
      "Epoch 244/500\n",
      "2/2 [==============================] - 0s 16ms/step - loss: 13.8849 - mae: 13.8849\n",
      "Epoch 245/500\n",
      "2/2 [==============================] - 0s 16ms/step - loss: 14.5345 - mae: 14.5345\n",
      "Epoch 246/500\n",
      "2/2 [==============================] - 0s 16ms/step - loss: 15.6735 - mae: 15.6735\n",
      "Epoch 247/500\n",
      "2/2 [==============================] - 0s 16ms/step - loss: 17.5077 - mae: 17.5077\n",
      "Epoch 248/500\n",
      "2/2 [==============================] - 0s 16ms/step - loss: 13.0749 - mae: 13.0749\n",
      "Epoch 249/500\n",
      "2/2 [==============================] - 0s 16ms/step - loss: 14.4205 - mae: 14.4205\n",
      "Epoch 250/500\n",
      "2/2 [==============================] - 0s 16ms/step - loss: 27.8151 - mae: 27.8151\n",
      "Epoch 251/500\n",
      "2/2 [==============================] - 0s 0s/step - loss: 7.5040 - mae: 7.5040\n",
      "Epoch 252/500\n",
      "2/2 [==============================] - 0s 16ms/step - loss: 38.2176 - mae: 38.2176\n",
      "Epoch 253/500\n",
      "2/2 [==============================] - 0s 16ms/step - loss: 23.1155 - mae: 23.1155\n",
      "Epoch 254/500\n",
      "2/2 [==============================] - 0s 16ms/step - loss: 7.2914 - mae: 7.2914\n",
      "Epoch 255/500\n",
      "2/2 [==============================] - 0s 16ms/step - loss: 24.6226 - mae: 24.6226\n",
      "Epoch 256/500\n"
     ]
    },
    {
     "name": "stdout",
     "output_type": "stream",
     "text": [
      "2/2 [==============================] - 0s 16ms/step - loss: 12.3903 - mae: 12.3903\n",
      "Epoch 257/500\n",
      "2/2 [==============================] - 0s 0s/step - loss: 10.5609 - mae: 10.5609\n",
      "Epoch 258/500\n",
      "2/2 [==============================] - 0s 16ms/step - loss: 14.1806 - mae: 14.1806\n",
      "Epoch 259/500\n",
      "2/2 [==============================] - 0s 16ms/step - loss: 11.2469 - mae: 11.2469\n",
      "Epoch 260/500\n",
      "2/2 [==============================] - 0s 16ms/step - loss: 31.5879 - mae: 31.5879\n",
      "Epoch 261/500\n",
      "2/2 [==============================] - 0s 16ms/step - loss: 11.1625 - mae: 11.1625\n",
      "Epoch 262/500\n",
      "2/2 [==============================] - 0s 16ms/step - loss: 10.0198 - mae: 10.0198\n",
      "Epoch 263/500\n",
      "2/2 [==============================] - 0s 16ms/step - loss: 8.9370 - mae: 8.9370\n",
      "Epoch 264/500\n",
      "2/2 [==============================] - 0s 16ms/step - loss: 21.4898 - mae: 21.4898\n",
      "Epoch 265/500\n",
      "2/2 [==============================] - 0s 0s/step - loss: 11.4453 - mae: 11.4453\n",
      "Epoch 266/500\n",
      "2/2 [==============================] - 0s 16ms/step - loss: 13.2810 - mae: 13.2810\n",
      "Epoch 267/500\n",
      "2/2 [==============================] - 0s 16ms/step - loss: 11.0727 - mae: 11.0727\n",
      "Epoch 268/500\n",
      "2/2 [==============================] - 0s 16ms/step - loss: 19.1468 - mae: 19.1468\n",
      "Epoch 269/500\n",
      "2/2 [==============================] - 0s 0s/step - loss: 40.7400 - mae: 40.7400\n",
      "Epoch 270/500\n",
      "2/2 [==============================] - 0s 16ms/step - loss: 12.9376 - mae: 12.9376\n",
      "Epoch 271/500\n",
      "2/2 [==============================] - 0s 16ms/step - loss: 14.7545 - mae: 14.7545\n",
      "Epoch 272/500\n",
      "2/2 [==============================] - 0s 0s/step - loss: 28.4982 - mae: 28.4982\n",
      "Epoch 273/500\n",
      "2/2 [==============================] - 0s 16ms/step - loss: 7.3676 - mae: 7.3676\n",
      "Epoch 274/500\n",
      "2/2 [==============================] - 0s 16ms/step - loss: 6.3411 - mae: 6.3411\n",
      "Epoch 275/500\n",
      "2/2 [==============================] - 0s 16ms/step - loss: 36.9920 - mae: 36.9920\n",
      "Epoch 276/500\n",
      "2/2 [==============================] - 0s 16ms/step - loss: 8.2816 - mae: 8.2816\n",
      "Epoch 277/500\n",
      "2/2 [==============================] - 0s 0s/step - loss: 27.8027 - mae: 27.8027\n",
      "Epoch 278/500\n",
      "2/2 [==============================] - 0s 16ms/step - loss: 10.6500 - mae: 10.6500\n",
      "Epoch 279/500\n",
      "2/2 [==============================] - 0s 16ms/step - loss: 16.0867 - mae: 16.0867\n",
      "Epoch 280/500\n",
      "2/2 [==============================] - 0s 0s/step - loss: 21.1930 - mae: 21.1930\n",
      "Epoch 281/500\n",
      "2/2 [==============================] - 0s 16ms/step - loss: 23.8968 - mae: 23.8968\n",
      "Epoch 282/500\n",
      "2/2 [==============================] - 0s 16ms/step - loss: 8.2758 - mae: 8.2758\n",
      "Epoch 283/500\n",
      "2/2 [==============================] - 0s 16ms/step - loss: 8.4453 - mae: 8.4453\n",
      "Epoch 284/500\n",
      "2/2 [==============================] - 0s 16ms/step - loss: 26.7514 - mae: 26.7514\n",
      "Epoch 285/500\n",
      "2/2 [==============================] - 0s 16ms/step - loss: 14.3203 - mae: 14.3203\n",
      "Epoch 286/500\n",
      "2/2 [==============================] - 0s 16ms/step - loss: 5.2511 - mae: 5.2511\n",
      "Epoch 287/500\n",
      "2/2 [==============================] - 0s 16ms/step - loss: 20.7609 - mae: 20.7609\n",
      "Epoch 288/500\n",
      "2/2 [==============================] - 0s 16ms/step - loss: 27.8330 - mae: 27.8330\n",
      "Epoch 289/500\n",
      "2/2 [==============================] - 0s 16ms/step - loss: 10.9694 - mae: 10.9694\n",
      "Epoch 290/500\n",
      "2/2 [==============================] - 0s 16ms/step - loss: 16.1638 - mae: 16.1638\n",
      "Epoch 291/500\n",
      "2/2 [==============================] - 0s 31ms/step - loss: 16.3270 - mae: 16.3270\n",
      "Epoch 292/500\n",
      "2/2 [==============================] - 0s 16ms/step - loss: 14.5943 - mae: 14.5943\n",
      "Epoch 293/500\n",
      "2/2 [==============================] - 0s 16ms/step - loss: 15.9192 - mae: 15.9192\n",
      "Epoch 294/500\n",
      "2/2 [==============================] - 0s 31ms/step - loss: 24.0399 - mae: 24.0399\n",
      "Epoch 295/500\n",
      "2/2 [==============================] - 0s 16ms/step - loss: 14.8068 - mae: 14.8068\n",
      "Epoch 296/500\n",
      "2/2 [==============================] - 0s 16ms/step - loss: 4.3592 - mae: 4.3592\n",
      "Epoch 297/500\n",
      "2/2 [==============================] - 0s 16ms/step - loss: 11.8571 - mae: 11.8571\n",
      "Epoch 298/500\n",
      "2/2 [==============================] - 0s 16ms/step - loss: 23.7446 - mae: 23.7446\n",
      "Epoch 299/500\n",
      "2/2 [==============================] - 0s 16ms/step - loss: 19.0546 - mae: 19.0546\n",
      "Epoch 300/500\n",
      "2/2 [==============================] - 0s 16ms/step - loss: 8.8289 - mae: 8.8289\n",
      "Epoch 301/500\n",
      "2/2 [==============================] - 0s 16ms/step - loss: 15.9135 - mae: 15.9135\n",
      "Epoch 302/500\n",
      "2/2 [==============================] - 0s 16ms/step - loss: 5.7416 - mae: 5.7416\n",
      "Epoch 303/500\n",
      "2/2 [==============================] - 0s 16ms/step - loss: 22.9690 - mae: 22.9690\n",
      "Epoch 304/500\n",
      "2/2 [==============================] - 0s 16ms/step - loss: 26.0928 - mae: 26.0928\n",
      "Epoch 305/500\n",
      "2/2 [==============================] - 0s 16ms/step - loss: 9.5993 - mae: 9.5993\n",
      "Epoch 306/500\n",
      "2/2 [==============================] - 0s 0s/step - loss: 17.8498 - mae: 17.8498\n",
      "Epoch 307/500\n",
      "2/2 [==============================] - 0s 16ms/step - loss: 9.7864 - mae: 9.7864\n",
      "Epoch 308/500\n",
      "2/2 [==============================] - 0s 16ms/step - loss: 20.5292 - mae: 20.5292\n",
      "Epoch 309/500\n",
      "2/2 [==============================] - 0s 0s/step - loss: 13.6977 - mae: 13.6977\n",
      "Epoch 310/500\n",
      "2/2 [==============================] - 0s 16ms/step - loss: 6.1511 - mae: 6.1511\n",
      "Epoch 311/500\n",
      "2/2 [==============================] - 0s 16ms/step - loss: 13.9361 - mae: 13.9361\n",
      "Epoch 312/500\n",
      "2/2 [==============================] - 0s 16ms/step - loss: 30.6260 - mae: 30.6260\n",
      "Epoch 313/500\n",
      "2/2 [==============================] - 0s 16ms/step - loss: 4.2654 - mae: 4.2654\n",
      "Epoch 314/500\n",
      "2/2 [==============================] - 0s 16ms/step - loss: 10.3255 - mae: 10.3255\n",
      "Epoch 315/500\n",
      "2/2 [==============================] - 0s 16ms/step - loss: 19.3851 - mae: 19.3851\n",
      "Epoch 316/500\n",
      "2/2 [==============================] - 0s 16ms/step - loss: 6.6386 - mae: 6.6386\n",
      "Epoch 317/500\n",
      "2/2 [==============================] - 0s 16ms/step - loss: 33.3538 - mae: 33.3538\n",
      "Epoch 318/500\n",
      "2/2 [==============================] - 0s 16ms/step - loss: 19.1576 - mae: 19.1576\n",
      "Epoch 319/500\n",
      "2/2 [==============================] - 0s 16ms/step - loss: 6.3494 - mae: 6.3494\n",
      "Epoch 320/500\n",
      "2/2 [==============================] - 0s 16ms/step - loss: 25.6079 - mae: 25.6079\n",
      "Epoch 321/500\n",
      "2/2 [==============================] - 0s 16ms/step - loss: 12.1191 - mae: 12.1191\n",
      "Epoch 322/500\n",
      "2/2 [==============================] - 0s 16ms/step - loss: 12.2330 - mae: 12.2330\n",
      "Epoch 323/500\n",
      "2/2 [==============================] - 0s 16ms/step - loss: 18.1906 - mae: 18.1906\n",
      "Epoch 324/500\n",
      "2/2 [==============================] - 0s 16ms/step - loss: 16.2575 - mae: 16.2575\n",
      "Epoch 325/500\n",
      "2/2 [==============================] - 0s 0s/step - loss: 18.1903 - mae: 18.1903\n",
      "Epoch 326/500\n",
      "2/2 [==============================] - 0s 16ms/step - loss: 22.6033 - mae: 22.6033\n",
      "Epoch 327/500\n",
      "2/2 [==============================] - 0s 16ms/step - loss: 8.6015 - mae: 8.6015\n",
      "Epoch 328/500\n",
      "2/2 [==============================] - 0s 0s/step - loss: 7.1082 - mae: 7.1082\n",
      "Epoch 329/500\n",
      "2/2 [==============================] - 0s 16ms/step - loss: 10.3937 - mae: 10.3937\n",
      "Epoch 330/500\n",
      "2/2 [==============================] - 0s 16ms/step - loss: 9.3760 - mae: 9.3760\n",
      "Epoch 331/500\n",
      "2/2 [==============================] - 0s 16ms/step - loss: 22.6488 - mae: 22.6488\n",
      "Epoch 332/500\n",
      "2/2 [==============================] - 0s 0s/step - loss: 20.0828 - mae: 20.0828\n",
      "Epoch 333/500\n",
      "2/2 [==============================] - 0s 16ms/step - loss: 11.1506 - mae: 11.1506\n",
      "Epoch 334/500\n",
      "2/2 [==============================] - 0s 16ms/step - loss: 9.0112 - mae: 9.0112\n",
      "Epoch 335/500\n",
      "2/2 [==============================] - 0s 16ms/step - loss: 13.0575 - mae: 13.0575\n",
      "Epoch 336/500\n",
      "2/2 [==============================] - 0s 16ms/step - loss: 32.5059 - mae: 32.5059\n",
      "Epoch 337/500\n",
      "2/2 [==============================] - 0s 16ms/step - loss: 11.0419 - mae: 11.0419\n",
      "Epoch 338/500\n",
      "2/2 [==============================] - 0s 0s/step - loss: 19.9597 - mae: 19.9597\n",
      "Epoch 339/500\n",
      "2/2 [==============================] - 0s 16ms/step - loss: 34.3003 - mae: 34.3003\n",
      "Epoch 340/500\n",
      "2/2 [==============================] - 0s 16ms/step - loss: 8.7166 - mae: 8.7166\n",
      "Epoch 341/500\n"
     ]
    },
    {
     "name": "stdout",
     "output_type": "stream",
     "text": [
      "2/2 [==============================] - 0s 0s/step - loss: 21.9461 - mae: 21.9461\n",
      "Epoch 342/500\n",
      "2/2 [==============================] - 0s 16ms/step - loss: 13.8489 - mae: 13.8489\n",
      "Epoch 343/500\n",
      "2/2 [==============================] - 0s 16ms/step - loss: 11.6944 - mae: 11.6944\n",
      "Epoch 344/500\n",
      "2/2 [==============================] - 0s 0s/step - loss: 10.6904 - mae: 10.6904\n",
      "Epoch 345/500\n",
      "2/2 [==============================] - 0s 16ms/step - loss: 30.9081 - mae: 30.9081\n",
      "Epoch 346/500\n",
      "2/2 [==============================] - 0s 16ms/step - loss: 10.6415 - mae: 10.6415\n",
      "Epoch 347/500\n",
      "2/2 [==============================] - 0s 16ms/step - loss: 25.5675 - mae: 25.5675\n",
      "Epoch 348/500\n",
      "2/2 [==============================] - 0s 16ms/step - loss: 13.2766 - mae: 13.2766\n",
      "Epoch 349/500\n",
      "2/2 [==============================] - 0s 16ms/step - loss: 13.0376 - mae: 13.0376\n",
      "Epoch 350/500\n",
      "2/2 [==============================] - 0s 16ms/step - loss: 15.4009 - mae: 15.4009\n",
      "Epoch 351/500\n",
      "2/2 [==============================] - 0s 0s/step - loss: 32.8770 - mae: 32.8770\n",
      "Epoch 352/500\n",
      "2/2 [==============================] - 0s 16ms/step - loss: 14.0865 - mae: 14.0865\n",
      "Epoch 353/500\n",
      "2/2 [==============================] - 0s 16ms/step - loss: 17.7815 - mae: 17.7815\n",
      "Epoch 354/500\n",
      "2/2 [==============================] - 0s 0s/step - loss: 11.3441 - mae: 11.3441\n",
      "Epoch 355/500\n",
      "2/2 [==============================] - 0s 16ms/step - loss: 26.7735 - mae: 26.7735\n",
      "Epoch 356/500\n",
      "2/2 [==============================] - 0s 16ms/step - loss: 10.1451 - mae: 10.1451\n",
      "Epoch 357/500\n",
      "2/2 [==============================] - 0s 0s/step - loss: 14.7030 - mae: 14.7030\n",
      "Epoch 358/500\n",
      "2/2 [==============================] - 0s 16ms/step - loss: 14.5749 - mae: 14.5749\n",
      "Epoch 359/500\n",
      "2/2 [==============================] - 0s 16ms/step - loss: 12.3523 - mae: 12.3523\n",
      "Epoch 360/500\n",
      "2/2 [==============================] - 0s 16ms/step - loss: 20.3685 - mae: 20.3685\n",
      "Epoch 361/500\n",
      "2/2 [==============================] - 0s 16ms/step - loss: 10.8694 - mae: 10.8694\n",
      "Epoch 362/500\n",
      "2/2 [==============================] - 0s 0s/step - loss: 6.8148 - mae: 6.8148\n",
      "Epoch 363/500\n",
      "2/2 [==============================] - 0s 16ms/step - loss: 23.7727 - mae: 23.7727\n",
      "Epoch 364/500\n",
      "2/2 [==============================] - 0s 16ms/step - loss: 29.4593 - mae: 29.4593\n",
      "Epoch 365/500\n",
      "2/2 [==============================] - 0s 16ms/step - loss: 8.2673 - mae: 8.2673\n",
      "Epoch 366/500\n",
      "2/2 [==============================] - 0s 0s/step - loss: 6.1073 - mae: 6.1073\n",
      "Epoch 367/500\n",
      "2/2 [==============================] - 0s 16ms/step - loss: 34.5384 - mae: 34.5384\n",
      "Epoch 368/500\n",
      "2/2 [==============================] - 0s 16ms/step - loss: 7.3445 - mae: 7.3445\n",
      "Epoch 369/500\n",
      "2/2 [==============================] - 0s 16ms/step - loss: 8.6929 - mae: 8.6929\n",
      "Epoch 370/500\n",
      "2/2 [==============================] - 0s 16ms/step - loss: 14.2386 - mae: 14.2386\n",
      "Epoch 371/500\n",
      "2/2 [==============================] - 0s 16ms/step - loss: 6.8449 - mae: 6.8449\n",
      "Epoch 372/500\n",
      "2/2 [==============================] - 0s 16ms/step - loss: 6.5556 - mae: 6.5556\n",
      "Epoch 373/500\n",
      "2/2 [==============================] - 0s 0s/step - loss: 24.1790 - mae: 24.1790\n",
      "Epoch 374/500\n",
      "2/2 [==============================] - 0s 16ms/step - loss: 10.2268 - mae: 10.2268\n",
      "Epoch 375/500\n",
      "2/2 [==============================] - 0s 16ms/step - loss: 12.8511 - mae: 12.8511\n",
      "Epoch 376/500\n",
      "2/2 [==============================] - 0s 16ms/step - loss: 14.7241 - mae: 14.7241\n",
      "Epoch 377/500\n",
      "2/2 [==============================] - 0s 16ms/step - loss: 14.6534 - mae: 14.6534\n",
      "Epoch 378/500\n",
      "2/2 [==============================] - 0s 16ms/step - loss: 16.1781 - mae: 16.1781\n",
      "Epoch 379/500\n",
      "2/2 [==============================] - 0s 16ms/step - loss: 20.6086 - mae: 20.6086\n",
      "Epoch 380/500\n",
      "2/2 [==============================] - 0s 0s/step - loss: 34.1930 - mae: 34.1930\n",
      "Epoch 381/500\n",
      "2/2 [==============================] - 0s 16ms/step - loss: 8.8535 - mae: 8.8535\n",
      "Epoch 382/500\n",
      "2/2 [==============================] - 0s 16ms/step - loss: 9.6111 - mae: 9.6111\n",
      "Epoch 383/500\n",
      "2/2 [==============================] - 0s 16ms/step - loss: 5.7609 - mae: 5.7609\n",
      "Epoch 384/500\n",
      "2/2 [==============================] - 0s 16ms/step - loss: 8.7173 - mae: 8.7173\n",
      "Epoch 385/500\n",
      "2/2 [==============================] - 0s 16ms/step - loss: 4.9624 - mae: 4.9624\n",
      "Epoch 386/500\n",
      "2/2 [==============================] - 0s 16ms/step - loss: 25.1246 - mae: 25.1246\n",
      "Epoch 387/500\n",
      "2/2 [==============================] - 0s 16ms/step - loss: 15.1182 - mae: 15.1182\n",
      "Epoch 388/500\n",
      "2/2 [==============================] - 0s 16ms/step - loss: 6.6476 - mae: 6.6476\n",
      "Epoch 389/500\n",
      "2/2 [==============================] - 0s 16ms/step - loss: 17.5650 - mae: 17.5650\n",
      "Epoch 390/500\n",
      "2/2 [==============================] - 0s 16ms/step - loss: 23.8554 - mae: 23.8554\n",
      "Epoch 391/500\n",
      "2/2 [==============================] - 0s 16ms/step - loss: 16.5258 - mae: 16.5258\n",
      "Epoch 392/500\n",
      "2/2 [==============================] - 0s 0s/step - loss: 8.3711 - mae: 8.3711\n",
      "Epoch 393/500\n",
      "2/2 [==============================] - 0s 16ms/step - loss: 18.1413 - mae: 18.1413\n",
      "Epoch 394/500\n",
      "2/2 [==============================] - 0s 16ms/step - loss: 14.1996 - mae: 14.1996\n",
      "Epoch 395/500\n",
      "2/2 [==============================] - 0s 0s/step - loss: 28.6697 - mae: 28.6697\n",
      "Epoch 396/500\n",
      "2/2 [==============================] - 0s 16ms/step - loss: 8.2224 - mae: 8.2224\n",
      "Epoch 397/500\n",
      "2/2 [==============================] - 0s 16ms/step - loss: 10.5160 - mae: 10.5160\n",
      "Epoch 398/500\n",
      "2/2 [==============================] - 0s 0s/step - loss: 7.3951 - mae: 7.3951\n",
      "Epoch 399/500\n",
      "2/2 [==============================] - 0s 16ms/step - loss: 15.5931 - mae: 15.5931\n",
      "Epoch 400/500\n",
      "2/2 [==============================] - 0s 16ms/step - loss: 6.7407 - mae: 6.7407\n",
      "Epoch 401/500\n",
      "2/2 [==============================] - 0s 16ms/step - loss: 8.0075 - mae: 8.0075\n",
      "Epoch 402/500\n",
      "2/2 [==============================] - 0s 0s/step - loss: 16.4372 - mae: 16.4372\n",
      "Epoch 403/500\n",
      "2/2 [==============================] - 0s 16ms/step - loss: 12.3682 - mae: 12.3682\n",
      "Epoch 404/500\n",
      "2/2 [==============================] - 0s 16ms/step - loss: 22.9499 - mae: 22.9499\n",
      "Epoch 405/500\n",
      "2/2 [==============================] - 0s 16ms/step - loss: 18.0635 - mae: 18.0635\n",
      "Epoch 406/500\n",
      "2/2 [==============================] - 0s 16ms/step - loss: 7.0586 - mae: 7.0586\n",
      "Epoch 407/500\n",
      "2/2 [==============================] - 0s 16ms/step - loss: 12.6217 - mae: 12.6217\n",
      "Epoch 408/500\n",
      "2/2 [==============================] - 0s 16ms/step - loss: 5.6777 - mae: 5.6777\n",
      "Epoch 409/500\n",
      "2/2 [==============================] - 0s 16ms/step - loss: 31.1471 - mae: 31.1471\n",
      "Epoch 410/500\n",
      "2/2 [==============================] - 0s 0s/step - loss: 9.2782 - mae: 9.2782\n",
      "Epoch 411/500\n",
      "2/2 [==============================] - 0s 16ms/step - loss: 14.8900 - mae: 14.8900\n",
      "Epoch 412/500\n",
      "2/2 [==============================] - 0s 16ms/step - loss: 21.7773 - mae: 21.7773\n",
      "Epoch 413/500\n",
      "2/2 [==============================] - 0s 0s/step - loss: 12.5557 - mae: 12.5557\n",
      "Epoch 414/500\n",
      "2/2 [==============================] - 0s 16ms/step - loss: 6.0821 - mae: 6.0821\n",
      "Epoch 415/500\n",
      "2/2 [==============================] - 0s 16ms/step - loss: 13.2426 - mae: 13.2426\n",
      "Epoch 416/500\n",
      "2/2 [==============================] - 0s 16ms/step - loss: 27.4691 - mae: 27.4691\n",
      "Epoch 417/500\n",
      "2/2 [==============================] - 0s 16ms/step - loss: 10.5360 - mae: 10.5360\n",
      "Epoch 418/500\n",
      "2/2 [==============================] - 0s 16ms/step - loss: 12.8567 - mae: 12.8567\n",
      "Epoch 419/500\n",
      "2/2 [==============================] - 0s 0s/step - loss: 15.9015 - mae: 15.9015\n",
      "Epoch 420/500\n",
      "2/2 [==============================] - 0s 16ms/step - loss: 24.7978 - mae: 24.7978\n",
      "Epoch 421/500\n",
      "2/2 [==============================] - 0s 16ms/step - loss: 17.2621 - mae: 17.2621\n",
      "Epoch 422/500\n",
      "2/2 [==============================] - 0s 0s/step - loss: 7.8185 - mae: 7.8185\n",
      "Epoch 423/500\n",
      "2/2 [==============================] - 0s 16ms/step - loss: 25.4216 - mae: 25.4216\n",
      "Epoch 424/500\n",
      "2/2 [==============================] - 0s 16ms/step - loss: 15.0100 - mae: 15.0100\n",
      "Epoch 425/500\n",
      "2/2 [==============================] - 0s 16ms/step - loss: 7.1216 - mae: 7.1216\n",
      "Epoch 426/500\n"
     ]
    },
    {
     "name": "stdout",
     "output_type": "stream",
     "text": [
      "2/2 [==============================] - 0s 0s/step - loss: 20.2192 - mae: 20.2192\n",
      "Epoch 427/500\n",
      "2/2 [==============================] - 0s 16ms/step - loss: 6.2844 - mae: 6.2844\n",
      "Epoch 428/500\n",
      "2/2 [==============================] - 0s 16ms/step - loss: 12.9217 - mae: 12.9217\n",
      "Epoch 429/500\n",
      "2/2 [==============================] - 0s 16ms/step - loss: 10.7218 - mae: 10.7218\n",
      "Epoch 430/500\n",
      "2/2 [==============================] - 0s 16ms/step - loss: 11.3319 - mae: 11.3319\n",
      "Epoch 431/500\n",
      "2/2 [==============================] - 0s 16ms/step - loss: 10.5501 - mae: 10.5501\n",
      "Epoch 432/500\n",
      "2/2 [==============================] - 0s 16ms/step - loss: 11.3770 - mae: 11.3770\n",
      "Epoch 433/500\n",
      "2/2 [==============================] - 0s 16ms/step - loss: 11.3857 - mae: 11.3857\n",
      "Epoch 434/500\n",
      "2/2 [==============================] - 0s 16ms/step - loss: 30.4250 - mae: 30.4250\n",
      "Epoch 435/500\n",
      "2/2 [==============================] - 0s 0s/step - loss: 10.5042 - mae: 10.5042\n",
      "Epoch 436/500\n",
      "2/2 [==============================] - 0s 16ms/step - loss: 28.9096 - mae: 28.9096\n",
      "Epoch 437/500\n",
      "2/2 [==============================] - 0s 16ms/step - loss: 8.6152 - mae: 8.6152\n",
      "Epoch 438/500\n",
      "2/2 [==============================] - 0s 16ms/step - loss: 12.7380 - mae: 12.7380\n",
      "Epoch 439/500\n",
      "2/2 [==============================] - 0s 16ms/step - loss: 33.6937 - mae: 33.6937\n",
      "Epoch 440/500\n",
      "2/2 [==============================] - 0s 16ms/step - loss: 15.1139 - mae: 15.1139\n",
      "Epoch 441/500\n",
      "2/2 [==============================] - 0s 0s/step - loss: 17.4941 - mae: 17.4941\n",
      "Epoch 442/500\n",
      "2/2 [==============================] - 0s 0s/step - loss: 22.3411 - mae: 22.3411\n",
      "Epoch 443/500\n",
      "2/2 [==============================] - 0s 16ms/step - loss: 23.4982 - mae: 23.4982\n",
      "Epoch 444/500\n",
      "2/2 [==============================] - 0s 16ms/step - loss: 10.9256 - mae: 10.9256\n",
      "Epoch 445/500\n",
      "2/2 [==============================] - 0s 16ms/step - loss: 14.9348 - mae: 14.9348\n",
      "Epoch 446/500\n",
      "2/2 [==============================] - 0s 16ms/step - loss: 18.0242 - mae: 18.0242\n",
      "Epoch 447/500\n",
      "2/2 [==============================] - 0s 16ms/step - loss: 5.4039 - mae: 5.4039\n",
      "Epoch 448/500\n",
      "2/2 [==============================] - 0s 16ms/step - loss: 10.0739 - mae: 10.0739\n",
      "Epoch 449/500\n",
      "2/2 [==============================] - 0s 16ms/step - loss: 14.0225 - mae: 14.0225\n",
      "Epoch 450/500\n",
      "2/2 [==============================] - 0s 16ms/step - loss: 16.7938 - mae: 16.7938\n",
      "Epoch 451/500\n",
      "2/2 [==============================] - 0s 0s/step - loss: 14.2968 - mae: 14.2968\n",
      "Epoch 452/500\n",
      "2/2 [==============================] - 0s 16ms/step - loss: 30.6379 - mae: 30.6379\n",
      "Epoch 453/500\n",
      "2/2 [==============================] - 0s 16ms/step - loss: 7.6467 - mae: 7.6467\n",
      "Epoch 454/500\n",
      "2/2 [==============================] - 0s 16ms/step - loss: 28.1630 - mae: 28.1630\n",
      "Epoch 455/500\n",
      "2/2 [==============================] - 0s 0s/step - loss: 7.9555 - mae: 7.9555\n",
      "Epoch 456/500\n",
      "2/2 [==============================] - 0s 16ms/step - loss: 10.4046 - mae: 10.4046\n",
      "Epoch 457/500\n",
      "2/2 [==============================] - 0s 16ms/step - loss: 15.0400 - mae: 15.0400\n",
      "Epoch 458/500\n",
      "2/2 [==============================] - 0s 16ms/step - loss: 16.5695 - mae: 16.5695\n",
      "Epoch 459/500\n",
      "2/2 [==============================] - 0s 16ms/step - loss: 26.8769 - mae: 26.8769\n",
      "Epoch 460/500\n",
      "2/2 [==============================] - 0s 16ms/step - loss: 12.4364 - mae: 12.4364\n",
      "Epoch 461/500\n",
      "2/2 [==============================] - 0s 16ms/step - loss: 12.4930 - mae: 12.4930\n",
      "Epoch 462/500\n",
      "2/2 [==============================] - 0s 16ms/step - loss: 13.3248 - mae: 13.3248\n",
      "Epoch 463/500\n",
      "2/2 [==============================] - 0s 16ms/step - loss: 29.5689 - mae: 29.5689\n",
      "Epoch 464/500\n",
      "2/2 [==============================] - 0s 16ms/step - loss: 3.4544 - mae: 3.4544\n",
      "Epoch 465/500\n",
      "2/2 [==============================] - 0s 16ms/step - loss: 15.2263 - mae: 15.2263\n",
      "Epoch 466/500\n",
      "2/2 [==============================] - 0s 0s/step - loss: 20.8565 - mae: 20.8565\n",
      "Epoch 467/500\n",
      "2/2 [==============================] - 0s 0s/step - loss: 30.4493 - mae: 30.4493\n",
      "Epoch 468/500\n",
      "2/2 [==============================] - 0s 16ms/step - loss: 11.0248 - mae: 11.0248\n",
      "Epoch 469/500\n",
      "2/2 [==============================] - 0s 16ms/step - loss: 12.7968 - mae: 12.7968\n",
      "Epoch 470/500\n",
      "2/2 [==============================] - 0s 0s/step - loss: 3.2209 - mae: 3.2209\n",
      "Epoch 471/500\n",
      "2/2 [==============================] - 0s 16ms/step - loss: 16.7090 - mae: 16.7090\n",
      "Epoch 472/500\n",
      "2/2 [==============================] - 0s 16ms/step - loss: 13.3999 - mae: 13.3999\n",
      "Epoch 473/500\n",
      "2/2 [==============================] - 0s 16ms/step - loss: 15.2867 - mae: 15.2867\n",
      "Epoch 474/500\n",
      "2/2 [==============================] - 0s 16ms/step - loss: 11.7538 - mae: 11.7538\n",
      "Epoch 475/500\n",
      "2/2 [==============================] - 0s 16ms/step - loss: 16.4253 - mae: 16.4253\n",
      "Epoch 476/500\n",
      "2/2 [==============================] - 0s 0s/step - loss: 14.0040 - mae: 14.0040\n",
      "Epoch 477/500\n",
      "2/2 [==============================] - 0s 16ms/step - loss: 30.5803 - mae: 30.5803\n",
      "Epoch 478/500\n",
      "2/2 [==============================] - 0s 16ms/step - loss: 8.1604 - mae: 8.1604\n",
      "Epoch 479/500\n",
      "2/2 [==============================] - 0s 16ms/step - loss: 11.2214 - mae: 11.2214\n",
      "Epoch 480/500\n",
      "2/2 [==============================] - 0s 16ms/step - loss: 17.8869 - mae: 17.8869\n",
      "Epoch 481/500\n",
      "2/2 [==============================] - 0s 16ms/step - loss: 15.7945 - mae: 15.7945\n",
      "Epoch 482/500\n",
      "2/2 [==============================] - 0s 16ms/step - loss: 21.2802 - mae: 21.2802\n",
      "Epoch 483/500\n",
      "2/2 [==============================] - 0s 16ms/step - loss: 25.4414 - mae: 25.4414\n",
      "Epoch 484/500\n",
      "2/2 [==============================] - 0s 16ms/step - loss: 24.0359 - mae: 24.0359\n",
      "Epoch 485/500\n",
      "2/2 [==============================] - 0s 16ms/step - loss: 5.7702 - mae: 5.7702\n",
      "Epoch 486/500\n",
      "2/2 [==============================] - 0s 16ms/step - loss: 20.0611 - mae: 20.0611\n",
      "Epoch 487/500\n",
      "2/2 [==============================] - 0s 16ms/step - loss: 14.0342 - mae: 14.0342\n",
      "Epoch 488/500\n",
      "2/2 [==============================] - 0s 0s/step - loss: 30.5978 - mae: 30.5978\n",
      "Epoch 489/500\n",
      "2/2 [==============================] - 0s 16ms/step - loss: 11.9201 - mae: 11.9201\n",
      "Epoch 490/500\n",
      "2/2 [==============================] - 0s 16ms/step - loss: 12.7234 - mae: 12.7234\n",
      "Epoch 491/500\n",
      "2/2 [==============================] - 0s 0s/step - loss: 23.5938 - mae: 23.5938\n",
      "Epoch 492/500\n",
      "2/2 [==============================] - 0s 16ms/step - loss: 20.5896 - mae: 20.5896\n",
      "Epoch 493/500\n",
      "2/2 [==============================] - 0s 16ms/step - loss: 4.9923 - mae: 4.9923\n",
      "Epoch 494/500\n",
      "2/2 [==============================] - 0s 16ms/step - loss: 12.8376 - mae: 12.8376\n",
      "Epoch 495/500\n",
      "2/2 [==============================] - 0s 16ms/step - loss: 13.3577 - mae: 13.3577\n",
      "Epoch 496/500\n",
      "2/2 [==============================] - 0s 0s/step - loss: 12.6586 - mae: 12.6586\n",
      "Epoch 497/500\n",
      "2/2 [==============================] - 0s 16ms/step - loss: 17.5921 - mae: 17.5921\n",
      "Epoch 498/500\n",
      "2/2 [==============================] - 0s 16ms/step - loss: 23.6190 - mae: 23.6190\n",
      "Epoch 499/500\n",
      "2/2 [==============================] - 0s 16ms/step - loss: 9.4210 - mae: 9.4210\n",
      "Epoch 500/500\n",
      "2/2 [==============================] - 0s 16ms/step - loss: 14.6217 - mae: 14.6217\n"
     ]
    },
    {
     "data": {
      "text/plain": [
       "<keras.callbacks.History at 0x87a7cbe730>"
      ]
     },
     "execution_count": 50,
     "metadata": {},
     "output_type": "execute_result"
    }
   ],
   "source": [
    "# Model 3 (just to experiment, the metrics on compile will be mse instead of mae)\n",
    "# Definition\n",
    "model_3 = tf.keras.Sequential([\n",
    "    tf.keras.layers.Dense(10),\n",
    "    tf.keras.layers.Dense(1)\n",
    "])\n",
    "# Compile\n",
    "model_3.compile(loss=tf.keras.losses.mae, \n",
    "               optimizer=tf.keras.optimizers.SGD(),\n",
    "               metrics=['mae'])\n",
    "# Fit\n",
    "model_3.fit(tf.expand_dims(X_train, axis=-1), Y_train, epochs=500)"
   ]
  },
  {
   "cell_type": "code",
   "execution_count": 51,
   "id": "db035e02",
   "metadata": {},
   "outputs": [
    {
     "name": "stdout",
     "output_type": "stream",
     "text": [
      "1/1 [==============================] - 0s 172ms/step\n"
     ]
    },
    {
     "data": {
      "image/png": "[encoded data removed]",
      "text/plain": [
       "<Figure size 1000x700 with 1 Axes>"
      ]
     },
     "metadata": {},
     "output_type": "display_data"
    }
   ],
   "source": [
    "Y_preds_3 = model_3.predict(X_test)\n",
    "plot_predictions(predictions=Y_preds_3)"
   ]
  },
  {
   "cell_type": "code",
   "execution_count": 52,
   "id": "f6053c73",
   "metadata": {},
   "outputs": [
    {
     "data": {
      "text/plain": [
       "(<tf.Tensor: shape=(), dtype=float32, numpy=68.67484>,\n",
       " <tf.Tensor: shape=(), dtype=float32, numpy=4802.6484>)"
      ]
     },
     "execution_count": 52,
     "metadata": {},
     "output_type": "execute_result"
    }
   ],
   "source": [
    "# Calculate model 3 evaluation metrics\n",
    "mae_3 = mae(Y_test, Y_preds_3)\n",
    "mse_3 = mse(Y_test, Y_preds_3)\n",
    "mae_3, mse_3"
   ]
  },
  {
   "cell_type": "code",
   "execution_count": 62,
   "id": "bac4887d",
   "metadata": {},
   "outputs": [
    {
     "name": "stdout",
     "output_type": "stream",
     "text": [
      "2/2 [==============================] - 0s 16ms/step\n"
     ]
    }
   ],
   "source": [
    "# Calculate model 3 training evaluation metrics\n",
    "Y_preds_3_train = model_3.predict(X_train)"
   ]
  },
  {
   "cell_type": "code",
   "execution_count": 63,
   "id": "797dd805",
   "metadata": {},
   "outputs": [
    {
     "data": {
      "text/plain": [
       "(<tf.Tensor: shape=(), dtype=float32, numpy=33.516678>,\n",
       " <tf.Tensor: shape=(), dtype=float32, numpy=1545.4186>)"
      ]
     },
     "execution_count": 63,
     "metadata": {},
     "output_type": "execute_result"
    }
   ],
   "source": [
    "mae_3_train = mae(Y_train, Y_preds_3_train)\n",
    "mse_3_train = mse(Y_train, Y_preds_3_train)\n",
    "mae_3_train, mse_3_train"
   ]
  },
  {
   "cell_type": "markdown",
   "id": "5c41e34f",
   "metadata": {},
   "source": [
    "## Comparing the results"
   ]
  },
  {
   "cell_type": "code",
   "execution_count": 65,
   "id": "6ee44535",
   "metadata": {},
   "outputs": [],
   "source": [
    "model_results = [['model_1', mae_1.numpy(), mse_1.numpy()],\n",
    "                ['model_2', mae_2.numpy(), mse_2.numpy()],\n",
    "                 ['model_3', mae_3.numpy(), mse_3.numpy()]]\n",
    "all_results = pd.DataFrame(model_results, columns=['model', 'mae', 'mse'])"
   ]
  },
  {
   "cell_type": "code",
   "execution_count": 66,
   "id": "e0007810",
   "metadata": {},
   "outputs": [
    {
     "data": {
      "text/html": [
       "<div>\n",
       "<style scoped>\n",
       "    .dataframe tbody tr th:only-of-type {\n",
       "        vertical-align: middle;\n",
       "    }\n",
       "\n",
       "    .dataframe tbody tr th {\n",
       "        vertical-align: top;\n",
       "    }\n",
       "\n",
       "    .dataframe thead th {\n",
       "        text-align: right;\n",
       "    }\n",
       "</style>\n",
       "<table border=\"1\" class=\"dataframe\">\n",
       "  <thead>\n",
       "    <tr style=\"text-align: right;\">\n",
       "      <th></th>\n",
       "      <th>model</th>\n",
       "      <th>mae</th>\n",
       "      <th>mse</th>\n",
       "    </tr>\n",
       "  </thead>\n",
       "  <tbody>\n",
       "    <tr>\n",
       "      <th>0</th>\n",
       "      <td>model_1</td>\n",
       "      <td>8.655555</td>\n",
       "      <td>81.443520</td>\n",
       "    </tr>\n",
       "    <tr>\n",
       "      <th>1</th>\n",
       "      <td>model_2</td>\n",
       "      <td>2.970081</td>\n",
       "      <td>11.577646</td>\n",
       "    </tr>\n",
       "    <tr>\n",
       "      <th>2</th>\n",
       "      <td>model_3</td>\n",
       "      <td>68.674843</td>\n",
       "      <td>4802.648438</td>\n",
       "    </tr>\n",
       "  </tbody>\n",
       "</table>\n",
       "</div>"
      ],
      "text/plain": [
       "     model        mae          mse\n",
       "0  model_1   8.655555    81.443520\n",
       "1  model_2   2.970081    11.577646\n",
       "2  model_3  68.674843  4802.648438"
      ]
     },
     "execution_count": 66,
     "metadata": {},
     "output_type": "execute_result"
    }
   ],
   "source": [
    "all_results"
   ]
  },
  {
   "cell_type": "markdown",
   "id": "ce3c812c",
   "metadata": {},
   "source": [
    "**Model 2 performed better**"
   ]
  },
  {
   "cell_type": "code",
   "execution_count": 67,
   "id": "e203bd10",
   "metadata": {},
   "outputs": [
    {
     "name": "stdout",
     "output_type": "stream",
     "text": [
      "Model: \"sequential_5\"\n",
      "_________________________________________________________________\n",
      " Layer (type)                Output Shape              Param #   \n",
      "=================================================================\n",
      " dense_6 (Dense)             (None, 10)                20        \n",
      "                                                                 \n",
      " dense_7 (Dense)             (None, 1)                 11        \n",
      "                                                                 \n",
      "=================================================================\n",
      "Total params: 31\n",
      "Trainable params: 31\n",
      "Non-trainable params: 0\n",
      "_________________________________________________________________\n"
     ]
    }
   ],
   "source": [
    "model_2.summary()"
   ]
  },
  {
   "cell_type": "markdown",
   "id": "2ad8f60c",
   "metadata": {},
   "source": [
    "## Tracking experiments\n",
    "Tools to help:\n",
    "- TensorBoard:  Library to help track experiments.\n",
    "- Weights & Biases: Tool for tracking all kinds of ML experiments. (Plugs into TensorBoard)"
   ]
  },
  {
   "cell_type": "markdown",
   "id": "1857262a",
   "metadata": {},
   "source": [
    "## Saving our models"
   ]
  },
  {
   "cell_type": "markdown",
   "id": "4fa49aa9",
   "metadata": {},
   "source": [
    "Two formats:\n",
    "- The SavedModel format.\n",
    "- The HDF5 format."
   ]
  },
  {
   "cell_type": "code",
   "execution_count": 68,
   "id": "e9f6e924",
   "metadata": {},
   "outputs": [
    {
     "name": "stderr",
     "output_type": "stream",
     "text": [
      "WARNING:absl:Found untraced functions such as _update_step_xla while saving (showing 1 of 1). These functions will not be directly callable after loading.\n"
     ]
    }
   ],
   "source": [
    "# Saving using SavedModel\n",
    "model_2.save('best_model_SavedModel_format')"
   ]
  },
  {
   "cell_type": "code",
   "execution_count": 69,
   "id": "049e77e4",
   "metadata": {},
   "outputs": [],
   "source": [
    "# Saving HDF5 (better for other cases outside the notebook)\n",
    "model_2.save('best_model_HDF5_format.h5')"
   ]
  },
  {
   "cell_type": "markdown",
   "id": "7662fa0a",
   "metadata": {},
   "source": [
    "## Load saved models"
   ]
  },
  {
   "cell_type": "code",
   "execution_count": 70,
   "id": "034ea85d",
   "metadata": {},
   "outputs": [
    {
     "name": "stdout",
     "output_type": "stream",
     "text": [
      "Model: \"sequential_5\"\n",
      "_________________________________________________________________\n",
      " Layer (type)                Output Shape              Param #   \n",
      "=================================================================\n",
      " dense_6 (Dense)             (None, 10)                20        \n",
      "                                                                 \n",
      " dense_7 (Dense)             (None, 1)                 11        \n",
      "                                                                 \n",
      "=================================================================\n",
      "Total params: 31\n",
      "Trainable params: 31\n",
      "Non-trainable params: 0\n",
      "_________________________________________________________________\n"
     ]
    }
   ],
   "source": [
    "# SavedModel\n",
    "load_SavedModel_format = tf.keras.models.load_model('best_model_SavedModel_format')\n",
    "load_SavedModel_format.summary()"
   ]
  },
  {
   "cell_type": "code",
   "execution_count": 71,
   "id": "a6a35c5a",
   "metadata": {},
   "outputs": [
    {
     "name": "stdout",
     "output_type": "stream",
     "text": [
      "Model: \"sequential_5\"\n",
      "_________________________________________________________________\n",
      " Layer (type)                Output Shape              Param #   \n",
      "=================================================================\n",
      " dense_6 (Dense)             (None, 10)                20        \n",
      "                                                                 \n",
      " dense_7 (Dense)             (None, 1)                 11        \n",
      "                                                                 \n",
      "=================================================================\n",
      "Total params: 31\n",
      "Trainable params: 31\n",
      "Non-trainable params: 0\n",
      "_________________________________________________________________\n"
     ]
    }
   ],
   "source": [
    "model_2.summary()"
   ]
  },
  {
   "cell_type": "code",
   "execution_count": 72,
   "id": "b522f0d1",
   "metadata": {},
   "outputs": [
    {
     "name": "stdout",
     "output_type": "stream",
     "text": [
      "1/1 [==============================] - 0s 94ms/step\n",
      "1/1 [==============================] - 0s 125ms/step\n"
     ]
    }
   ],
   "source": [
    "# Compare model_2 predictions with loaded model\n",
    "model_2_preds = model_2.predict(X_test)\n",
    "loaded_SavedModel_format_preds = load_SavedModel_format.predict(X_test)"
   ]
  },
  {
   "cell_type": "code",
   "execution_count": 73,
   "id": "61f7ff8d",
   "metadata": {},
   "outputs": [
    {
     "data": {
      "text/plain": [
       "array([[ True],\n",
       "       [ True],\n",
       "       [ True],\n",
       "       [ True],\n",
       "       [ True],\n",
       "       [ True],\n",
       "       [ True],\n",
       "       [ True],\n",
       "       [ True],\n",
       "       [ True]])"
      ]
     },
     "execution_count": 73,
     "metadata": {},
     "output_type": "execute_result"
    }
   ],
   "source": [
    "model_2_preds == loaded_SavedModel_format_preds"
   ]
  },
  {
   "cell_type": "code",
   "execution_count": 74,
   "id": "4fa38dde",
   "metadata": {},
   "outputs": [],
   "source": [
    "# Loading the HDF5 format\n",
    "loaded_h5_format = tf.keras.models.load_model('best_model_HDF5_format.h5')"
   ]
  },
  {
   "cell_type": "code",
   "execution_count": 76,
   "id": "44341a2c",
   "metadata": {},
   "outputs": [
    {
     "name": "stdout",
     "output_type": "stream",
     "text": [
      "Model: \"sequential_5\"\n",
      "_________________________________________________________________\n",
      " Layer (type)                Output Shape              Param #   \n",
      "=================================================================\n",
      " dense_6 (Dense)             (None, 10)                20        \n",
      "                                                                 \n",
      " dense_7 (Dense)             (None, 1)                 11        \n",
      "                                                                 \n",
      "=================================================================\n",
      "Total params: 31\n",
      "Trainable params: 31\n",
      "Non-trainable params: 0\n",
      "_________________________________________________________________\n"
     ]
    }
   ],
   "source": [
    "loaded_h5_format.summary()"
   ]
  },
  {
   "cell_type": "code",
   "execution_count": 77,
   "id": "a1683951",
   "metadata": {},
   "outputs": [
    {
     "name": "stdout",
     "output_type": "stream",
     "text": [
      "1/1 [==============================] - 0s 136ms/step\n"
     ]
    }
   ],
   "source": [
    "loaded_h5_format_preds = loaded_h5_format.predict(X_test)"
   ]
  },
  {
   "cell_type": "code",
   "execution_count": 78,
   "id": "f507c5ec",
   "metadata": {},
   "outputs": [
    {
     "data": {
      "text/plain": [
       "array([[ True],\n",
       "       [ True],\n",
       "       [ True],\n",
       "       [ True],\n",
       "       [ True],\n",
       "       [ True],\n",
       "       [ True],\n",
       "       [ True],\n",
       "       [ True],\n",
       "       [ True]])"
      ]
     },
     "execution_count": 78,
     "metadata": {},
     "output_type": "execute_result"
    }
   ],
   "source": [
    "loaded_h5_format_preds == model_2_preds"
   ]
  },
  {
   "cell_type": "code",
   "execution_count": null,
   "id": "c39948b1",
   "metadata": {},
   "outputs": [],
   "source": []
  }
 ],
 "metadata": {
  "kernelspec": {
   "display_name": "Python 3 (ipykernel)",
   "language": "python",
   "name": "python3"
  },
  "language_info": {
   "codemirror_mode": {
    "name": "ipython",
    "version": 3
   },
   "file_extension": ".py",
   "mimetype": "text/x-python",
   "name": "python",
   "nbconvert_exporter": "python",
   "pygments_lexer": "ipython3",
   "version": "3.9.11"
  }
 },
 "nbformat": 4,
 "nbformat_minor": 5
}
