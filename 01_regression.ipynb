{
 "cells": [
  {
   "cell_type": "code",
   "execution_count": 2,
   "id": "b471ce37",
   "metadata": {},
   "outputs": [],
   "source": [
    "import tensorflow as tf\n",
    "import numpy as np\n",
    "import matplotlib.pyplot as plt\n",
    "\n",
    "from tensorflow.keras.utils import plot_model"
   ]
  },
  {
   "cell_type": "code",
   "execution_count": 3,
   "id": "76c3aa96",
   "metadata": {},
   "outputs": [],
   "source": [
    "import logging\n",
    "logging.getLogger('tensorflow').setLevel(logging.ERROR)"
   ]
  },
  {
   "cell_type": "markdown",
   "id": "02974052",
   "metadata": {},
   "source": [
    "## Creating data to view and fit"
   ]
  },
  {
   "cell_type": "code",
   "execution_count": 4,
   "id": "a2ccaffd",
   "metadata": {},
   "outputs": [],
   "source": [
    "# Create features\n",
    "X = np.array([-7.0, -4.0, -1.0, 2.0, 5.0, 8.0, 11.0, 14.0])\n",
    "# Create labels\n",
    "Y = np.array([3.0, 6.0, 9.0, 12.0, 15.0, 18.0, 21.0, 24.0])"
   ]
  },
  {
   "cell_type": "code",
   "execution_count": 5,
   "id": "8fc123db",
   "metadata": {},
   "outputs": [
    {
     "data": {
      "text/plain": [
       "<matplotlib.collections.PathCollection at 0x4d115cfc10>"
      ]
     },
     "execution_count": 5,
     "metadata": {},
     "output_type": "execute_result"
    },
    {
     "data": {
      "image/png": "[encoded data removed]",
      "text/plain": [
       "<Figure size 640x480 with 1 Axes>"
      ]
     },
     "metadata": {},
     "output_type": "display_data"
    }
   ],
   "source": [
    "# Visualize\n",
    "plt.scatter(X, Y)"
   ]
  },
  {
   "cell_type": "code",
   "execution_count": 6,
   "id": "b9bba341",
   "metadata": {},
   "outputs": [
    {
     "data": {
      "text/plain": [
       "((8,), (8,))"
      ]
     },
     "execution_count": 6,
     "metadata": {},
     "output_type": "execute_result"
    }
   ],
   "source": [
    "input_shape = X.shape\n",
    "output_shape = Y.shape\n",
    "input_shape, output_shape"
   ]
  },
  {
   "cell_type": "code",
   "execution_count": 7,
   "id": "7782a61a",
   "metadata": {},
   "outputs": [
    {
     "data": {
      "text/plain": [
       "(<tf.Tensor: shape=(8,), dtype=float64, numpy=array([-7., -4., -1.,  2.,  5.,  8., 11., 14.])>,\n",
       " <tf.Tensor: shape=(8,), dtype=float64, numpy=array([ 3.,  6.,  9., 12., 15., 18., 21., 24.])>)"
      ]
     },
     "execution_count": 7,
     "metadata": {},
     "output_type": "execute_result"
    }
   ],
   "source": [
    "# Turn numpy arrays into tensors\n",
    "X = tf.constant(X)\n",
    "Y = tf.constant(Y)\n",
    "X, Y"
   ]
  },
  {
   "cell_type": "markdown",
   "id": "a478e51e",
   "metadata": {},
   "source": [
    "## Steps in modeling with tensorflow"
   ]
  },
  {
   "cell_type": "markdown",
   "id": "f005e028",
   "metadata": {},
   "source": [
    "1. Creating a model: Define input and output laters as well as the hidden layers\n",
    "2. Compiling a model: Define loss function,  optimizer (how to improve the learning) and evaluation metrics.\n",
    "3. Fitting a model: Find the patterns."
   ]
  },
  {
   "cell_type": "code",
   "execution_count": 8,
   "id": "247cbdfc",
   "metadata": {},
   "outputs": [],
   "source": [
    "# Set random seed\n",
    "tf.random.set_seed(42)"
   ]
  },
  {
   "cell_type": "code",
   "execution_count": 9,
   "id": "29fcc9cb",
   "metadata": {},
   "outputs": [
    {
     "name": "stdout",
     "output_type": "stream",
     "text": [
      "Epoch 1/5\n",
      "1/1 [==============================] - 1s 1s/step - loss: 9.1373 - mae: 9.1373\n",
      "Epoch 2/5\n",
      "1/1 [==============================] - 0s 16ms/step - loss: 9.0048 - mae: 9.0048\n",
      "Epoch 3/5\n",
      "1/1 [==============================] - 0s 16ms/step - loss: 8.8723 - mae: 8.8723\n",
      "Epoch 4/5\n",
      "1/1 [==============================] - 0s 16ms/step - loss: 8.7398 - mae: 8.7398\n",
      "Epoch 5/5\n",
      "1/1 [==============================] - 0s 16ms/step - loss: 8.6073 - mae: 8.6073\n"
     ]
    },
    {
     "data": {
      "text/plain": [
       "<keras.callbacks.History at 0x4d159b8af0>"
      ]
     },
     "execution_count": 9,
     "metadata": {},
     "output_type": "execute_result"
    }
   ],
   "source": [
    "# Create a model\n",
    "model = tf.keras.Sequential([\n",
    "    tf.keras.layers.Dense(1),\n",
    "])\n",
    "# Compile the model\n",
    "model.compile(loss=tf.keras.losses.mae,      # MAE: Mean absolote error\n",
    "             optimizer=tf.keras.optimizers.SGD(), # SGD: Stochastic gradient descent\n",
    "             metrics=['mae'])  \n",
    "# Fit the model\n",
    "model.fit(tf.expand_dims(X, axis=-1), Y, epochs=5)"
   ]
  },
  {
   "cell_type": "code",
   "execution_count": 10,
   "id": "eff1cfc9",
   "metadata": {},
   "outputs": [
    {
     "name": "stdout",
     "output_type": "stream",
     "text": [
      "1/1 [==============================] - 0s 359ms/step\n"
     ]
    },
    {
     "data": {
      "text/plain": [
       "array([[24.21549]], dtype=float32)"
      ]
     },
     "execution_count": 10,
     "metadata": {},
     "output_type": "execute_result"
    }
   ],
   "source": [
    "# Check prediction\n",
    "model.predict([17.0])"
   ]
  },
  {
   "cell_type": "markdown",
   "id": "1fea9aa4",
   "metadata": {},
   "source": [
    "## Improve the model\n",
    "\n",
    "1. Create a model: Add more layers, increase the number of hidden units (neurons) within layers, change activation function of each layer.\n",
    "2. Compile the model: Change optimization, change the learning rate of optimization function.\n",
    "3. Fit the model: Change epochs (look at the data more times). Feed more data to train."
   ]
  },
  {
   "cell_type": "code",
   "execution_count": 11,
   "id": "99ae6f78",
   "metadata": {},
   "outputs": [
    {
     "name": "stdout",
     "output_type": "stream",
     "text": [
      "Epoch 1/100\n",
      "1/1 [==============================] - 1s 1s/step - loss: 15.3404 - mae: 15.3404\n",
      "Epoch 2/100\n",
      "1/1 [==============================] - 0s 16ms/step - loss: 15.0591 - mae: 15.0591\n",
      "Epoch 3/100\n",
      "1/1 [==============================] - 0s 16ms/step - loss: 14.8444 - mae: 14.8444\n",
      "Epoch 4/100\n",
      "1/1 [==============================] - 0s 16ms/step - loss: 14.7119 - mae: 14.7119\n",
      "Epoch 5/100\n",
      "1/1 [==============================] - 0s 16ms/step - loss: 14.5794 - mae: 14.5794\n",
      "Epoch 6/100\n",
      "1/1 [==============================] - 0s 16ms/step - loss: 14.4469 - mae: 14.4469\n",
      "Epoch 7/100\n",
      "1/1 [==============================] - 0s 16ms/step - loss: 14.3144 - mae: 14.3144\n",
      "Epoch 8/100\n",
      "1/1 [==============================] - 0s 16ms/step - loss: 14.1819 - mae: 14.1819\n",
      "Epoch 9/100\n",
      "1/1 [==============================] - 0s 16ms/step - loss: 14.0494 - mae: 14.0494\n",
      "Epoch 10/100\n",
      "1/1 [==============================] - 0s 16ms/step - loss: 13.9169 - mae: 13.9169\n",
      "Epoch 11/100\n",
      "1/1 [==============================] - 0s 16ms/step - loss: 13.7844 - mae: 13.7844\n",
      "Epoch 12/100\n",
      "1/1 [==============================] - 0s 16ms/step - loss: 13.6519 - mae: 13.6519\n",
      "Epoch 13/100\n",
      "1/1 [==============================] - 0s 16ms/step - loss: 13.5194 - mae: 13.5194\n",
      "Epoch 14/100\n",
      "1/1 [==============================] - 0s 16ms/step - loss: 13.3869 - mae: 13.3869\n",
      "Epoch 15/100\n",
      "1/1 [==============================] - 0s 16ms/step - loss: 13.2544 - mae: 13.2544\n",
      "Epoch 16/100\n",
      "1/1 [==============================] - 0s 16ms/step - loss: 13.1219 - mae: 13.1219\n",
      "Epoch 17/100\n",
      "1/1 [==============================] - 0s 31ms/step - loss: 12.9894 - mae: 12.9894\n",
      "Epoch 18/100\n",
      "1/1 [==============================] - 0s 16ms/step - loss: 12.8569 - mae: 12.8569\n",
      "Epoch 19/100\n",
      "1/1 [==============================] - 0s 16ms/step - loss: 12.7244 - mae: 12.7244\n",
      "Epoch 20/100\n",
      "1/1 [==============================] - 0s 16ms/step - loss: 12.5919 - mae: 12.5919\n",
      "Epoch 21/100\n",
      "1/1 [==============================] - 0s 16ms/step - loss: 12.4594 - mae: 12.4594\n",
      "Epoch 22/100\n",
      "1/1 [==============================] - 0s 16ms/step - loss: 12.3269 - mae: 12.3269\n",
      "Epoch 23/100\n",
      "1/1 [==============================] - 0s 16ms/step - loss: 12.1944 - mae: 12.1944\n",
      "Epoch 24/100\n",
      "1/1 [==============================] - 0s 16ms/step - loss: 12.0619 - mae: 12.0619\n",
      "Epoch 25/100\n",
      "1/1 [==============================] - 0s 16ms/step - loss: 11.9294 - mae: 11.9294\n",
      "Epoch 26/100\n",
      "1/1 [==============================] - 0s 16ms/step - loss: 11.7969 - mae: 11.7969\n",
      "Epoch 27/100\n",
      "1/1 [==============================] - 0s 31ms/step - loss: 11.6644 - mae: 11.6644\n",
      "Epoch 28/100\n",
      "1/1 [==============================] - 0s 16ms/step - loss: 11.5319 - mae: 11.5319\n",
      "Epoch 29/100\n",
      "1/1 [==============================] - 0s 16ms/step - loss: 11.3994 - mae: 11.3994\n",
      "Epoch 30/100\n",
      "1/1 [==============================] - 0s 31ms/step - loss: 11.2669 - mae: 11.2669\n",
      "Epoch 31/100\n",
      "1/1 [==============================] - 0s 16ms/step - loss: 11.1344 - mae: 11.1344\n",
      "Epoch 32/100\n",
      "1/1 [==============================] - 0s 16ms/step - loss: 11.0019 - mae: 11.0019\n",
      "Epoch 33/100\n",
      "1/1 [==============================] - 0s 16ms/step - loss: 10.8694 - mae: 10.8694\n",
      "Epoch 34/100\n",
      "1/1 [==============================] - 0s 16ms/step - loss: 10.7369 - mae: 10.7369\n",
      "Epoch 35/100\n",
      "1/1 [==============================] - 0s 16ms/step - loss: 10.6044 - mae: 10.6044\n",
      "Epoch 36/100\n",
      "1/1 [==============================] - 0s 0s/step - loss: 10.4719 - mae: 10.4719\n",
      "Epoch 37/100\n",
      "1/1 [==============================] - 0s 16ms/step - loss: 10.3394 - mae: 10.3394\n",
      "Epoch 38/100\n",
      "1/1 [==============================] - 0s 16ms/step - loss: 10.2069 - mae: 10.2069\n",
      "Epoch 39/100\n",
      "1/1 [==============================] - 0s 16ms/step - loss: 10.0744 - mae: 10.0744\n",
      "Epoch 40/100\n",
      "1/1 [==============================] - 0s 16ms/step - loss: 9.9419 - mae: 9.9419\n",
      "Epoch 41/100\n",
      "1/1 [==============================] - 0s 16ms/step - loss: 9.8094 - mae: 9.8094\n",
      "Epoch 42/100\n",
      "1/1 [==============================] - 0s 16ms/step - loss: 9.6769 - mae: 9.6769\n",
      "Epoch 43/100\n",
      "1/1 [==============================] - 0s 16ms/step - loss: 9.5444 - mae: 9.5444\n",
      "Epoch 44/100\n",
      "1/1 [==============================] - 0s 16ms/step - loss: 9.4119 - mae: 9.4119\n",
      "Epoch 45/100\n",
      "1/1 [==============================] - 0s 0s/step - loss: 9.2794 - mae: 9.2794\n",
      "Epoch 46/100\n",
      "1/1 [==============================] - 0s 16ms/step - loss: 9.1469 - mae: 9.1469\n",
      "Epoch 47/100\n",
      "1/1 [==============================] - 0s 16ms/step - loss: 9.0144 - mae: 9.0144\n",
      "Epoch 48/100\n",
      "1/1 [==============================] - 0s 0s/step - loss: 8.8819 - mae: 8.8819\n",
      "Epoch 49/100\n",
      "1/1 [==============================] - 0s 16ms/step - loss: 8.7494 - mae: 8.7494\n",
      "Epoch 50/100\n",
      "1/1 [==============================] - 0s 16ms/step - loss: 8.6169 - mae: 8.6169\n",
      "Epoch 51/100\n",
      "1/1 [==============================] - 0s 16ms/step - loss: 8.4844 - mae: 8.4844\n",
      "Epoch 52/100\n",
      "1/1 [==============================] - 0s 16ms/step - loss: 8.3519 - mae: 8.3519\n",
      "Epoch 53/100\n",
      "1/1 [==============================] - 0s 16ms/step - loss: 8.2194 - mae: 8.2194\n",
      "Epoch 54/100\n",
      "1/1 [==============================] - 0s 16ms/step - loss: 8.0869 - mae: 8.0869\n",
      "Epoch 55/100\n",
      "1/1 [==============================] - 0s 16ms/step - loss: 7.9544 - mae: 7.9544\n",
      "Epoch 56/100\n",
      "1/1 [==============================] - 0s 16ms/step - loss: 7.8219 - mae: 7.8219\n",
      "Epoch 57/100\n",
      "1/1 [==============================] - 0s 16ms/step - loss: 7.6894 - mae: 7.6894\n",
      "Epoch 58/100\n",
      "1/1 [==============================] - 0s 16ms/step - loss: 7.5569 - mae: 7.5569\n",
      "Epoch 59/100\n",
      "1/1 [==============================] - 0s 16ms/step - loss: 7.4244 - mae: 7.4244\n",
      "Epoch 60/100\n",
      "1/1 [==============================] - 0s 16ms/step - loss: 7.2919 - mae: 7.2919\n",
      "Epoch 61/100\n",
      "1/1 [==============================] - 0s 31ms/step - loss: 7.1594 - mae: 7.1594\n",
      "Epoch 62/100\n",
      "1/1 [==============================] - 0s 16ms/step - loss: 7.0463 - mae: 7.0463\n",
      "Epoch 63/100\n",
      "1/1 [==============================] - 0s 16ms/step - loss: 7.0406 - mae: 7.0406\n",
      "Epoch 64/100\n",
      "1/1 [==============================] - 0s 16ms/step - loss: 7.0350 - mae: 7.0350\n",
      "Epoch 65/100\n",
      "1/1 [==============================] - 0s 31ms/step - loss: 7.0294 - mae: 7.0294\n",
      "Epoch 66/100\n",
      "1/1 [==============================] - 0s 16ms/step - loss: 7.0238 - mae: 7.0238\n",
      "Epoch 67/100\n",
      "1/1 [==============================] - 0s 16ms/step - loss: 7.0181 - mae: 7.0181\n",
      "Epoch 68/100\n",
      "1/1 [==============================] - 0s 16ms/step - loss: 7.0125 - mae: 7.0125\n",
      "Epoch 69/100\n",
      "1/1 [==============================] - 0s 0s/step - loss: 7.0069 - mae: 7.0069\n",
      "Epoch 70/100\n",
      "1/1 [==============================] - 0s 16ms/step - loss: 7.0013 - mae: 7.0013\n",
      "Epoch 71/100\n",
      "1/1 [==============================] - 0s 16ms/step - loss: 6.9956 - mae: 6.9956\n",
      "Epoch 72/100\n",
      "1/1 [==============================] - 0s 16ms/step - loss: 6.9900 - mae: 6.9900\n",
      "Epoch 73/100\n",
      "1/1 [==============================] - 0s 16ms/step - loss: 6.9844 - mae: 6.9844\n",
      "Epoch 74/100\n",
      "1/1 [==============================] - 0s 16ms/step - loss: 6.9788 - mae: 6.9788\n",
      "Epoch 75/100\n",
      "1/1 [==============================] - 0s 16ms/step - loss: 6.9731 - mae: 6.9731\n",
      "Epoch 76/100\n",
      "1/1 [==============================] - 0s 16ms/step - loss: 6.9675 - mae: 6.9675\n",
      "Epoch 77/100\n",
      "1/1 [==============================] - 0s 16ms/step - loss: 6.9619 - mae: 6.9619\n",
      "Epoch 78/100\n",
      "1/1 [==============================] - 0s 16ms/step - loss: 6.9563 - mae: 6.9563\n",
      "Epoch 79/100\n",
      "1/1 [==============================] - 0s 16ms/step - loss: 6.9506 - mae: 6.9506\n",
      "Epoch 80/100\n",
      "1/1 [==============================] - 0s 16ms/step - loss: 6.9450 - mae: 6.9450\n",
      "Epoch 81/100\n",
      "1/1 [==============================] - 0s 16ms/step - loss: 6.9394 - mae: 6.9394\n",
      "Epoch 82/100\n",
      "1/1 [==============================] - 0s 16ms/step - loss: 6.9338 - mae: 6.9338\n",
      "Epoch 83/100\n",
      "1/1 [==============================] - 0s 16ms/step - loss: 6.9281 - mae: 6.9281\n",
      "Epoch 84/100\n",
      "1/1 [==============================] - 0s 16ms/step - loss: 6.9225 - mae: 6.9225\n",
      "Epoch 85/100\n",
      "1/1 [==============================] - 0s 16ms/step - loss: 6.9169 - mae: 6.9169\n",
      "Epoch 86/100\n",
      "1/1 [==============================] - 0s 31ms/step - loss: 6.9113 - mae: 6.9113\n",
      "Epoch 87/100\n"
     ]
    },
    {
     "name": "stdout",
     "output_type": "stream",
     "text": [
      "1/1 [==============================] - 0s 16ms/step - loss: 6.9056 - mae: 6.9056\n",
      "Epoch 88/100\n",
      "1/1 [==============================] - 0s 16ms/step - loss: 6.9000 - mae: 6.9000\n",
      "Epoch 89/100\n",
      "1/1 [==============================] - 0s 16ms/step - loss: 6.8944 - mae: 6.8944\n",
      "Epoch 90/100\n",
      "1/1 [==============================] - 0s 16ms/step - loss: 6.8888 - mae: 6.8888\n",
      "Epoch 91/100\n",
      "1/1 [==============================] - 0s 16ms/step - loss: 6.8831 - mae: 6.8831\n",
      "Epoch 92/100\n",
      "1/1 [==============================] - 0s 31ms/step - loss: 6.8775 - mae: 6.8775\n",
      "Epoch 93/100\n",
      "1/1 [==============================] - 0s 16ms/step - loss: 6.8719 - mae: 6.8719\n",
      "Epoch 94/100\n",
      "1/1 [==============================] - 0s 16ms/step - loss: 6.8663 - mae: 6.8663\n",
      "Epoch 95/100\n",
      "1/1 [==============================] - 0s 16ms/step - loss: 6.8606 - mae: 6.8606\n",
      "Epoch 96/100\n",
      "1/1 [==============================] - 0s 16ms/step - loss: 6.8550 - mae: 6.8550\n",
      "Epoch 97/100\n",
      "1/1 [==============================] - 0s 16ms/step - loss: 6.8494 - mae: 6.8494\n",
      "Epoch 98/100\n",
      "1/1 [==============================] - 0s 16ms/step - loss: 6.8438 - mae: 6.8438\n",
      "Epoch 99/100\n",
      "1/1 [==============================] - 0s 16ms/step - loss: 6.8381 - mae: 6.8381\n",
      "Epoch 100/100\n",
      "1/1 [==============================] - 0s 16ms/step - loss: 6.8325 - mae: 6.8325\n"
     ]
    },
    {
     "data": {
      "text/plain": [
       "<keras.callbacks.History at 0x4d169ed220>"
      ]
     },
     "execution_count": 11,
     "metadata": {},
     "output_type": "execute_result"
    }
   ],
   "source": [
    "# Rebuild the model\n",
    "model = tf.keras.Sequential([\n",
    "    tf.keras.layers.Dense(1),\n",
    "])\n",
    "# Compile the model\n",
    "model.compile(loss=tf.keras.losses.mae,\n",
    "             optimizer=tf.keras.optimizers.SGD(),\n",
    "             metrics=['mae'])  \n",
    "# Fit the model\n",
    "model.fit(tf.expand_dims(X, axis=-1), Y, epochs=100)"
   ]
  },
  {
   "cell_type": "code",
   "execution_count": 12,
   "id": "2d4daf3a",
   "metadata": {},
   "outputs": [
    {
     "name": "stdout",
     "output_type": "stream",
     "text": [
      "1/1 [==============================] - 0s 297ms/step\n"
     ]
    },
    {
     "data": {
      "text/plain": [
       "array([[29.399609]], dtype=float32)"
      ]
     },
     "execution_count": 12,
     "metadata": {},
     "output_type": "execute_result"
    }
   ],
   "source": [
    "model.predict([17.0])"
   ]
  },
  {
   "cell_type": "code",
   "execution_count": 13,
   "id": "2deab331",
   "metadata": {
    "scrolled": false
   },
   "outputs": [
    {
     "name": "stdout",
     "output_type": "stream",
     "text": [
      "Epoch 1/100\n",
      "1/1 [==============================] - 2s 2s/step - loss: 13.7663 - mae: 13.7663\n",
      "Epoch 2/100\n",
      "1/1 [==============================] - 0s 16ms/step - loss: 13.1298 - mae: 13.1298\n",
      "Epoch 3/100\n",
      "1/1 [==============================] - 0s 16ms/step - loss: 12.4983 - mae: 12.4983\n",
      "Epoch 4/100\n",
      "1/1 [==============================] - 0s 16ms/step - loss: 11.8684 - mae: 11.8684\n",
      "Epoch 5/100\n",
      "1/1 [==============================] - 0s 16ms/step - loss: 11.2363 - mae: 11.2363\n",
      "Epoch 6/100\n",
      "1/1 [==============================] - 0s 16ms/step - loss: 10.5980 - mae: 10.5980\n",
      "Epoch 7/100\n",
      "1/1 [==============================] - 0s 16ms/step - loss: 9.9498 - mae: 9.9498\n",
      "Epoch 8/100\n",
      "1/1 [==============================] - 0s 16ms/step - loss: 9.2881 - mae: 9.2881\n",
      "Epoch 9/100\n",
      "1/1 [==============================] - 0s 16ms/step - loss: 8.6095 - mae: 8.6095\n",
      "Epoch 10/100\n",
      "1/1 [==============================] - 0s 16ms/step - loss: 7.9111 - mae: 7.9111\n",
      "Epoch 11/100\n",
      "1/1 [==============================] - 0s 16ms/step - loss: 7.1904 - mae: 7.1904\n",
      "Epoch 12/100\n",
      "1/1 [==============================] - 0s 16ms/step - loss: 6.7706 - mae: 6.7706\n",
      "Epoch 13/100\n",
      "1/1 [==============================] - 0s 16ms/step - loss: 6.9503 - mae: 6.9503\n",
      "Epoch 14/100\n",
      "1/1 [==============================] - 0s 16ms/step - loss: 7.2357 - mae: 7.2357\n",
      "Epoch 15/100\n",
      "1/1 [==============================] - 0s 16ms/step - loss: 7.4638 - mae: 7.4638\n",
      "Epoch 16/100\n",
      "1/1 [==============================] - 0s 16ms/step - loss: 7.5751 - mae: 7.5751\n",
      "Epoch 17/100\n",
      "1/1 [==============================] - 0s 16ms/step - loss: 7.4930 - mae: 7.4930\n",
      "Epoch 18/100\n",
      "1/1 [==============================] - 0s 16ms/step - loss: 7.2652 - mae: 7.2652\n",
      "Epoch 19/100\n",
      "1/1 [==============================] - 0s 16ms/step - loss: 6.9958 - mae: 6.9958\n",
      "Epoch 20/100\n",
      "1/1 [==============================] - 0s 16ms/step - loss: 6.7581 - mae: 6.7581\n",
      "Epoch 21/100\n",
      "1/1 [==============================] - 0s 16ms/step - loss: 6.5043 - mae: 6.5043\n",
      "Epoch 22/100\n",
      "1/1 [==============================] - 0s 16ms/step - loss: 6.2384 - mae: 6.2384\n",
      "Epoch 23/100\n",
      "1/1 [==============================] - 0s 16ms/step - loss: 6.1427 - mae: 6.1427\n",
      "Epoch 24/100\n",
      "1/1 [==============================] - 0s 16ms/step - loss: 6.1019 - mae: 6.1019\n",
      "Epoch 25/100\n",
      "1/1 [==============================] - 0s 16ms/step - loss: 6.2231 - mae: 6.2231\n",
      "Epoch 26/100\n",
      "1/1 [==============================] - 0s 16ms/step - loss: 6.2968 - mae: 6.2968\n",
      "Epoch 27/100\n",
      "1/1 [==============================] - 0s 16ms/step - loss: 6.2745 - mae: 6.2745\n",
      "Epoch 28/100\n",
      "1/1 [==============================] - 0s 16ms/step - loss: 6.1680 - mae: 6.1680\n",
      "Epoch 29/100\n",
      "1/1 [==============================] - 0s 16ms/step - loss: 5.9857 - mae: 5.9857\n",
      "Epoch 30/100\n",
      "1/1 [==============================] - 0s 16ms/step - loss: 5.7338 - mae: 5.7338\n",
      "Epoch 31/100\n",
      "1/1 [==============================] - 0s 16ms/step - loss: 5.5845 - mae: 5.5845\n",
      "Epoch 32/100\n",
      "1/1 [==============================] - 0s 16ms/step - loss: 5.4795 - mae: 5.4795\n",
      "Epoch 33/100\n",
      "1/1 [==============================] - 0s 31ms/step - loss: 5.4389 - mae: 5.4389\n",
      "Epoch 34/100\n",
      "1/1 [==============================] - 0s 16ms/step - loss: 5.4490 - mae: 5.4490\n",
      "Epoch 35/100\n",
      "1/1 [==============================] - 0s 16ms/step - loss: 5.4159 - mae: 5.4159\n",
      "Epoch 36/100\n",
      "1/1 [==============================] - 0s 16ms/step - loss: 5.3428 - mae: 5.3428\n",
      "Epoch 37/100\n",
      "1/1 [==============================] - 0s 16ms/step - loss: 5.2326 - mae: 5.2326\n",
      "Epoch 38/100\n",
      "1/1 [==============================] - 0s 16ms/step - loss: 5.0885 - mae: 5.0885\n",
      "Epoch 39/100\n",
      "1/1 [==============================] - 0s 16ms/step - loss: 4.9131 - mae: 4.9131\n",
      "Epoch 40/100\n",
      "1/1 [==============================] - 0s 16ms/step - loss: 4.7180 - mae: 4.7180\n",
      "Epoch 41/100\n",
      "1/1 [==============================] - 0s 16ms/step - loss: 4.6258 - mae: 4.6258\n",
      "Epoch 42/100\n",
      "1/1 [==============================] - 0s 16ms/step - loss: 4.5258 - mae: 4.5258\n",
      "Epoch 43/100\n",
      "1/1 [==============================] - 0s 16ms/step - loss: 4.4178 - mae: 4.4178\n",
      "Epoch 44/100\n",
      "1/1 [==============================] - 0s 16ms/step - loss: 4.3111 - mae: 4.3111\n",
      "Epoch 45/100\n",
      "1/1 [==============================] - 0s 16ms/step - loss: 4.1675 - mae: 4.1675\n",
      "Epoch 46/100\n",
      "1/1 [==============================] - 0s 16ms/step - loss: 4.0256 - mae: 4.0256\n",
      "Epoch 47/100\n",
      "1/1 [==============================] - 0s 16ms/step - loss: 3.8757 - mae: 3.8757\n",
      "Epoch 48/100\n",
      "1/1 [==============================] - 0s 16ms/step - loss: 3.7176 - mae: 3.7176\n",
      "Epoch 49/100\n",
      "1/1 [==============================] - 0s 16ms/step - loss: 3.5510 - mae: 3.5510\n",
      "Epoch 50/100\n",
      "1/1 [==============================] - 0s 31ms/step - loss: 3.3757 - mae: 3.3757\n",
      "Epoch 51/100\n",
      "1/1 [==============================] - 0s 16ms/step - loss: 3.2222 - mae: 3.2222\n",
      "Epoch 52/100\n",
      "1/1 [==============================] - 0s 16ms/step - loss: 3.0484 - mae: 3.0484\n",
      "Epoch 53/100\n",
      "1/1 [==============================] - 0s 16ms/step - loss: 2.8306 - mae: 2.8306\n",
      "Epoch 54/100\n",
      "1/1 [==============================] - 0s 16ms/step - loss: 2.6399 - mae: 2.6399\n",
      "Epoch 55/100\n",
      "1/1 [==============================] - 0s 16ms/step - loss: 2.4377 - mae: 2.4377\n",
      "Epoch 56/100\n",
      "1/1 [==============================] - 0s 16ms/step - loss: 2.2238 - mae: 2.2238\n",
      "Epoch 57/100\n",
      "1/1 [==============================] - 0s 16ms/step - loss: 1.9981 - mae: 1.9981\n",
      "Epoch 58/100\n",
      "1/1 [==============================] - 0s 16ms/step - loss: 1.7603 - mae: 1.7603\n",
      "Epoch 59/100\n",
      "1/1 [==============================] - 0s 16ms/step - loss: 1.5104 - mae: 1.5104\n",
      "Epoch 60/100\n",
      "1/1 [==============================] - 0s 16ms/step - loss: 1.2480 - mae: 1.2480\n",
      "Epoch 61/100\n",
      "1/1 [==============================] - 0s 16ms/step - loss: 1.0009 - mae: 1.0009\n",
      "Epoch 62/100\n",
      "1/1 [==============================] - 0s 16ms/step - loss: 0.6994 - mae: 0.6994\n",
      "Epoch 63/100\n",
      "1/1 [==============================] - 0s 16ms/step - loss: 0.4406 - mae: 0.4406\n",
      "Epoch 64/100\n",
      "1/1 [==============================] - 0s 16ms/step - loss: 0.2257 - mae: 0.2257\n",
      "Epoch 65/100\n",
      "1/1 [==============================] - 0s 16ms/step - loss: 0.2018 - mae: 0.2018\n",
      "Epoch 66/100\n",
      "1/1 [==============================] - 0s 16ms/step - loss: 0.4294 - mae: 0.4294\n",
      "Epoch 67/100\n",
      "1/1 [==============================] - 0s 31ms/step - loss: 0.6393 - mae: 0.6393\n",
      "Epoch 68/100\n",
      "1/1 [==============================] - 0s 16ms/step - loss: 0.7004 - mae: 0.7004\n",
      "Epoch 69/100\n",
      "1/1 [==============================] - 0s 0s/step - loss: 0.8108 - mae: 0.8108\n",
      "Epoch 70/100\n",
      "1/1 [==============================] - 0s 16ms/step - loss: 0.8102 - mae: 0.8102\n",
      "Epoch 71/100\n",
      "1/1 [==============================] - 0s 16ms/step - loss: 0.7469 - mae: 0.7469\n",
      "Epoch 72/100\n",
      "1/1 [==============================] - 0s 16ms/step - loss: 0.7694 - mae: 0.7694\n",
      "Epoch 73/100\n",
      "1/1 [==============================] - 0s 16ms/step - loss: 0.5846 - mae: 0.5846\n",
      "Epoch 74/100\n",
      "1/1 [==============================] - 0s 16ms/step - loss: 0.4979 - mae: 0.4979\n",
      "Epoch 75/100\n",
      "1/1 [==============================] - 0s 16ms/step - loss: 0.3629 - mae: 0.3629\n",
      "Epoch 76/100\n",
      "1/1 [==============================] - 0s 16ms/step - loss: 0.2545 - mae: 0.2545\n",
      "Epoch 77/100\n",
      "1/1 [==============================] - 0s 31ms/step - loss: 0.1726 - mae: 0.1726\n",
      "Epoch 78/100\n",
      "1/1 [==============================] - 0s 16ms/step - loss: 0.3057 - mae: 0.3057\n",
      "Epoch 79/100\n",
      "1/1 [==============================] - 0s 16ms/step - loss: 0.4665 - mae: 0.4665\n",
      "Epoch 80/100\n",
      "1/1 [==============================] - 0s 16ms/step - loss: 0.4294 - mae: 0.4294\n",
      "Epoch 81/100\n",
      "1/1 [==============================] - 0s 16ms/step - loss: 0.3658 - mae: 0.3658\n",
      "Epoch 82/100\n",
      "1/1 [==============================] - 0s 16ms/step - loss: 0.4006 - mae: 0.4006\n",
      "Epoch 83/100\n",
      "1/1 [==============================] - 0s 0s/step - loss: 0.2720 - mae: 0.2720\n",
      "Epoch 84/100\n",
      "1/1 [==============================] - 0s 16ms/step - loss: 0.2803 - mae: 0.2803\n",
      "Epoch 85/100\n",
      "1/1 [==============================] - 0s 16ms/step - loss: 0.1307 - mae: 0.1307\n",
      "Epoch 86/100\n",
      "1/1 [==============================] - 0s 16ms/step - loss: 0.3060 - mae: 0.3060\n",
      "Epoch 87/100\n",
      "1/1 [==============================] - 0s 16ms/step - loss: 0.2421 - mae: 0.2421\n",
      "Epoch 88/100\n"
     ]
    },
    {
     "name": "stdout",
     "output_type": "stream",
     "text": [
      "1/1 [==============================] - 0s 16ms/step - loss: 0.2526 - mae: 0.2526\n",
      "Epoch 89/100\n",
      "1/1 [==============================] - 0s 16ms/step - loss: 0.3614 - mae: 0.3614\n",
      "Epoch 90/100\n",
      "1/1 [==============================] - 0s 16ms/step - loss: 0.2535 - mae: 0.2535\n",
      "Epoch 91/100\n",
      "1/1 [==============================] - 0s 16ms/step - loss: 0.3389 - mae: 0.3389\n",
      "Epoch 92/100\n",
      "1/1 [==============================] - 0s 16ms/step - loss: 0.2577 - mae: 0.2577\n",
      "Epoch 93/100\n",
      "1/1 [==============================] - 0s 16ms/step - loss: 0.2324 - mae: 0.2324\n",
      "Epoch 94/100\n",
      "1/1 [==============================] - 0s 16ms/step - loss: 0.1297 - mae: 0.1297\n",
      "Epoch 95/100\n",
      "1/1 [==============================] - 0s 16ms/step - loss: 0.2402 - mae: 0.2402\n",
      "Epoch 96/100\n",
      "1/1 [==============================] - 0s 16ms/step - loss: 0.2572 - mae: 0.2572\n",
      "Epoch 97/100\n",
      "1/1 [==============================] - 0s 16ms/step - loss: 0.2176 - mae: 0.2176\n",
      "Epoch 98/100\n",
      "1/1 [==============================] - 0s 16ms/step - loss: 0.2721 - mae: 0.2721\n",
      "Epoch 99/100\n",
      "1/1 [==============================] - 0s 16ms/step - loss: 0.1689 - mae: 0.1689\n",
      "Epoch 100/100\n",
      "1/1 [==============================] - 0s 16ms/step - loss: 0.3369 - mae: 0.3369\n"
     ]
    },
    {
     "data": {
      "text/plain": [
       "<keras.callbacks.History at 0x4d15c7bb50>"
      ]
     },
     "execution_count": 13,
     "metadata": {},
     "output_type": "execute_result"
    }
   ],
   "source": [
    "# Trying another change: Extra layer with 100 hidden units\n",
    "model = tf.keras.Sequential([\n",
    "    tf.keras.layers.Dense(50, activation=None),\n",
    "    tf.keras.layers.Dense(1)\n",
    "])\n",
    "# Compile the model\n",
    "model.compile(loss=tf.keras.losses.mae,\n",
    "             optimizer=tf.keras.optimizers.Adam(learning_rate=0.01),\n",
    "             metrics=['mae'])  \n",
    "# Fit the model\n",
    "model.fit(tf.expand_dims(X, axis=-1), Y, epochs=100)"
   ]
  },
  {
   "cell_type": "code",
   "execution_count": 14,
   "id": "36eda545",
   "metadata": {},
   "outputs": [
    {
     "name": "stdout",
     "output_type": "stream",
     "text": [
      "1/1 [==============================] - 0s 297ms/step\n"
     ]
    },
    {
     "data": {
      "text/plain": [
       "array([[27.843687]], dtype=float32)"
      ]
     },
     "execution_count": 14,
     "metadata": {},
     "output_type": "execute_result"
    }
   ],
   "source": [
    "# Might be overfitting, since the metrics is better, but the predicion deviates more than the previous test \n",
    "model.predict([17.0])"
   ]
  },
  {
   "cell_type": "markdown",
   "id": "2c61b481",
   "metadata": {},
   "source": [
    "## Evaluating a model"
   ]
  },
  {
   "cell_type": "markdown",
   "id": "9428591c",
   "metadata": {},
   "source": [
    "\"Visualize, visualize, visualize\""
   ]
  },
  {
   "cell_type": "code",
   "execution_count": 15,
   "id": "b2983a34",
   "metadata": {},
   "outputs": [
    {
     "data": {
      "text/plain": [
       "<tf.Tensor: shape=(50,), dtype=int32, numpy=\n",
       "array([-100,  -96,  -92,  -88,  -84,  -80,  -76,  -72,  -68,  -64,  -60,\n",
       "        -56,  -52,  -48,  -44,  -40,  -36,  -32,  -28,  -24,  -20,  -16,\n",
       "        -12,   -8,   -4,    0,    4,    8,   12,   16,   20,   24,   28,\n",
       "         32,   36,   40,   44,   48,   52,   56,   60,   64,   68,   72,\n",
       "         76,   80,   84,   88,   92,   96])>"
      ]
     },
     "execution_count": 15,
     "metadata": {},
     "output_type": "execute_result"
    }
   ],
   "source": [
    "# Make a bigger dataset\n",
    "X = tf.range(-100, 100, 4)\n",
    "X"
   ]
  },
  {
   "cell_type": "code",
   "execution_count": 16,
   "id": "f6c0b454",
   "metadata": {},
   "outputs": [
    {
     "data": {
      "text/plain": [
       "<tf.Tensor: shape=(50,), dtype=int32, numpy=\n",
       "array([-90, -86, -82, -78, -74, -70, -66, -62, -58, -54, -50, -46, -42,\n",
       "       -38, -34, -30, -26, -22, -18, -14, -10,  -6,  -2,   2,   6,  10,\n",
       "        14,  18,  22,  26,  30,  34,  38,  42,  46,  50,  54,  58,  62,\n",
       "        66,  70,  74,  78,  82,  86,  90,  94,  98, 102, 106])>"
      ]
     },
     "execution_count": 16,
     "metadata": {},
     "output_type": "execute_result"
    }
   ],
   "source": [
    "# Make labels\n",
    "Y = X + 10\n",
    "Y"
   ]
  },
  {
   "cell_type": "code",
   "execution_count": 17,
   "id": "2b724208",
   "metadata": {},
   "outputs": [
    {
     "data": {
      "text/plain": [
       "<matplotlib.collections.PathCollection at 0x4d1671a370>"
      ]
     },
     "execution_count": 17,
     "metadata": {},
     "output_type": "execute_result"
    },
    {
     "data": {
      "image/png": "[encoded data removed]",
      "text/plain": [
       "<Figure size 640x480 with 1 Axes>"
      ]
     },
     "metadata": {},
     "output_type": "display_data"
    }
   ],
   "source": [
    "# Visualize the data\n",
    "plt.scatter(X, Y)"
   ]
  },
  {
   "cell_type": "code",
   "execution_count": 18,
   "id": "43721d9e",
   "metadata": {},
   "outputs": [
    {
     "data": {
      "text/plain": [
       "(40, 10, 40, 10)"
      ]
     },
     "execution_count": 18,
     "metadata": {},
     "output_type": "execute_result"
    }
   ],
   "source": [
    "# Split the data in train/test\n",
    "X_train = X[:40]\n",
    "Y_train = Y[:40]\n",
    "X_test = X[40:]\n",
    "Y_test = Y[40:]\n",
    "\n",
    "len(X_train), len(X_test), len(Y_train), len(Y_test)"
   ]
  },
  {
   "cell_type": "markdown",
   "id": "82395579",
   "metadata": {},
   "source": [
    "## Visualizing the data"
   ]
  },
  {
   "cell_type": "code",
   "execution_count": 19,
   "id": "2a8785c8",
   "metadata": {},
   "outputs": [
    {
     "data": {
      "image/png": "[encoded data removed]",
      "text/plain": [
       "<Figure size 1000x700 with 1 Axes>"
      ]
     },
     "metadata": {},
     "output_type": "display_data"
    }
   ],
   "source": [
    "plt.figure(figsize=(10, 7))\n",
    "plt.scatter(X_train, Y_train, c='b', label='Training Data')\n",
    "plt.scatter(X_test, Y_test, c='g', label='Test Data')\n",
    "plt.legend()\n",
    "plt.show()"
   ]
  },
  {
   "cell_type": "code",
   "execution_count": 41,
   "id": "019741e9",
   "metadata": {},
   "outputs": [
    {
     "name": "stdout",
     "output_type": "stream",
     "text": [
      "Epoch 1/100\n",
      "2/2 [==============================] - 1s 16ms/step - loss: 29.2904 - mae: 29.2904\n",
      "Epoch 2/100\n",
      "2/2 [==============================] - 0s 0s/step - loss: 22.8584 - mae: 22.8584\n",
      "Epoch 3/100\n",
      "2/2 [==============================] - 0s 16ms/step - loss: 16.7116 - mae: 16.7116\n",
      "Epoch 4/100\n",
      "2/2 [==============================] - 0s 16ms/step - loss: 10.8488 - mae: 10.8488\n",
      "Epoch 5/100\n",
      "2/2 [==============================] - 0s 16ms/step - loss: 7.6942 - mae: 7.6942\n",
      "Epoch 6/100\n",
      "2/2 [==============================] - 0s 16ms/step - loss: 10.5068 - mae: 10.5068\n",
      "Epoch 7/100\n",
      "2/2 [==============================] - 0s 16ms/step - loss: 11.9636 - mae: 11.9636\n",
      "Epoch 8/100\n",
      "2/2 [==============================] - 0s 0s/step - loss: 12.3656 - mae: 12.3656\n",
      "Epoch 9/100\n",
      "2/2 [==============================] - 0s 16ms/step - loss: 11.9051 - mae: 11.9051\n",
      "Epoch 10/100\n",
      "2/2 [==============================] - 0s 16ms/step - loss: 10.8428 - mae: 10.8428\n",
      "Epoch 11/100\n",
      "2/2 [==============================] - 0s 16ms/step - loss: 9.2991 - mae: 9.2991\n",
      "Epoch 12/100\n",
      "2/2 [==============================] - 0s 16ms/step - loss: 7.8502 - mae: 7.8502\n",
      "Epoch 13/100\n",
      "2/2 [==============================] - 0s 16ms/step - loss: 7.7731 - mae: 7.7731\n",
      "Epoch 14/100\n",
      "2/2 [==============================] - 0s 16ms/step - loss: 8.6302 - mae: 8.6302\n",
      "Epoch 15/100\n",
      "2/2 [==============================] - 0s 16ms/step - loss: 8.4515 - mae: 8.4515\n",
      "Epoch 16/100\n",
      "2/2 [==============================] - 0s 16ms/step - loss: 7.6277 - mae: 7.6277\n",
      "Epoch 17/100\n",
      "2/2 [==============================] - 0s 16ms/step - loss: 6.8008 - mae: 6.8008\n",
      "Epoch 18/100\n",
      "2/2 [==============================] - 0s 16ms/step - loss: 7.3169 - mae: 7.3169\n",
      "Epoch 19/100\n",
      "2/2 [==============================] - 0s 16ms/step - loss: 7.4945 - mae: 7.4945\n",
      "Epoch 20/100\n",
      "2/2 [==============================] - 0s 16ms/step - loss: 7.0331 - mae: 7.0331\n",
      "Epoch 21/100\n",
      "2/2 [==============================] - 0s 16ms/step - loss: 6.6056 - mae: 6.6056\n",
      "Epoch 22/100\n",
      "2/2 [==============================] - 0s 0s/step - loss: 6.8776 - mae: 6.8776\n",
      "Epoch 23/100\n",
      "2/2 [==============================] - 0s 16ms/step - loss: 6.8866 - mae: 6.8866\n",
      "Epoch 24/100\n",
      "2/2 [==============================] - 0s 16ms/step - loss: 6.4676 - mae: 6.4676\n",
      "Epoch 25/100\n",
      "2/2 [==============================] - 0s 0s/step - loss: 6.3681 - mae: 6.3681\n",
      "Epoch 26/100\n",
      "2/2 [==============================] - 0s 16ms/step - loss: 6.5429 - mae: 6.5429\n",
      "Epoch 27/100\n",
      "2/2 [==============================] - 0s 16ms/step - loss: 6.2063 - mae: 6.2063\n",
      "Epoch 28/100\n",
      "2/2 [==============================] - 0s 16ms/step - loss: 6.0800 - mae: 6.0800\n",
      "Epoch 29/100\n",
      "2/2 [==============================] - 0s 0s/step - loss: 6.3265 - mae: 6.3265\n",
      "Epoch 30/100\n",
      "2/2 [==============================] - 0s 16ms/step - loss: 6.1693 - mae: 6.1693\n",
      "Epoch 31/100\n",
      "2/2 [==============================] - 0s 16ms/step - loss: 5.9213 - mae: 5.9213\n",
      "Epoch 32/100\n",
      "2/2 [==============================] - 0s 16ms/step - loss: 6.0554 - mae: 6.0554\n",
      "Epoch 33/100\n",
      "2/2 [==============================] - 0s 0s/step - loss: 5.8471 - mae: 5.8471\n",
      "Epoch 34/100\n",
      "2/2 [==============================] - 0s 16ms/step - loss: 5.6024 - mae: 5.6024\n",
      "Epoch 35/100\n",
      "2/2 [==============================] - 0s 16ms/step - loss: 6.0155 - mae: 6.0155\n",
      "Epoch 36/100\n",
      "2/2 [==============================] - 0s 16ms/step - loss: 6.0067 - mae: 6.0067\n",
      "Epoch 37/100\n",
      "2/2 [==============================] - 0s 16ms/step - loss: 5.5596 - mae: 5.5596\n",
      "Epoch 38/100\n",
      "2/2 [==============================] - 0s 16ms/step - loss: 5.3726 - mae: 5.3726\n",
      "Epoch 39/100\n",
      "2/2 [==============================] - 0s 16ms/step - loss: 5.2745 - mae: 5.2745\n",
      "Epoch 40/100\n",
      "2/2 [==============================] - 0s 16ms/step - loss: 5.1681 - mae: 5.1681\n",
      "Epoch 41/100\n",
      "2/2 [==============================] - 0s 16ms/step - loss: 5.1459 - mae: 5.1459\n",
      "Epoch 42/100\n",
      "2/2 [==============================] - 0s 16ms/step - loss: 4.9885 - mae: 4.9885\n",
      "Epoch 43/100\n",
      "2/2 [==============================] - 0s 0s/step - loss: 4.9550 - mae: 4.9550\n",
      "Epoch 44/100\n",
      "2/2 [==============================] - 0s 16ms/step - loss: 4.7545 - mae: 4.7545\n",
      "Epoch 45/100\n",
      "2/2 [==============================] - 0s 16ms/step - loss: 4.9673 - mae: 4.9673\n",
      "Epoch 46/100\n",
      "2/2 [==============================] - 0s 16ms/step - loss: 5.0789 - mae: 5.0789\n",
      "Epoch 47/100\n",
      "2/2 [==============================] - 0s 0s/step - loss: 4.7341 - mae: 4.7341\n",
      "Epoch 48/100\n",
      "2/2 [==============================] - 0s 16ms/step - loss: 4.4632 - mae: 4.4632\n",
      "Epoch 49/100\n",
      "2/2 [==============================] - 0s 0s/step - loss: 4.6482 - mae: 4.6482\n",
      "Epoch 50/100\n",
      "2/2 [==============================] - 0s 16ms/step - loss: 4.3555 - mae: 4.3555\n",
      "Epoch 51/100\n",
      "2/2 [==============================] - 0s 16ms/step - loss: 4.4067 - mae: 4.4067\n",
      "Epoch 52/100\n",
      "2/2 [==============================] - 0s 0s/step - loss: 4.4073 - mae: 4.4073\n",
      "Epoch 53/100\n",
      "2/2 [==============================] - 0s 16ms/step - loss: 4.0522 - mae: 4.0522\n",
      "Epoch 54/100\n",
      "2/2 [==============================] - 0s 16ms/step - loss: 3.9054 - mae: 3.9054\n",
      "Epoch 55/100\n",
      "2/2 [==============================] - 0s 16ms/step - loss: 3.8339 - mae: 3.8339\n",
      "Epoch 56/100\n",
      "2/2 [==============================] - 0s 16ms/step - loss: 3.6842 - mae: 3.6842\n",
      "Epoch 57/100\n",
      "2/2 [==============================] - 0s 16ms/step - loss: 3.7470 - mae: 3.7470\n",
      "Epoch 58/100\n",
      "2/2 [==============================] - 0s 16ms/step - loss: 3.5501 - mae: 3.5501\n",
      "Epoch 59/100\n",
      "2/2 [==============================] - 0s 16ms/step - loss: 3.4639 - mae: 3.4639\n",
      "Epoch 60/100\n",
      "2/2 [==============================] - 0s 16ms/step - loss: 3.4790 - mae: 3.4790\n",
      "Epoch 61/100\n",
      "2/2 [==============================] - 0s 16ms/step - loss: 3.2740 - mae: 3.2740\n",
      "Epoch 62/100\n",
      "2/2 [==============================] - 0s 16ms/step - loss: 3.1321 - mae: 3.1321\n",
      "Epoch 63/100\n",
      "2/2 [==============================] - 0s 16ms/step - loss: 3.0105 - mae: 3.0105\n",
      "Epoch 64/100\n",
      "2/2 [==============================] - 0s 16ms/step - loss: 3.1370 - mae: 3.1370\n",
      "Epoch 65/100\n",
      "2/2 [==============================] - 0s 16ms/step - loss: 2.8647 - mae: 2.8647\n",
      "Epoch 66/100\n",
      "2/2 [==============================] - 0s 16ms/step - loss: 2.8825 - mae: 2.8825\n",
      "Epoch 67/100\n",
      "2/2 [==============================] - 0s 16ms/step - loss: 2.7419 - mae: 2.7419\n",
      "Epoch 68/100\n",
      "2/2 [==============================] - 0s 16ms/step - loss: 2.6630 - mae: 2.6630\n",
      "Epoch 69/100\n",
      "2/2 [==============================] - 0s 16ms/step - loss: 2.6282 - mae: 2.6282\n",
      "Epoch 70/100\n",
      "2/2 [==============================] - 0s 16ms/step - loss: 2.2991 - mae: 2.2991\n",
      "Epoch 71/100\n",
      "2/2 [==============================] - 0s 0s/step - loss: 2.2403 - mae: 2.2403\n",
      "Epoch 72/100\n",
      "2/2 [==============================] - 0s 16ms/step - loss: 2.0046 - mae: 2.0046\n",
      "Epoch 73/100\n",
      "2/2 [==============================] - 0s 0s/step - loss: 1.8481 - mae: 1.8481\n",
      "Epoch 74/100\n",
      "2/2 [==============================] - 0s 16ms/step - loss: 1.9507 - mae: 1.9507\n",
      "Epoch 75/100\n",
      "2/2 [==============================] - 0s 0s/step - loss: 1.7869 - mae: 1.7869\n",
      "Epoch 76/100\n",
      "2/2 [==============================] - 0s 16ms/step - loss: 1.7487 - mae: 1.7487\n",
      "Epoch 77/100\n",
      "2/2 [==============================] - 0s 0s/step - loss: 1.4709 - mae: 1.4709\n",
      "Epoch 78/100\n",
      "2/2 [==============================] - 0s 16ms/step - loss: 1.8232 - mae: 1.8232\n",
      "Epoch 79/100\n",
      "2/2 [==============================] - 0s 16ms/step - loss: 1.3038 - mae: 1.3038\n",
      "Epoch 80/100\n",
      "2/2 [==============================] - 0s 0s/step - loss: 1.1677 - mae: 1.1677\n",
      "Epoch 81/100\n",
      "2/2 [==============================] - 0s 16ms/step - loss: 0.9156 - mae: 0.9156\n",
      "Epoch 82/100\n",
      "2/2 [==============================] - 0s 0s/step - loss: 0.8657 - mae: 0.8657\n",
      "Epoch 83/100\n",
      "2/2 [==============================] - 0s 16ms/step - loss: 0.6944 - mae: 0.6944\n",
      "Epoch 84/100\n",
      "2/2 [==============================] - 0s 16ms/step - loss: 0.4139 - mae: 0.4139\n",
      "Epoch 85/100\n",
      "2/2 [==============================] - 0s 16ms/step - loss: 0.2556 - mae: 0.2556\n",
      "Epoch 86/100\n",
      "2/2 [==============================] - 0s 0s/step - loss: 0.3060 - mae: 0.3060\n",
      "Epoch 87/100\n",
      "2/2 [==============================] - 0s 16ms/step - loss: 0.2440 - mae: 0.2440\n",
      "Epoch 88/100\n"
     ]
    },
    {
     "name": "stdout",
     "output_type": "stream",
     "text": [
      "2/2 [==============================] - 0s 16ms/step - loss: 0.4321 - mae: 0.4321\n",
      "Epoch 89/100\n",
      "2/2 [==============================] - 0s 16ms/step - loss: 0.3853 - mae: 0.3853\n",
      "Epoch 90/100\n",
      "2/2 [==============================] - 0s 16ms/step - loss: 0.7219 - mae: 0.7219\n",
      "Epoch 91/100\n",
      "2/2 [==============================] - 0s 16ms/step - loss: 0.5277 - mae: 0.5277\n",
      "Epoch 92/100\n",
      "2/2 [==============================] - 0s 0s/step - loss: 0.4277 - mae: 0.4277\n",
      "Epoch 93/100\n",
      "2/2 [==============================] - 0s 16ms/step - loss: 0.8066 - mae: 0.8066\n",
      "Epoch 94/100\n",
      "2/2 [==============================] - 0s 16ms/step - loss: 0.5128 - mae: 0.5128\n",
      "Epoch 95/100\n",
      "2/2 [==============================] - 0s 16ms/step - loss: 0.2284 - mae: 0.2284\n",
      "Epoch 96/100\n",
      "2/2 [==============================] - 0s 16ms/step - loss: 0.4845 - mae: 0.4845\n",
      "Epoch 97/100\n",
      "2/2 [==============================] - 0s 0s/step - loss: 0.1673 - mae: 0.1673\n",
      "Epoch 98/100\n",
      "2/2 [==============================] - 0s 16ms/step - loss: 0.2988 - mae: 0.2988\n",
      "Epoch 99/100\n",
      "2/2 [==============================] - 0s 0s/step - loss: 0.5040 - mae: 0.5040\n",
      "Epoch 100/100\n",
      "2/2 [==============================] - 0s 16ms/step - loss: 1.3271 - mae: 1.3271\n"
     ]
    },
    {
     "data": {
      "text/plain": [
       "<keras.callbacks.History at 0x4d1a1066d0>"
      ]
     },
     "execution_count": 41,
     "metadata": {},
     "output_type": "execute_result"
    }
   ],
   "source": [
    "# Neural network for our data\n",
    "# Create a model\n",
    "model = tf.keras.Sequential([\n",
    "    tf.keras.layers.Dense(10, input_shape=[1], name='Input_Layer'),\n",
    "    tf.keras.layers.Dense(1, name='Output_Layer'),\n",
    "], name='model_1')\n",
    "# Compile the model\n",
    "model.compile(loss=tf.keras.losses.mae,\n",
    "             optimizer=tf.keras.optimizers.Adam(learning_rate=0.01), \n",
    "             metrics=['mae'])  \n",
    "# Fit the model\n",
    "model.fit(tf.expand_dims(X_train, axis=-1), Y_train, epochs=100)"
   ]
  },
  {
   "cell_type": "code",
   "execution_count": 42,
   "id": "9c6c1f45",
   "metadata": {},
   "outputs": [
    {
     "name": "stdout",
     "output_type": "stream",
     "text": [
      "Model: \"model_1\"\n",
      "_________________________________________________________________\n",
      " Layer (type)                Output Shape              Param #   \n",
      "=================================================================\n",
      " Input_Layer (Dense)         (None, 10)                20        \n",
      "                                                                 \n",
      " Output_Layer (Dense)        (None, 1)                 11        \n",
      "                                                                 \n",
      "=================================================================\n",
      "Total params: 31\n",
      "Trainable params: 31\n",
      "Non-trainable params: 0\n",
      "_________________________________________________________________\n"
     ]
    }
   ],
   "source": [
    "model.summary()"
   ]
  },
  {
   "cell_type": "markdown",
   "id": "ae7cf950",
   "metadata": {},
   "source": [
    "**- Dense layer: Fully connected layers, ie all neurons from each layer connect to all neurons on the next.**  \n",
    "**- Non-trainable params: When getting a pre-trained model sometimes we may want to \"freeze\" some parameters.**"
   ]
  },
  {
   "cell_type": "code",
   "execution_count": 43,
   "id": "83b8037f",
   "metadata": {},
   "outputs": [
    {
     "data": {
      "image/png": "[encoded data removed]",
      "text/plain": [
       "<IPython.core.display.Image object>"
      ]
     },
     "execution_count": 43,
     "metadata": {},
     "output_type": "execute_result"
    }
   ],
   "source": [
    "plot_model(model, show_shapes=True, show_layer_names=True)"
   ]
  },
  {
   "cell_type": "markdown",
   "id": "92fe5ee5",
   "metadata": {},
   "source": [
    "## Visualizing predictions"
   ]
  },
  {
   "cell_type": "code",
   "execution_count": 44,
   "id": "3321b2f4",
   "metadata": {},
   "outputs": [
    {
     "name": "stdout",
     "output_type": "stream",
     "text": [
      "1/1 [==============================] - 0s 250ms/step\n"
     ]
    },
    {
     "data": {
      "text/plain": [
       "array([[ 71.90285 ],\n",
       "       [ 76.03861 ],\n",
       "       [ 80.17437 ],\n",
       "       [ 84.31012 ],\n",
       "       [ 88.44589 ],\n",
       "       [ 92.58165 ],\n",
       "       [ 96.71741 ],\n",
       "       [100.853165],\n",
       "       [104.98892 ],\n",
       "       [109.12468 ]], dtype=float32)"
      ]
     },
     "execution_count": 44,
     "metadata": {},
     "output_type": "execute_result"
    }
   ],
   "source": [
    "# Make some predictions\n",
    "Y_pred = model.predict(X_test)\n",
    "Y_pred"
   ]
  },
  {
   "cell_type": "code",
   "execution_count": 45,
   "id": "9cffee63",
   "metadata": {},
   "outputs": [
    {
     "data": {
      "text/plain": [
       "<tf.Tensor: shape=(10,), dtype=int32, numpy=array([ 70,  74,  78,  82,  86,  90,  94,  98, 102, 106])>"
      ]
     },
     "execution_count": 45,
     "metadata": {},
     "output_type": "execute_result"
    }
   ],
   "source": [
    "Y_test"
   ]
  },
  {
   "cell_type": "code",
   "execution_count": 46,
   "id": "14d98338",
   "metadata": {},
   "outputs": [],
   "source": [
    "# Plotting function\n",
    "def plot_predictions(train_data=X_train, train_labels=Y_train, test_data=X_test, test_labels=Y_test, predictions=Y_pred):\n",
    "    \"\"\"\n",
    "    Plots training data, test data and compare predictions to ground truth labels\n",
    "    \"\"\"\n",
    "    plt.figure(figsize=(10, 7))\n",
    "    plt.scatter(train_data, train_labels, c='b', label='Training Data')\n",
    "    plt.scatter(test_data, test_labels, c='g', label='Test Data')\n",
    "    \n",
    "    # Plot model's predictions\n",
    "    plt.scatter(test_data, predictions, c='r', label='Prediction')\n",
    "    # Show legend\n",
    "    plt.legend()\n",
    "    plt.show()"
   ]
  },
  {
   "cell_type": "code",
   "execution_count": 47,
   "id": "b8443f87",
   "metadata": {},
   "outputs": [
    {
     "data": {
      "image/png": "[encoded data removed]",
      "text/plain": [
       "<Figure size 1000x700 with 1 Axes>"
      ]
     },
     "metadata": {},
     "output_type": "display_data"
    }
   ],
   "source": [
    "plot_predictions()"
   ]
  },
  {
   "cell_type": "markdown",
   "id": "352e65c0",
   "metadata": {},
   "source": [
    "## Evaluating the model"
   ]
  },
  {
   "cell_type": "code",
   "execution_count": 48,
   "id": "23350431",
   "metadata": {},
   "outputs": [
    {
     "name": "stdout",
     "output_type": "stream",
     "text": [
      "1/1 [==============================] - 1s 596ms/step - loss: 2.5138 - mae: 2.5138\n"
     ]
    },
    {
     "data": {
      "text/plain": [
       "[2.513767957687378, 2.513767957687378]"
      ]
     },
     "execution_count": 48,
     "metadata": {},
     "output_type": "execute_result"
    }
   ],
   "source": [
    "# Evaluate the model on the test\n",
    "model.evaluate(X_test, Y_test)"
   ]
  },
  {
   "cell_type": "code",
   "execution_count": 53,
   "id": "3edda75c",
   "metadata": {},
   "outputs": [
    {
     "data": {
      "text/plain": [
       "<tf.Tensor: shape=(), dtype=float32, numpy=2.5137665>"
      ]
     },
     "execution_count": 53,
     "metadata": {},
     "output_type": "execute_result"
    }
   ],
   "source": [
    "# Calculate the mean absolute error\n",
    "mae = tf.metrics.mean_absolute_error(Y_test, tf.squeeze(Y_pred))\n",
    "mae"
   ]
  },
  {
   "cell_type": "code",
   "execution_count": 54,
   "id": "9dbdd58a",
   "metadata": {},
   "outputs": [
    {
     "data": {
      "text/plain": [
       "<tf.Tensor: shape=(), dtype=float32, numpy=6.471074>"
      ]
     },
     "execution_count": 54,
     "metadata": {},
     "output_type": "execute_result"
    }
   ],
   "source": [
    "# Calculate the mean square error\n",
    "mse = tf.metrics.mean_squared_error(Y_test, tf.squeeze(Y_pred))\n",
    "mse"
   ]
  },
  {
   "cell_type": "code",
   "execution_count": 56,
   "id": "fd47b526",
   "metadata": {},
   "outputs": [],
   "source": [
    "# Make some functions for mse and mae\n",
    "def mae(Y_true, Y_pred):\n",
    "    return tf.metrics.mean_absolute_error(y_true=Y_true, y_pred=Y_pred)\n",
    "\n",
    "def mse(Y_true, Y_pred):\n",
    "    return tf.metrics.mean_squared_error(y_true=Y_true, y_pred=Y_pred)"
   ]
  },
  {
   "cell_type": "code",
   "execution_count": null,
   "id": "5ee20c02",
   "metadata": {},
   "outputs": [],
   "source": []
  }
 ],
 "metadata": {
  "kernelspec": {
   "display_name": "Python 3 (ipykernel)",
   "language": "python",
   "name": "python3"
  },
  "language_info": {
   "codemirror_mode": {
    "name": "ipython",
    "version": 3
   },
   "file_extension": ".py",
   "mimetype": "text/x-python",
   "name": "python",
   "nbconvert_exporter": "python",
   "pygments_lexer": "ipython3",
   "version": "3.9.11"
  }
 },
 "nbformat": 4,
 "nbformat_minor": 5
}
